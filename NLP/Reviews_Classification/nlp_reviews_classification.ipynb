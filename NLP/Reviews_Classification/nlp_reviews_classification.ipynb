{
 "cells": [
  {
   "cell_type": "markdown",
   "id": "b3b91f19",
   "metadata": {},
   "source": [
    "# NLP FOR SENTIMENT ANALYSIS"
   ]
  },
  {
   "cell_type": "markdown",
   "id": "7f4cc338",
   "metadata": {},
   "source": [
    "## IMPORTING LIBRARIES"
   ]
  },
  {
   "cell_type": "code",
   "execution_count": 1,
   "id": "e502a655",
   "metadata": {},
   "outputs": [],
   "source": [
    "import pandas as pd\n",
    "import numpy as np\n",
    "import seaborn as sns\n",
    "import matplotlib.pyplot as plt\n",
    "%matplotlib inline"
   ]
  },
  {
   "cell_type": "code",
   "execution_count": 2,
   "id": "9daaf049",
   "metadata": {},
   "outputs": [],
   "source": [
    "import nltk"
   ]
  },
  {
   "cell_type": "markdown",
   "id": "42d80572",
   "metadata": {},
   "source": [
    "## IMPORTING DATASET "
   ]
  },
  {
   "cell_type": "code",
   "execution_count": 5,
   "id": "e14344d0",
   "metadata": {},
   "outputs": [],
   "source": [
    "data = pd.read_csv(\"Restaurant_Reviews.tsv\" , delimiter=\"\\t\")"
   ]
  },
  {
   "cell_type": "code",
   "execution_count": 6,
   "id": "1eaa8c73",
   "metadata": {},
   "outputs": [
    {
     "data": {
      "text/html": [
       "<div>\n",
       "<style scoped>\n",
       "    .dataframe tbody tr th:only-of-type {\n",
       "        vertical-align: middle;\n",
       "    }\n",
       "\n",
       "    .dataframe tbody tr th {\n",
       "        vertical-align: top;\n",
       "    }\n",
       "\n",
       "    .dataframe thead th {\n",
       "        text-align: right;\n",
       "    }\n",
       "</style>\n",
       "<table border=\"1\" class=\"dataframe\">\n",
       "  <thead>\n",
       "    <tr style=\"text-align: right;\">\n",
       "      <th></th>\n",
       "      <th>Review</th>\n",
       "      <th>Liked</th>\n",
       "    </tr>\n",
       "  </thead>\n",
       "  <tbody>\n",
       "    <tr>\n",
       "      <th>0</th>\n",
       "      <td>Wow... Loved this place.</td>\n",
       "      <td>1</td>\n",
       "    </tr>\n",
       "    <tr>\n",
       "      <th>1</th>\n",
       "      <td>Crust is not good.</td>\n",
       "      <td>0</td>\n",
       "    </tr>\n",
       "  </tbody>\n",
       "</table>\n",
       "</div>"
      ],
      "text/plain": [
       "                     Review  Liked\n",
       "0  Wow... Loved this place.      1\n",
       "1        Crust is not good.      0"
      ]
     },
     "execution_count": 6,
     "metadata": {},
     "output_type": "execute_result"
    }
   ],
   "source": [
    "data.head(2)"
   ]
  },
  {
   "cell_type": "markdown",
   "id": "e2b5652e",
   "metadata": {},
   "source": [
    "## CLEANING TEXT "
   ]
  },
  {
   "cell_type": "code",
   "execution_count": 7,
   "id": "6b9211aa",
   "metadata": {},
   "outputs": [],
   "source": [
    "data[\"length\"] = data[\"Review\"].apply(len)"
   ]
  },
  {
   "cell_type": "code",
   "execution_count": 8,
   "id": "bd355064",
   "metadata": {},
   "outputs": [
    {
     "data": {
      "text/html": [
       "<div>\n",
       "<style scoped>\n",
       "    .dataframe tbody tr th:only-of-type {\n",
       "        vertical-align: middle;\n",
       "    }\n",
       "\n",
       "    .dataframe tbody tr th {\n",
       "        vertical-align: top;\n",
       "    }\n",
       "\n",
       "    .dataframe thead th {\n",
       "        text-align: right;\n",
       "    }\n",
       "</style>\n",
       "<table border=\"1\" class=\"dataframe\">\n",
       "  <thead>\n",
       "    <tr style=\"text-align: right;\">\n",
       "      <th></th>\n",
       "      <th>Review</th>\n",
       "      <th>Liked</th>\n",
       "      <th>length</th>\n",
       "    </tr>\n",
       "  </thead>\n",
       "  <tbody>\n",
       "    <tr>\n",
       "      <th>0</th>\n",
       "      <td>Wow... Loved this place.</td>\n",
       "      <td>1</td>\n",
       "      <td>24</td>\n",
       "    </tr>\n",
       "    <tr>\n",
       "      <th>1</th>\n",
       "      <td>Crust is not good.</td>\n",
       "      <td>0</td>\n",
       "      <td>18</td>\n",
       "    </tr>\n",
       "  </tbody>\n",
       "</table>\n",
       "</div>"
      ],
      "text/plain": [
       "                     Review  Liked  length\n",
       "0  Wow... Loved this place.      1      24\n",
       "1        Crust is not good.      0      18"
      ]
     },
     "execution_count": 8,
     "metadata": {},
     "output_type": "execute_result"
    }
   ],
   "source": [
    "data.head(2)"
   ]
  },
  {
   "cell_type": "code",
   "execution_count": 12,
   "id": "87a1a982",
   "metadata": {},
   "outputs": [
    {
     "data": {
      "text/plain": [
       "<AxesSubplot:ylabel='Count'>"
      ]
     },
     "execution_count": 12,
     "metadata": {},
     "output_type": "execute_result"
    },
    {
     "data": {
      "image/png": "[encoded data removed]",
      "text/plain": [
       "<Figure size 432x288 with 1 Axes>"
      ]
     },
     "metadata": {
      "needs_background": "light"
     },
     "output_type": "display_data"
    }
   ],
   "source": [
    "sns.histplot(data , bins=30)"
   ]
  },
  {
   "cell_type": "markdown",
   "id": "0c72f55a",
   "metadata": {},
   "source": [
    "### REMOVING STOP WORDS AND PUNCTUATIONS"
   ]
  },
  {
   "cell_type": "code",
   "execution_count": 122,
   "id": "0c70418f",
   "metadata": {},
   "outputs": [],
   "source": [
    "import string"
   ]
  },
  {
   "cell_type": "code",
   "execution_count": 123,
   "id": "9a9c83aa",
   "metadata": {},
   "outputs": [],
   "source": [
    "from nltk.stem.porter import PorterStemmer"
   ]
  },
  {
   "cell_type": "code",
   "execution_count": 124,
   "id": "ac793a5d",
   "metadata": {},
   "outputs": [],
   "source": [
    "from nltk.corpus import stopwords"
   ]
  },
  {
   "cell_type": "code",
   "execution_count": 119,
   "id": "9e985051",
   "metadata": {},
   "outputs": [
    {
     "data": {
      "text/plain": [
       "178"
      ]
     },
     "execution_count": 119,
     "metadata": {},
     "output_type": "execute_result"
    }
   ],
   "source": [
    "len(list(set(st_words)))"
   ]
  },
  {
   "cell_type": "code",
   "execution_count": 132,
   "id": "8e5ac3b5",
   "metadata": {},
   "outputs": [],
   "source": [
    "def text_processing(word):\n",
    "   #removing puncs\n",
    "    version_1 = [x for x in word if x not in string.punctuation]\n",
    "    version_1 = \"\".join(version_1)\n",
    "    #Stemming\n",
    "    ps = PorterStemmer()\n",
    "    st_words = stopwords.words(\"english\")\n",
    "    st_words.remove(\"not\")\n",
    "    version_2 = [ps.stem(x) for x in version_1.split() if x.lower() not in list(set(st_words))]\n",
    "    #returning refined-words-list\n",
    "    return version_2"
   ]
  },
  {
   "cell_type": "code",
   "execution_count": 133,
   "id": "43e85828",
   "metadata": {},
   "outputs": [
    {
     "name": "stdout",
     "output_type": "stream",
     "text": [
      "['deadli', 'monkeypox', 'call', 'monkeypox', 'relat', 'chickenpox', 'question', 'answeredi', 'not']\n"
     ]
    }
   ],
   "source": [
    "print(text_processing(\"How deadly is monkeypox? Why is it called monkeypox? Is it related to chickenpox? All your questions answered.is it not so?\"))"
   ]
  },
  {
   "cell_type": "code",
   "execution_count": 134,
   "id": "f4696da6",
   "metadata": {},
   "outputs": [],
   "source": [
    "from sklearn.feature_extraction.text import CountVectorizer"
   ]
  },
  {
   "cell_type": "code",
   "execution_count": 135,
   "id": "ba945204",
   "metadata": {},
   "outputs": [],
   "source": [
    "from sklearn.feature_extraction.text import TfidfTransformer"
   ]
  },
  {
   "cell_type": "code",
   "execution_count": 136,
   "id": "824f6d21",
   "metadata": {},
   "outputs": [],
   "source": [
    "from sklearn.naive_bayes import MultinomialNB"
   ]
  },
  {
   "cell_type": "markdown",
   "id": "58c8851e",
   "metadata": {},
   "source": [
    "### TRAIN_TEST SPLIT"
   ]
  },
  {
   "cell_type": "code",
   "execution_count": 137,
   "id": "c0a49d85",
   "metadata": {},
   "outputs": [],
   "source": [
    "from sklearn.model_selection import train_test_split"
   ]
  },
  {
   "cell_type": "code",
   "execution_count": 148,
   "id": "c3420d6a",
   "metadata": {},
   "outputs": [],
   "source": [
    "review_train, review_test , liked_train , liked_test = train_test_split(data[\"Review\"] , data[\"Liked\"] , train_size=0.8)"
   ]
  },
  {
   "cell_type": "markdown",
   "id": "2de89891",
   "metadata": {},
   "source": [
    "## PIPELINE "
   ]
  },
  {
   "cell_type": "code",
   "execution_count": 149,
   "id": "b96b320f",
   "metadata": {},
   "outputs": [],
   "source": [
    "from sklearn.pipeline import Pipeline"
   ]
  },
  {
   "cell_type": "code",
   "execution_count": 159,
   "id": "3cdbb931",
   "metadata": {},
   "outputs": [],
   "source": [
    "pipeline = Pipeline([\n",
    "    (\"bow\" , CountVectorizer( analyzer = text_processing , max_features = 1500 )) , #BAG-OF-WORDS model , #Tokenization\n",
    "    (\"tfidf\" , TfidfTransformer()) , # Normalization\n",
    "    (\"classifier\" , MultinomialNB()) # Classification\n",
    "])"
   ]
  },
  {
   "cell_type": "markdown",
   "id": "a09dd723",
   "metadata": {},
   "source": [
    "## MODEL TRAINING "
   ]
  },
  {
   "cell_type": "code",
   "execution_count": 169,
   "id": "0c6aad30",
   "metadata": {},
   "outputs": [
    {
     "data": {
      "text/plain": [
       "Pipeline(steps=[('bow',\n",
       "                 CountVectorizer(analyzer=<function text_processing at 0x7f5f7f4a6c10>,\n",
       "                                 max_features=1500)),\n",
       "                ('tfidf', TfidfTransformer()),\n",
       "                ('classifier', MultinomialNB())])"
      ]
     },
     "execution_count": 169,
     "metadata": {},
     "output_type": "execute_result"
    }
   ],
   "source": [
    "pipeline.fit(review_train , liked_train)"
   ]
  },
  {
   "cell_type": "markdown",
   "id": "3176fe55",
   "metadata": {},
   "source": [
    "## MODEL PREDICTION "
   ]
  },
  {
   "cell_type": "code",
   "execution_count": 161,
   "id": "3a506778",
   "metadata": {},
   "outputs": [
    {
     "data": {
      "text/plain": [
       "0"
      ]
     },
     "execution_count": 161,
     "metadata": {},
     "output_type": "execute_result"
    }
   ],
   "source": [
    "pipeline.predict([\"worst!!!!!!!!!!!!\"])[0]"
   ]
  },
  {
   "cell_type": "code",
   "execution_count": 162,
   "id": "47e118d0",
   "metadata": {},
   "outputs": [],
   "source": [
    "predictions = pipeline.predict(review_test)"
   ]
  },
  {
   "cell_type": "markdown",
   "id": "406713c9",
   "metadata": {},
   "source": [
    "## MODEL EVALUATION "
   ]
  },
  {
   "cell_type": "code",
   "execution_count": 163,
   "id": "0a7b7e3c",
   "metadata": {},
   "outputs": [],
   "source": [
    "from sklearn.metrics import classification_report , confusion_matrix , accuracy_score"
   ]
  },
  {
   "cell_type": "code",
   "execution_count": 164,
   "id": "07f6343f",
   "metadata": {},
   "outputs": [
    {
     "name": "stdout",
     "output_type": "stream",
     "text": [
      "              precision    recall  f1-score   support\n",
      "\n",
      "           0       0.87      0.82      0.84       114\n",
      "           1       0.77      0.84      0.80        86\n",
      "\n",
      "    accuracy                           0.82       200\n",
      "   macro avg       0.82      0.83      0.82       200\n",
      "weighted avg       0.83      0.82      0.83       200\n",
      "\n"
     ]
    }
   ],
   "source": [
    "print(classification_report(liked_test , predictions))"
   ]
  },
  {
   "cell_type": "code",
   "execution_count": 165,
   "id": "d0a671e7",
   "metadata": {},
   "outputs": [
    {
     "data": {
      "text/plain": [
       "array([[93, 21],\n",
       "       [14, 72]])"
      ]
     },
     "execution_count": 165,
     "metadata": {},
     "output_type": "execute_result"
    }
   ],
   "source": [
    "confusion_matrix(liked_test , predictions)"
   ]
  },
  {
   "cell_type": "code",
   "execution_count": 166,
   "id": "2abba02f",
   "metadata": {},
   "outputs": [
    {
     "data": {
      "text/plain": [
       "0.825"
      ]
     },
     "execution_count": 166,
     "metadata": {},
     "output_type": "execute_result"
    }
   ],
   "source": [
    "accuracy_score(liked_test , predictions)"
   ]
  },
  {
   "cell_type": "code",
   "execution_count": null,
   "id": "13473b35",
   "metadata": {},
   "outputs": [],
   "source": []
  }
 ],
 "metadata": {
  "kernelspec": {
   "display_name": "Python 3 (ipykernel)",
   "language": "python",
   "name": "python3"
  },
  "language_info": {
   "codemirror_mode": {
    "name": "ipython",
    "version": 3
   },
   "file_extension": ".py",
   "mimetype": "text/x-python",
   "name": "python",
   "nbconvert_exporter": "python",
   "pygments_lexer": "ipython3",
   "version": "3.8.10"
  }
 },
 "nbformat": 4,
 "nbformat_minor": 5
}
