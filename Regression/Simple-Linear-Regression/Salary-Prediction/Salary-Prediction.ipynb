{
 "cells": [
  {
   "cell_type": "markdown",
   "id": "b7ba9233",
   "metadata": {},
   "source": [
    "# IMPORTING LIBRARIES "
   ]
  },
  {
   "cell_type": "code",
   "execution_count": 67,
   "id": "2f47bd23",
   "metadata": {},
   "outputs": [],
   "source": [
    "import numpy as np\n",
    "import pandas as pd\n",
    "import seaborn as sns\n",
    "import matplotlib.pyplot as plt\n",
    "from sklearn.linear_model import LinearRegression\n",
    "from sklearn.metrics import mean_absolute_error,mean_squared_error\n",
    "from sklearn.model_selection import train_test_split"
   ]
  },
  {
   "cell_type": "code",
   "execution_count": 68,
   "id": "6a0a72a8",
   "metadata": {},
   "outputs": [],
   "source": [
    "%matplotlib inline"
   ]
  },
  {
   "cell_type": "markdown",
   "id": "ce6720d8",
   "metadata": {},
   "source": [
    "# IMPORTING DATASET "
   ]
  },
  {
   "cell_type": "code",
   "execution_count": 8,
   "id": "074b0bf1",
   "metadata": {},
   "outputs": [],
   "source": [
    "data = pd.read_csv(\"Salary_Data.csv\")"
   ]
  },
  {
   "cell_type": "code",
   "execution_count": 52,
   "id": "c9eb3cad",
   "metadata": {},
   "outputs": [
    {
     "data": {
      "text/html": [
       "<div>\n",
       "<style scoped>\n",
       "    .dataframe tbody tr th:only-of-type {\n",
       "        vertical-align: middle;\n",
       "    }\n",
       "\n",
       "    .dataframe tbody tr th {\n",
       "        vertical-align: top;\n",
       "    }\n",
       "\n",
       "    .dataframe thead th {\n",
       "        text-align: right;\n",
       "    }\n",
       "</style>\n",
       "<table border=\"1\" class=\"dataframe\">\n",
       "  <thead>\n",
       "    <tr style=\"text-align: right;\">\n",
       "      <th></th>\n",
       "      <th>YearsExperience</th>\n",
       "      <th>Salary</th>\n",
       "    </tr>\n",
       "  </thead>\n",
       "  <tbody>\n",
       "    <tr>\n",
       "      <th>0</th>\n",
       "      <td>1.1</td>\n",
       "      <td>39343.0</td>\n",
       "    </tr>\n",
       "    <tr>\n",
       "      <th>1</th>\n",
       "      <td>1.3</td>\n",
       "      <td>46205.0</td>\n",
       "    </tr>\n",
       "    <tr>\n",
       "      <th>2</th>\n",
       "      <td>1.5</td>\n",
       "      <td>37731.0</td>\n",
       "    </tr>\n",
       "    <tr>\n",
       "      <th>3</th>\n",
       "      <td>2.0</td>\n",
       "      <td>43525.0</td>\n",
       "    </tr>\n",
       "    <tr>\n",
       "      <th>4</th>\n",
       "      <td>2.2</td>\n",
       "      <td>39891.0</td>\n",
       "    </tr>\n",
       "  </tbody>\n",
       "</table>\n",
       "</div>"
      ],
      "text/plain": [
       "   YearsExperience   Salary\n",
       "0              1.1  39343.0\n",
       "1              1.3  46205.0\n",
       "2              1.5  37731.0\n",
       "3              2.0  43525.0\n",
       "4              2.2  39891.0"
      ]
     },
     "execution_count": 52,
     "metadata": {},
     "output_type": "execute_result"
    }
   ],
   "source": [
    "data.head()"
   ]
  },
  {
   "cell_type": "markdown",
   "id": "74c4d073",
   "metadata": {},
   "source": [
    "# DATA VISUALIZATION:"
   ]
  },
  {
   "cell_type": "code",
   "execution_count": 55,
   "id": "256b98dc",
   "metadata": {},
   "outputs": [
    {
     "data": {
      "text/plain": [
       "<seaborn.axisgrid.PairGrid at 0x7fe3da61f6d0>"
      ]
     },
     "execution_count": 55,
     "metadata": {},
     "output_type": "execute_result"
    },
    {
     "data": {
      "image/png": "[encoded data removed]",
      "text/plain": [
       "<Figure size 360x360 with 6 Axes>"
      ]
     },
     "metadata": {
      "needs_background": "light"
     },
     "output_type": "display_data"
    }
   ],
   "source": [
    "sns.pairplot(data)"
   ]
  },
  {
   "cell_type": "code",
   "execution_count": 44,
   "id": "e06e2a33",
   "metadata": {},
   "outputs": [],
   "source": [
    "X = data.drop([\"Salary\"],axis=1)\n",
    "y = data[\"Salary\"]"
   ]
  },
  {
   "cell_type": "markdown",
   "id": "72963681",
   "metadata": {},
   "source": [
    "# SPLITTING INTO TRAIN-TEST DATA-SETS"
   ]
  },
  {
   "cell_type": "code",
   "execution_count": 147,
   "id": "41fa857e",
   "metadata": {},
   "outputs": [],
   "source": [
    "X_train,X_test,y_train,y_test = train_test_split(X.values , y.values ,test_size=0.2,random_state=0)"
   ]
  },
  {
   "cell_type": "markdown",
   "id": "8ed2c1df",
   "metadata": {},
   "source": [
    "# TRAINING SIMPLE LINEAR REGRESSION MODEL ON TRAIN DATA:"
   ]
  },
  {
   "cell_type": "code",
   "execution_count": 148,
   "id": "b0d7f0fc",
   "metadata": {},
   "outputs": [],
   "source": [
    "lm = LinearRegression()"
   ]
  },
  {
   "cell_type": "code",
   "execution_count": 149,
   "id": "c447c0fc",
   "metadata": {},
   "outputs": [
    {
     "data": {
      "text/plain": [
       "LinearRegression()"
      ]
     },
     "execution_count": 149,
     "metadata": {},
     "output_type": "execute_result"
    }
   ],
   "source": [
    "lm.fit(X_train,y_train)"
   ]
  },
  {
   "cell_type": "markdown",
   "id": "e93f61f2",
   "metadata": {},
   "source": [
    "# PREDICTING THE TEST RESULTS:"
   ]
  },
  {
   "cell_type": "code",
   "execution_count": 150,
   "id": "660860a3",
   "metadata": {},
   "outputs": [],
   "source": [
    "predictions = lm.predict(X_test)"
   ]
  },
  {
   "cell_type": "code",
   "execution_count": 151,
   "id": "954b7122",
   "metadata": {},
   "outputs": [
    {
     "data": {
      "text/plain": [
       "array([ 40748.96184072, 122699.62295594,  64961.65717022,  63099.14214487,\n",
       "       115249.56285456, 107799.50275317])"
      ]
     },
     "execution_count": 151,
     "metadata": {},
     "output_type": "execute_result"
    }
   ],
   "source": [
    "predictions"
   ]
  },
  {
   "cell_type": "code",
   "execution_count": 152,
   "id": "26da176e",
   "metadata": {},
   "outputs": [
    {
     "data": {
      "text/plain": [
       "Text(0, 0.5, 'Salary from Predicted Data')"
      ]
     },
     "execution_count": 152,
     "metadata": {},
     "output_type": "execute_result"
    },
    {
     "data": {
      "image/png": "[encoded data removed]",
      "text/plain": [
       "<Figure size 432x288 with 1 Axes>"
      ]
     },
     "metadata": {
      "needs_background": "light"
     },
     "output_type": "display_data"
    }
   ],
   "source": [
    "plt.scatter(y_test,predictions)\n",
    "plt.xlabel(\"Salary from Test Data\")\n",
    "plt.ylabel(\"Salary from Predicted Data\")"
   ]
  },
  {
   "cell_type": "markdown",
   "id": "3ad096a0",
   "metadata": {},
   "source": [
    "# VISUALISING THE RESULTS:"
   ]
  },
  {
   "cell_type": "markdown",
   "id": "54bda855",
   "metadata": {},
   "source": [
    "## SALARY VS EXPERIECE [TRAINING SET]"
   ]
  },
  {
   "cell_type": "code",
   "execution_count": 153,
   "id": "4cf1e7a6",
   "metadata": {},
   "outputs": [
    {
     "data": {
      "text/plain": [
       "Text(0, 0.5, 'Salary')"
      ]
     },
     "execution_count": 153,
     "metadata": {},
     "output_type": "execute_result"
    },
    {
     "data": {
      "image/png": "[encoded data removed]",
      "text/plain": [
       "<Figure size 432x288 with 1 Axes>"
      ]
     },
     "metadata": {
      "needs_background": "light"
     },
     "output_type": "display_data"
    }
   ],
   "source": [
    "plt.scatter(X_train,y_train , color = \"red\")\n",
    "plt.plot(np.array(X_train), lm.predict(X_train) , color = \"blue\")\n",
    "plt.xlabel(\"Years of Experience\")\n",
    "plt.ylabel(\"Salary\")"
   ]
  },
  {
   "cell_type": "markdown",
   "id": "25db151a",
   "metadata": {},
   "source": [
    "## SALARY VS EXPERIENCE [TEST SET] "
   ]
  },
  {
   "cell_type": "code",
   "execution_count": 154,
   "id": "236c67b3",
   "metadata": {},
   "outputs": [
    {
     "data": {
      "text/plain": [
       "Text(0, 0.5, 'Salary')"
      ]
     },
     "execution_count": 154,
     "metadata": {},
     "output_type": "execute_result"
    },
    {
     "data": {
      "image/png": "[encoded data removed]",
      "text/plain": [
       "<Figure size 432x288 with 1 Axes>"
      ]
     },
     "metadata": {
      "needs_background": "light"
     },
     "output_type": "display_data"
    }
   ],
   "source": [
    "plt.scatter(X_test,y_test,color=\"red\")\n",
    "plt.scatter(X_test,predictions,color=\"green\")\n",
    "plt.plot(np.array(X_train), lm.predict(X_train) , color = \"blue\")\n",
    "plt.xlabel(\"Years of Experience\")\n",
    "plt.ylabel(\"Salary\")"
   ]
  },
  {
   "cell_type": "markdown",
   "id": "319e1eba",
   "metadata": {},
   "source": [
    "## RESIDUALS:"
   ]
  },
  {
   "cell_type": "code",
   "execution_count": 155,
   "id": "d956d0b2",
   "metadata": {},
   "outputs": [
    {
     "data": {
      "text/plain": [
       "<seaborn.axisgrid.FacetGrid at 0x7fe3cb292610>"
      ]
     },
     "execution_count": 155,
     "metadata": {},
     "output_type": "execute_result"
    },
    {
     "data": {
      "image/png": "[encoded data removed]",
      "text/plain": [
       "<Figure size 360x360 with 1 Axes>"
      ]
     },
     "metadata": {
      "needs_background": "light"
     },
     "output_type": "display_data"
    }
   ],
   "source": [
    "sns.displot((y_test-predictions),kde=True)"
   ]
  },
  {
   "cell_type": "markdown",
   "id": "5a3be638",
   "metadata": {},
   "source": [
    "# MODEL EVALUATION "
   ]
  },
  {
   "cell_type": "code",
   "execution_count": 156,
   "id": "58724c28",
   "metadata": {},
   "outputs": [
    {
     "data": {
      "text/plain": [
       "2446.1723690465055"
      ]
     },
     "execution_count": 156,
     "metadata": {},
     "output_type": "execute_result"
    }
   ],
   "source": [
    "mean_absolute_error(y_test,predictions)"
   ]
  },
  {
   "cell_type": "code",
   "execution_count": 157,
   "id": "2516f245",
   "metadata": {},
   "outputs": [
    {
     "data": {
      "text/plain": [
       "12823412.298126549"
      ]
     },
     "execution_count": 157,
     "metadata": {},
     "output_type": "execute_result"
    }
   ],
   "source": [
    "mean_squared_error(y_test,predictions)"
   ]
  },
  {
   "cell_type": "code",
   "execution_count": 158,
   "id": "0e932bd0",
   "metadata": {},
   "outputs": [
    {
     "data": {
      "text/plain": [
       "3580.979237321343"
      ]
     },
     "execution_count": 158,
     "metadata": {},
     "output_type": "execute_result"
    }
   ],
   "source": [
    "np.sqrt(mean_squared_error(y_test,predictions))"
   ]
  },
  {
   "cell_type": "markdown",
   "id": "b2a6943d",
   "metadata": {},
   "source": [
    "# FAQ"
   ]
  },
  {
   "cell_type": "markdown",
   "id": "34bb0a2f",
   "metadata": {},
   "source": [
    "Question 1: How do I use my simple linear regression model to make a single prediction, for example, to predict the salary of an employee with 12 years of experience"
   ]
  },
  {
   "cell_type": "code",
   "execution_count": 162,
   "id": "d31d88ce",
   "metadata": {},
   "outputs": [
    {
     "data": {
      "text/plain": [
       "138531.00067137845"
      ]
     },
     "execution_count": 162,
     "metadata": {},
     "output_type": "execute_result"
    }
   ],
   "source": [
    "experience = [12]\n",
    "lm.predict([experience])[0]"
   ]
  },
  {
   "cell_type": "markdown",
   "id": "cb9946e5",
   "metadata": {},
   "source": [
    "Question 2: How do I get the final regression equation y = b0 + b1 x with the final values of the coefficients b0 and b1?"
   ]
  },
  {
   "cell_type": "code",
   "execution_count": 163,
   "id": "0dec2728",
   "metadata": {},
   "outputs": [],
   "source": [
    "coeff = lm.coef_\n",
    "intercept = lm.intercept_"
   ]
  },
  {
   "cell_type": "code",
   "execution_count": 169,
   "id": "c36266e3",
   "metadata": {},
   "outputs": [
    {
     "data": {
      "text/plain": [
       "array([9312.57512673])"
      ]
     },
     "execution_count": 169,
     "metadata": {},
     "output_type": "execute_result"
    }
   ],
   "source": [
    "coeff"
   ]
  },
  {
   "cell_type": "code",
   "execution_count": 170,
   "id": "4e124b06",
   "metadata": {},
   "outputs": [
    {
     "data": {
      "text/plain": [
       "26780.09915062818"
      ]
     },
     "execution_count": 170,
     "metadata": {},
     "output_type": "execute_result"
    }
   ],
   "source": [
    "intercept"
   ]
  },
  {
   "cell_type": "code",
   "execution_count": 173,
   "id": "c2438d10",
   "metadata": {},
   "outputs": [
    {
     "name": "stdout",
     "output_type": "stream",
     "text": [
      "EQUATION OF LINE THAT IS FITTING THE DATA IN TRAIEND MODEL IS:\n",
      " Salary =  26780.09915062818 + 9312.575126729189 * YearsExperience\n"
     ]
    }
   ],
   "source": [
    "print(\"EQUATION OF LINE THAT IS FITTING THE DATA IN TRAIEND MODEL IS:\\n\" , \"Salary = \",intercept,\"+\",coeff[0],\"* YearsExperience\")"
   ]
  },
  {
   "cell_type": "code",
   "execution_count": null,
   "id": "a82fcf83",
   "metadata": {},
   "outputs": [],
   "source": []
  }
 ],
 "metadata": {
  "kernelspec": {
   "display_name": "Python 3 (ipykernel)",
   "language": "python",
   "name": "python3"
  },
  "language_info": {
   "codemirror_mode": {
    "name": "ipython",
    "version": 3
   },
   "file_extension": ".py",
   "mimetype": "text/x-python",
   "name": "python",
   "nbconvert_exporter": "python",
   "pygments_lexer": "ipython3",
   "version": "3.8.10"
  }
 },
 "nbformat": 4,
 "nbformat_minor": 5
}
