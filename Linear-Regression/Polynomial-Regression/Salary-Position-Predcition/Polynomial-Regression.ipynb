{
 "cells": [
  {
   "cell_type": "markdown",
   "id": "e38ebdf8",
   "metadata": {},
   "source": [
    "# IMPORTING LIBRARIES "
   ]
  },
  {
   "cell_type": "code",
   "execution_count": 346,
   "id": "b1d357d7",
   "metadata": {},
   "outputs": [],
   "source": [
    "import pandas as pd\n",
    "import seaborn as sns\n",
    "import numpy as np\n",
    "import matplotlib.pyplot as plt\n",
    "%matplotlib inline"
   ]
  },
  {
   "cell_type": "markdown",
   "id": "21956110",
   "metadata": {},
   "source": [
    "## IMPORTING DATASET "
   ]
  },
  {
   "cell_type": "code",
   "execution_count": 347,
   "id": "37a2245f",
   "metadata": {},
   "outputs": [],
   "source": [
    "data = pd.read_csv(\"Position_Salaries.csv\")"
   ]
  },
  {
   "cell_type": "markdown",
   "id": "6ad81ee5",
   "metadata": {},
   "source": [
    "## DATA LOOK-UP"
   ]
  },
  {
   "cell_type": "code",
   "execution_count": 348,
   "id": "209af5ad",
   "metadata": {},
   "outputs": [
    {
     "data": {
      "text/html": [
       "<div>\n",
       "<style scoped>\n",
       "    .dataframe tbody tr th:only-of-type {\n",
       "        vertical-align: middle;\n",
       "    }\n",
       "\n",
       "    .dataframe tbody tr th {\n",
       "        vertical-align: top;\n",
       "    }\n",
       "\n",
       "    .dataframe thead th {\n",
       "        text-align: right;\n",
       "    }\n",
       "</style>\n",
       "<table border=\"1\" class=\"dataframe\">\n",
       "  <thead>\n",
       "    <tr style=\"text-align: right;\">\n",
       "      <th></th>\n",
       "      <th>Position</th>\n",
       "      <th>Level</th>\n",
       "      <th>Salary</th>\n",
       "    </tr>\n",
       "  </thead>\n",
       "  <tbody>\n",
       "    <tr>\n",
       "      <th>0</th>\n",
       "      <td>Business Analyst</td>\n",
       "      <td>1</td>\n",
       "      <td>45000</td>\n",
       "    </tr>\n",
       "    <tr>\n",
       "      <th>1</th>\n",
       "      <td>Junior Consultant</td>\n",
       "      <td>2</td>\n",
       "      <td>50000</td>\n",
       "    </tr>\n",
       "    <tr>\n",
       "      <th>2</th>\n",
       "      <td>Senior Consultant</td>\n",
       "      <td>3</td>\n",
       "      <td>60000</td>\n",
       "    </tr>\n",
       "    <tr>\n",
       "      <th>3</th>\n",
       "      <td>Manager</td>\n",
       "      <td>4</td>\n",
       "      <td>80000</td>\n",
       "    </tr>\n",
       "    <tr>\n",
       "      <th>4</th>\n",
       "      <td>Country Manager</td>\n",
       "      <td>5</td>\n",
       "      <td>110000</td>\n",
       "    </tr>\n",
       "  </tbody>\n",
       "</table>\n",
       "</div>"
      ],
      "text/plain": [
       "            Position  Level  Salary\n",
       "0   Business Analyst      1   45000\n",
       "1  Junior Consultant      2   50000\n",
       "2  Senior Consultant      3   60000\n",
       "3            Manager      4   80000\n",
       "4    Country Manager      5  110000"
      ]
     },
     "execution_count": 348,
     "metadata": {},
     "output_type": "execute_result"
    }
   ],
   "source": [
    "data.head()"
   ]
  },
  {
   "cell_type": "code",
   "execution_count": 349,
   "id": "5acccb71",
   "metadata": {},
   "outputs": [
    {
     "name": "stdout",
     "output_type": "stream",
     "text": [
      "<class 'pandas.core.frame.DataFrame'>\n",
      "RangeIndex: 10 entries, 0 to 9\n",
      "Data columns (total 3 columns):\n",
      " #   Column    Non-Null Count  Dtype \n",
      "---  ------    --------------  ----- \n",
      " 0   Position  10 non-null     object\n",
      " 1   Level     10 non-null     int64 \n",
      " 2   Salary    10 non-null     int64 \n",
      "dtypes: int64(2), object(1)\n",
      "memory usage: 368.0+ bytes\n"
     ]
    }
   ],
   "source": [
    "data.info()"
   ]
  },
  {
   "cell_type": "code",
   "execution_count": 350,
   "id": "8705e29b",
   "metadata": {},
   "outputs": [
    {
     "data": {
      "text/plain": [
       "<seaborn.axisgrid.PairGrid at 0x7f202d05d820>"
      ]
     },
     "execution_count": 350,
     "metadata": {},
     "output_type": "execute_result"
    },
    {
     "data": {
      "image/png": "[encoded data removed]",
      "text/plain": [
       "<Figure size 360x360 with 6 Axes>"
      ]
     },
     "metadata": {
      "needs_background": "light"
     },
     "output_type": "display_data"
    }
   ],
   "source": [
    "sns.pairplot(data)"
   ]
  },
  {
   "cell_type": "markdown",
   "id": "5bf6aa5b",
   "metadata": {},
   "source": [
    "# SIMPLE LINEAR REGRESSION:"
   ]
  },
  {
   "cell_type": "code",
   "execution_count": 351,
   "id": "7a02cbab",
   "metadata": {},
   "outputs": [],
   "source": [
    "X = data[[\"Level\"]]"
   ]
  },
  {
   "cell_type": "code",
   "execution_count": 352,
   "id": "84cc5fa3",
   "metadata": {},
   "outputs": [],
   "source": [
    "y = data[[\"Salary\"]]"
   ]
  },
  {
   "cell_type": "markdown",
   "id": "c14279f2",
   "metadata": {},
   "source": [
    "### TEST TRAIN SPLIT:"
   ]
  },
  {
   "cell_type": "code",
   "execution_count": 353,
   "id": "ce3b1b5f",
   "metadata": {},
   "outputs": [],
   "source": [
    "from sklearn.model_selection import train_test_split"
   ]
  },
  {
   "cell_type": "code",
   "execution_count": 354,
   "id": "f982c34d",
   "metadata": {},
   "outputs": [],
   "source": [
    "X_train,X_test,y_train,y_test = train_test_split(X,y,train_size=0.8,random_state=0)"
   ]
  },
  {
   "cell_type": "markdown",
   "id": "0afaf1bb",
   "metadata": {},
   "source": [
    "### TRAINING LINEAR REGRESSION MODEL"
   ]
  },
  {
   "cell_type": "code",
   "execution_count": 355,
   "id": "529b790f",
   "metadata": {},
   "outputs": [],
   "source": [
    "from sklearn.linear_model import LinearRegression"
   ]
  },
  {
   "cell_type": "code",
   "execution_count": 356,
   "id": "b7008317",
   "metadata": {},
   "outputs": [],
   "source": [
    "lm = LinearRegression()"
   ]
  },
  {
   "cell_type": "code",
   "execution_count": 357,
   "id": "0b156f32",
   "metadata": {},
   "outputs": [
    {
     "data": {
      "text/plain": [
       "LinearRegression()"
      ]
     },
     "execution_count": 357,
     "metadata": {},
     "output_type": "execute_result"
    }
   ],
   "source": [
    "lm.fit(X_train,y_train)"
   ]
  },
  {
   "cell_type": "markdown",
   "id": "c72b231c",
   "metadata": {},
   "source": [
    "### EVALUATION TRAINED MODEL"
   ]
  },
  {
   "cell_type": "code",
   "execution_count": 358,
   "id": "de072a53",
   "metadata": {},
   "outputs": [],
   "source": [
    "predictions = lm.predict(X_test)"
   ]
  },
  {
   "cell_type": "code",
   "execution_count": 359,
   "id": "10e8edfa",
   "metadata": {},
   "outputs": [
    {
     "data": {
      "text/plain": [
       "array([[ 44275.9295499 ],\n",
       "       [543473.58121331]])"
      ]
     },
     "execution_count": 359,
     "metadata": {},
     "output_type": "execute_result"
    }
   ],
   "source": [
    "predictions"
   ]
  },
  {
   "cell_type": "code",
   "execution_count": 360,
   "id": "7418bfe0",
   "metadata": {},
   "outputs": [
    {
     "data": {
      "text/plain": [
       "<AxesSubplot:ylabel='Count'>"
      ]
     },
     "execution_count": 360,
     "metadata": {},
     "output_type": "execute_result"
    },
    {
     "data": {
      "image/png": "[encoded data removed]",
      "text/plain": [
       "<Figure size 432x288 with 1 Axes>"
      ]
     },
     "metadata": {
      "needs_background": "light"
     },
     "output_type": "display_data"
    }
   ],
   "source": [
    "sns.histplot((y_test-predictions) , kde=True)"
   ]
  },
  {
   "cell_type": "code",
   "execution_count": 361,
   "id": "ccd11af2",
   "metadata": {},
   "outputs": [],
   "source": [
    "from sklearn import metrics"
   ]
  },
  {
   "cell_type": "code",
   "execution_count": 362,
   "id": "1ac91b0a",
   "metadata": {},
   "outputs": [
    {
     "data": {
      "text/plain": [
       "29598.82583170262"
      ]
     },
     "execution_count": 362,
     "metadata": {},
     "output_type": "execute_result"
    }
   ],
   "source": [
    "metrics.mean_absolute_error(y_test,predictions)"
   ]
  },
  {
   "cell_type": "code",
   "execution_count": 363,
   "id": "15d63125",
   "metadata": {},
   "outputs": [
    {
     "data": {
      "text/plain": [
       "1068599327.5148352"
      ]
     },
     "execution_count": 363,
     "metadata": {},
     "output_type": "execute_result"
    }
   ],
   "source": [
    "metrics.mean_squared_error(y_test,predictions)"
   ]
  },
  {
   "cell_type": "markdown",
   "id": "6a746836",
   "metadata": {},
   "source": [
    "## POLYNOMIAL LINEAR REGRESSION"
   ]
  },
  {
   "cell_type": "code",
   "execution_count": 364,
   "id": "25d21774",
   "metadata": {},
   "outputs": [],
   "source": [
    "A = data.drop([\"Position\" , \"Salary\"] , axis=1)\n",
    "a = data[\"Salary\"]"
   ]
  },
  {
   "cell_type": "code",
   "execution_count": 365,
   "id": "cdae1997",
   "metadata": {},
   "outputs": [],
   "source": [
    "from sklearn.preprocessing import PolynomialFeatures"
   ]
  },
  {
   "cell_type": "markdown",
   "id": "a5559da9",
   "metadata": {},
   "source": [
    "### TRAINING MODEL"
   ]
  },
  {
   "cell_type": "code",
   "execution_count": 366,
   "id": "e1a48614",
   "metadata": {},
   "outputs": [],
   "source": [
    "poly_reg = PolynomialFeatures(degree=2)"
   ]
  },
  {
   "cell_type": "code",
   "execution_count": 367,
   "id": "dee9841c",
   "metadata": {},
   "outputs": [],
   "source": [
    "A = poly_reg.fit_transform(A)"
   ]
  },
  {
   "cell_type": "code",
   "execution_count": 368,
   "id": "0eaf86d1",
   "metadata": {},
   "outputs": [],
   "source": [
    "A_train , A_test , a_train , a_test = train_test_split(A ,a , train_size=0.8, random_state=0)"
   ]
  },
  {
   "cell_type": "code",
   "execution_count": 370,
   "id": "e279c622",
   "metadata": {},
   "outputs": [
    {
     "data": {
      "text/plain": [
       "LinearRegression()"
      ]
     },
     "execution_count": 370,
     "metadata": {},
     "output_type": "execute_result"
    }
   ],
   "source": [
    "lm_2 = LinearRegression()\n",
    "lm_2.fit(A_train,a_train)"
   ]
  },
  {
   "cell_type": "markdown",
   "id": "c183cbfb",
   "metadata": {},
   "source": [
    "### EVALUATING MODEL "
   ]
  },
  {
   "cell_type": "code",
   "execution_count": 371,
   "id": "53c6ab43",
   "metadata": {},
   "outputs": [
    {
     "data": {
      "text/plain": [
       "<AxesSubplot:xlabel='Salary', ylabel='Count'>"
      ]
     },
     "execution_count": 371,
     "metadata": {},
     "output_type": "execute_result"
    },
    {
     "data": {
      "image/png": "[encoded data removed]",
      "text/plain": [
       "<Figure size 432x288 with 1 Axes>"
      ]
     },
     "metadata": {
      "needs_background": "light"
     },
     "output_type": "display_data"
    }
   ],
   "source": [
    "sns.histplot(a_test - lm_2.predict(A_test) , kde=True)"
   ]
  },
  {
   "cell_type": "code",
   "execution_count": 372,
   "id": "c7a0f099",
   "metadata": {},
   "outputs": [
    {
     "data": {
      "text/plain": [
       "14254734714.32907"
      ]
     },
     "execution_count": 372,
     "metadata": {},
     "output_type": "execute_result"
    }
   ],
   "source": [
    "metrics.mean_squared_error(a_test,lm_2.predict(A_test))"
   ]
  },
  {
   "cell_type": "code",
   "execution_count": 373,
   "id": "036b487c",
   "metadata": {},
   "outputs": [
    {
     "data": {
      "text/plain": [
       "111037.84403669718"
      ]
     },
     "execution_count": 373,
     "metadata": {},
     "output_type": "execute_result"
    }
   ],
   "source": [
    "metrics.mean_absolute_error(a_test,lm_2.predict(A_test))"
   ]
  },
  {
   "cell_type": "markdown",
   "id": "9bbf8df8",
   "metadata": {},
   "source": [
    "# RESULT COMPARISON "
   ]
  },
  {
   "cell_type": "code",
   "execution_count": 374,
   "id": "06b241af",
   "metadata": {},
   "outputs": [
    {
     "data": {
      "text/plain": [
       "Text(0.5, 1.0, 'Fitting Simple Linear Regression')"
      ]
     },
     "execution_count": 374,
     "metadata": {},
     "output_type": "execute_result"
    },
    {
     "data": {
      "image/png": "[encoded data removed]",
      "text/plain": [
       "<Figure size 432x288 with 1 Axes>"
      ]
     },
     "metadata": {
      "needs_background": "light"
     },
     "output_type": "display_data"
    }
   ],
   "source": [
    "plt.scatter(X,y)\n",
    "plt.plot(X.values , lm.predict(X) , color = \"red\")\n",
    "plt.xlabel(\"Level\")\n",
    "plt.ylabel(\"Salary\")\n",
    "plt.title(\"Fitting Simple Linear Regression\")"
   ]
  },
  {
   "cell_type": "code",
   "execution_count": 375,
   "id": "5f9ccc39",
   "metadata": {},
   "outputs": [
    {
     "data": {
      "text/plain": [
       "Text(0, 0.5, 'Salary')"
      ]
     },
     "execution_count": 375,
     "metadata": {},
     "output_type": "execute_result"
    },
    {
     "data": {
      "image/png": "[encoded data removed]",
      "text/plain": [
       "<Figure size 432x288 with 1 Axes>"
      ]
     },
     "metadata": {
      "needs_background": "light"
     },
     "output_type": "display_data"
    }
   ],
   "source": [
    "plt.scatter(X,y)\n",
    "plt.plot(X.values , lm_2.predict(poly_reg.fit_transform(X)) , color = \"green\")\n",
    "plt.title(\"Simple Polynomial Regression\")\n",
    "plt.xlabel(\"Level\")\n",
    "plt.ylabel(\"Salary\")"
   ]
  },
  {
   "cell_type": "markdown",
   "id": "3b8a1c63",
   "metadata": {},
   "source": [
    "# Polynomial Regression:"
   ]
  },
  {
   "cell_type": "code",
   "execution_count": 376,
   "id": "28cb2aca",
   "metadata": {},
   "outputs": [],
   "source": [
    "B = data.drop([\"Position\" , \"Salary\"] , axis=1)\n",
    "b = data[\"Salary\"]"
   ]
  },
  {
   "cell_type": "markdown",
   "id": "b6dd5004",
   "metadata": {},
   "source": [
    "### PRE-PROCESSING"
   ]
  },
  {
   "cell_type": "code",
   "execution_count": 377,
   "id": "4c1063ad",
   "metadata": {},
   "outputs": [],
   "source": [
    "poly_reg2 = PolynomialFeatures(degree=4)"
   ]
  },
  {
   "cell_type": "code",
   "execution_count": 378,
   "id": "1e854ecd",
   "metadata": {},
   "outputs": [],
   "source": [
    "B = poly_reg2.fit_transform(B)"
   ]
  },
  {
   "cell_type": "code",
   "execution_count": 379,
   "id": "b7e2f810",
   "metadata": {},
   "outputs": [],
   "source": [
    "B_train,B_test,b_train,b_test = train_test_split(B,b, train_size=0.8,random_state=0)"
   ]
  },
  {
   "cell_type": "markdown",
   "id": "33bf6271",
   "metadata": {},
   "source": [
    "### TRAINING:"
   ]
  },
  {
   "cell_type": "code",
   "execution_count": 380,
   "id": "66876661",
   "metadata": {},
   "outputs": [
    {
     "data": {
      "text/plain": [
       "LinearRegression()"
      ]
     },
     "execution_count": 380,
     "metadata": {},
     "output_type": "execute_result"
    }
   ],
   "source": [
    "lm_3 = LinearRegression()\n",
    "lm_3.fit(B_train,b_train)"
   ]
  },
  {
   "cell_type": "markdown",
   "id": "7b934d25",
   "metadata": {},
   "source": [
    "### EVALUATION:"
   ]
  },
  {
   "cell_type": "code",
   "execution_count": 381,
   "id": "ba84b7b7",
   "metadata": {},
   "outputs": [],
   "source": [
    "preds = lm_3.predict(B_test)"
   ]
  },
  {
   "cell_type": "code",
   "execution_count": 382,
   "id": "25353a38",
   "metadata": {},
   "outputs": [
    {
     "data": {
      "text/plain": [
       "2    -2618.489842\n",
       "8   -54488.616835\n",
       "Name: Salary, dtype: float64"
      ]
     },
     "execution_count": 382,
     "metadata": {},
     "output_type": "execute_result"
    }
   ],
   "source": [
    "b_test - lm_3.predict(B_test)"
   ]
  },
  {
   "cell_type": "code",
   "execution_count": 383,
   "id": "26a7c687",
   "metadata": {},
   "outputs": [
    {
     "data": {
      "text/plain": [
       "<AxesSubplot:xlabel='Salary', ylabel='Count'>"
      ]
     },
     "execution_count": 383,
     "metadata": {},
     "output_type": "execute_result"
    },
    {
     "data": {
      "image/png": "[encoded data removed]",
      "text/plain": [
       "<Figure size 432x288 with 1 Axes>"
      ]
     },
     "metadata": {
      "needs_background": "light"
     },
     "output_type": "display_data"
    }
   ],
   "source": [
    "sns.histplot((b_test-preds),kde = True)"
   ]
  },
  {
   "cell_type": "code",
   "execution_count": 384,
   "id": "1207afbd",
   "metadata": {},
   "outputs": [
    {
     "data": {
      "text/plain": [
       "Text(0, 0.5, 'Salary')"
      ]
     },
     "execution_count": 384,
     "metadata": {},
     "output_type": "execute_result"
    },
    {
     "data": {
      "image/png": "[encoded data removed]",
      "text/plain": [
       "<Figure size 432x288 with 1 Axes>"
      ]
     },
     "metadata": {
      "needs_background": "light"
     },
     "output_type": "display_data"
    }
   ],
   "source": [
    "X_grid = np.arange(min(X.values) , max(X.values) , 0.1)\n",
    "X_grid = X_grid.reshape((len(X_grid) , 1))\n",
    "plt.scatter(X,y)\n",
    "plt.plot(X_grid , lm_3.predict(poly_reg2.fit_transform(X_grid)) , color = \"black\")\n",
    "plt.title(\"Polynomial Regression\")\n",
    "plt.xlabel(\"Level\")\n",
    "plt.ylabel(\"Salary\")"
   ]
  },
  {
   "cell_type": "code",
   "execution_count": 385,
   "id": "56da733c",
   "metadata": {},
   "outputs": [
    {
     "data": {
      "text/plain": [
       "28553.553338500744"
      ]
     },
     "execution_count": 385,
     "metadata": {},
     "output_type": "execute_result"
    }
   ],
   "source": [
    "metrics.mean_absolute_error(b_test,preds)"
   ]
  },
  {
   "cell_type": "code",
   "execution_count": 386,
   "id": "952756c9",
   "metadata": {},
   "outputs": [
    {
     "data": {
      "text/plain": [
       "1487932926.7969952"
      ]
     },
     "execution_count": 386,
     "metadata": {},
     "output_type": "execute_result"
    }
   ],
   "source": [
    "metrics.mean_squared_error(b_test,preds)"
   ]
  },
  {
   "cell_type": "markdown",
   "id": "77ee019f",
   "metadata": {},
   "source": [
    "# PREDICTING NEW VALUES:"
   ]
  },
  {
   "cell_type": "code",
   "execution_count": 387,
   "id": "fcd5602d",
   "metadata": {},
   "outputs": [],
   "source": [
    "to_predict = pd.DataFrame(data=[6.5] , columns = [\"Level\"])"
   ]
  },
  {
   "cell_type": "code",
   "execution_count": 388,
   "id": "00f43413",
   "metadata": {},
   "outputs": [
    {
     "data": {
      "text/html": [
       "<div>\n",
       "<style scoped>\n",
       "    .dataframe tbody tr th:only-of-type {\n",
       "        vertical-align: middle;\n",
       "    }\n",
       "\n",
       "    .dataframe tbody tr th {\n",
       "        vertical-align: top;\n",
       "    }\n",
       "\n",
       "    .dataframe thead th {\n",
       "        text-align: right;\n",
       "    }\n",
       "</style>\n",
       "<table border=\"1\" class=\"dataframe\">\n",
       "  <thead>\n",
       "    <tr style=\"text-align: right;\">\n",
       "      <th></th>\n",
       "      <th>Level</th>\n",
       "    </tr>\n",
       "  </thead>\n",
       "  <tbody>\n",
       "    <tr>\n",
       "      <th>0</th>\n",
       "      <td>6.5</td>\n",
       "    </tr>\n",
       "  </tbody>\n",
       "</table>\n",
       "</div>"
      ],
      "text/plain": [
       "   Level\n",
       "0    6.5"
      ]
     },
     "execution_count": 388,
     "metadata": {},
     "output_type": "execute_result"
    }
   ],
   "source": [
    "to_predict"
   ]
  },
  {
   "cell_type": "markdown",
   "id": "65171eef",
   "metadata": {},
   "source": [
    "### LINEAR REGRESSION PREDICTIONS"
   ]
  },
  {
   "cell_type": "code",
   "execution_count": 389,
   "id": "38a632dd",
   "metadata": {},
   "outputs": [
    {
     "data": {
      "text/plain": [
       "array([[335474.55968689]])"
      ]
     },
     "execution_count": 389,
     "metadata": {},
     "output_type": "execute_result"
    }
   ],
   "source": [
    "lm.predict(to_predict)"
   ]
  },
  {
   "cell_type": "markdown",
   "id": "c66c6107",
   "metadata": {},
   "source": [
    "### POLYNOMIAL LINEAR REGRESSION PREDICTIONS"
   ]
  },
  {
   "cell_type": "code",
   "execution_count": 390,
   "id": "7343d52e",
   "metadata": {},
   "outputs": [
    {
     "data": {
      "text/plain": [
       "array([196528.16459152])"
      ]
     },
     "execution_count": 390,
     "metadata": {},
     "output_type": "execute_result"
    }
   ],
   "source": [
    "lm_2.predict(poly_reg.fit_transform(to_predict))"
   ]
  },
  {
   "cell_type": "markdown",
   "id": "d4339ff2",
   "metadata": {},
   "source": [
    "### POLYNOMIAL REGRESSION PREDICTIONS"
   ]
  },
  {
   "cell_type": "code",
   "execution_count": 398,
   "id": "f92ece79",
   "metadata": {},
   "outputs": [
    {
     "data": {
      "text/plain": [
       "array([160454.59685745])"
      ]
     },
     "execution_count": 398,
     "metadata": {},
     "output_type": "execute_result"
    }
   ],
   "source": [
    "lm_3.predict(poly_reg2.fit_transform(to_predict))"
   ]
  }
 ],
 "metadata": {
  "kernelspec": {
   "display_name": "Python 3 (ipykernel)",
   "language": "python",
   "name": "python3"
  },
  "language_info": {
   "codemirror_mode": {
    "name": "ipython",
    "version": 3
   },
   "file_extension": ".py",
   "mimetype": "text/x-python",
   "name": "python",
   "nbconvert_exporter": "python",
   "pygments_lexer": "ipython3",
   "version": "3.8.10"
  }
 },
 "nbformat": 4,
 "nbformat_minor": 5
}
