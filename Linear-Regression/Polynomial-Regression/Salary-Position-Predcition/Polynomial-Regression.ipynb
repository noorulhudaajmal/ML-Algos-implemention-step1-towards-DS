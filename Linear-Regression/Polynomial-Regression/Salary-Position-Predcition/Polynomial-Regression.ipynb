{
 "cells": [
  {
   "cell_type": "markdown",
   "id": "e38ebdf8",
   "metadata": {},
   "source": [
    "# IMPORTING LIBRARIES "
   ]
  },
  {
   "cell_type": "code",
   "execution_count": 33,
   "id": "b1d357d7",
   "metadata": {},
   "outputs": [],
   "source": [
    "import pandas as pd\n",
    "import seaborn as sns\n",
    "import numpy as np\n",
    "import matplotlib.pyplot as plt\n",
    "%matplotlib inline"
   ]
  },
  {
   "cell_type": "markdown",
   "id": "21956110",
   "metadata": {},
   "source": [
    "## IMPORTING DATASET "
   ]
  },
  {
   "cell_type": "code",
   "execution_count": 34,
   "id": "37a2245f",
   "metadata": {},
   "outputs": [],
   "source": [
    "data = pd.read_csv(\"Position_Salaries.csv\")"
   ]
  },
  {
   "cell_type": "markdown",
   "id": "6ad81ee5",
   "metadata": {},
   "source": [
    "## DATA LOOK-UP"
   ]
  },
  {
   "cell_type": "code",
   "execution_count": 35,
   "id": "209af5ad",
   "metadata": {},
   "outputs": [
    {
     "data": {
      "text/html": [
       "<div>\n",
       "<style scoped>\n",
       "    .dataframe tbody tr th:only-of-type {\n",
       "        vertical-align: middle;\n",
       "    }\n",
       "\n",
       "    .dataframe tbody tr th {\n",
       "        vertical-align: top;\n",
       "    }\n",
       "\n",
       "    .dataframe thead th {\n",
       "        text-align: right;\n",
       "    }\n",
       "</style>\n",
       "<table border=\"1\" class=\"dataframe\">\n",
       "  <thead>\n",
       "    <tr style=\"text-align: right;\">\n",
       "      <th></th>\n",
       "      <th>Position</th>\n",
       "      <th>Level</th>\n",
       "      <th>Salary</th>\n",
       "    </tr>\n",
       "  </thead>\n",
       "  <tbody>\n",
       "    <tr>\n",
       "      <th>0</th>\n",
       "      <td>Business Analyst</td>\n",
       "      <td>1</td>\n",
       "      <td>45000</td>\n",
       "    </tr>\n",
       "    <tr>\n",
       "      <th>1</th>\n",
       "      <td>Junior Consultant</td>\n",
       "      <td>2</td>\n",
       "      <td>50000</td>\n",
       "    </tr>\n",
       "    <tr>\n",
       "      <th>2</th>\n",
       "      <td>Senior Consultant</td>\n",
       "      <td>3</td>\n",
       "      <td>60000</td>\n",
       "    </tr>\n",
       "    <tr>\n",
       "      <th>3</th>\n",
       "      <td>Manager</td>\n",
       "      <td>4</td>\n",
       "      <td>80000</td>\n",
       "    </tr>\n",
       "    <tr>\n",
       "      <th>4</th>\n",
       "      <td>Country Manager</td>\n",
       "      <td>5</td>\n",
       "      <td>110000</td>\n",
       "    </tr>\n",
       "  </tbody>\n",
       "</table>\n",
       "</div>"
      ],
      "text/plain": [
       "            Position  Level  Salary\n",
       "0   Business Analyst      1   45000\n",
       "1  Junior Consultant      2   50000\n",
       "2  Senior Consultant      3   60000\n",
       "3            Manager      4   80000\n",
       "4    Country Manager      5  110000"
      ]
     },
     "execution_count": 35,
     "metadata": {},
     "output_type": "execute_result"
    }
   ],
   "source": [
    "data.head()"
   ]
  },
  {
   "cell_type": "code",
   "execution_count": 36,
   "id": "5acccb71",
   "metadata": {},
   "outputs": [
    {
     "name": "stdout",
     "output_type": "stream",
     "text": [
      "<class 'pandas.core.frame.DataFrame'>\n",
      "RangeIndex: 10 entries, 0 to 9\n",
      "Data columns (total 3 columns):\n",
      " #   Column    Non-Null Count  Dtype \n",
      "---  ------    --------------  ----- \n",
      " 0   Position  10 non-null     object\n",
      " 1   Level     10 non-null     int64 \n",
      " 2   Salary    10 non-null     int64 \n",
      "dtypes: int64(2), object(1)\n",
      "memory usage: 368.0+ bytes\n"
     ]
    }
   ],
   "source": [
    "data.info()"
   ]
  },
  {
   "cell_type": "code",
   "execution_count": 37,
   "id": "8705e29b",
   "metadata": {},
   "outputs": [
    {
     "data": {
      "text/plain": [
       "<seaborn.axisgrid.PairGrid at 0x7f9ab8545c70>"
      ]
     },
     "execution_count": 37,
     "metadata": {},
     "output_type": "execute_result"
    },
    {
     "data": {
      "image/png": "[encoded data removed]",
      "text/plain": [
       "<Figure size 360x360 with 6 Axes>"
      ]
     },
     "metadata": {
      "needs_background": "light"
     },
     "output_type": "display_data"
    }
   ],
   "source": [
    "sns.pairplot(data)"
   ]
  },
  {
   "cell_type": "markdown",
   "id": "5bf6aa5b",
   "metadata": {},
   "source": [
    "# SIMPLE LINEAR REGRESSION:"
   ]
  },
  {
   "cell_type": "code",
   "execution_count": 38,
   "id": "7a02cbab",
   "metadata": {},
   "outputs": [],
   "source": [
    "X = data[[\"Level\"]]"
   ]
  },
  {
   "cell_type": "code",
   "execution_count": 39,
   "id": "84cc5fa3",
   "metadata": {},
   "outputs": [],
   "source": [
    "y = data[[\"Salary\"]]"
   ]
  },
  {
   "cell_type": "markdown",
   "id": "c14279f2",
   "metadata": {},
   "source": [
    "### TEST TRAIN SPLIT:"
   ]
  },
  {
   "cell_type": "code",
   "execution_count": 40,
   "id": "ce3b1b5f",
   "metadata": {},
   "outputs": [],
   "source": [
    "from sklearn.model_selection import train_test_split"
   ]
  },
  {
   "cell_type": "code",
   "execution_count": 41,
   "id": "f982c34d",
   "metadata": {},
   "outputs": [],
   "source": [
    "X_train,X_test,y_train,y_test = train_test_split(X,y,train_size=0.8,random_state=0)"
   ]
  },
  {
   "cell_type": "markdown",
   "id": "0afaf1bb",
   "metadata": {},
   "source": [
    "### TRAINING LINEAR REGRESSION MODEL"
   ]
  },
  {
   "cell_type": "code",
   "execution_count": 42,
   "id": "529b790f",
   "metadata": {},
   "outputs": [],
   "source": [
    "from sklearn.linear_model import LinearRegression"
   ]
  },
  {
   "cell_type": "code",
   "execution_count": 43,
   "id": "b7008317",
   "metadata": {},
   "outputs": [],
   "source": [
    "lm = LinearRegression()"
   ]
  },
  {
   "cell_type": "code",
   "execution_count": 44,
   "id": "0b156f32",
   "metadata": {},
   "outputs": [
    {
     "data": {
      "text/plain": [
       "LinearRegression()"
      ]
     },
     "execution_count": 44,
     "metadata": {},
     "output_type": "execute_result"
    }
   ],
   "source": [
    "lm.fit(X_train,y_train)"
   ]
  },
  {
   "cell_type": "markdown",
   "id": "c72b231c",
   "metadata": {},
   "source": [
    "### EVALUATION TRAINED MODEL"
   ]
  },
  {
   "cell_type": "code",
   "execution_count": 45,
   "id": "de072a53",
   "metadata": {},
   "outputs": [],
   "source": [
    "predictions = lm.predict(X_test)"
   ]
  },
  {
   "cell_type": "code",
   "execution_count": 46,
   "id": "10e8edfa",
   "metadata": {},
   "outputs": [
    {
     "data": {
      "text/plain": [
       "array([[ 44275.9295499 ],\n",
       "       [543473.58121331]])"
      ]
     },
     "execution_count": 46,
     "metadata": {},
     "output_type": "execute_result"
    }
   ],
   "source": [
    "predictions"
   ]
  },
  {
   "cell_type": "code",
   "execution_count": 47,
   "id": "7418bfe0",
   "metadata": {},
   "outputs": [
    {
     "data": {
      "text/plain": [
       "<AxesSubplot:ylabel='Count'>"
      ]
     },
     "execution_count": 47,
     "metadata": {},
     "output_type": "execute_result"
    },
    {
     "data": {
      "image/png": "[encoded data removed]",
      "text/plain": [
       "<Figure size 432x288 with 1 Axes>"
      ]
     },
     "metadata": {
      "needs_background": "light"
     },
     "output_type": "display_data"
    }
   ],
   "source": [
    "sns.histplot((y_test-predictions) , kde=True)"
   ]
  },
  {
   "cell_type": "code",
   "execution_count": 48,
   "id": "ccd11af2",
   "metadata": {},
   "outputs": [],
   "source": [
    "from sklearn import metrics"
   ]
  },
  {
   "cell_type": "code",
   "execution_count": 49,
   "id": "1ac91b0a",
   "metadata": {},
   "outputs": [
    {
     "data": {
      "text/plain": [
       "29598.82583170262"
      ]
     },
     "execution_count": 49,
     "metadata": {},
     "output_type": "execute_result"
    }
   ],
   "source": [
    "metrics.mean_absolute_error(y_test,predictions)"
   ]
  },
  {
   "cell_type": "code",
   "execution_count": 50,
   "id": "15d63125",
   "metadata": {},
   "outputs": [
    {
     "data": {
      "text/plain": [
       "1068599327.5148352"
      ]
     },
     "execution_count": 50,
     "metadata": {},
     "output_type": "execute_result"
    }
   ],
   "source": [
    "metrics.mean_squared_error(y_test,predictions)"
   ]
  },
  {
   "cell_type": "markdown",
   "id": "6a746836",
   "metadata": {},
   "source": [
    "## POLYNOMIAL LINEAR REGRESSION"
   ]
  },
  {
   "cell_type": "code",
   "execution_count": 51,
   "id": "cdae1997",
   "metadata": {},
   "outputs": [],
   "source": [
    "from sklearn.preprocessing import PolynomialFeatures"
   ]
  },
  {
   "cell_type": "markdown",
   "id": "a5559da9",
   "metadata": {},
   "source": [
    "### TRAINING MODEL"
   ]
  },
  {
   "cell_type": "code",
   "execution_count": 57,
   "id": "e1a48614",
   "metadata": {},
   "outputs": [],
   "source": [
    "poly_reg = PolynomialFeatures(degree=2)"
   ]
  },
  {
   "cell_type": "code",
   "execution_count": 58,
   "id": "dee9841c",
   "metadata": {},
   "outputs": [],
   "source": [
    "X_poly_2 = poly_reg.fit_transform(X)"
   ]
  },
  {
   "cell_type": "code",
   "execution_count": 59,
   "id": "0eaf86d1",
   "metadata": {},
   "outputs": [],
   "source": [
    "A_train , A_test , a_train , a_test = train_test_split(X_poly_2 ,y , train_size=0.8, random_state=0)"
   ]
  },
  {
   "cell_type": "code",
   "execution_count": 61,
   "id": "e279c622",
   "metadata": {},
   "outputs": [
    {
     "data": {
      "text/plain": [
       "LinearRegression()"
      ]
     },
     "execution_count": 61,
     "metadata": {},
     "output_type": "execute_result"
    }
   ],
   "source": [
    "lm_2 = LinearRegression()\n",
    "lm_2.fit(A_train,a_train)"
   ]
  },
  {
   "cell_type": "markdown",
   "id": "c183cbfb",
   "metadata": {},
   "source": [
    "### EVALUATING MODEL "
   ]
  },
  {
   "cell_type": "code",
   "execution_count": 62,
   "id": "53c6ab43",
   "metadata": {},
   "outputs": [
    {
     "data": {
      "text/plain": [
       "<AxesSubplot:ylabel='Count'>"
      ]
     },
     "execution_count": 62,
     "metadata": {},
     "output_type": "execute_result"
    },
    {
     "data": {
      "image/png": "[encoded data removed]",
      "text/plain": [
       "<Figure size 432x288 with 1 Axes>"
      ]
     },
     "metadata": {
      "needs_background": "light"
     },
     "output_type": "display_data"
    }
   ],
   "source": [
    "sns.histplot(a_test - lm_2.predict(A_test) , kde=True)"
   ]
  },
  {
   "cell_type": "code",
   "execution_count": 63,
   "id": "c7a0f099",
   "metadata": {},
   "outputs": [
    {
     "data": {
      "text/plain": [
       "14254734714.32907"
      ]
     },
     "execution_count": 63,
     "metadata": {},
     "output_type": "execute_result"
    }
   ],
   "source": [
    "metrics.mean_squared_error(a_test,lm_2.predict(A_test))"
   ]
  },
  {
   "cell_type": "code",
   "execution_count": 64,
   "id": "036b487c",
   "metadata": {},
   "outputs": [
    {
     "data": {
      "text/plain": [
       "111037.84403669718"
      ]
     },
     "execution_count": 64,
     "metadata": {},
     "output_type": "execute_result"
    }
   ],
   "source": [
    "metrics.mean_absolute_error(a_test,lm_2.predict(A_test))"
   ]
  },
  {
   "cell_type": "markdown",
   "id": "9bbf8df8",
   "metadata": {},
   "source": [
    "# RESULT COMPARISON "
   ]
  },
  {
   "cell_type": "code",
   "execution_count": 65,
   "id": "06b241af",
   "metadata": {},
   "outputs": [
    {
     "data": {
      "text/plain": [
       "Text(0.5, 1.0, 'Fitting Simple Linear Regression')"
      ]
     },
     "execution_count": 65,
     "metadata": {},
     "output_type": "execute_result"
    },
    {
     "data": {
      "image/png": "[encoded data removed]",
      "text/plain": [
       "<Figure size 432x288 with 1 Axes>"
      ]
     },
     "metadata": {
      "needs_background": "light"
     },
     "output_type": "display_data"
    }
   ],
   "source": [
    "plt.scatter(X,y)\n",
    "plt.plot(X.values , lm.predict(X) , color = \"red\")\n",
    "plt.xlabel(\"Level\")\n",
    "plt.ylabel(\"Salary\")\n",
    "plt.title(\"Fitting Simple Linear Regression\")"
   ]
  },
  {
   "cell_type": "code",
   "execution_count": 66,
   "id": "5f9ccc39",
   "metadata": {},
   "outputs": [
    {
     "data": {
      "text/plain": [
       "Text(0, 0.5, 'Salary')"
      ]
     },
     "execution_count": 66,
     "metadata": {},
     "output_type": "execute_result"
    },
    {
     "data": {
      "image/png": "[encoded data removed]",
      "text/plain": [
       "<Figure size 432x288 with 1 Axes>"
      ]
     },
     "metadata": {
      "needs_background": "light"
     },
     "output_type": "display_data"
    }
   ],
   "source": [
    "plt.scatter(X,y)\n",
    "plt.plot(X.values , lm_2.predict(poly_reg.fit_transform(X)) , color = \"green\")\n",
    "plt.title(\"Simple Polynomial Regression\")\n",
    "plt.xlabel(\"Level\")\n",
    "plt.ylabel(\"Salary\")"
   ]
  },
  {
   "cell_type": "markdown",
   "id": "3b8a1c63",
   "metadata": {},
   "source": [
    "# Polynomial Regression:"
   ]
  },
  {
   "cell_type": "markdown",
   "id": "b6dd5004",
   "metadata": {},
   "source": [
    "### PRE-PROCESSING"
   ]
  },
  {
   "cell_type": "code",
   "execution_count": 67,
   "id": "4c1063ad",
   "metadata": {},
   "outputs": [],
   "source": [
    "poly_reg2 = PolynomialFeatures(degree=4)"
   ]
  },
  {
   "cell_type": "code",
   "execution_count": 68,
   "id": "1e854ecd",
   "metadata": {},
   "outputs": [],
   "source": [
    "X_poly_4 = poly_reg2.fit_transform(X)"
   ]
  },
  {
   "cell_type": "code",
   "execution_count": 69,
   "id": "b7e2f810",
   "metadata": {},
   "outputs": [],
   "source": [
    "B_train,B_test,b_train,b_test = train_test_split(X_poly_4,y, train_size=0.8,random_state=0)"
   ]
  },
  {
   "cell_type": "markdown",
   "id": "33bf6271",
   "metadata": {},
   "source": [
    "### TRAINING:"
   ]
  },
  {
   "cell_type": "code",
   "execution_count": 70,
   "id": "66876661",
   "metadata": {},
   "outputs": [
    {
     "data": {
      "text/plain": [
       "LinearRegression()"
      ]
     },
     "execution_count": 70,
     "metadata": {},
     "output_type": "execute_result"
    }
   ],
   "source": [
    "lm_3 = LinearRegression()\n",
    "lm_3.fit(B_train,b_train)"
   ]
  },
  {
   "cell_type": "markdown",
   "id": "7b934d25",
   "metadata": {},
   "source": [
    "### EVALUATION:"
   ]
  },
  {
   "cell_type": "code",
   "execution_count": 71,
   "id": "ba84b7b7",
   "metadata": {},
   "outputs": [],
   "source": [
    "preds = lm_3.predict(B_test)"
   ]
  },
  {
   "cell_type": "code",
   "execution_count": 72,
   "id": "25353a38",
   "metadata": {},
   "outputs": [
    {
     "data": {
      "text/html": [
       "<div>\n",
       "<style scoped>\n",
       "    .dataframe tbody tr th:only-of-type {\n",
       "        vertical-align: middle;\n",
       "    }\n",
       "\n",
       "    .dataframe tbody tr th {\n",
       "        vertical-align: top;\n",
       "    }\n",
       "\n",
       "    .dataframe thead th {\n",
       "        text-align: right;\n",
       "    }\n",
       "</style>\n",
       "<table border=\"1\" class=\"dataframe\">\n",
       "  <thead>\n",
       "    <tr style=\"text-align: right;\">\n",
       "      <th></th>\n",
       "      <th>Salary</th>\n",
       "    </tr>\n",
       "  </thead>\n",
       "  <tbody>\n",
       "    <tr>\n",
       "      <th>2</th>\n",
       "      <td>-2618.489842</td>\n",
       "    </tr>\n",
       "    <tr>\n",
       "      <th>8</th>\n",
       "      <td>-54488.616835</td>\n",
       "    </tr>\n",
       "  </tbody>\n",
       "</table>\n",
       "</div>"
      ],
      "text/plain": [
       "         Salary\n",
       "2  -2618.489842\n",
       "8 -54488.616835"
      ]
     },
     "execution_count": 72,
     "metadata": {},
     "output_type": "execute_result"
    }
   ],
   "source": [
    "b_test - lm_3.predict(B_test)"
   ]
  },
  {
   "cell_type": "code",
   "execution_count": 73,
   "id": "26a7c687",
   "metadata": {},
   "outputs": [
    {
     "data": {
      "text/plain": [
       "<AxesSubplot:ylabel='Count'>"
      ]
     },
     "execution_count": 73,
     "metadata": {},
     "output_type": "execute_result"
    },
    {
     "data": {
      "image/png": "[encoded data removed]",
      "text/plain": [
       "<Figure size 432x288 with 1 Axes>"
      ]
     },
     "metadata": {
      "needs_background": "light"
     },
     "output_type": "display_data"
    }
   ],
   "source": [
    "sns.histplot((b_test-preds),kde = True)"
   ]
  },
  {
   "cell_type": "code",
   "execution_count": 74,
   "id": "1207afbd",
   "metadata": {},
   "outputs": [
    {
     "data": {
      "text/plain": [
       "Text(0, 0.5, 'Salary')"
      ]
     },
     "execution_count": 74,
     "metadata": {},
     "output_type": "execute_result"
    },
    {
     "data": {
      "image/png": "[encoded data removed]",
      "text/plain": [
       "<Figure size 432x288 with 1 Axes>"
      ]
     },
     "metadata": {
      "needs_background": "light"
     },
     "output_type": "display_data"
    }
   ],
   "source": [
    "X_grid = np.arange(min(X.values) , max(X.values) , 0.1)\n",
    "X_grid = X_grid.reshape((len(X_grid) , 1))\n",
    "plt.scatter(X,y)\n",
    "plt.plot(X_grid , lm_3.predict(poly_reg2.fit_transform(X_grid)) , color = \"black\")\n",
    "plt.title(\"Polynomial Regression\")\n",
    "plt.xlabel(\"Level\")\n",
    "plt.ylabel(\"Salary\")"
   ]
  },
  {
   "cell_type": "code",
   "execution_count": 75,
   "id": "56da733c",
   "metadata": {},
   "outputs": [
    {
     "data": {
      "text/plain": [
       "28553.553338500744"
      ]
     },
     "execution_count": 75,
     "metadata": {},
     "output_type": "execute_result"
    }
   ],
   "source": [
    "metrics.mean_absolute_error(b_test,preds)"
   ]
  },
  {
   "cell_type": "code",
   "execution_count": 76,
   "id": "952756c9",
   "metadata": {},
   "outputs": [
    {
     "data": {
      "text/plain": [
       "1487932926.7969952"
      ]
     },
     "execution_count": 76,
     "metadata": {},
     "output_type": "execute_result"
    }
   ],
   "source": [
    "metrics.mean_squared_error(b_test,preds)"
   ]
  },
  {
   "cell_type": "markdown",
   "id": "77ee019f",
   "metadata": {},
   "source": [
    "# PREDICTING NEW VALUES:"
   ]
  },
  {
   "cell_type": "code",
   "execution_count": 77,
   "id": "fcd5602d",
   "metadata": {},
   "outputs": [],
   "source": [
    "to_predict = pd.DataFrame(data=[6.5] , columns = [\"Level\"])"
   ]
  },
  {
   "cell_type": "code",
   "execution_count": 78,
   "id": "00f43413",
   "metadata": {},
   "outputs": [
    {
     "data": {
      "text/html": [
       "<div>\n",
       "<style scoped>\n",
       "    .dataframe tbody tr th:only-of-type {\n",
       "        vertical-align: middle;\n",
       "    }\n",
       "\n",
       "    .dataframe tbody tr th {\n",
       "        vertical-align: top;\n",
       "    }\n",
       "\n",
       "    .dataframe thead th {\n",
       "        text-align: right;\n",
       "    }\n",
       "</style>\n",
       "<table border=\"1\" class=\"dataframe\">\n",
       "  <thead>\n",
       "    <tr style=\"text-align: right;\">\n",
       "      <th></th>\n",
       "      <th>Level</th>\n",
       "    </tr>\n",
       "  </thead>\n",
       "  <tbody>\n",
       "    <tr>\n",
       "      <th>0</th>\n",
       "      <td>6.5</td>\n",
       "    </tr>\n",
       "  </tbody>\n",
       "</table>\n",
       "</div>"
      ],
      "text/plain": [
       "   Level\n",
       "0    6.5"
      ]
     },
     "execution_count": 78,
     "metadata": {},
     "output_type": "execute_result"
    }
   ],
   "source": [
    "to_predict"
   ]
  },
  {
   "cell_type": "markdown",
   "id": "65171eef",
   "metadata": {},
   "source": [
    "### LINEAR REGRESSION PREDICTIONS"
   ]
  },
  {
   "cell_type": "code",
   "execution_count": 79,
   "id": "38a632dd",
   "metadata": {},
   "outputs": [
    {
     "data": {
      "text/plain": [
       "array([[335474.55968689]])"
      ]
     },
     "execution_count": 79,
     "metadata": {},
     "output_type": "execute_result"
    }
   ],
   "source": [
    "lm.predict(to_predict)"
   ]
  },
  {
   "cell_type": "markdown",
   "id": "c66c6107",
   "metadata": {},
   "source": [
    "### POLYNOMIAL LINEAR REGRESSION PREDICTIONS"
   ]
  },
  {
   "cell_type": "code",
   "execution_count": 80,
   "id": "7343d52e",
   "metadata": {},
   "outputs": [
    {
     "data": {
      "text/plain": [
       "array([[196528.16459152]])"
      ]
     },
     "execution_count": 80,
     "metadata": {},
     "output_type": "execute_result"
    }
   ],
   "source": [
    "lm_2.predict(poly_reg.fit_transform(to_predict))"
   ]
  },
  {
   "cell_type": "markdown",
   "id": "d4339ff2",
   "metadata": {},
   "source": [
    "### POLYNOMIAL REGRESSION PREDICTIONS"
   ]
  },
  {
   "cell_type": "code",
   "execution_count": 81,
   "id": "f92ece79",
   "metadata": {},
   "outputs": [
    {
     "data": {
      "text/plain": [
       "array([[160454.59685745]])"
      ]
     },
     "execution_count": 81,
     "metadata": {},
     "output_type": "execute_result"
    }
   ],
   "source": [
    "lm_3.predict(poly_reg2.fit_transform(to_predict))"
   ]
  },
  {
   "cell_type": "markdown",
   "id": "fe3b26ff",
   "metadata": {},
   "source": [
    "# EVALUATION:"
   ]
  },
  {
   "cell_type": "code",
   "execution_count": 107,
   "id": "ca595965",
   "metadata": {},
   "outputs": [],
   "source": [
    "values = pd.DataFrame(data= [1,3,5,7,9] , columns = [\"Level\"])\n",
    "out = pd.DataFrame(data= [45000,60000,110000,200000,500000] , columns = [\"Salary\"])"
   ]
  },
  {
   "cell_type": "code",
   "execution_count": 108,
   "id": "85b221e2",
   "metadata": {},
   "outputs": [],
   "source": [
    "lm_pred = pd.DataFrame(data = lm.predict(values) , columns = [\"Level\"])"
   ]
  },
  {
   "cell_type": "code",
   "execution_count": 111,
   "id": "9e75acd2",
   "metadata": {},
   "outputs": [],
   "source": [
    "lm_2_pred = pd.DataFrame(data = lm_2.predict(poly_reg.fit_transform(values)) , columns = [\"Level\"])"
   ]
  },
  {
   "cell_type": "code",
   "execution_count": 110,
   "id": "9e00cce0",
   "metadata": {},
   "outputs": [],
   "source": [
    "lm_3_pred = pd.DataFrame(data = lm_3.predict(poly_reg2.fit_transform(values)) , columns = [\"Level\"])"
   ]
  },
  {
   "cell_type": "code",
   "execution_count": 122,
   "id": "77af360c",
   "metadata": {},
   "outputs": [
    {
     "data": {
      "text/plain": [
       "<matplotlib.legend.Legend at 0x7f9aaeda6bb0>"
      ]
     },
     "execution_count": 122,
     "metadata": {},
     "output_type": "execute_result"
    },
    {
     "data": {
      "image/png": "[encoded data removed]",
      "text/plain": [
       "<Figure size 432x288 with 1 Axes>"
      ]
     },
     "metadata": {
      "needs_background": "light"
     },
     "output_type": "display_data"
    }
   ],
   "source": [
    "plt.scatter(values,out , color = \"black\")\n",
    "values_grid = np.arange(min(values.values) , max(values.values) , 0.1)\n",
    "values_grid = values_grid.reshape((len(values_grid) , 1))\n",
    "plt.plot(values.values,lm_pred.values , color =\"red\" , label = \"Linear Regression\")\n",
    "plt.plot(values_grid,lm_2.predict(poly_reg.fit_transform(values_grid)) , color = \"blue\" , label = \"Polynomial Linear Regression\")\n",
    "plt.plot(values_grid,lm_3.predict(poly_reg2.fit_transform(values_grid)) , color = \"green\" , label = \"Polynomial Multiple Regression\")\n",
    "plt.legend()"
   ]
  },
  {
   "cell_type": "code",
   "execution_count": null,
   "id": "4eae4407",
   "metadata": {},
   "outputs": [],
   "source": []
  }
 ],
 "metadata": {
  "kernelspec": {
   "display_name": "Python 3 (ipykernel)",
   "language": "python",
   "name": "python3"
  },
  "language_info": {
   "codemirror_mode": {
    "name": "ipython",
    "version": 3
   },
   "file_extension": ".py",
   "mimetype": "text/x-python",
   "name": "python",
   "nbconvert_exporter": "python",
   "pygments_lexer": "ipython3",
   "version": "3.8.10"
  }
 },
 "nbformat": 4,
 "nbformat_minor": 5
}
