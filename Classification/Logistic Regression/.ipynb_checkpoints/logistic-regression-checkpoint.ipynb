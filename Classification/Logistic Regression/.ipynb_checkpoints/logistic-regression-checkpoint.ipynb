{
 "cells": [
  {
   "cell_type": "markdown",
   "id": "d99f8bc8",
   "metadata": {},
   "source": [
    "# IMPORTING LIBRARIES "
   ]
  },
  {
   "cell_type": "code",
   "execution_count": 1,
   "id": "6d07e9ef",
   "metadata": {},
   "outputs": [],
   "source": [
    "import numpy as np\n",
    "import pandas as pd\n",
    "import matplotlib.pyplot as plt\n",
    "%matplotlib inline"
   ]
  },
  {
   "cell_type": "markdown",
   "id": "f31210d7",
   "metadata": {},
   "source": [
    "# IMPORTING DATASET "
   ]
  },
  {
   "cell_type": "code",
   "execution_count": 2,
   "id": "a9366f8d",
   "metadata": {},
   "outputs": [],
   "source": [
    "df = pd.read_csv(\"Social_Network_Ads.csv\")"
   ]
  },
  {
   "cell_type": "code",
   "execution_count": 3,
   "id": "59b298f2",
   "metadata": {},
   "outputs": [
    {
     "data": {
      "text/html": [
       "<div>\n",
       "<style scoped>\n",
       "    .dataframe tbody tr th:only-of-type {\n",
       "        vertical-align: middle;\n",
       "    }\n",
       "\n",
       "    .dataframe tbody tr th {\n",
       "        vertical-align: top;\n",
       "    }\n",
       "\n",
       "    .dataframe thead th {\n",
       "        text-align: right;\n",
       "    }\n",
       "</style>\n",
       "<table border=\"1\" class=\"dataframe\">\n",
       "  <thead>\n",
       "    <tr style=\"text-align: right;\">\n",
       "      <th></th>\n",
       "      <th>Age</th>\n",
       "      <th>EstimatedSalary</th>\n",
       "      <th>Purchased</th>\n",
       "    </tr>\n",
       "  </thead>\n",
       "  <tbody>\n",
       "    <tr>\n",
       "      <th>0</th>\n",
       "      <td>19</td>\n",
       "      <td>19000</td>\n",
       "      <td>0</td>\n",
       "    </tr>\n",
       "    <tr>\n",
       "      <th>1</th>\n",
       "      <td>35</td>\n",
       "      <td>20000</td>\n",
       "      <td>0</td>\n",
       "    </tr>\n",
       "  </tbody>\n",
       "</table>\n",
       "</div>"
      ],
      "text/plain": [
       "   Age  EstimatedSalary  Purchased\n",
       "0   19            19000          0\n",
       "1   35            20000          0"
      ]
     },
     "execution_count": 3,
     "metadata": {},
     "output_type": "execute_result"
    }
   ],
   "source": [
    "df.head(2)"
   ]
  },
  {
   "cell_type": "code",
   "execution_count": 4,
   "id": "00902249",
   "metadata": {},
   "outputs": [],
   "source": [
    "X = df.iloc[:,0:-1].values"
   ]
  },
  {
   "cell_type": "code",
   "execution_count": 5,
   "id": "3b28092c",
   "metadata": {},
   "outputs": [],
   "source": [
    "y = df.iloc[:,-1].values"
   ]
  },
  {
   "cell_type": "markdown",
   "id": "4bed7ce5",
   "metadata": {},
   "source": [
    "# SPLITTING INTO TEST AND TRAIN SET "
   ]
  },
  {
   "cell_type": "code",
   "execution_count": 6,
   "id": "b8d78c6c",
   "metadata": {},
   "outputs": [],
   "source": [
    "from sklearn.model_selection import train_test_split"
   ]
  },
  {
   "cell_type": "code",
   "execution_count": 7,
   "id": "e808af7f",
   "metadata": {},
   "outputs": [],
   "source": [
    "X_train,X_test,y_train,y_test = train_test_split(X, y, train_size=0.8 , random_state= 0  )"
   ]
  },
  {
   "cell_type": "markdown",
   "id": "5f6a7e42",
   "metadata": {},
   "source": [
    "# FEATURE SCALING"
   ]
  },
  {
   "cell_type": "code",
   "execution_count": 8,
   "id": "873b3cb3",
   "metadata": {},
   "outputs": [],
   "source": [
    "from sklearn.preprocessing import StandardScaler"
   ]
  },
  {
   "cell_type": "code",
   "execution_count": 9,
   "id": "f96a8d3c",
   "metadata": {},
   "outputs": [],
   "source": [
    "sc = StandardScaler()"
   ]
  },
  {
   "cell_type": "code",
   "execution_count": 10,
   "id": "40b735ed",
   "metadata": {},
   "outputs": [],
   "source": [
    "X_train = sc.fit_transform(X_train)"
   ]
  },
  {
   "cell_type": "code",
   "execution_count": 11,
   "id": "0d63da15",
   "metadata": {},
   "outputs": [],
   "source": [
    "X_test = sc.transform(X_test)"
   ]
  },
  {
   "cell_type": "markdown",
   "id": "f9e15da7",
   "metadata": {},
   "source": [
    "# TRAINING LOGISTIC REGRESSION MODEL "
   ]
  },
  {
   "cell_type": "code",
   "execution_count": 12,
   "id": "69ee3203",
   "metadata": {},
   "outputs": [],
   "source": [
    "from sklearn.linear_model import LogisticRegression"
   ]
  },
  {
   "cell_type": "code",
   "execution_count": 13,
   "id": "b683a2e4",
   "metadata": {},
   "outputs": [],
   "source": [
    "classifier = LogisticRegression(random_state=0)"
   ]
  },
  {
   "cell_type": "code",
   "execution_count": 14,
   "id": "e576eb93",
   "metadata": {},
   "outputs": [
    {
     "data": {
      "text/plain": [
       "LogisticRegression(random_state=0)"
      ]
     },
     "execution_count": 14,
     "metadata": {},
     "output_type": "execute_result"
    }
   ],
   "source": [
    "classifier.fit(X_train , y_train)"
   ]
  },
  {
   "cell_type": "markdown",
   "id": "6281cd04",
   "metadata": {},
   "source": [
    "# PREDICTING RESULT (TEST) "
   ]
  },
  {
   "cell_type": "code",
   "execution_count": 15,
   "id": "96752d5d",
   "metadata": {},
   "outputs": [],
   "source": [
    "pred0 = classifier.predict(sc.transform([[30,8700]]))"
   ]
  },
  {
   "cell_type": "code",
   "execution_count": 16,
   "id": "7766ec9c",
   "metadata": {},
   "outputs": [
    {
     "data": {
      "text/plain": [
       "array([0])"
      ]
     },
     "execution_count": 16,
     "metadata": {},
     "output_type": "execute_result"
    }
   ],
   "source": [
    "pred0"
   ]
  },
  {
   "cell_type": "markdown",
   "id": "50b81e3e",
   "metadata": {},
   "source": [
    "# MODEL EVALUATION "
   ]
  },
  {
   "cell_type": "code",
   "execution_count": 17,
   "id": "416e4da7",
   "metadata": {},
   "outputs": [],
   "source": [
    "preds = classifier.predict(X_test)"
   ]
  },
  {
   "cell_type": "markdown",
   "id": "81b23c7f",
   "metadata": {},
   "source": [
    "## CONFUSION MATRIX"
   ]
  },
  {
   "cell_type": "code",
   "execution_count": 18,
   "id": "f40f9945",
   "metadata": {},
   "outputs": [],
   "source": [
    "from sklearn.metrics import confusion_matrix"
   ]
  },
  {
   "cell_type": "code",
   "execution_count": 19,
   "id": "d44997c1",
   "metadata": {},
   "outputs": [],
   "source": [
    "cm = confusion_matrix(y_test,preds)"
   ]
  },
  {
   "cell_type": "code",
   "execution_count": 20,
   "id": "9a1b5d6c",
   "metadata": {},
   "outputs": [
    {
     "data": {
      "text/plain": [
       "array([[57,  1],\n",
       "       [ 5, 17]])"
      ]
     },
     "execution_count": 20,
     "metadata": {},
     "output_type": "execute_result"
    }
   ],
   "source": [
    "cm"
   ]
  },
  {
   "cell_type": "markdown",
   "id": "f9264c0a",
   "metadata": {},
   "source": [
    "## ACCURACY SCORE "
   ]
  },
  {
   "cell_type": "code",
   "execution_count": 21,
   "id": "fc7ec765",
   "metadata": {},
   "outputs": [],
   "source": [
    "from sklearn.metrics import accuracy_score"
   ]
  },
  {
   "cell_type": "code",
   "execution_count": 22,
   "id": "109e6dd6",
   "metadata": {},
   "outputs": [],
   "source": [
    "score = accuracy_score(y_test , preds)"
   ]
  },
  {
   "cell_type": "code",
   "execution_count": 23,
   "id": "41a3b01d",
   "metadata": {},
   "outputs": [
    {
     "data": {
      "text/plain": [
       "0.925"
      ]
     },
     "execution_count": 23,
     "metadata": {},
     "output_type": "execute_result"
    }
   ],
   "source": [
    "score"
   ]
  },
  {
   "cell_type": "markdown",
   "id": "9289038e",
   "metadata": {},
   "source": [
    "## OVER TRAINING SET"
   ]
  },
  {
   "cell_type": "code",
   "execution_count": 24,
   "id": "020ae2de",
   "metadata": {},
   "outputs": [],
   "source": [
    "from matplotlib.colors import ListedColormap"
   ]
  },
  {
   "cell_type": "code",
   "execution_count": 25,
   "id": "aef6d1e7",
   "metadata": {},
   "outputs": [],
   "source": [
    "X_set , y_set = sc.inverse_transform(X_train) , y_train"
   ]
  },
  {
   "cell_type": "code",
   "execution_count": 26,
   "id": "ecc1074b",
   "metadata": {},
   "outputs": [],
   "source": [
    "X1,X2 = np.meshgrid( np.arange( start = X_set[:,0].min()-10 , stop = X_set[:,0].max()+10 , step = 0.25) , \n",
    "                     np.arange( start = X_set[:,1].min()-100 , stop = X_set[:,1].max()+100 , step = 0.25) )"
   ]
  },
  {
   "cell_type": "code",
   "execution_count": 27,
   "id": "1b76880f",
   "metadata": {},
   "outputs": [],
   "source": [
    "X = np.array([X1.ravel() , X2.ravel()])"
   ]
  },
  {
   "cell_type": "code",
   "execution_count": 28,
   "id": "4bc1c2e8",
   "metadata": {},
   "outputs": [],
   "source": [
    "X = X.transpose()"
   ]
  },
  {
   "cell_type": "code",
   "execution_count": 29,
   "id": "4e29df0d",
   "metadata": {},
   "outputs": [
    {
     "data": {
      "text/plain": [
       "numpy.ndarray"
      ]
     },
     "execution_count": 29,
     "metadata": {},
     "output_type": "execute_result"
    }
   ],
   "source": [
    "type(X)"
   ]
  },
  {
   "cell_type": "code",
   "execution_count": null,
   "id": "2860531c",
   "metadata": {},
   "outputs": [],
   "source": [
    "predictions = classifier.predict(sc.transform(X))"
   ]
  },
  {
   "cell_type": "code",
   "execution_count": null,
   "id": "2663b6bf",
   "metadata": {},
   "outputs": [],
   "source": [
    "plt.contour(X1, X2 , c)"
   ]
  },
  {
   "cell_type": "markdown",
   "id": "5f888b98",
   "metadata": {},
   "source": [
    "## OVER TEST SET"
   ]
  },
  {
   "cell_type": "code",
   "execution_count": null,
   "id": "ad5f35ab",
   "metadata": {},
   "outputs": [],
   "source": []
  }
 ],
 "metadata": {
  "kernelspec": {
   "display_name": "Python 3 (ipykernel)",
   "language": "python",
   "name": "python3"
  },
  "language_info": {
   "codemirror_mode": {
    "name": "ipython",
    "version": 3
   },
   "file_extension": ".py",
   "mimetype": "text/x-python",
   "name": "python",
   "nbconvert_exporter": "python",
   "pygments_lexer": "ipython3",
   "version": "3.8.10"
  }
 },
 "nbformat": 4,
 "nbformat_minor": 5
}
