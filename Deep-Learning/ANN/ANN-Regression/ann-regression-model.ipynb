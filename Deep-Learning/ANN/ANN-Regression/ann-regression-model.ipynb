{
 "cells": [
  {
   "cell_type": "code",
   "execution_count": 2,
   "id": "015834eb",
   "metadata": {},
   "outputs": [
    {
     "name": "stderr",
     "output_type": "stream",
     "text": [
      "2022-06-23 11:54:48.633809: W tensorflow/stream_executor/platform/default/dso_loader.cc:64] Could not load dynamic library 'libcudart.so.11.0'; dlerror: libcudart.so.11.0: cannot open shared object file: No such file or directory\n",
      "2022-06-23 11:54:48.633857: I tensorflow/stream_executor/cuda/cudart_stub.cc:29] Ignore above cudart dlerror if you do not have a GPU set up on your machine.\n",
      "/usr/lib/python3/dist-packages/requests/__init__.py:89: RequestsDependencyWarning: urllib3 (1.26.9) or chardet (3.0.4) doesn't match a supported version!\n",
      "  warnings.warn(\"urllib3 ({}) or chardet ({}) doesn't match a supported \"\n"
     ]
    }
   ],
   "source": [
    "import pandas as pd\n",
    "import numpy as np\n",
    "import matplotlib.pyplot as plt\n",
    "import seaborn as sns\n",
    "import tensorflow as tf\n",
    "from tensorflow.keras.models import Sequential\n",
    "from tensorflow.keras.layers import Dense\n",
    "from sklearn.model_selection import train_test_split\n",
    "from sklearn.preprocessing import StandardScaler\n",
    "%matplotlib inline"
   ]
  },
  {
   "cell_type": "code",
   "execution_count": 3,
   "id": "239cef13",
   "metadata": {},
   "outputs": [],
   "source": [
    "data = pd.read_excel(\"Folds5x2_pp.xlsx\")"
   ]
  },
  {
   "cell_type": "code",
   "execution_count": 4,
   "id": "56ae8415",
   "metadata": {},
   "outputs": [
    {
     "data": {
      "text/html": [
       "<div>\n",
       "<style scoped>\n",
       "    .dataframe tbody tr th:only-of-type {\n",
       "        vertical-align: middle;\n",
       "    }\n",
       "\n",
       "    .dataframe tbody tr th {\n",
       "        vertical-align: top;\n",
       "    }\n",
       "\n",
       "    .dataframe thead th {\n",
       "        text-align: right;\n",
       "    }\n",
       "</style>\n",
       "<table border=\"1\" class=\"dataframe\">\n",
       "  <thead>\n",
       "    <tr style=\"text-align: right;\">\n",
       "      <th></th>\n",
       "      <th>AT</th>\n",
       "      <th>V</th>\n",
       "      <th>AP</th>\n",
       "      <th>RH</th>\n",
       "      <th>PE</th>\n",
       "    </tr>\n",
       "  </thead>\n",
       "  <tbody>\n",
       "    <tr>\n",
       "      <th>0</th>\n",
       "      <td>14.96</td>\n",
       "      <td>41.76</td>\n",
       "      <td>1024.07</td>\n",
       "      <td>73.17</td>\n",
       "      <td>463.26</td>\n",
       "    </tr>\n",
       "    <tr>\n",
       "      <th>1</th>\n",
       "      <td>25.18</td>\n",
       "      <td>62.96</td>\n",
       "      <td>1020.04</td>\n",
       "      <td>59.08</td>\n",
       "      <td>444.37</td>\n",
       "    </tr>\n",
       "  </tbody>\n",
       "</table>\n",
       "</div>"
      ],
      "text/plain": [
       "      AT      V       AP     RH      PE\n",
       "0  14.96  41.76  1024.07  73.17  463.26\n",
       "1  25.18  62.96  1020.04  59.08  444.37"
      ]
     },
     "execution_count": 4,
     "metadata": {},
     "output_type": "execute_result"
    }
   ],
   "source": [
    "data.head(2)"
   ]
  },
  {
   "cell_type": "code",
   "execution_count": 5,
   "id": "c0a3558e",
   "metadata": {},
   "outputs": [],
   "source": [
    "X = data.iloc[:,:-1].values\n",
    "y = data.iloc[:,-1].values"
   ]
  },
  {
   "cell_type": "code",
   "execution_count": 6,
   "id": "07635972",
   "metadata": {},
   "outputs": [],
   "source": [
    "X_train,X_test,y_train,y_test = train_test_split(X,y,train_size=0.8)"
   ]
  },
  {
   "cell_type": "code",
   "execution_count": 7,
   "id": "8b6a8f30",
   "metadata": {},
   "outputs": [],
   "source": [
    "sc = StandardScaler()"
   ]
  },
  {
   "cell_type": "code",
   "execution_count": 8,
   "id": "ab2968be",
   "metadata": {},
   "outputs": [],
   "source": [
    "X_train = sc.fit_transform(X_train)"
   ]
  },
  {
   "cell_type": "code",
   "execution_count": 9,
   "id": "79aa688c",
   "metadata": {},
   "outputs": [],
   "source": [
    "X_test = sc.transform(X_test)"
   ]
  },
  {
   "cell_type": "markdown",
   "id": "18ce3581",
   "metadata": {},
   "source": [
    "# ANN"
   ]
  },
  {
   "cell_type": "code",
   "execution_count": 10,
   "id": "eb095f8d",
   "metadata": {},
   "outputs": [
    {
     "name": "stderr",
     "output_type": "stream",
     "text": [
      "2022-06-23 11:54:52.765869: W tensorflow/stream_executor/platform/default/dso_loader.cc:64] Could not load dynamic library 'libcuda.so.1'; dlerror: libcuda.so.1: cannot open shared object file: No such file or directory\n",
      "2022-06-23 11:54:52.765904: W tensorflow/stream_executor/cuda/cuda_driver.cc:269] failed call to cuInit: UNKNOWN ERROR (303)\n",
      "2022-06-23 11:54:52.765932: I tensorflow/stream_executor/cuda/cuda_diagnostics.cc:156] kernel driver does not appear to be running on this host (huda): /proc/driver/nvidia/version does not exist\n",
      "2022-06-23 11:54:52.766989: I tensorflow/core/platform/cpu_feature_guard.cc:151] This TensorFlow binary is optimized with oneAPI Deep Neural Network Library (oneDNN) to use the following CPU instructions in performance-critical operations:  AVX2 FMA\n",
      "To enable them in other operations, rebuild TensorFlow with the appropriate compiler flags.\n"
     ]
    }
   ],
   "source": [
    "ann = Sequential()"
   ]
  },
  {
   "cell_type": "code",
   "execution_count": 11,
   "id": "c727884c",
   "metadata": {},
   "outputs": [],
   "source": [
    "ann.add(Dense(units = 6 , activation = \"relu\")) #input\n",
    "ann.add(Dense(units = 6 , activation = \"relu\")) #hidden\n",
    "ann.add(Dense(units = 1)) #output"
   ]
  },
  {
   "cell_type": "code",
   "execution_count": 12,
   "id": "ed3fc7c3",
   "metadata": {},
   "outputs": [],
   "source": [
    "ann.compile(optimizer=\"adam\" , loss = \"mse\")"
   ]
  },
  {
   "cell_type": "code",
   "execution_count": 13,
   "id": "8820a9cb",
   "metadata": {},
   "outputs": [
    {
     "name": "stdout",
     "output_type": "stream",
     "text": [
      "Epoch 1/100\n",
      "240/240 [==============================] - 1s 2ms/step - loss: 205656.8438\n",
      "Epoch 2/100\n",
      "240/240 [==============================] - 0s 2ms/step - loss: 196658.3438\n",
      "Epoch 3/100\n",
      "240/240 [==============================] - 0s 2ms/step - loss: 163995.8281\n",
      "Epoch 4/100\n",
      "240/240 [==============================] - 0s 2ms/step - loss: 108443.6484\n",
      "Epoch 5/100\n",
      "240/240 [==============================] - 0s 2ms/step - loss: 56674.8594\n",
      "Epoch 6/100\n",
      "240/240 [==============================] - 0s 2ms/step - loss: 29302.0469\n",
      "Epoch 7/100\n",
      "240/240 [==============================] - 0s 2ms/step - loss: 19541.9375\n",
      "Epoch 8/100\n",
      "240/240 [==============================] - 0s 2ms/step - loss: 15436.5645\n",
      "Epoch 9/100\n",
      "240/240 [==============================] - 0s 2ms/step - loss: 12446.8877\n",
      "Epoch 10/100\n",
      "240/240 [==============================] - 0s 2ms/step - loss: 9765.9629\n",
      "Epoch 11/100\n",
      "240/240 [==============================] - 0s 2ms/step - loss: 7348.8232\n",
      "Epoch 12/100\n",
      "240/240 [==============================] - 0s 2ms/step - loss: 5277.9155\n",
      "Epoch 13/100\n",
      "240/240 [==============================] - 0s 2ms/step - loss: 3582.0044\n",
      "Epoch 14/100\n",
      "240/240 [==============================] - 0s 2ms/step - loss: 2303.8201\n",
      "Epoch 15/100\n",
      "240/240 [==============================] - 0s 2ms/step - loss: 1431.9769\n",
      "Epoch 16/100\n",
      "240/240 [==============================] - 0s 2ms/step - loss: 894.5093\n",
      "Epoch 17/100\n",
      "240/240 [==============================] - 0s 2ms/step - loss: 577.9249\n",
      "Epoch 18/100\n",
      "240/240 [==============================] - 0s 2ms/step - loss: 388.2616\n",
      "Epoch 19/100\n",
      "240/240 [==============================] - 0s 2ms/step - loss: 269.7754\n",
      "Epoch 20/100\n",
      "240/240 [==============================] - 0s 2ms/step - loss: 191.8473\n",
      "Epoch 21/100\n",
      "240/240 [==============================] - 0s 2ms/step - loss: 138.1586\n",
      "Epoch 22/100\n",
      "240/240 [==============================] - 0s 2ms/step - loss: 101.1974\n",
      "Epoch 23/100\n",
      "240/240 [==============================] - 0s 2ms/step - loss: 75.7257\n",
      "Epoch 24/100\n",
      "240/240 [==============================] - 0s 2ms/step - loss: 58.7811\n",
      "Epoch 25/100\n",
      "240/240 [==============================] - 0s 2ms/step - loss: 47.5033\n",
      "Epoch 26/100\n",
      "240/240 [==============================] - 0s 2ms/step - loss: 40.0490\n",
      "Epoch 27/100\n",
      "240/240 [==============================] - 0s 2ms/step - loss: 34.8981\n",
      "Epoch 28/100\n",
      "240/240 [==============================] - 0s 2ms/step - loss: 31.1277\n",
      "Epoch 29/100\n",
      "240/240 [==============================] - 0s 2ms/step - loss: 28.4354\n",
      "Epoch 30/100\n",
      "240/240 [==============================] - 0s 2ms/step - loss: 26.4687\n",
      "Epoch 31/100\n",
      "240/240 [==============================] - 0s 2ms/step - loss: 24.8426\n",
      "Epoch 32/100\n",
      "240/240 [==============================] - 0s 2ms/step - loss: 23.6866\n",
      "Epoch 33/100\n",
      "240/240 [==============================] - 0s 2ms/step - loss: 22.8107\n",
      "Epoch 34/100\n",
      "240/240 [==============================] - 0s 2ms/step - loss: 22.0838\n",
      "Epoch 35/100\n",
      "240/240 [==============================] - 0s 2ms/step - loss: 21.5687\n",
      "Epoch 36/100\n",
      "240/240 [==============================] - 0s 2ms/step - loss: 21.1544\n",
      "Epoch 37/100\n",
      "240/240 [==============================] - 0s 2ms/step - loss: 20.8230\n",
      "Epoch 38/100\n",
      "240/240 [==============================] - 0s 2ms/step - loss: 20.5283\n",
      "Epoch 39/100\n",
      "240/240 [==============================] - 0s 2ms/step - loss: 20.2639\n",
      "Epoch 40/100\n",
      "240/240 [==============================] - 1s 2ms/step - loss: 20.0302\n",
      "Epoch 41/100\n",
      "240/240 [==============================] - 0s 2ms/step - loss: 19.9184\n",
      "Epoch 42/100\n",
      "240/240 [==============================] - 0s 2ms/step - loss: 19.8362\n",
      "Epoch 43/100\n",
      "240/240 [==============================] - 0s 2ms/step - loss: 19.6572\n",
      "Epoch 44/100\n",
      "240/240 [==============================] - 0s 2ms/step - loss: 19.5615\n",
      "Epoch 45/100\n",
      "240/240 [==============================] - 0s 2ms/step - loss: 19.4763\n",
      "Epoch 46/100\n",
      "240/240 [==============================] - 0s 2ms/step - loss: 19.4015\n",
      "Epoch 47/100\n",
      "240/240 [==============================] - 0s 2ms/step - loss: 19.2372\n",
      "Epoch 48/100\n",
      "240/240 [==============================] - 0s 2ms/step - loss: 19.2492\n",
      "Epoch 49/100\n",
      "240/240 [==============================] - 0s 2ms/step - loss: 19.1704\n",
      "Epoch 50/100\n",
      "240/240 [==============================] - 0s 2ms/step - loss: 19.0776\n",
      "Epoch 51/100\n",
      "240/240 [==============================] - 0s 2ms/step - loss: 19.0760\n",
      "Epoch 52/100\n",
      "240/240 [==============================] - 0s 2ms/step - loss: 18.9749\n",
      "Epoch 53/100\n",
      "240/240 [==============================] - 0s 2ms/step - loss: 18.9375\n",
      "Epoch 54/100\n",
      "240/240 [==============================] - 0s 2ms/step - loss: 18.9336\n",
      "Epoch 55/100\n",
      "240/240 [==============================] - 0s 2ms/step - loss: 18.9851\n",
      "Epoch 56/100\n",
      "240/240 [==============================] - 0s 2ms/step - loss: 18.7633\n",
      "Epoch 57/100\n",
      "240/240 [==============================] - 0s 2ms/step - loss: 18.8751\n",
      "Epoch 58/100\n",
      "240/240 [==============================] - 0s 2ms/step - loss: 18.7820\n",
      "Epoch 59/100\n",
      "240/240 [==============================] - 0s 2ms/step - loss: 18.7608\n",
      "Epoch 60/100\n",
      "240/240 [==============================] - 0s 2ms/step - loss: 18.6984\n",
      "Epoch 61/100\n",
      "240/240 [==============================] - 0s 2ms/step - loss: 18.7164\n",
      "Epoch 62/100\n",
      "240/240 [==============================] - 0s 2ms/step - loss: 18.7820\n",
      "Epoch 63/100\n",
      "240/240 [==============================] - 0s 2ms/step - loss: 18.7924\n",
      "Epoch 64/100\n",
      "240/240 [==============================] - 0s 2ms/step - loss: 18.6404\n",
      "Epoch 65/100\n",
      "240/240 [==============================] - 0s 2ms/step - loss: 18.6632\n",
      "Epoch 66/100\n",
      "240/240 [==============================] - 0s 2ms/step - loss: 18.7942\n",
      "Epoch 67/100\n",
      "240/240 [==============================] - 0s 2ms/step - loss: 18.6158\n",
      "Epoch 68/100\n",
      "240/240 [==============================] - 0s 2ms/step - loss: 18.6712\n",
      "Epoch 69/100\n",
      "240/240 [==============================] - 0s 2ms/step - loss: 18.5692\n",
      "Epoch 70/100\n",
      "240/240 [==============================] - 0s 2ms/step - loss: 18.5317\n",
      "Epoch 71/100\n",
      "240/240 [==============================] - 0s 2ms/step - loss: 18.5535\n",
      "Epoch 72/100\n",
      "240/240 [==============================] - 0s 2ms/step - loss: 18.5608\n",
      "Epoch 73/100\n",
      "240/240 [==============================] - 0s 2ms/step - loss: 18.5278\n",
      "Epoch 74/100\n",
      "240/240 [==============================] - 0s 2ms/step - loss: 18.5964\n",
      "Epoch 75/100\n",
      "240/240 [==============================] - 0s 2ms/step - loss: 18.4577\n",
      "Epoch 76/100\n",
      "240/240 [==============================] - 0s 2ms/step - loss: 18.4669\n",
      "Epoch 77/100\n",
      "240/240 [==============================] - 0s 2ms/step - loss: 18.6216\n",
      "Epoch 78/100\n",
      "240/240 [==============================] - 0s 2ms/step - loss: 18.5828\n",
      "Epoch 79/100\n",
      "240/240 [==============================] - 0s 2ms/step - loss: 18.4326\n",
      "Epoch 80/100\n",
      "240/240 [==============================] - 0s 2ms/step - loss: 18.5108\n",
      "Epoch 81/100\n",
      "240/240 [==============================] - 0s 2ms/step - loss: 18.4995\n",
      "Epoch 82/100\n",
      "240/240 [==============================] - 0s 2ms/step - loss: 18.5294\n",
      "Epoch 83/100\n",
      "240/240 [==============================] - 0s 2ms/step - loss: 18.5338\n",
      "Epoch 84/100\n",
      "240/240 [==============================] - 0s 2ms/step - loss: 18.5730\n",
      "Epoch 85/100\n",
      "240/240 [==============================] - 0s 2ms/step - loss: 18.4483\n",
      "Epoch 86/100\n",
      "240/240 [==============================] - 0s 2ms/step - loss: 18.5135\n",
      "Epoch 87/100\n",
      "240/240 [==============================] - 0s 2ms/step - loss: 18.4225\n",
      "Epoch 88/100\n",
      "240/240 [==============================] - 0s 2ms/step - loss: 18.5011\n",
      "Epoch 89/100\n",
      "240/240 [==============================] - 0s 2ms/step - loss: 18.4414\n",
      "Epoch 90/100\n",
      "240/240 [==============================] - 0s 2ms/step - loss: 18.4864\n",
      "Epoch 91/100\n",
      "240/240 [==============================] - 0s 2ms/step - loss: 18.5022\n",
      "Epoch 92/100\n",
      "240/240 [==============================] - 0s 2ms/step - loss: 18.4634\n",
      "Epoch 93/100\n",
      "240/240 [==============================] - 0s 2ms/step - loss: 18.5504\n",
      "Epoch 94/100\n",
      "240/240 [==============================] - 0s 2ms/step - loss: 18.4419\n",
      "Epoch 95/100\n",
      "240/240 [==============================] - 0s 2ms/step - loss: 18.4292\n",
      "Epoch 96/100\n",
      "240/240 [==============================] - 0s 2ms/step - loss: 18.4499\n",
      "Epoch 97/100\n",
      "240/240 [==============================] - 0s 2ms/step - loss: 18.4190\n",
      "Epoch 98/100\n"
     ]
    },
    {
     "name": "stdout",
     "output_type": "stream",
     "text": [
      "240/240 [==============================] - 0s 2ms/step - loss: 18.4955\n",
      "Epoch 99/100\n",
      "240/240 [==============================] - 0s 2ms/step - loss: 18.3972\n",
      "Epoch 100/100\n",
      "240/240 [==============================] - 0s 2ms/step - loss: 18.4355\n"
     ]
    }
   ],
   "source": [
    "history = ann.fit(X_train,y_train,batch_size=32,epochs=100)"
   ]
  },
  {
   "cell_type": "code",
   "execution_count": 15,
   "id": "95881467",
   "metadata": {},
   "outputs": [],
   "source": [
    "y_preds = ann.predict(X_test)"
   ]
  },
  {
   "cell_type": "code",
   "execution_count": 17,
   "id": "06a5da86",
   "metadata": {},
   "outputs": [
    {
     "data": {
      "text/plain": [
       "array([463.26, 444.37, 488.56, ..., 429.57, 435.74, 453.28])"
      ]
     },
     "execution_count": 17,
     "metadata": {},
     "output_type": "execute_result"
    }
   ],
   "source": [
    "y"
   ]
  },
  {
   "cell_type": "code",
   "execution_count": 19,
   "id": "71d2d7fb",
   "metadata": {},
   "outputs": [
    {
     "data": {
      "text/plain": [
       "array([[False, False, False, ..., False, False, False],\n",
       "       [False, False, False, ..., False, False, False],\n",
       "       [False, False, False, ..., False, False, False],\n",
       "       ...,\n",
       "       [False, False, False, ..., False, False, False],\n",
       "       [False, False, False, ..., False, False, False],\n",
       "       [False, False, False, ..., False, False, False]])"
      ]
     },
     "execution_count": 19,
     "metadata": {},
     "output_type": "execute_result"
    }
   ],
   "source": [
    "y_preds == y_test"
   ]
  },
  {
   "cell_type": "code",
   "execution_count": 22,
   "id": "b05043fd",
   "metadata": {},
   "outputs": [
    {
     "data": {
      "text/plain": [
       "Text(0, 0.5, 'Mean Squared Error')"
      ]
     },
     "execution_count": 22,
     "metadata": {},
     "output_type": "execute_result"
    },
    {
     "data": {
      "image/png": "[encoded data removed]",
      "text/plain": [
       "<Figure size 432x288 with 1 Axes>"
      ]
     },
     "metadata": {
      "needs_background": "light"
     },
     "output_type": "display_data"
    }
   ],
   "source": [
    "errors = list()\n",
    "for i in range(len(y_test)):\n",
    "    err = (y_test[i] - y_preds[i])**2\n",
    "    errors.append(err)\n",
    "\n",
    "plt.plot(errors)\n",
    "# plt.xticks(ticks=[i for i in range(len(errors))], labels=y_preds)\n",
    "plt.xlabel('Predicted Value')\n",
    "plt.ylabel('Mean Squared Error')"
   ]
  },
  {
   "cell_type": "code",
   "execution_count": 23,
   "id": "037b5218",
   "metadata": {},
   "outputs": [],
   "source": [
    "from sklearn.metrics import mean_squared_error"
   ]
  },
  {
   "cell_type": "code",
   "execution_count": 24,
   "id": "93688c65",
   "metadata": {},
   "outputs": [
    {
     "data": {
      "text/plain": [
       "18.45621608064532"
      ]
     },
     "execution_count": 24,
     "metadata": {},
     "output_type": "execute_result"
    }
   ],
   "source": [
    "mean_squared_error(y_test , y_preds)"
   ]
  },
  {
   "cell_type": "code",
   "execution_count": null,
   "id": "1acbaaae",
   "metadata": {},
   "outputs": [],
   "source": []
  }
 ],
 "metadata": {
  "kernelspec": {
   "display_name": "Python 3 (ipykernel)",
   "language": "python",
   "name": "python3"
  },
  "language_info": {
   "codemirror_mode": {
    "name": "ipython",
    "version": 3
   },
   "file_extension": ".py",
   "mimetype": "text/x-python",
   "name": "python",
   "nbconvert_exporter": "python",
   "pygments_lexer": "ipython3",
   "version": "3.8.10"
  }
 },
 "nbformat": 4,
 "nbformat_minor": 5
}
