{
 "cells": [
  {
   "cell_type": "markdown",
   "id": "3c87db31",
   "metadata": {},
   "source": [
    "# PLOTLY AND CUFFLINKS:"
   ]
  },
  {
   "cell_type": "code",
   "execution_count": 1,
   "id": "2519e603",
   "metadata": {},
   "outputs": [
    {
     "name": "stderr",
     "output_type": "stream",
     "text": [
      "/home/huda/.local/lib/python3.8/site-packages/xarray/backends/cfgrib_.py:27: UserWarning:\n",
      "\n",
      "Failed to load cfgrib - most likely there is a problem accessing the ecCodes library. Try `import cfgrib` to get the full error message\n",
      "\n",
      "/usr/lib/python3/dist-packages/requests/__init__.py:89: RequestsDependencyWarning:\n",
      "\n",
      "urllib3 (1.26.9) or chardet (3.0.4) doesn't match a supported version!\n",
      "\n"
     ]
    }
   ],
   "source": [
    "import pandas as pd\n",
    "import numpy as np\n",
    "import plotly\n",
    "import cufflinks as cf\n",
    "from plotly.offline import download_plotlyjs,init_notebook_mode,plot,iplot"
   ]
  },
  {
   "cell_type": "code",
   "execution_count": 2,
   "id": "cac7e19e",
   "metadata": {},
   "outputs": [],
   "source": [
    "%matplotlib inline"
   ]
  },
  {
   "cell_type": "code",
   "execution_count": 3,
   "id": "1b33b1a9",
   "metadata": {},
   "outputs": [
    {
     "data": {
      "text/html": [
       "        <script type=\"text/javascript\">\n",
       "        window.PlotlyConfig = {MathJaxConfig: 'local'};\n",
       "        if (window.MathJax) {MathJax.Hub.Config({SVG: {font: \"STIX-Web\"}});}\n",
       "        if (typeof require !== 'undefined') {\n",
       "        require.undef(\"plotly\");\n",
       "        requirejs.config({\n",
       "            paths: {\n",
       "                'plotly': ['https://cdn.plot.ly/plotly-2.9.0.min']\n",
       "            }\n",
       "        });\n",
       "        require(['plotly'], function(Plotly) {\n",
       "            window._Plotly = Plotly;\n",
       "        });\n",
       "        }\n",
       "        </script>\n",
       "        "
      ]
     },
     "metadata": {},
     "output_type": "display_data"
    }
   ],
   "source": [
    "init_notebook_mode(connected=True)"
   ]
  },
  {
   "cell_type": "code",
   "execution_count": 4,
   "id": "e887caf7",
   "metadata": {},
   "outputs": [
    {
     "data": {
      "text/html": [
       "        <script type=\"text/javascript\">\n",
       "        window.PlotlyConfig = {MathJaxConfig: 'local'};\n",
       "        if (window.MathJax) {MathJax.Hub.Config({SVG: {font: \"STIX-Web\"}});}\n",
       "        if (typeof require !== 'undefined') {\n",
       "        require.undef(\"plotly\");\n",
       "        requirejs.config({\n",
       "            paths: {\n",
       "                'plotly': ['https://cdn.plot.ly/plotly-2.9.0.min']\n",
       "            }\n",
       "        });\n",
       "        require(['plotly'], function(Plotly) {\n",
       "            window._Plotly = Plotly;\n",
       "        });\n",
       "        }\n",
       "        </script>\n",
       "        "
      ]
     },
     "metadata": {},
     "output_type": "display_data"
    }
   ],
   "source": [
    "cf.go_offline()"
   ]
  },
  {
   "cell_type": "code",
   "execution_count": 5,
   "id": "2349bec6",
   "metadata": {},
   "outputs": [],
   "source": [
    "df = pd.DataFrame(np.random.randn(100,4),columns=[\"A\",\"B\",\"C\",\"D\"])"
   ]
  },
  {
   "cell_type": "code",
   "execution_count": 6,
   "id": "dd98b9f0",
   "metadata": {},
   "outputs": [
    {
     "data": {
      "text/html": [
       "<div>\n",
       "<style scoped>\n",
       "    .dataframe tbody tr th:only-of-type {\n",
       "        vertical-align: middle;\n",
       "    }\n",
       "\n",
       "    .dataframe tbody tr th {\n",
       "        vertical-align: top;\n",
       "    }\n",
       "\n",
       "    .dataframe thead th {\n",
       "        text-align: right;\n",
       "    }\n",
       "</style>\n",
       "<table border=\"1\" class=\"dataframe\">\n",
       "  <thead>\n",
       "    <tr style=\"text-align: right;\">\n",
       "      <th></th>\n",
       "      <th>A</th>\n",
       "      <th>B</th>\n",
       "      <th>C</th>\n",
       "      <th>D</th>\n",
       "    </tr>\n",
       "  </thead>\n",
       "  <tbody>\n",
       "    <tr>\n",
       "      <th>0</th>\n",
       "      <td>0.171821</td>\n",
       "      <td>1.982420</td>\n",
       "      <td>-0.066921</td>\n",
       "      <td>-0.336899</td>\n",
       "    </tr>\n",
       "    <tr>\n",
       "      <th>1</th>\n",
       "      <td>-0.217518</td>\n",
       "      <td>1.309199</td>\n",
       "      <td>0.211635</td>\n",
       "      <td>0.751814</td>\n",
       "    </tr>\n",
       "    <tr>\n",
       "      <th>2</th>\n",
       "      <td>0.852099</td>\n",
       "      <td>-1.223299</td>\n",
       "      <td>0.109625</td>\n",
       "      <td>-1.475403</td>\n",
       "    </tr>\n",
       "    <tr>\n",
       "      <th>3</th>\n",
       "      <td>0.057421</td>\n",
       "      <td>-0.197196</td>\n",
       "      <td>-0.255853</td>\n",
       "      <td>-1.387366</td>\n",
       "    </tr>\n",
       "    <tr>\n",
       "      <th>4</th>\n",
       "      <td>-0.037011</td>\n",
       "      <td>-0.388321</td>\n",
       "      <td>-1.049246</td>\n",
       "      <td>0.536644</td>\n",
       "    </tr>\n",
       "    <tr>\n",
       "      <th>...</th>\n",
       "      <td>...</td>\n",
       "      <td>...</td>\n",
       "      <td>...</td>\n",
       "      <td>...</td>\n",
       "    </tr>\n",
       "    <tr>\n",
       "      <th>95</th>\n",
       "      <td>1.236858</td>\n",
       "      <td>-2.535685</td>\n",
       "      <td>-1.444464</td>\n",
       "      <td>0.591796</td>\n",
       "    </tr>\n",
       "    <tr>\n",
       "      <th>96</th>\n",
       "      <td>2.115808</td>\n",
       "      <td>-0.284397</td>\n",
       "      <td>0.752034</td>\n",
       "      <td>0.202707</td>\n",
       "    </tr>\n",
       "    <tr>\n",
       "      <th>97</th>\n",
       "      <td>-0.957591</td>\n",
       "      <td>1.628615</td>\n",
       "      <td>0.224934</td>\n",
       "      <td>0.311755</td>\n",
       "    </tr>\n",
       "    <tr>\n",
       "      <th>98</th>\n",
       "      <td>-1.010368</td>\n",
       "      <td>-0.084740</td>\n",
       "      <td>-0.557928</td>\n",
       "      <td>-0.532804</td>\n",
       "    </tr>\n",
       "    <tr>\n",
       "      <th>99</th>\n",
       "      <td>0.841413</td>\n",
       "      <td>0.442088</td>\n",
       "      <td>-0.880339</td>\n",
       "      <td>1.477016</td>\n",
       "    </tr>\n",
       "  </tbody>\n",
       "</table>\n",
       "<p>100 rows × 4 columns</p>\n",
       "</div>"
      ],
      "text/plain": [
       "           A         B         C         D\n",
       "0   0.171821  1.982420 -0.066921 -0.336899\n",
       "1  -0.217518  1.309199  0.211635  0.751814\n",
       "2   0.852099 -1.223299  0.109625 -1.475403\n",
       "3   0.057421 -0.197196 -0.255853 -1.387366\n",
       "4  -0.037011 -0.388321 -1.049246  0.536644\n",
       "..       ...       ...       ...       ...\n",
       "95  1.236858 -2.535685 -1.444464  0.591796\n",
       "96  2.115808 -0.284397  0.752034  0.202707\n",
       "97 -0.957591  1.628615  0.224934  0.311755\n",
       "98 -1.010368 -0.084740 -0.557928 -0.532804\n",
       "99  0.841413  0.442088 -0.880339  1.477016\n",
       "\n",
       "[100 rows x 4 columns]"
      ]
     },
     "execution_count": 6,
     "metadata": {},
     "output_type": "execute_result"
    }
   ],
   "source": [
    "df"
   ]
  },
  {
   "cell_type": "code",
   "execution_count": 7,
   "id": "0e77571a",
   "metadata": {},
   "outputs": [],
   "source": [
    "df2 = pd.DataFrame({\"Category\":[\"A\",\"B\",\"C\"],\"Values\":[12,45,11]})"
   ]
  },
  {
   "cell_type": "code",
   "execution_count": 8,
   "id": "8631c336",
   "metadata": {},
   "outputs": [
    {
     "data": {
      "text/html": [
       "<div>\n",
       "<style scoped>\n",
       "    .dataframe tbody tr th:only-of-type {\n",
       "        vertical-align: middle;\n",
       "    }\n",
       "\n",
       "    .dataframe tbody tr th {\n",
       "        vertical-align: top;\n",
       "    }\n",
       "\n",
       "    .dataframe thead th {\n",
       "        text-align: right;\n",
       "    }\n",
       "</style>\n",
       "<table border=\"1\" class=\"dataframe\">\n",
       "  <thead>\n",
       "    <tr style=\"text-align: right;\">\n",
       "      <th></th>\n",
       "      <th>Category</th>\n",
       "      <th>Values</th>\n",
       "    </tr>\n",
       "  </thead>\n",
       "  <tbody>\n",
       "    <tr>\n",
       "      <th>0</th>\n",
       "      <td>A</td>\n",
       "      <td>12</td>\n",
       "    </tr>\n",
       "    <tr>\n",
       "      <th>1</th>\n",
       "      <td>B</td>\n",
       "      <td>45</td>\n",
       "    </tr>\n",
       "    <tr>\n",
       "      <th>2</th>\n",
       "      <td>C</td>\n",
       "      <td>11</td>\n",
       "    </tr>\n",
       "  </tbody>\n",
       "</table>\n",
       "</div>"
      ],
      "text/plain": [
       "  Category  Values\n",
       "0        A      12\n",
       "1        B      45\n",
       "2        C      11"
      ]
     },
     "execution_count": 8,
     "metadata": {},
     "output_type": "execute_result"
    }
   ],
   "source": [
    "df2"
   ]
  },
  {
   "cell_type": "code",
   "execution_count": 9,
   "id": "598d2341",
   "metadata": {},
   "outputs": [
    {
     "data": {
      "text/plain": [
       "<AxesSubplot:>"
      ]
     },
     "execution_count": 9,
     "metadata": {},
     "output_type": "execute_result"
    },
    {
     "data": {
      "image/png": "[encoded data removed]",
      "text/plain": [
       "<Figure size 432x288 with 1 Axes>"
      ]
     },
     "metadata": {
      "needs_background": "light"
     },
     "output_type": "display_data"
    }
   ],
   "source": [
    "df.plot()"
   ]
  },
  {
   "cell_type": "code",
   "execution_count": 10,
   "id": "5697e0ae",
   "metadata": {},
   "outputs": [
    {
     "data": {
      "application/vnd.plotly.v1+json": {
       "config": {
        "linkText": "Export to plot.ly",
        "plotlyServerURL": "https://plot.ly",
        "showLink": true
       },
       "data": [
        {
         "line": {
          "color": "rgba(255, 153, 51, 1.0)",
          "dash": "solid",
          "shape": "linear",
          "width": 1.3
         },
         "mode": "lines",
         "name": "A",
         "text": "",
         "type": "scatter",
         "x": [
          0,
          1,
          2,
          3,
          4,
          5,
          6,
          7,
          8,
          9,
          10,
          11,
          12,
          13,
          14,
          15,
          16,
          17,
          18,
          19,
          20,
          21,
          22,
          23,
          24,
          25,
          26,
          27,
          28,
          29,
          30,
          31,
          32,
          33,
          34,
          35,
          36,
          37,
          38,
          39,
          40,
          41,
          42,
          43,
          44,
          45,
          46,
          47,
          48,
          49,
          50,
          51,
          52,
          53,
          54,
          55,
          56,
          57,
          58,
          59,
          60,
          61,
          62,
          63,
          64,
          65,
          66,
          67,
          68,
          69,
          70,
          71,
          72,
          73,
          74,
          75,
          76,
          77,
          78,
          79,
          80,
          81,
          82,
          83,
          84,
          85,
          86,
          87,
          88,
          89,
          90,
          91,
          92,
          93,
          94,
          95,
          96,
          97,
          98,
          99
         ],
         "y": [
          0.17182131329699793,
          -0.21751837149008088,
          0.8520992115955089,
          0.05742133483880542,
          -0.03701115586440133,
          2.6973597817844914,
          -1.8877793190781818,
          1.7166623332352855,
          1.259911262295181,
          0.031769281679936395,
          0.0508239712076725,
          0.43627786253626,
          1.0198172828269088,
          0.2240566601363054,
          1.3260778196171579,
          -0.3910345927243946,
          -0.6624997831912773,
          -0.9400987274239068,
          -0.6377684477678879,
          0.23788029069286531,
          0.06969530641928225,
          -0.08669172991049304,
          -0.1512677661162708,
          -1.1658260190456318,
          1.0600197895207202,
          -0.20221201669291944,
          -0.07693099603756043,
          0.4945802513070474,
          0.6371521910271359,
          0.4852632657427939,
          -0.40581619690111637,
          0.1412205595276012,
          0.13918143842256417,
          0.6310934836171265,
          1.1433954277165832,
          -0.34590239097163983,
          0.7302838926871985,
          0.02829008194726475,
          -1.0251405439724093,
          -0.16828515380497752,
          0.713802473498807,
          -1.5230087719873744,
          1.1894249747216414,
          -0.02110573542948361,
          -0.009013224341380086,
          -0.6099868239339996,
          0.3827652838586205,
          -0.4881093218446922,
          -1.2923096311306281,
          0.6609728793408054,
          0.46890971023101813,
          0.5326518795412732,
          0.20057041674142995,
          -0.579659726057919,
          -0.7904339074270497,
          -1.9195917396464204,
          -0.12432851356501343,
          0.016896163296924296,
          -0.7006644454340994,
          1.4037974829972457,
          -1.591543040486118,
          -0.12099627209491523,
          0.4642002294162683,
          -0.7821594697936182,
          1.1783639613615309,
          -2.026759862138661,
          -1.025229349046652,
          -0.8046370009828545,
          -0.5076446125965427,
          0.02281882785522542,
          1.2024157907690753,
          1.4714869478383663,
          0.689903888615297,
          -0.24514831334276257,
          -0.0035223811014121866,
          0.8883867313431024,
          0.21921114499087757,
          1.1141936138054414,
          0.2788188678593166,
          -0.07634107259449303,
          0.6826915621705238,
          0.3114738030169309,
          0.2615743783695237,
          0.014063052275365666,
          0.8572265898624823,
          1.160204046429771,
          0.5413020744257988,
          1.1959762106386431,
          -1.4804127495676545,
          0.5208510722656184,
          0.10931121482756144,
          -0.8714162682553113,
          -0.8863941668231697,
          -1.6131738814242642,
          1.7170467935777118,
          1.2368578356106872,
          2.115808069659541,
          -0.9575909358514951,
          -1.0103683951644498,
          0.8414130802145096
         ]
        },
        {
         "line": {
          "color": "rgba(55, 128, 191, 1.0)",
          "dash": "solid",
          "shape": "linear",
          "width": 1.3
         },
         "mode": "lines",
         "name": "B",
         "text": "",
         "type": "scatter",
         "x": [
          0,
          1,
          2,
          3,
          4,
          5,
          6,
          7,
          8,
          9,
          10,
          11,
          12,
          13,
          14,
          15,
          16,
          17,
          18,
          19,
          20,
          21,
          22,
          23,
          24,
          25,
          26,
          27,
          28,
          29,
          30,
          31,
          32,
          33,
          34,
          35,
          36,
          37,
          38,
          39,
          40,
          41,
          42,
          43,
          44,
          45,
          46,
          47,
          48,
          49,
          50,
          51,
          52,
          53,
          54,
          55,
          56,
          57,
          58,
          59,
          60,
          61,
          62,
          63,
          64,
          65,
          66,
          67,
          68,
          69,
          70,
          71,
          72,
          73,
          74,
          75,
          76,
          77,
          78,
          79,
          80,
          81,
          82,
          83,
          84,
          85,
          86,
          87,
          88,
          89,
          90,
          91,
          92,
          93,
          94,
          95,
          96,
          97,
          98,
          99
         ],
         "y": [
          1.9824198315783816,
          1.3091993326892228,
          -1.2232988271495462,
          -0.19719594337514346,
          -0.3883205707396667,
          -0.714436389257402,
          -2.88227623152448,
          0.844681688946653,
          -0.22775321569799709,
          1.1823240259708958,
          0.34029333587973354,
          -1.3109908156911778,
          -0.23828709768589754,
          -0.3284753384999053,
          0.3854320433598857,
          -0.7877815992111348,
          1.260930508403904,
          -0.6376699832686588,
          1.4919925325626402,
          1.8430188733793647,
          -0.53329941520741,
          0.8995368070732571,
          1.3220065246551411,
          0.7899378206176743,
          2.559225504588923,
          -2.163397447913008,
          -0.5114503633193542,
          -0.6804299981894304,
          0.3916906174456555,
          -0.9137016294766945,
          -1.2210721128562319,
          -1.9725269460216899,
          0.7094890909986767,
          -0.2751737621465072,
          -0.08731916358838872,
          0.9866228301041913,
          -0.5595860856582786,
          -1.1939186763929523,
          0.6681730424053982,
          0.5014533400976171,
          0.8551026990355919,
          -0.256238454119293,
          0.5470435635003105,
          1.3442119595879491,
          0.08477395127003368,
          1.9755689399593193,
          0.7678336141341726,
          -0.6567260332772877,
          2.456323956444022,
          -0.7011317822766581,
          0.78227220870668,
          0.24481209559617614,
          -0.8680652415261771,
          -0.4560191083149844,
          -0.4181872761228879,
          -0.6640338993480072,
          0.6842151623414131,
          -1.715738873887148,
          0.4210807397823437,
          -0.9472812249812783,
          0.10244262377035715,
          1.2471790365716295,
          -0.6633440997020905,
          1.5130780644821349,
          -1.634256863891054,
          -0.27978027667764627,
          -0.15764709446756195,
          1.3268082081064996,
          0.2119850457355075,
          -0.20335591336657793,
          0.03811988530396497,
          0.3615077045931863,
          -0.022946861281996894,
          1.751464493217749,
          0.38794212109299925,
          1.1266379375838935,
          1.2421671040967004,
          1.5766723383052155,
          0.1673679152308049,
          0.6650414255780529,
          -0.7491324331459841,
          0.4255355160409724,
          -0.8234191555435801,
          1.4476429835646385,
          -0.16701431149830737,
          -0.6008746398228956,
          -1.2647876115554673,
          -0.1398344928393769,
          2.6919066244577023,
          -1.3693196253960402,
          1.3240376603454416,
          0.711397001180157,
          -1.395667721912057,
          0.7702217374207543,
          1.4635340072179726,
          -2.5356853246697746,
          -0.2843972219611788,
          1.6286145267704566,
          -0.08473981575812777,
          0.4420878484700525
         ]
        },
        {
         "line": {
          "color": "rgba(50, 171, 96, 1.0)",
          "dash": "solid",
          "shape": "linear",
          "width": 1.3
         },
         "mode": "lines",
         "name": "C",
         "text": "",
         "type": "scatter",
         "x": [
          0,
          1,
          2,
          3,
          4,
          5,
          6,
          7,
          8,
          9,
          10,
          11,
          12,
          13,
          14,
          15,
          16,
          17,
          18,
          19,
          20,
          21,
          22,
          23,
          24,
          25,
          26,
          27,
          28,
          29,
          30,
          31,
          32,
          33,
          34,
          35,
          36,
          37,
          38,
          39,
          40,
          41,
          42,
          43,
          44,
          45,
          46,
          47,
          48,
          49,
          50,
          51,
          52,
          53,
          54,
          55,
          56,
          57,
          58,
          59,
          60,
          61,
          62,
          63,
          64,
          65,
          66,
          67,
          68,
          69,
          70,
          71,
          72,
          73,
          74,
          75,
          76,
          77,
          78,
          79,
          80,
          81,
          82,
          83,
          84,
          85,
          86,
          87,
          88,
          89,
          90,
          91,
          92,
          93,
          94,
          95,
          96,
          97,
          98,
          99
         ],
         "y": [
          -0.06692149827891483,
          0.21163508676146844,
          0.10962546429194915,
          -0.2558534300057048,
          -1.0492460939050248,
          1.040490686200205,
          0.07354678550251936,
          -1.008281976174112,
          0.13282976375171887,
          1.1192055133929228,
          -0.11040444333363535,
          0.3793407458297617,
          -0.46090660728034044,
          -1.660226482279525,
          -0.2961280544340508,
          -1.5586414580003636,
          2.169467850787301,
          2.523535716595376,
          -1.4642940309453036,
          -0.038437747590108075,
          -0.8699575853617059,
          -0.16345142570587193,
          -0.4719380413247446,
          -1.1452082460673398,
          0.4819366982023875,
          -1.0363534957745169,
          0.2859574178040571,
          1.0655286630933491,
          -0.11086346800488464,
          -0.07293702286019811,
          -0.25293593473615616,
          -0.18303416407740078,
          -0.41790548892845597,
          -0.11461663118001136,
          -1.589200545678026,
          -1.0964099934514793,
          -0.37554800238541103,
          -0.0996017199236781,
          1.0676301399002148,
          0.48654784004203167,
          0.36290834128167454,
          0.1300103793987335,
          0.8064625009596381,
          0.013830930107821401,
          -1.2755600507738083,
          -1.1260322492935764,
          1.8563698674995595,
          -1.1159804104526063,
          1.0499349480169025,
          -1.3161252441082945,
          1.0193888319116835,
          -0.4174508404753829,
          0.4676925181626736,
          -0.7391404683682344,
          0.9946440781326336,
          -2.3851102826330313,
          1.1528027729198533,
          0.5533125722332582,
          0.0853455012942767,
          -1.6007079416275325,
          0.5066546358568118,
          0.09296421976299869,
          -1.4091398749727495,
          0.8488858182257673,
          0.3537522176221965,
          -0.648665513302343,
          -0.365054741533402,
          0.9958427403963284,
          -0.09566153249121677,
          -0.39006338725617334,
          0.3836322694653195,
          -0.28249667470159623,
          -1.0427682001568448,
          -0.42081315933762353,
          0.9340478224623755,
          0.3154766707839829,
          -0.5493194486239779,
          1.6084689913196342,
          0.7485272991064392,
          0.3265551336874761,
          -0.10060890300142215,
          -1.6274240822731207,
          -0.692156534635706,
          -1.649334531922874,
          0.6229110651212619,
          0.7797817051121688,
          -0.589418862332541,
          -0.8523257616912966,
          0.2606750596232987,
          -1.209367782431702,
          0.5388364328927802,
          0.4939253040890085,
          -0.12839754386255955,
          0.5605173596848374,
          1.0305025247887865,
          -1.4444643659994203,
          0.7520344814672549,
          0.22493433918716954,
          -0.5579279755129903,
          -0.8803388021437051
         ]
        },
        {
         "line": {
          "color": "rgba(128, 0, 128, 1.0)",
          "dash": "solid",
          "shape": "linear",
          "width": 1.3
         },
         "mode": "lines",
         "name": "D",
         "text": "",
         "type": "scatter",
         "x": [
          0,
          1,
          2,
          3,
          4,
          5,
          6,
          7,
          8,
          9,
          10,
          11,
          12,
          13,
          14,
          15,
          16,
          17,
          18,
          19,
          20,
          21,
          22,
          23,
          24,
          25,
          26,
          27,
          28,
          29,
          30,
          31,
          32,
          33,
          34,
          35,
          36,
          37,
          38,
          39,
          40,
          41,
          42,
          43,
          44,
          45,
          46,
          47,
          48,
          49,
          50,
          51,
          52,
          53,
          54,
          55,
          56,
          57,
          58,
          59,
          60,
          61,
          62,
          63,
          64,
          65,
          66,
          67,
          68,
          69,
          70,
          71,
          72,
          73,
          74,
          75,
          76,
          77,
          78,
          79,
          80,
          81,
          82,
          83,
          84,
          85,
          86,
          87,
          88,
          89,
          90,
          91,
          92,
          93,
          94,
          95,
          96,
          97,
          98,
          99
         ],
         "y": [
          -0.3368986726967059,
          0.7518137909507739,
          -1.4754031781684198,
          -1.3873661948467646,
          0.5366440290038864,
          -0.6086279807801238,
          -0.28449750603972696,
          -0.997729440194146,
          0.6840601963313361,
          0.16335827281561927,
          2.068184744244638,
          -0.6470979605963196,
          1.195153469755728,
          1.6012105097647358,
          -0.43323389782101746,
          1.1313213515968712,
          -0.553422330480302,
          -0.47918545859079326,
          -1.198827599019185,
          -0.7587809042198871,
          -0.5375272630792494,
          -0.9709238393633437,
          -1.4002850298460936,
          -0.23482208473203486,
          -1.4756939327392007,
          1.5749289674525897,
          -0.4401486798614137,
          -0.08248188246193845,
          0.018602802785695465,
          -0.8403496381646197,
          -0.04956322074918477,
          0.6178076978921899,
          1.1455904042809115,
          0.13989362246954168,
          -0.03550083311516659,
          0.9272741147509023,
          0.6361229855491726,
          -0.7841808232655151,
          0.8585857815829068,
          -1.8011355532888107,
          1.661808660248311,
          2.0109400289145523,
          1.3048734457294462,
          0.9032419964846703,
          0.8971648156733816,
          0.16441321975080556,
          0.9837495198363891,
          -0.11443263495506939,
          1.4643237693041038,
          -0.7246778998206684,
          -0.5573238370238565,
          -2.75463884493668,
          -0.43206859770011463,
          0.9777073791219038,
          -0.646060193433183,
          0.2686794046986245,
          -1.3815109656918652,
          -0.4219384041798588,
          -0.02745170413573071,
          -0.4588991425406564,
          0.3378129992552197,
          0.9397124179166676,
          0.0748915667472112,
          -0.6224447864353309,
          1.2355086067491552,
          -0.9813545480077074,
          -0.06580046251001918,
          -1.4518800547323825,
          2.0962158584098898,
          -0.9998231377997212,
          -1.0096604103407463,
          -0.20009481575248378,
          1.7761070447361005,
          -0.2987396767581034,
          -0.7339866886202033,
          -0.13981579480794043,
          0.8888538171707128,
          -0.23081176937598127,
          0.8466152990663928,
          -1.68114726177875,
          0.24520929705750316,
          0.15083576195661244,
          1.053478957203685,
          0.11546385904520526,
          0.9459855873687798,
          -0.577724287787626,
          2.9784813172241154,
          -0.20089625538567984,
          1.137863396939422,
          0.5097395919053742,
          1.4833471902768316,
          -0.2800028816075082,
          -1.7430766063513776,
          1.094082687721341,
          -0.34140792454295366,
          0.5917964983346524,
          0.20270662579236268,
          0.31175478102408394,
          -0.532804399900463,
          1.477015988469366
         ]
        }
       ],
       "layout": {
        "legend": {
         "bgcolor": "#F5F6F9",
         "font": {
          "color": "#4D5663"
         }
        },
        "paper_bgcolor": "#F5F6F9",
        "plot_bgcolor": "#F5F6F9",
        "template": {
         "data": {
          "bar": [
           {
            "error_x": {
             "color": "#2a3f5f"
            },
            "error_y": {
             "color": "#2a3f5f"
            },
            "marker": {
             "line": {
              "color": "#E5ECF6",
              "width": 0.5
             },
             "pattern": {
              "fillmode": "overlay",
              "size": 10,
              "solidity": 0.2
             }
            },
            "type": "bar"
           }
          ],
          "barpolar": [
           {
            "marker": {
             "line": {
              "color": "#E5ECF6",
              "width": 0.5
             },
             "pattern": {
              "fillmode": "overlay",
              "size": 10,
              "solidity": 0.2
             }
            },
            "type": "barpolar"
           }
          ],
          "carpet": [
           {
            "aaxis": {
             "endlinecolor": "#2a3f5f",
             "gridcolor": "white",
             "linecolor": "white",
             "minorgridcolor": "white",
             "startlinecolor": "#2a3f5f"
            },
            "baxis": {
             "endlinecolor": "#2a3f5f",
             "gridcolor": "white",
             "linecolor": "white",
             "minorgridcolor": "white",
             "startlinecolor": "#2a3f5f"
            },
            "type": "carpet"
           }
          ],
          "choropleth": [
           {
            "colorbar": {
             "outlinewidth": 0,
             "ticks": ""
            },
            "type": "choropleth"
           }
          ],
          "contour": [
           {
            "colorbar": {
             "outlinewidth": 0,
             "ticks": ""
            },
            "colorscale": [
             [
              0,
              "#0d0887"
             ],
             [
              0.1111111111111111,
              "#46039f"
             ],
             [
              0.2222222222222222,
              "#7201a8"
             ],
             [
              0.3333333333333333,
              "#9c179e"
             ],
             [
              0.4444444444444444,
              "#bd3786"
             ],
             [
              0.5555555555555556,
              "#d8576b"
             ],
             [
              0.6666666666666666,
              "#ed7953"
             ],
             [
              0.7777777777777778,
              "#fb9f3a"
             ],
             [
              0.8888888888888888,
              "#fdca26"
             ],
             [
              1,
              "#f0f921"
             ]
            ],
            "type": "contour"
           }
          ],
          "contourcarpet": [
           {
            "colorbar": {
             "outlinewidth": 0,
             "ticks": ""
            },
            "type": "contourcarpet"
           }
          ],
          "heatmap": [
           {
            "colorbar": {
             "outlinewidth": 0,
             "ticks": ""
            },
            "colorscale": [
             [
              0,
              "#0d0887"
             ],
             [
              0.1111111111111111,
              "#46039f"
             ],
             [
              0.2222222222222222,
              "#7201a8"
             ],
             [
              0.3333333333333333,
              "#9c179e"
             ],
             [
              0.4444444444444444,
              "#bd3786"
             ],
             [
              0.5555555555555556,
              "#d8576b"
             ],
             [
              0.6666666666666666,
              "#ed7953"
             ],
             [
              0.7777777777777778,
              "#fb9f3a"
             ],
             [
              0.8888888888888888,
              "#fdca26"
             ],
             [
              1,
              "#f0f921"
             ]
            ],
            "type": "heatmap"
           }
          ],
          "heatmapgl": [
           {
            "colorbar": {
             "outlinewidth": 0,
             "ticks": ""
            },
            "colorscale": [
             [
              0,
              "#0d0887"
             ],
             [
              0.1111111111111111,
              "#46039f"
             ],
             [
              0.2222222222222222,
              "#7201a8"
             ],
             [
              0.3333333333333333,
              "#9c179e"
             ],
             [
              0.4444444444444444,
              "#bd3786"
             ],
             [
              0.5555555555555556,
              "#d8576b"
             ],
             [
              0.6666666666666666,
              "#ed7953"
             ],
             [
              0.7777777777777778,
              "#fb9f3a"
             ],
             [
              0.8888888888888888,
              "#fdca26"
             ],
             [
              1,
              "#f0f921"
             ]
            ],
            "type": "heatmapgl"
           }
          ],
          "histogram": [
           {
            "marker": {
             "pattern": {
              "fillmode": "overlay",
              "size": 10,
              "solidity": 0.2
             }
            },
            "type": "histogram"
           }
          ],
          "histogram2d": [
           {
            "colorbar": {
             "outlinewidth": 0,
             "ticks": ""
            },
            "colorscale": [
             [
              0,
              "#0d0887"
             ],
             [
              0.1111111111111111,
              "#46039f"
             ],
             [
              0.2222222222222222,
              "#7201a8"
             ],
             [
              0.3333333333333333,
              "#9c179e"
             ],
             [
              0.4444444444444444,
              "#bd3786"
             ],
             [
              0.5555555555555556,
              "#d8576b"
             ],
             [
              0.6666666666666666,
              "#ed7953"
             ],
             [
              0.7777777777777778,
              "#fb9f3a"
             ],
             [
              0.8888888888888888,
              "#fdca26"
             ],
             [
              1,
              "#f0f921"
             ]
            ],
            "type": "histogram2d"
           }
          ],
          "histogram2dcontour": [
           {
            "colorbar": {
             "outlinewidth": 0,
             "ticks": ""
            },
            "colorscale": [
             [
              0,
              "#0d0887"
             ],
             [
              0.1111111111111111,
              "#46039f"
             ],
             [
              0.2222222222222222,
              "#7201a8"
             ],
             [
              0.3333333333333333,
              "#9c179e"
             ],
             [
              0.4444444444444444,
              "#bd3786"
             ],
             [
              0.5555555555555556,
              "#d8576b"
             ],
             [
              0.6666666666666666,
              "#ed7953"
             ],
             [
              0.7777777777777778,
              "#fb9f3a"
             ],
             [
              0.8888888888888888,
              "#fdca26"
             ],
             [
              1,
              "#f0f921"
             ]
            ],
            "type": "histogram2dcontour"
           }
          ],
          "mesh3d": [
           {
            "colorbar": {
             "outlinewidth": 0,
             "ticks": ""
            },
            "type": "mesh3d"
           }
          ],
          "parcoords": [
           {
            "line": {
             "colorbar": {
              "outlinewidth": 0,
              "ticks": ""
             }
            },
            "type": "parcoords"
           }
          ],
          "pie": [
           {
            "automargin": true,
            "type": "pie"
           }
          ],
          "scatter": [
           {
            "marker": {
             "colorbar": {
              "outlinewidth": 0,
              "ticks": ""
             }
            },
            "type": "scatter"
           }
          ],
          "scatter3d": [
           {
            "line": {
             "colorbar": {
              "outlinewidth": 0,
              "ticks": ""
             }
            },
            "marker": {
             "colorbar": {
              "outlinewidth": 0,
              "ticks": ""
             }
            },
            "type": "scatter3d"
           }
          ],
          "scattercarpet": [
           {
            "marker": {
             "colorbar": {
              "outlinewidth": 0,
              "ticks": ""
             }
            },
            "type": "scattercarpet"
           }
          ],
          "scattergeo": [
           {
            "marker": {
             "colorbar": {
              "outlinewidth": 0,
              "ticks": ""
             }
            },
            "type": "scattergeo"
           }
          ],
          "scattergl": [
           {
            "marker": {
             "colorbar": {
              "outlinewidth": 0,
              "ticks": ""
             }
            },
            "type": "scattergl"
           }
          ],
          "scattermapbox": [
           {
            "marker": {
             "colorbar": {
              "outlinewidth": 0,
              "ticks": ""
             }
            },
            "type": "scattermapbox"
           }
          ],
          "scatterpolar": [
           {
            "marker": {
             "colorbar": {
              "outlinewidth": 0,
              "ticks": ""
             }
            },
            "type": "scatterpolar"
           }
          ],
          "scatterpolargl": [
           {
            "marker": {
             "colorbar": {
              "outlinewidth": 0,
              "ticks": ""
             }
            },
            "type": "scatterpolargl"
           }
          ],
          "scatterternary": [
           {
            "marker": {
             "colorbar": {
              "outlinewidth": 0,
              "ticks": ""
             }
            },
            "type": "scatterternary"
           }
          ],
          "surface": [
           {
            "colorbar": {
             "outlinewidth": 0,
             "ticks": ""
            },
            "colorscale": [
             [
              0,
              "#0d0887"
             ],
             [
              0.1111111111111111,
              "#46039f"
             ],
             [
              0.2222222222222222,
              "#7201a8"
             ],
             [
              0.3333333333333333,
              "#9c179e"
             ],
             [
              0.4444444444444444,
              "#bd3786"
             ],
             [
              0.5555555555555556,
              "#d8576b"
             ],
             [
              0.6666666666666666,
              "#ed7953"
             ],
             [
              0.7777777777777778,
              "#fb9f3a"
             ],
             [
              0.8888888888888888,
              "#fdca26"
             ],
             [
              1,
              "#f0f921"
             ]
            ],
            "type": "surface"
           }
          ],
          "table": [
           {
            "cells": {
             "fill": {
              "color": "#EBF0F8"
             },
             "line": {
              "color": "white"
             }
            },
            "header": {
             "fill": {
              "color": "#C8D4E3"
             },
             "line": {
              "color": "white"
             }
            },
            "type": "table"
           }
          ]
         },
         "layout": {
          "annotationdefaults": {
           "arrowcolor": "#2a3f5f",
           "arrowhead": 0,
           "arrowwidth": 1
          },
          "autotypenumbers": "strict",
          "coloraxis": {
           "colorbar": {
            "outlinewidth": 0,
            "ticks": ""
           }
          },
          "colorscale": {
           "diverging": [
            [
             0,
             "#8e0152"
            ],
            [
             0.1,
             "#c51b7d"
            ],
            [
             0.2,
             "#de77ae"
            ],
            [
             0.3,
             "#f1b6da"
            ],
            [
             0.4,
             "#fde0ef"
            ],
            [
             0.5,
             "#f7f7f7"
            ],
            [
             0.6,
             "#e6f5d0"
            ],
            [
             0.7,
             "#b8e186"
            ],
            [
             0.8,
             "#7fbc41"
            ],
            [
             0.9,
             "#4d9221"
            ],
            [
             1,
             "#276419"
            ]
           ],
           "sequential": [
            [
             0,
             "#0d0887"
            ],
            [
             0.1111111111111111,
             "#46039f"
            ],
            [
             0.2222222222222222,
             "#7201a8"
            ],
            [
             0.3333333333333333,
             "#9c179e"
            ],
            [
             0.4444444444444444,
             "#bd3786"
            ],
            [
             0.5555555555555556,
             "#d8576b"
            ],
            [
             0.6666666666666666,
             "#ed7953"
            ],
            [
             0.7777777777777778,
             "#fb9f3a"
            ],
            [
             0.8888888888888888,
             "#fdca26"
            ],
            [
             1,
             "#f0f921"
            ]
           ],
           "sequentialminus": [
            [
             0,
             "#0d0887"
            ],
            [
             0.1111111111111111,
             "#46039f"
            ],
            [
             0.2222222222222222,
             "#7201a8"
            ],
            [
             0.3333333333333333,
             "#9c179e"
            ],
            [
             0.4444444444444444,
             "#bd3786"
            ],
            [
             0.5555555555555556,
             "#d8576b"
            ],
            [
             0.6666666666666666,
             "#ed7953"
            ],
            [
             0.7777777777777778,
             "#fb9f3a"
            ],
            [
             0.8888888888888888,
             "#fdca26"
            ],
            [
             1,
             "#f0f921"
            ]
           ]
          },
          "colorway": [
           "#636efa",
           "#EF553B",
           "#00cc96",
           "#ab63fa",
           "#FFA15A",
           "#19d3f3",
           "#FF6692",
           "#B6E880",
           "#FF97FF",
           "#FECB52"
          ],
          "font": {
           "color": "#2a3f5f"
          },
          "geo": {
           "bgcolor": "white",
           "lakecolor": "white",
           "landcolor": "#E5ECF6",
           "showlakes": true,
           "showland": true,
           "subunitcolor": "white"
          },
          "hoverlabel": {
           "align": "left"
          },
          "hovermode": "closest",
          "mapbox": {
           "style": "light"
          },
          "paper_bgcolor": "white",
          "plot_bgcolor": "#E5ECF6",
          "polar": {
           "angularaxis": {
            "gridcolor": "white",
            "linecolor": "white",
            "ticks": ""
           },
           "bgcolor": "#E5ECF6",
           "radialaxis": {
            "gridcolor": "white",
            "linecolor": "white",
            "ticks": ""
           }
          },
          "scene": {
           "xaxis": {
            "backgroundcolor": "#E5ECF6",
            "gridcolor": "white",
            "gridwidth": 2,
            "linecolor": "white",
            "showbackground": true,
            "ticks": "",
            "zerolinecolor": "white"
           },
           "yaxis": {
            "backgroundcolor": "#E5ECF6",
            "gridcolor": "white",
            "gridwidth": 2,
            "linecolor": "white",
            "showbackground": true,
            "ticks": "",
            "zerolinecolor": "white"
           },
           "zaxis": {
            "backgroundcolor": "#E5ECF6",
            "gridcolor": "white",
            "gridwidth": 2,
            "linecolor": "white",
            "showbackground": true,
            "ticks": "",
            "zerolinecolor": "white"
           }
          },
          "shapedefaults": {
           "line": {
            "color": "#2a3f5f"
           }
          },
          "ternary": {
           "aaxis": {
            "gridcolor": "white",
            "linecolor": "white",
            "ticks": ""
           },
           "baxis": {
            "gridcolor": "white",
            "linecolor": "white",
            "ticks": ""
           },
           "bgcolor": "#E5ECF6",
           "caxis": {
            "gridcolor": "white",
            "linecolor": "white",
            "ticks": ""
           }
          },
          "title": {
           "x": 0.05
          },
          "xaxis": {
           "automargin": true,
           "gridcolor": "white",
           "linecolor": "white",
           "ticks": "",
           "title": {
            "standoff": 15
           },
           "zerolinecolor": "white",
           "zerolinewidth": 2
          },
          "yaxis": {
           "automargin": true,
           "gridcolor": "white",
           "linecolor": "white",
           "ticks": "",
           "title": {
            "standoff": 15
           },
           "zerolinecolor": "white",
           "zerolinewidth": 2
          }
         }
        },
        "title": {
         "font": {
          "color": "#4D5663"
         }
        },
        "xaxis": {
         "gridcolor": "#E1E5ED",
         "showgrid": true,
         "tickfont": {
          "color": "#4D5663"
         },
         "title": {
          "font": {
           "color": "#4D5663"
          },
          "text": ""
         },
         "zerolinecolor": "#E1E5ED"
        },
        "yaxis": {
         "gridcolor": "#E1E5ED",
         "showgrid": true,
         "tickfont": {
          "color": "#4D5663"
         },
         "title": {
          "font": {
           "color": "#4D5663"
          },
          "text": ""
         },
         "zerolinecolor": "#E1E5ED"
        }
       }
      },
      "text/html": [
       "<div>                            <div id=\"8c92daad-de6f-405c-85f6-a716c88d296f\" class=\"plotly-graph-div\" style=\"height:525px; width:100%;\"></div>            <script type=\"text/javascript\">                require([\"plotly\"], function(Plotly) {                    window.PLOTLYENV=window.PLOTLYENV || {};\n",
       "                    window.PLOTLYENV.BASE_URL='https://plot.ly';                                    if (document.getElementById(\"8c92daad-de6f-405c-85f6-a716c88d296f\")) {                    Plotly.newPlot(                        \"8c92daad-de6f-405c-85f6-a716c88d296f\",                        [{\"line\":{\"color\":\"rgba(255, 153, 51, 1.0)\",\"dash\":\"solid\",\"shape\":\"linear\",\"width\":1.3},\"mode\":\"lines\",\"name\":\"A\",\"text\":\"\",\"x\":[0,1,2,3,4,5,6,7,8,9,10,11,12,13,14,15,16,17,18,19,20,21,22,23,24,25,26,27,28,29,30,31,32,33,34,35,36,37,38,39,40,41,42,43,44,45,46,47,48,49,50,51,52,53,54,55,56,57,58,59,60,61,62,63,64,65,66,67,68,69,70,71,72,73,74,75,76,77,78,79,80,81,82,83,84,85,86,87,88,89,90,91,92,93,94,95,96,97,98,99],\"y\":[0.17182131329699793,-0.21751837149008088,0.8520992115955089,0.05742133483880542,-0.03701115586440133,2.6973597817844914,-1.8877793190781818,1.7166623332352855,1.259911262295181,0.031769281679936395,0.0508239712076725,0.43627786253626,1.0198172828269088,0.2240566601363054,1.3260778196171579,-0.3910345927243946,-0.6624997831912773,-0.9400987274239068,-0.6377684477678879,0.23788029069286531,0.06969530641928225,-0.08669172991049304,-0.1512677661162708,-1.1658260190456318,1.0600197895207202,-0.20221201669291944,-0.07693099603756043,0.4945802513070474,0.6371521910271359,0.4852632657427939,-0.40581619690111637,0.1412205595276012,0.13918143842256417,0.6310934836171265,1.1433954277165832,-0.34590239097163983,0.7302838926871985,0.02829008194726475,-1.0251405439724093,-0.16828515380497752,0.713802473498807,-1.5230087719873744,1.1894249747216414,-0.02110573542948361,-0.009013224341380086,-0.6099868239339996,0.3827652838586205,-0.4881093218446922,-1.2923096311306281,0.6609728793408054,0.46890971023101813,0.5326518795412732,0.20057041674142995,-0.579659726057919,-0.7904339074270497,-1.9195917396464204,-0.12432851356501343,0.016896163296924296,-0.7006644454340994,1.4037974829972457,-1.591543040486118,-0.12099627209491523,0.4642002294162683,-0.7821594697936182,1.1783639613615309,-2.026759862138661,-1.025229349046652,-0.8046370009828545,-0.5076446125965427,0.02281882785522542,1.2024157907690753,1.4714869478383663,0.689903888615297,-0.24514831334276257,-0.0035223811014121866,0.8883867313431024,0.21921114499087757,1.1141936138054414,0.2788188678593166,-0.07634107259449303,0.6826915621705238,0.3114738030169309,0.2615743783695237,0.014063052275365666,0.8572265898624823,1.160204046429771,0.5413020744257988,1.1959762106386431,-1.4804127495676545,0.5208510722656184,0.10931121482756144,-0.8714162682553113,-0.8863941668231697,-1.6131738814242642,1.7170467935777118,1.2368578356106872,2.115808069659541,-0.9575909358514951,-1.0103683951644498,0.8414130802145096],\"type\":\"scatter\"},{\"line\":{\"color\":\"rgba(55, 128, 191, 1.0)\",\"dash\":\"solid\",\"shape\":\"linear\",\"width\":1.3},\"mode\":\"lines\",\"name\":\"B\",\"text\":\"\",\"x\":[0,1,2,3,4,5,6,7,8,9,10,11,12,13,14,15,16,17,18,19,20,21,22,23,24,25,26,27,28,29,30,31,32,33,34,35,36,37,38,39,40,41,42,43,44,45,46,47,48,49,50,51,52,53,54,55,56,57,58,59,60,61,62,63,64,65,66,67,68,69,70,71,72,73,74,75,76,77,78,79,80,81,82,83,84,85,86,87,88,89,90,91,92,93,94,95,96,97,98,99],\"y\":[1.9824198315783816,1.3091993326892228,-1.2232988271495462,-0.19719594337514346,-0.3883205707396667,-0.714436389257402,-2.88227623152448,0.844681688946653,-0.22775321569799709,1.1823240259708958,0.34029333587973354,-1.3109908156911778,-0.23828709768589754,-0.3284753384999053,0.3854320433598857,-0.7877815992111348,1.260930508403904,-0.6376699832686588,1.4919925325626402,1.8430188733793647,-0.53329941520741,0.8995368070732571,1.3220065246551411,0.7899378206176743,2.559225504588923,-2.163397447913008,-0.5114503633193542,-0.6804299981894304,0.3916906174456555,-0.9137016294766945,-1.2210721128562319,-1.9725269460216899,0.7094890909986767,-0.2751737621465072,-0.08731916358838872,0.9866228301041913,-0.5595860856582786,-1.1939186763929523,0.6681730424053982,0.5014533400976171,0.8551026990355919,-0.256238454119293,0.5470435635003105,1.3442119595879491,0.08477395127003368,1.9755689399593193,0.7678336141341726,-0.6567260332772877,2.456323956444022,-0.7011317822766581,0.78227220870668,0.24481209559617614,-0.8680652415261771,-0.4560191083149844,-0.4181872761228879,-0.6640338993480072,0.6842151623414131,-1.715738873887148,0.4210807397823437,-0.9472812249812783,0.10244262377035715,1.2471790365716295,-0.6633440997020905,1.5130780644821349,-1.634256863891054,-0.27978027667764627,-0.15764709446756195,1.3268082081064996,0.2119850457355075,-0.20335591336657793,0.03811988530396497,0.3615077045931863,-0.022946861281996894,1.751464493217749,0.38794212109299925,1.1266379375838935,1.2421671040967004,1.5766723383052155,0.1673679152308049,0.6650414255780529,-0.7491324331459841,0.4255355160409724,-0.8234191555435801,1.4476429835646385,-0.16701431149830737,-0.6008746398228956,-1.2647876115554673,-0.1398344928393769,2.6919066244577023,-1.3693196253960402,1.3240376603454416,0.711397001180157,-1.395667721912057,0.7702217374207543,1.4635340072179726,-2.5356853246697746,-0.2843972219611788,1.6286145267704566,-0.08473981575812777,0.4420878484700525],\"type\":\"scatter\"},{\"line\":{\"color\":\"rgba(50, 171, 96, 1.0)\",\"dash\":\"solid\",\"shape\":\"linear\",\"width\":1.3},\"mode\":\"lines\",\"name\":\"C\",\"text\":\"\",\"x\":[0,1,2,3,4,5,6,7,8,9,10,11,12,13,14,15,16,17,18,19,20,21,22,23,24,25,26,27,28,29,30,31,32,33,34,35,36,37,38,39,40,41,42,43,44,45,46,47,48,49,50,51,52,53,54,55,56,57,58,59,60,61,62,63,64,65,66,67,68,69,70,71,72,73,74,75,76,77,78,79,80,81,82,83,84,85,86,87,88,89,90,91,92,93,94,95,96,97,98,99],\"y\":[-0.06692149827891483,0.21163508676146844,0.10962546429194915,-0.2558534300057048,-1.0492460939050248,1.040490686200205,0.07354678550251936,-1.008281976174112,0.13282976375171887,1.1192055133929228,-0.11040444333363535,0.3793407458297617,-0.46090660728034044,-1.660226482279525,-0.2961280544340508,-1.5586414580003636,2.169467850787301,2.523535716595376,-1.4642940309453036,-0.038437747590108075,-0.8699575853617059,-0.16345142570587193,-0.4719380413247446,-1.1452082460673398,0.4819366982023875,-1.0363534957745169,0.2859574178040571,1.0655286630933491,-0.11086346800488464,-0.07293702286019811,-0.25293593473615616,-0.18303416407740078,-0.41790548892845597,-0.11461663118001136,-1.589200545678026,-1.0964099934514793,-0.37554800238541103,-0.0996017199236781,1.0676301399002148,0.48654784004203167,0.36290834128167454,0.1300103793987335,0.8064625009596381,0.013830930107821401,-1.2755600507738083,-1.1260322492935764,1.8563698674995595,-1.1159804104526063,1.0499349480169025,-1.3161252441082945,1.0193888319116835,-0.4174508404753829,0.4676925181626736,-0.7391404683682344,0.9946440781326336,-2.3851102826330313,1.1528027729198533,0.5533125722332582,0.0853455012942767,-1.6007079416275325,0.5066546358568118,0.09296421976299869,-1.4091398749727495,0.8488858182257673,0.3537522176221965,-0.648665513302343,-0.365054741533402,0.9958427403963284,-0.09566153249121677,-0.39006338725617334,0.3836322694653195,-0.28249667470159623,-1.0427682001568448,-0.42081315933762353,0.9340478224623755,0.3154766707839829,-0.5493194486239779,1.6084689913196342,0.7485272991064392,0.3265551336874761,-0.10060890300142215,-1.6274240822731207,-0.692156534635706,-1.649334531922874,0.6229110651212619,0.7797817051121688,-0.589418862332541,-0.8523257616912966,0.2606750596232987,-1.209367782431702,0.5388364328927802,0.4939253040890085,-0.12839754386255955,0.5605173596848374,1.0305025247887865,-1.4444643659994203,0.7520344814672549,0.22493433918716954,-0.5579279755129903,-0.8803388021437051],\"type\":\"scatter\"},{\"line\":{\"color\":\"rgba(128, 0, 128, 1.0)\",\"dash\":\"solid\",\"shape\":\"linear\",\"width\":1.3},\"mode\":\"lines\",\"name\":\"D\",\"text\":\"\",\"x\":[0,1,2,3,4,5,6,7,8,9,10,11,12,13,14,15,16,17,18,19,20,21,22,23,24,25,26,27,28,29,30,31,32,33,34,35,36,37,38,39,40,41,42,43,44,45,46,47,48,49,50,51,52,53,54,55,56,57,58,59,60,61,62,63,64,65,66,67,68,69,70,71,72,73,74,75,76,77,78,79,80,81,82,83,84,85,86,87,88,89,90,91,92,93,94,95,96,97,98,99],\"y\":[-0.3368986726967059,0.7518137909507739,-1.4754031781684198,-1.3873661948467646,0.5366440290038864,-0.6086279807801238,-0.28449750603972696,-0.997729440194146,0.6840601963313361,0.16335827281561927,2.068184744244638,-0.6470979605963196,1.195153469755728,1.6012105097647358,-0.43323389782101746,1.1313213515968712,-0.553422330480302,-0.47918545859079326,-1.198827599019185,-0.7587809042198871,-0.5375272630792494,-0.9709238393633437,-1.4002850298460936,-0.23482208473203486,-1.4756939327392007,1.5749289674525897,-0.4401486798614137,-0.08248188246193845,0.018602802785695465,-0.8403496381646197,-0.04956322074918477,0.6178076978921899,1.1455904042809115,0.13989362246954168,-0.03550083311516659,0.9272741147509023,0.6361229855491726,-0.7841808232655151,0.8585857815829068,-1.8011355532888107,1.661808660248311,2.0109400289145523,1.3048734457294462,0.9032419964846703,0.8971648156733816,0.16441321975080556,0.9837495198363891,-0.11443263495506939,1.4643237693041038,-0.7246778998206684,-0.5573238370238565,-2.75463884493668,-0.43206859770011463,0.9777073791219038,-0.646060193433183,0.2686794046986245,-1.3815109656918652,-0.4219384041798588,-0.02745170413573071,-0.4588991425406564,0.3378129992552197,0.9397124179166676,0.0748915667472112,-0.6224447864353309,1.2355086067491552,-0.9813545480077074,-0.06580046251001918,-1.4518800547323825,2.0962158584098898,-0.9998231377997212,-1.0096604103407463,-0.20009481575248378,1.7761070447361005,-0.2987396767581034,-0.7339866886202033,-0.13981579480794043,0.8888538171707128,-0.23081176937598127,0.8466152990663928,-1.68114726177875,0.24520929705750316,0.15083576195661244,1.053478957203685,0.11546385904520526,0.9459855873687798,-0.577724287787626,2.9784813172241154,-0.20089625538567984,1.137863396939422,0.5097395919053742,1.4833471902768316,-0.2800028816075082,-1.7430766063513776,1.094082687721341,-0.34140792454295366,0.5917964983346524,0.20270662579236268,0.31175478102408394,-0.532804399900463,1.477015988469366],\"type\":\"scatter\"}],                        {\"legend\":{\"bgcolor\":\"#F5F6F9\",\"font\":{\"color\":\"#4D5663\"}},\"paper_bgcolor\":\"#F5F6F9\",\"plot_bgcolor\":\"#F5F6F9\",\"template\":{\"data\":{\"barpolar\":[{\"marker\":{\"line\":{\"color\":\"#E5ECF6\",\"width\":0.5},\"pattern\":{\"fillmode\":\"overlay\",\"size\":10,\"solidity\":0.2}},\"type\":\"barpolar\"}],\"bar\":[{\"error_x\":{\"color\":\"#2a3f5f\"},\"error_y\":{\"color\":\"#2a3f5f\"},\"marker\":{\"line\":{\"color\":\"#E5ECF6\",\"width\":0.5},\"pattern\":{\"fillmode\":\"overlay\",\"size\":10,\"solidity\":0.2}},\"type\":\"bar\"}],\"carpet\":[{\"aaxis\":{\"endlinecolor\":\"#2a3f5f\",\"gridcolor\":\"white\",\"linecolor\":\"white\",\"minorgridcolor\":\"white\",\"startlinecolor\":\"#2a3f5f\"},\"baxis\":{\"endlinecolor\":\"#2a3f5f\",\"gridcolor\":\"white\",\"linecolor\":\"white\",\"minorgridcolor\":\"white\",\"startlinecolor\":\"#2a3f5f\"},\"type\":\"carpet\"}],\"choropleth\":[{\"colorbar\":{\"outlinewidth\":0,\"ticks\":\"\"},\"type\":\"choropleth\"}],\"contourcarpet\":[{\"colorbar\":{\"outlinewidth\":0,\"ticks\":\"\"},\"type\":\"contourcarpet\"}],\"contour\":[{\"colorbar\":{\"outlinewidth\":0,\"ticks\":\"\"},\"colorscale\":[[0.0,\"#0d0887\"],[0.1111111111111111,\"#46039f\"],[0.2222222222222222,\"#7201a8\"],[0.3333333333333333,\"#9c179e\"],[0.4444444444444444,\"#bd3786\"],[0.5555555555555556,\"#d8576b\"],[0.6666666666666666,\"#ed7953\"],[0.7777777777777778,\"#fb9f3a\"],[0.8888888888888888,\"#fdca26\"],[1.0,\"#f0f921\"]],\"type\":\"contour\"}],\"heatmapgl\":[{\"colorbar\":{\"outlinewidth\":0,\"ticks\":\"\"},\"colorscale\":[[0.0,\"#0d0887\"],[0.1111111111111111,\"#46039f\"],[0.2222222222222222,\"#7201a8\"],[0.3333333333333333,\"#9c179e\"],[0.4444444444444444,\"#bd3786\"],[0.5555555555555556,\"#d8576b\"],[0.6666666666666666,\"#ed7953\"],[0.7777777777777778,\"#fb9f3a\"],[0.8888888888888888,\"#fdca26\"],[1.0,\"#f0f921\"]],\"type\":\"heatmapgl\"}],\"heatmap\":[{\"colorbar\":{\"outlinewidth\":0,\"ticks\":\"\"},\"colorscale\":[[0.0,\"#0d0887\"],[0.1111111111111111,\"#46039f\"],[0.2222222222222222,\"#7201a8\"],[0.3333333333333333,\"#9c179e\"],[0.4444444444444444,\"#bd3786\"],[0.5555555555555556,\"#d8576b\"],[0.6666666666666666,\"#ed7953\"],[0.7777777777777778,\"#fb9f3a\"],[0.8888888888888888,\"#fdca26\"],[1.0,\"#f0f921\"]],\"type\":\"heatmap\"}],\"histogram2dcontour\":[{\"colorbar\":{\"outlinewidth\":0,\"ticks\":\"\"},\"colorscale\":[[0.0,\"#0d0887\"],[0.1111111111111111,\"#46039f\"],[0.2222222222222222,\"#7201a8\"],[0.3333333333333333,\"#9c179e\"],[0.4444444444444444,\"#bd3786\"],[0.5555555555555556,\"#d8576b\"],[0.6666666666666666,\"#ed7953\"],[0.7777777777777778,\"#fb9f3a\"],[0.8888888888888888,\"#fdca26\"],[1.0,\"#f0f921\"]],\"type\":\"histogram2dcontour\"}],\"histogram2d\":[{\"colorbar\":{\"outlinewidth\":0,\"ticks\":\"\"},\"colorscale\":[[0.0,\"#0d0887\"],[0.1111111111111111,\"#46039f\"],[0.2222222222222222,\"#7201a8\"],[0.3333333333333333,\"#9c179e\"],[0.4444444444444444,\"#bd3786\"],[0.5555555555555556,\"#d8576b\"],[0.6666666666666666,\"#ed7953\"],[0.7777777777777778,\"#fb9f3a\"],[0.8888888888888888,\"#fdca26\"],[1.0,\"#f0f921\"]],\"type\":\"histogram2d\"}],\"histogram\":[{\"marker\":{\"pattern\":{\"fillmode\":\"overlay\",\"size\":10,\"solidity\":0.2}},\"type\":\"histogram\"}],\"mesh3d\":[{\"colorbar\":{\"outlinewidth\":0,\"ticks\":\"\"},\"type\":\"mesh3d\"}],\"parcoords\":[{\"line\":{\"colorbar\":{\"outlinewidth\":0,\"ticks\":\"\"}},\"type\":\"parcoords\"}],\"pie\":[{\"automargin\":true,\"type\":\"pie\"}],\"scatter3d\":[{\"line\":{\"colorbar\":{\"outlinewidth\":0,\"ticks\":\"\"}},\"marker\":{\"colorbar\":{\"outlinewidth\":0,\"ticks\":\"\"}},\"type\":\"scatter3d\"}],\"scattercarpet\":[{\"marker\":{\"colorbar\":{\"outlinewidth\":0,\"ticks\":\"\"}},\"type\":\"scattercarpet\"}],\"scattergeo\":[{\"marker\":{\"colorbar\":{\"outlinewidth\":0,\"ticks\":\"\"}},\"type\":\"scattergeo\"}],\"scattergl\":[{\"marker\":{\"colorbar\":{\"outlinewidth\":0,\"ticks\":\"\"}},\"type\":\"scattergl\"}],\"scattermapbox\":[{\"marker\":{\"colorbar\":{\"outlinewidth\":0,\"ticks\":\"\"}},\"type\":\"scattermapbox\"}],\"scatterpolargl\":[{\"marker\":{\"colorbar\":{\"outlinewidth\":0,\"ticks\":\"\"}},\"type\":\"scatterpolargl\"}],\"scatterpolar\":[{\"marker\":{\"colorbar\":{\"outlinewidth\":0,\"ticks\":\"\"}},\"type\":\"scatterpolar\"}],\"scatter\":[{\"marker\":{\"colorbar\":{\"outlinewidth\":0,\"ticks\":\"\"}},\"type\":\"scatter\"}],\"scatterternary\":[{\"marker\":{\"colorbar\":{\"outlinewidth\":0,\"ticks\":\"\"}},\"type\":\"scatterternary\"}],\"surface\":[{\"colorbar\":{\"outlinewidth\":0,\"ticks\":\"\"},\"colorscale\":[[0.0,\"#0d0887\"],[0.1111111111111111,\"#46039f\"],[0.2222222222222222,\"#7201a8\"],[0.3333333333333333,\"#9c179e\"],[0.4444444444444444,\"#bd3786\"],[0.5555555555555556,\"#d8576b\"],[0.6666666666666666,\"#ed7953\"],[0.7777777777777778,\"#fb9f3a\"],[0.8888888888888888,\"#fdca26\"],[1.0,\"#f0f921\"]],\"type\":\"surface\"}],\"table\":[{\"cells\":{\"fill\":{\"color\":\"#EBF0F8\"},\"line\":{\"color\":\"white\"}},\"header\":{\"fill\":{\"color\":\"#C8D4E3\"},\"line\":{\"color\":\"white\"}},\"type\":\"table\"}]},\"layout\":{\"annotationdefaults\":{\"arrowcolor\":\"#2a3f5f\",\"arrowhead\":0,\"arrowwidth\":1},\"autotypenumbers\":\"strict\",\"coloraxis\":{\"colorbar\":{\"outlinewidth\":0,\"ticks\":\"\"}},\"colorscale\":{\"diverging\":[[0,\"#8e0152\"],[0.1,\"#c51b7d\"],[0.2,\"#de77ae\"],[0.3,\"#f1b6da\"],[0.4,\"#fde0ef\"],[0.5,\"#f7f7f7\"],[0.6,\"#e6f5d0\"],[0.7,\"#b8e186\"],[0.8,\"#7fbc41\"],[0.9,\"#4d9221\"],[1,\"#276419\"]],\"sequential\":[[0.0,\"#0d0887\"],[0.1111111111111111,\"#46039f\"],[0.2222222222222222,\"#7201a8\"],[0.3333333333333333,\"#9c179e\"],[0.4444444444444444,\"#bd3786\"],[0.5555555555555556,\"#d8576b\"],[0.6666666666666666,\"#ed7953\"],[0.7777777777777778,\"#fb9f3a\"],[0.8888888888888888,\"#fdca26\"],[1.0,\"#f0f921\"]],\"sequentialminus\":[[0.0,\"#0d0887\"],[0.1111111111111111,\"#46039f\"],[0.2222222222222222,\"#7201a8\"],[0.3333333333333333,\"#9c179e\"],[0.4444444444444444,\"#bd3786\"],[0.5555555555555556,\"#d8576b\"],[0.6666666666666666,\"#ed7953\"],[0.7777777777777778,\"#fb9f3a\"],[0.8888888888888888,\"#fdca26\"],[1.0,\"#f0f921\"]]},\"colorway\":[\"#636efa\",\"#EF553B\",\"#00cc96\",\"#ab63fa\",\"#FFA15A\",\"#19d3f3\",\"#FF6692\",\"#B6E880\",\"#FF97FF\",\"#FECB52\"],\"font\":{\"color\":\"#2a3f5f\"},\"geo\":{\"bgcolor\":\"white\",\"lakecolor\":\"white\",\"landcolor\":\"#E5ECF6\",\"showlakes\":true,\"showland\":true,\"subunitcolor\":\"white\"},\"hoverlabel\":{\"align\":\"left\"},\"hovermode\":\"closest\",\"mapbox\":{\"style\":\"light\"},\"paper_bgcolor\":\"white\",\"plot_bgcolor\":\"#E5ECF6\",\"polar\":{\"angularaxis\":{\"gridcolor\":\"white\",\"linecolor\":\"white\",\"ticks\":\"\"},\"bgcolor\":\"#E5ECF6\",\"radialaxis\":{\"gridcolor\":\"white\",\"linecolor\":\"white\",\"ticks\":\"\"}},\"scene\":{\"xaxis\":{\"backgroundcolor\":\"#E5ECF6\",\"gridcolor\":\"white\",\"gridwidth\":2,\"linecolor\":\"white\",\"showbackground\":true,\"ticks\":\"\",\"zerolinecolor\":\"white\"},\"yaxis\":{\"backgroundcolor\":\"#E5ECF6\",\"gridcolor\":\"white\",\"gridwidth\":2,\"linecolor\":\"white\",\"showbackground\":true,\"ticks\":\"\",\"zerolinecolor\":\"white\"},\"zaxis\":{\"backgroundcolor\":\"#E5ECF6\",\"gridcolor\":\"white\",\"gridwidth\":2,\"linecolor\":\"white\",\"showbackground\":true,\"ticks\":\"\",\"zerolinecolor\":\"white\"}},\"shapedefaults\":{\"line\":{\"color\":\"#2a3f5f\"}},\"ternary\":{\"aaxis\":{\"gridcolor\":\"white\",\"linecolor\":\"white\",\"ticks\":\"\"},\"baxis\":{\"gridcolor\":\"white\",\"linecolor\":\"white\",\"ticks\":\"\"},\"bgcolor\":\"#E5ECF6\",\"caxis\":{\"gridcolor\":\"white\",\"linecolor\":\"white\",\"ticks\":\"\"}},\"title\":{\"x\":0.05},\"xaxis\":{\"automargin\":true,\"gridcolor\":\"white\",\"linecolor\":\"white\",\"ticks\":\"\",\"title\":{\"standoff\":15},\"zerolinecolor\":\"white\",\"zerolinewidth\":2},\"yaxis\":{\"automargin\":true,\"gridcolor\":\"white\",\"linecolor\":\"white\",\"ticks\":\"\",\"title\":{\"standoff\":15},\"zerolinecolor\":\"white\",\"zerolinewidth\":2}}},\"title\":{\"font\":{\"color\":\"#4D5663\"}},\"xaxis\":{\"gridcolor\":\"#E1E5ED\",\"showgrid\":true,\"tickfont\":{\"color\":\"#4D5663\"},\"title\":{\"font\":{\"color\":\"#4D5663\"},\"text\":\"\"},\"zerolinecolor\":\"#E1E5ED\"},\"yaxis\":{\"gridcolor\":\"#E1E5ED\",\"showgrid\":true,\"tickfont\":{\"color\":\"#4D5663\"},\"title\":{\"font\":{\"color\":\"#4D5663\"},\"text\":\"\"},\"zerolinecolor\":\"#E1E5ED\"}},                        {\"showLink\": true, \"linkText\": \"Export to plot.ly\", \"plotlyServerURL\": \"https://plot.ly\", \"responsive\": true}                    ).then(function(){\n",
       "                            \n",
       "var gd = document.getElementById('8c92daad-de6f-405c-85f6-a716c88d296f');\n",
       "var x = new MutationObserver(function (mutations, observer) {{\n",
       "        var display = window.getComputedStyle(gd).display;\n",
       "        if (!display || display === 'none') {{\n",
       "            console.log([gd, 'removed!']);\n",
       "            Plotly.purge(gd);\n",
       "            observer.disconnect();\n",
       "        }}\n",
       "}});\n",
       "\n",
       "// Listen for the removal of the full notebook cells\n",
       "var notebookContainer = gd.closest('#notebook-container');\n",
       "if (notebookContainer) {{\n",
       "    x.observe(notebookContainer, {childList: true});\n",
       "}}\n",
       "\n",
       "// Listen for the clearing of the current output cell\n",
       "var outputEl = gd.closest('.output');\n",
       "if (outputEl) {{\n",
       "    x.observe(outputEl, {childList: true});\n",
       "}}\n",
       "\n",
       "                        })                };                });            </script>        </div>"
      ]
     },
     "metadata": {},
     "output_type": "display_data"
    }
   ],
   "source": [
    "df.iplot()"
   ]
  },
  {
   "cell_type": "code",
   "execution_count": 11,
   "id": "58af169c",
   "metadata": {},
   "outputs": [
    {
     "data": {
      "application/vnd.plotly.v1+json": {
       "config": {
        "linkText": "Export to plot.ly",
        "plotlyServerURL": "https://plot.ly",
        "showLink": true
       },
       "data": [
        {
         "line": {
          "color": "rgba(255, 153, 51, 1.0)",
          "dash": "solid",
          "shape": "linear",
          "width": 1.3
         },
         "marker": {
          "size": 10,
          "symbol": "circle"
         },
         "mode": "markers",
         "name": "B",
         "text": "",
         "type": "scatter",
         "x": [
          0.17182131329699793,
          -0.21751837149008088,
          0.8520992115955089,
          0.05742133483880542,
          -0.03701115586440133,
          2.6973597817844914,
          -1.8877793190781818,
          1.7166623332352855,
          1.259911262295181,
          0.031769281679936395,
          0.0508239712076725,
          0.43627786253626,
          1.0198172828269088,
          0.2240566601363054,
          1.3260778196171579,
          -0.3910345927243946,
          -0.6624997831912773,
          -0.9400987274239068,
          -0.6377684477678879,
          0.23788029069286531,
          0.06969530641928225,
          -0.08669172991049304,
          -0.1512677661162708,
          -1.1658260190456318,
          1.0600197895207202,
          -0.20221201669291944,
          -0.07693099603756043,
          0.4945802513070474,
          0.6371521910271359,
          0.4852632657427939,
          -0.40581619690111637,
          0.1412205595276012,
          0.13918143842256417,
          0.6310934836171265,
          1.1433954277165832,
          -0.34590239097163983,
          0.7302838926871985,
          0.02829008194726475,
          -1.0251405439724093,
          -0.16828515380497752,
          0.713802473498807,
          -1.5230087719873744,
          1.1894249747216414,
          -0.02110573542948361,
          -0.009013224341380086,
          -0.6099868239339996,
          0.3827652838586205,
          -0.4881093218446922,
          -1.2923096311306281,
          0.6609728793408054,
          0.46890971023101813,
          0.5326518795412732,
          0.20057041674142995,
          -0.579659726057919,
          -0.7904339074270497,
          -1.9195917396464204,
          -0.12432851356501343,
          0.016896163296924296,
          -0.7006644454340994,
          1.4037974829972457,
          -1.591543040486118,
          -0.12099627209491523,
          0.4642002294162683,
          -0.7821594697936182,
          1.1783639613615309,
          -2.026759862138661,
          -1.025229349046652,
          -0.8046370009828545,
          -0.5076446125965427,
          0.02281882785522542,
          1.2024157907690753,
          1.4714869478383663,
          0.689903888615297,
          -0.24514831334276257,
          -0.0035223811014121866,
          0.8883867313431024,
          0.21921114499087757,
          1.1141936138054414,
          0.2788188678593166,
          -0.07634107259449303,
          0.6826915621705238,
          0.3114738030169309,
          0.2615743783695237,
          0.014063052275365666,
          0.8572265898624823,
          1.160204046429771,
          0.5413020744257988,
          1.1959762106386431,
          -1.4804127495676545,
          0.5208510722656184,
          0.10931121482756144,
          -0.8714162682553113,
          -0.8863941668231697,
          -1.6131738814242642,
          1.7170467935777118,
          1.2368578356106872,
          2.115808069659541,
          -0.9575909358514951,
          -1.0103683951644498,
          0.8414130802145096
         ],
         "y": [
          1.9824198315783816,
          1.3091993326892228,
          -1.2232988271495462,
          -0.19719594337514346,
          -0.3883205707396667,
          -0.714436389257402,
          -2.88227623152448,
          0.844681688946653,
          -0.22775321569799709,
          1.1823240259708958,
          0.34029333587973354,
          -1.3109908156911778,
          -0.23828709768589754,
          -0.3284753384999053,
          0.3854320433598857,
          -0.7877815992111348,
          1.260930508403904,
          -0.6376699832686588,
          1.4919925325626402,
          1.8430188733793647,
          -0.53329941520741,
          0.8995368070732571,
          1.3220065246551411,
          0.7899378206176743,
          2.559225504588923,
          -2.163397447913008,
          -0.5114503633193542,
          -0.6804299981894304,
          0.3916906174456555,
          -0.9137016294766945,
          -1.2210721128562319,
          -1.9725269460216899,
          0.7094890909986767,
          -0.2751737621465072,
          -0.08731916358838872,
          0.9866228301041913,
          -0.5595860856582786,
          -1.1939186763929523,
          0.6681730424053982,
          0.5014533400976171,
          0.8551026990355919,
          -0.256238454119293,
          0.5470435635003105,
          1.3442119595879491,
          0.08477395127003368,
          1.9755689399593193,
          0.7678336141341726,
          -0.6567260332772877,
          2.456323956444022,
          -0.7011317822766581,
          0.78227220870668,
          0.24481209559617614,
          -0.8680652415261771,
          -0.4560191083149844,
          -0.4181872761228879,
          -0.6640338993480072,
          0.6842151623414131,
          -1.715738873887148,
          0.4210807397823437,
          -0.9472812249812783,
          0.10244262377035715,
          1.2471790365716295,
          -0.6633440997020905,
          1.5130780644821349,
          -1.634256863891054,
          -0.27978027667764627,
          -0.15764709446756195,
          1.3268082081064996,
          0.2119850457355075,
          -0.20335591336657793,
          0.03811988530396497,
          0.3615077045931863,
          -0.022946861281996894,
          1.751464493217749,
          0.38794212109299925,
          1.1266379375838935,
          1.2421671040967004,
          1.5766723383052155,
          0.1673679152308049,
          0.6650414255780529,
          -0.7491324331459841,
          0.4255355160409724,
          -0.8234191555435801,
          1.4476429835646385,
          -0.16701431149830737,
          -0.6008746398228956,
          -1.2647876115554673,
          -0.1398344928393769,
          2.6919066244577023,
          -1.3693196253960402,
          1.3240376603454416,
          0.711397001180157,
          -1.395667721912057,
          0.7702217374207543,
          1.4635340072179726,
          -2.5356853246697746,
          -0.2843972219611788,
          1.6286145267704566,
          -0.08473981575812777,
          0.4420878484700525
         ]
        }
       ],
       "layout": {
        "legend": {
         "bgcolor": "#F5F6F9",
         "font": {
          "color": "#4D5663"
         }
        },
        "paper_bgcolor": "#F5F6F9",
        "plot_bgcolor": "#F5F6F9",
        "template": {
         "data": {
          "bar": [
           {
            "error_x": {
             "color": "#2a3f5f"
            },
            "error_y": {
             "color": "#2a3f5f"
            },
            "marker": {
             "line": {
              "color": "#E5ECF6",
              "width": 0.5
             },
             "pattern": {
              "fillmode": "overlay",
              "size": 10,
              "solidity": 0.2
             }
            },
            "type": "bar"
           }
          ],
          "barpolar": [
           {
            "marker": {
             "line": {
              "color": "#E5ECF6",
              "width": 0.5
             },
             "pattern": {
              "fillmode": "overlay",
              "size": 10,
              "solidity": 0.2
             }
            },
            "type": "barpolar"
           }
          ],
          "carpet": [
           {
            "aaxis": {
             "endlinecolor": "#2a3f5f",
             "gridcolor": "white",
             "linecolor": "white",
             "minorgridcolor": "white",
             "startlinecolor": "#2a3f5f"
            },
            "baxis": {
             "endlinecolor": "#2a3f5f",
             "gridcolor": "white",
             "linecolor": "white",
             "minorgridcolor": "white",
             "startlinecolor": "#2a3f5f"
            },
            "type": "carpet"
           }
          ],
          "choropleth": [
           {
            "colorbar": {
             "outlinewidth": 0,
             "ticks": ""
            },
            "type": "choropleth"
           }
          ],
          "contour": [
           {
            "colorbar": {
             "outlinewidth": 0,
             "ticks": ""
            },
            "colorscale": [
             [
              0,
              "#0d0887"
             ],
             [
              0.1111111111111111,
              "#46039f"
             ],
             [
              0.2222222222222222,
              "#7201a8"
             ],
             [
              0.3333333333333333,
              "#9c179e"
             ],
             [
              0.4444444444444444,
              "#bd3786"
             ],
             [
              0.5555555555555556,
              "#d8576b"
             ],
             [
              0.6666666666666666,
              "#ed7953"
             ],
             [
              0.7777777777777778,
              "#fb9f3a"
             ],
             [
              0.8888888888888888,
              "#fdca26"
             ],
             [
              1,
              "#f0f921"
             ]
            ],
            "type": "contour"
           }
          ],
          "contourcarpet": [
           {
            "colorbar": {
             "outlinewidth": 0,
             "ticks": ""
            },
            "type": "contourcarpet"
           }
          ],
          "heatmap": [
           {
            "colorbar": {
             "outlinewidth": 0,
             "ticks": ""
            },
            "colorscale": [
             [
              0,
              "#0d0887"
             ],
             [
              0.1111111111111111,
              "#46039f"
             ],
             [
              0.2222222222222222,
              "#7201a8"
             ],
             [
              0.3333333333333333,
              "#9c179e"
             ],
             [
              0.4444444444444444,
              "#bd3786"
             ],
             [
              0.5555555555555556,
              "#d8576b"
             ],
             [
              0.6666666666666666,
              "#ed7953"
             ],
             [
              0.7777777777777778,
              "#fb9f3a"
             ],
             [
              0.8888888888888888,
              "#fdca26"
             ],
             [
              1,
              "#f0f921"
             ]
            ],
            "type": "heatmap"
           }
          ],
          "heatmapgl": [
           {
            "colorbar": {
             "outlinewidth": 0,
             "ticks": ""
            },
            "colorscale": [
             [
              0,
              "#0d0887"
             ],
             [
              0.1111111111111111,
              "#46039f"
             ],
             [
              0.2222222222222222,
              "#7201a8"
             ],
             [
              0.3333333333333333,
              "#9c179e"
             ],
             [
              0.4444444444444444,
              "#bd3786"
             ],
             [
              0.5555555555555556,
              "#d8576b"
             ],
             [
              0.6666666666666666,
              "#ed7953"
             ],
             [
              0.7777777777777778,
              "#fb9f3a"
             ],
             [
              0.8888888888888888,
              "#fdca26"
             ],
             [
              1,
              "#f0f921"
             ]
            ],
            "type": "heatmapgl"
           }
          ],
          "histogram": [
           {
            "marker": {
             "pattern": {
              "fillmode": "overlay",
              "size": 10,
              "solidity": 0.2
             }
            },
            "type": "histogram"
           }
          ],
          "histogram2d": [
           {
            "colorbar": {
             "outlinewidth": 0,
             "ticks": ""
            },
            "colorscale": [
             [
              0,
              "#0d0887"
             ],
             [
              0.1111111111111111,
              "#46039f"
             ],
             [
              0.2222222222222222,
              "#7201a8"
             ],
             [
              0.3333333333333333,
              "#9c179e"
             ],
             [
              0.4444444444444444,
              "#bd3786"
             ],
             [
              0.5555555555555556,
              "#d8576b"
             ],
             [
              0.6666666666666666,
              "#ed7953"
             ],
             [
              0.7777777777777778,
              "#fb9f3a"
             ],
             [
              0.8888888888888888,
              "#fdca26"
             ],
             [
              1,
              "#f0f921"
             ]
            ],
            "type": "histogram2d"
           }
          ],
          "histogram2dcontour": [
           {
            "colorbar": {
             "outlinewidth": 0,
             "ticks": ""
            },
            "colorscale": [
             [
              0,
              "#0d0887"
             ],
             [
              0.1111111111111111,
              "#46039f"
             ],
             [
              0.2222222222222222,
              "#7201a8"
             ],
             [
              0.3333333333333333,
              "#9c179e"
             ],
             [
              0.4444444444444444,
              "#bd3786"
             ],
             [
              0.5555555555555556,
              "#d8576b"
             ],
             [
              0.6666666666666666,
              "#ed7953"
             ],
             [
              0.7777777777777778,
              "#fb9f3a"
             ],
             [
              0.8888888888888888,
              "#fdca26"
             ],
             [
              1,
              "#f0f921"
             ]
            ],
            "type": "histogram2dcontour"
           }
          ],
          "mesh3d": [
           {
            "colorbar": {
             "outlinewidth": 0,
             "ticks": ""
            },
            "type": "mesh3d"
           }
          ],
          "parcoords": [
           {
            "line": {
             "colorbar": {
              "outlinewidth": 0,
              "ticks": ""
             }
            },
            "type": "parcoords"
           }
          ],
          "pie": [
           {
            "automargin": true,
            "type": "pie"
           }
          ],
          "scatter": [
           {
            "marker": {
             "colorbar": {
              "outlinewidth": 0,
              "ticks": ""
             }
            },
            "type": "scatter"
           }
          ],
          "scatter3d": [
           {
            "line": {
             "colorbar": {
              "outlinewidth": 0,
              "ticks": ""
             }
            },
            "marker": {
             "colorbar": {
              "outlinewidth": 0,
              "ticks": ""
             }
            },
            "type": "scatter3d"
           }
          ],
          "scattercarpet": [
           {
            "marker": {
             "colorbar": {
              "outlinewidth": 0,
              "ticks": ""
             }
            },
            "type": "scattercarpet"
           }
          ],
          "scattergeo": [
           {
            "marker": {
             "colorbar": {
              "outlinewidth": 0,
              "ticks": ""
             }
            },
            "type": "scattergeo"
           }
          ],
          "scattergl": [
           {
            "marker": {
             "colorbar": {
              "outlinewidth": 0,
              "ticks": ""
             }
            },
            "type": "scattergl"
           }
          ],
          "scattermapbox": [
           {
            "marker": {
             "colorbar": {
              "outlinewidth": 0,
              "ticks": ""
             }
            },
            "type": "scattermapbox"
           }
          ],
          "scatterpolar": [
           {
            "marker": {
             "colorbar": {
              "outlinewidth": 0,
              "ticks": ""
             }
            },
            "type": "scatterpolar"
           }
          ],
          "scatterpolargl": [
           {
            "marker": {
             "colorbar": {
              "outlinewidth": 0,
              "ticks": ""
             }
            },
            "type": "scatterpolargl"
           }
          ],
          "scatterternary": [
           {
            "marker": {
             "colorbar": {
              "outlinewidth": 0,
              "ticks": ""
             }
            },
            "type": "scatterternary"
           }
          ],
          "surface": [
           {
            "colorbar": {
             "outlinewidth": 0,
             "ticks": ""
            },
            "colorscale": [
             [
              0,
              "#0d0887"
             ],
             [
              0.1111111111111111,
              "#46039f"
             ],
             [
              0.2222222222222222,
              "#7201a8"
             ],
             [
              0.3333333333333333,
              "#9c179e"
             ],
             [
              0.4444444444444444,
              "#bd3786"
             ],
             [
              0.5555555555555556,
              "#d8576b"
             ],
             [
              0.6666666666666666,
              "#ed7953"
             ],
             [
              0.7777777777777778,
              "#fb9f3a"
             ],
             [
              0.8888888888888888,
              "#fdca26"
             ],
             [
              1,
              "#f0f921"
             ]
            ],
            "type": "surface"
           }
          ],
          "table": [
           {
            "cells": {
             "fill": {
              "color": "#EBF0F8"
             },
             "line": {
              "color": "white"
             }
            },
            "header": {
             "fill": {
              "color": "#C8D4E3"
             },
             "line": {
              "color": "white"
             }
            },
            "type": "table"
           }
          ]
         },
         "layout": {
          "annotationdefaults": {
           "arrowcolor": "#2a3f5f",
           "arrowhead": 0,
           "arrowwidth": 1
          },
          "autotypenumbers": "strict",
          "coloraxis": {
           "colorbar": {
            "outlinewidth": 0,
            "ticks": ""
           }
          },
          "colorscale": {
           "diverging": [
            [
             0,
             "#8e0152"
            ],
            [
             0.1,
             "#c51b7d"
            ],
            [
             0.2,
             "#de77ae"
            ],
            [
             0.3,
             "#f1b6da"
            ],
            [
             0.4,
             "#fde0ef"
            ],
            [
             0.5,
             "#f7f7f7"
            ],
            [
             0.6,
             "#e6f5d0"
            ],
            [
             0.7,
             "#b8e186"
            ],
            [
             0.8,
             "#7fbc41"
            ],
            [
             0.9,
             "#4d9221"
            ],
            [
             1,
             "#276419"
            ]
           ],
           "sequential": [
            [
             0,
             "#0d0887"
            ],
            [
             0.1111111111111111,
             "#46039f"
            ],
            [
             0.2222222222222222,
             "#7201a8"
            ],
            [
             0.3333333333333333,
             "#9c179e"
            ],
            [
             0.4444444444444444,
             "#bd3786"
            ],
            [
             0.5555555555555556,
             "#d8576b"
            ],
            [
             0.6666666666666666,
             "#ed7953"
            ],
            [
             0.7777777777777778,
             "#fb9f3a"
            ],
            [
             0.8888888888888888,
             "#fdca26"
            ],
            [
             1,
             "#f0f921"
            ]
           ],
           "sequentialminus": [
            [
             0,
             "#0d0887"
            ],
            [
             0.1111111111111111,
             "#46039f"
            ],
            [
             0.2222222222222222,
             "#7201a8"
            ],
            [
             0.3333333333333333,
             "#9c179e"
            ],
            [
             0.4444444444444444,
             "#bd3786"
            ],
            [
             0.5555555555555556,
             "#d8576b"
            ],
            [
             0.6666666666666666,
             "#ed7953"
            ],
            [
             0.7777777777777778,
             "#fb9f3a"
            ],
            [
             0.8888888888888888,
             "#fdca26"
            ],
            [
             1,
             "#f0f921"
            ]
           ]
          },
          "colorway": [
           "#636efa",
           "#EF553B",
           "#00cc96",
           "#ab63fa",
           "#FFA15A",
           "#19d3f3",
           "#FF6692",
           "#B6E880",
           "#FF97FF",
           "#FECB52"
          ],
          "font": {
           "color": "#2a3f5f"
          },
          "geo": {
           "bgcolor": "white",
           "lakecolor": "white",
           "landcolor": "#E5ECF6",
           "showlakes": true,
           "showland": true,
           "subunitcolor": "white"
          },
          "hoverlabel": {
           "align": "left"
          },
          "hovermode": "closest",
          "mapbox": {
           "style": "light"
          },
          "paper_bgcolor": "white",
          "plot_bgcolor": "#E5ECF6",
          "polar": {
           "angularaxis": {
            "gridcolor": "white",
            "linecolor": "white",
            "ticks": ""
           },
           "bgcolor": "#E5ECF6",
           "radialaxis": {
            "gridcolor": "white",
            "linecolor": "white",
            "ticks": ""
           }
          },
          "scene": {
           "xaxis": {
            "backgroundcolor": "#E5ECF6",
            "gridcolor": "white",
            "gridwidth": 2,
            "linecolor": "white",
            "showbackground": true,
            "ticks": "",
            "zerolinecolor": "white"
           },
           "yaxis": {
            "backgroundcolor": "#E5ECF6",
            "gridcolor": "white",
            "gridwidth": 2,
            "linecolor": "white",
            "showbackground": true,
            "ticks": "",
            "zerolinecolor": "white"
           },
           "zaxis": {
            "backgroundcolor": "#E5ECF6",
            "gridcolor": "white",
            "gridwidth": 2,
            "linecolor": "white",
            "showbackground": true,
            "ticks": "",
            "zerolinecolor": "white"
           }
          },
          "shapedefaults": {
           "line": {
            "color": "#2a3f5f"
           }
          },
          "ternary": {
           "aaxis": {
            "gridcolor": "white",
            "linecolor": "white",
            "ticks": ""
           },
           "baxis": {
            "gridcolor": "white",
            "linecolor": "white",
            "ticks": ""
           },
           "bgcolor": "#E5ECF6",
           "caxis": {
            "gridcolor": "white",
            "linecolor": "white",
            "ticks": ""
           }
          },
          "title": {
           "x": 0.05
          },
          "xaxis": {
           "automargin": true,
           "gridcolor": "white",
           "linecolor": "white",
           "ticks": "",
           "title": {
            "standoff": 15
           },
           "zerolinecolor": "white",
           "zerolinewidth": 2
          },
          "yaxis": {
           "automargin": true,
           "gridcolor": "white",
           "linecolor": "white",
           "ticks": "",
           "title": {
            "standoff": 15
           },
           "zerolinecolor": "white",
           "zerolinewidth": 2
          }
         }
        },
        "title": {
         "font": {
          "color": "#4D5663"
         }
        },
        "xaxis": {
         "gridcolor": "#E1E5ED",
         "showgrid": true,
         "tickfont": {
          "color": "#4D5663"
         },
         "title": {
          "font": {
           "color": "#4D5663"
          },
          "text": ""
         },
         "zerolinecolor": "#E1E5ED"
        },
        "yaxis": {
         "gridcolor": "#E1E5ED",
         "showgrid": true,
         "tickfont": {
          "color": "#4D5663"
         },
         "title": {
          "font": {
           "color": "#4D5663"
          },
          "text": ""
         },
         "zerolinecolor": "#E1E5ED"
        }
       }
      },
      "text/html": [
       "<div>                            <div id=\"d6d94545-f451-417e-af69-c862dc92456c\" class=\"plotly-graph-div\" style=\"height:525px; width:100%;\"></div>            <script type=\"text/javascript\">                require([\"plotly\"], function(Plotly) {                    window.PLOTLYENV=window.PLOTLYENV || {};\n",
       "                    window.PLOTLYENV.BASE_URL='https://plot.ly';                                    if (document.getElementById(\"d6d94545-f451-417e-af69-c862dc92456c\")) {                    Plotly.newPlot(                        \"d6d94545-f451-417e-af69-c862dc92456c\",                        [{\"line\":{\"color\":\"rgba(255, 153, 51, 1.0)\",\"dash\":\"solid\",\"shape\":\"linear\",\"width\":1.3},\"marker\":{\"size\":10,\"symbol\":\"circle\"},\"mode\":\"markers\",\"name\":\"B\",\"text\":\"\",\"x\":[0.17182131329699793,-0.21751837149008088,0.8520992115955089,0.05742133483880542,-0.03701115586440133,2.6973597817844914,-1.8877793190781818,1.7166623332352855,1.259911262295181,0.031769281679936395,0.0508239712076725,0.43627786253626,1.0198172828269088,0.2240566601363054,1.3260778196171579,-0.3910345927243946,-0.6624997831912773,-0.9400987274239068,-0.6377684477678879,0.23788029069286531,0.06969530641928225,-0.08669172991049304,-0.1512677661162708,-1.1658260190456318,1.0600197895207202,-0.20221201669291944,-0.07693099603756043,0.4945802513070474,0.6371521910271359,0.4852632657427939,-0.40581619690111637,0.1412205595276012,0.13918143842256417,0.6310934836171265,1.1433954277165832,-0.34590239097163983,0.7302838926871985,0.02829008194726475,-1.0251405439724093,-0.16828515380497752,0.713802473498807,-1.5230087719873744,1.1894249747216414,-0.02110573542948361,-0.009013224341380086,-0.6099868239339996,0.3827652838586205,-0.4881093218446922,-1.2923096311306281,0.6609728793408054,0.46890971023101813,0.5326518795412732,0.20057041674142995,-0.579659726057919,-0.7904339074270497,-1.9195917396464204,-0.12432851356501343,0.016896163296924296,-0.7006644454340994,1.4037974829972457,-1.591543040486118,-0.12099627209491523,0.4642002294162683,-0.7821594697936182,1.1783639613615309,-2.026759862138661,-1.025229349046652,-0.8046370009828545,-0.5076446125965427,0.02281882785522542,1.2024157907690753,1.4714869478383663,0.689903888615297,-0.24514831334276257,-0.0035223811014121866,0.8883867313431024,0.21921114499087757,1.1141936138054414,0.2788188678593166,-0.07634107259449303,0.6826915621705238,0.3114738030169309,0.2615743783695237,0.014063052275365666,0.8572265898624823,1.160204046429771,0.5413020744257988,1.1959762106386431,-1.4804127495676545,0.5208510722656184,0.10931121482756144,-0.8714162682553113,-0.8863941668231697,-1.6131738814242642,1.7170467935777118,1.2368578356106872,2.115808069659541,-0.9575909358514951,-1.0103683951644498,0.8414130802145096],\"y\":[1.9824198315783816,1.3091993326892228,-1.2232988271495462,-0.19719594337514346,-0.3883205707396667,-0.714436389257402,-2.88227623152448,0.844681688946653,-0.22775321569799709,1.1823240259708958,0.34029333587973354,-1.3109908156911778,-0.23828709768589754,-0.3284753384999053,0.3854320433598857,-0.7877815992111348,1.260930508403904,-0.6376699832686588,1.4919925325626402,1.8430188733793647,-0.53329941520741,0.8995368070732571,1.3220065246551411,0.7899378206176743,2.559225504588923,-2.163397447913008,-0.5114503633193542,-0.6804299981894304,0.3916906174456555,-0.9137016294766945,-1.2210721128562319,-1.9725269460216899,0.7094890909986767,-0.2751737621465072,-0.08731916358838872,0.9866228301041913,-0.5595860856582786,-1.1939186763929523,0.6681730424053982,0.5014533400976171,0.8551026990355919,-0.256238454119293,0.5470435635003105,1.3442119595879491,0.08477395127003368,1.9755689399593193,0.7678336141341726,-0.6567260332772877,2.456323956444022,-0.7011317822766581,0.78227220870668,0.24481209559617614,-0.8680652415261771,-0.4560191083149844,-0.4181872761228879,-0.6640338993480072,0.6842151623414131,-1.715738873887148,0.4210807397823437,-0.9472812249812783,0.10244262377035715,1.2471790365716295,-0.6633440997020905,1.5130780644821349,-1.634256863891054,-0.27978027667764627,-0.15764709446756195,1.3268082081064996,0.2119850457355075,-0.20335591336657793,0.03811988530396497,0.3615077045931863,-0.022946861281996894,1.751464493217749,0.38794212109299925,1.1266379375838935,1.2421671040967004,1.5766723383052155,0.1673679152308049,0.6650414255780529,-0.7491324331459841,0.4255355160409724,-0.8234191555435801,1.4476429835646385,-0.16701431149830737,-0.6008746398228956,-1.2647876115554673,-0.1398344928393769,2.6919066244577023,-1.3693196253960402,1.3240376603454416,0.711397001180157,-1.395667721912057,0.7702217374207543,1.4635340072179726,-2.5356853246697746,-0.2843972219611788,1.6286145267704566,-0.08473981575812777,0.4420878484700525],\"type\":\"scatter\"}],                        {\"legend\":{\"bgcolor\":\"#F5F6F9\",\"font\":{\"color\":\"#4D5663\"}},\"paper_bgcolor\":\"#F5F6F9\",\"plot_bgcolor\":\"#F5F6F9\",\"template\":{\"data\":{\"barpolar\":[{\"marker\":{\"line\":{\"color\":\"#E5ECF6\",\"width\":0.5},\"pattern\":{\"fillmode\":\"overlay\",\"size\":10,\"solidity\":0.2}},\"type\":\"barpolar\"}],\"bar\":[{\"error_x\":{\"color\":\"#2a3f5f\"},\"error_y\":{\"color\":\"#2a3f5f\"},\"marker\":{\"line\":{\"color\":\"#E5ECF6\",\"width\":0.5},\"pattern\":{\"fillmode\":\"overlay\",\"size\":10,\"solidity\":0.2}},\"type\":\"bar\"}],\"carpet\":[{\"aaxis\":{\"endlinecolor\":\"#2a3f5f\",\"gridcolor\":\"white\",\"linecolor\":\"white\",\"minorgridcolor\":\"white\",\"startlinecolor\":\"#2a3f5f\"},\"baxis\":{\"endlinecolor\":\"#2a3f5f\",\"gridcolor\":\"white\",\"linecolor\":\"white\",\"minorgridcolor\":\"white\",\"startlinecolor\":\"#2a3f5f\"},\"type\":\"carpet\"}],\"choropleth\":[{\"colorbar\":{\"outlinewidth\":0,\"ticks\":\"\"},\"type\":\"choropleth\"}],\"contourcarpet\":[{\"colorbar\":{\"outlinewidth\":0,\"ticks\":\"\"},\"type\":\"contourcarpet\"}],\"contour\":[{\"colorbar\":{\"outlinewidth\":0,\"ticks\":\"\"},\"colorscale\":[[0.0,\"#0d0887\"],[0.1111111111111111,\"#46039f\"],[0.2222222222222222,\"#7201a8\"],[0.3333333333333333,\"#9c179e\"],[0.4444444444444444,\"#bd3786\"],[0.5555555555555556,\"#d8576b\"],[0.6666666666666666,\"#ed7953\"],[0.7777777777777778,\"#fb9f3a\"],[0.8888888888888888,\"#fdca26\"],[1.0,\"#f0f921\"]],\"type\":\"contour\"}],\"heatmapgl\":[{\"colorbar\":{\"outlinewidth\":0,\"ticks\":\"\"},\"colorscale\":[[0.0,\"#0d0887\"],[0.1111111111111111,\"#46039f\"],[0.2222222222222222,\"#7201a8\"],[0.3333333333333333,\"#9c179e\"],[0.4444444444444444,\"#bd3786\"],[0.5555555555555556,\"#d8576b\"],[0.6666666666666666,\"#ed7953\"],[0.7777777777777778,\"#fb9f3a\"],[0.8888888888888888,\"#fdca26\"],[1.0,\"#f0f921\"]],\"type\":\"heatmapgl\"}],\"heatmap\":[{\"colorbar\":{\"outlinewidth\":0,\"ticks\":\"\"},\"colorscale\":[[0.0,\"#0d0887\"],[0.1111111111111111,\"#46039f\"],[0.2222222222222222,\"#7201a8\"],[0.3333333333333333,\"#9c179e\"],[0.4444444444444444,\"#bd3786\"],[0.5555555555555556,\"#d8576b\"],[0.6666666666666666,\"#ed7953\"],[0.7777777777777778,\"#fb9f3a\"],[0.8888888888888888,\"#fdca26\"],[1.0,\"#f0f921\"]],\"type\":\"heatmap\"}],\"histogram2dcontour\":[{\"colorbar\":{\"outlinewidth\":0,\"ticks\":\"\"},\"colorscale\":[[0.0,\"#0d0887\"],[0.1111111111111111,\"#46039f\"],[0.2222222222222222,\"#7201a8\"],[0.3333333333333333,\"#9c179e\"],[0.4444444444444444,\"#bd3786\"],[0.5555555555555556,\"#d8576b\"],[0.6666666666666666,\"#ed7953\"],[0.7777777777777778,\"#fb9f3a\"],[0.8888888888888888,\"#fdca26\"],[1.0,\"#f0f921\"]],\"type\":\"histogram2dcontour\"}],\"histogram2d\":[{\"colorbar\":{\"outlinewidth\":0,\"ticks\":\"\"},\"colorscale\":[[0.0,\"#0d0887\"],[0.1111111111111111,\"#46039f\"],[0.2222222222222222,\"#7201a8\"],[0.3333333333333333,\"#9c179e\"],[0.4444444444444444,\"#bd3786\"],[0.5555555555555556,\"#d8576b\"],[0.6666666666666666,\"#ed7953\"],[0.7777777777777778,\"#fb9f3a\"],[0.8888888888888888,\"#fdca26\"],[1.0,\"#f0f921\"]],\"type\":\"histogram2d\"}],\"histogram\":[{\"marker\":{\"pattern\":{\"fillmode\":\"overlay\",\"size\":10,\"solidity\":0.2}},\"type\":\"histogram\"}],\"mesh3d\":[{\"colorbar\":{\"outlinewidth\":0,\"ticks\":\"\"},\"type\":\"mesh3d\"}],\"parcoords\":[{\"line\":{\"colorbar\":{\"outlinewidth\":0,\"ticks\":\"\"}},\"type\":\"parcoords\"}],\"pie\":[{\"automargin\":true,\"type\":\"pie\"}],\"scatter3d\":[{\"line\":{\"colorbar\":{\"outlinewidth\":0,\"ticks\":\"\"}},\"marker\":{\"colorbar\":{\"outlinewidth\":0,\"ticks\":\"\"}},\"type\":\"scatter3d\"}],\"scattercarpet\":[{\"marker\":{\"colorbar\":{\"outlinewidth\":0,\"ticks\":\"\"}},\"type\":\"scattercarpet\"}],\"scattergeo\":[{\"marker\":{\"colorbar\":{\"outlinewidth\":0,\"ticks\":\"\"}},\"type\":\"scattergeo\"}],\"scattergl\":[{\"marker\":{\"colorbar\":{\"outlinewidth\":0,\"ticks\":\"\"}},\"type\":\"scattergl\"}],\"scattermapbox\":[{\"marker\":{\"colorbar\":{\"outlinewidth\":0,\"ticks\":\"\"}},\"type\":\"scattermapbox\"}],\"scatterpolargl\":[{\"marker\":{\"colorbar\":{\"outlinewidth\":0,\"ticks\":\"\"}},\"type\":\"scatterpolargl\"}],\"scatterpolar\":[{\"marker\":{\"colorbar\":{\"outlinewidth\":0,\"ticks\":\"\"}},\"type\":\"scatterpolar\"}],\"scatter\":[{\"marker\":{\"colorbar\":{\"outlinewidth\":0,\"ticks\":\"\"}},\"type\":\"scatter\"}],\"scatterternary\":[{\"marker\":{\"colorbar\":{\"outlinewidth\":0,\"ticks\":\"\"}},\"type\":\"scatterternary\"}],\"surface\":[{\"colorbar\":{\"outlinewidth\":0,\"ticks\":\"\"},\"colorscale\":[[0.0,\"#0d0887\"],[0.1111111111111111,\"#46039f\"],[0.2222222222222222,\"#7201a8\"],[0.3333333333333333,\"#9c179e\"],[0.4444444444444444,\"#bd3786\"],[0.5555555555555556,\"#d8576b\"],[0.6666666666666666,\"#ed7953\"],[0.7777777777777778,\"#fb9f3a\"],[0.8888888888888888,\"#fdca26\"],[1.0,\"#f0f921\"]],\"type\":\"surface\"}],\"table\":[{\"cells\":{\"fill\":{\"color\":\"#EBF0F8\"},\"line\":{\"color\":\"white\"}},\"header\":{\"fill\":{\"color\":\"#C8D4E3\"},\"line\":{\"color\":\"white\"}},\"type\":\"table\"}]},\"layout\":{\"annotationdefaults\":{\"arrowcolor\":\"#2a3f5f\",\"arrowhead\":0,\"arrowwidth\":1},\"autotypenumbers\":\"strict\",\"coloraxis\":{\"colorbar\":{\"outlinewidth\":0,\"ticks\":\"\"}},\"colorscale\":{\"diverging\":[[0,\"#8e0152\"],[0.1,\"#c51b7d\"],[0.2,\"#de77ae\"],[0.3,\"#f1b6da\"],[0.4,\"#fde0ef\"],[0.5,\"#f7f7f7\"],[0.6,\"#e6f5d0\"],[0.7,\"#b8e186\"],[0.8,\"#7fbc41\"],[0.9,\"#4d9221\"],[1,\"#276419\"]],\"sequential\":[[0.0,\"#0d0887\"],[0.1111111111111111,\"#46039f\"],[0.2222222222222222,\"#7201a8\"],[0.3333333333333333,\"#9c179e\"],[0.4444444444444444,\"#bd3786\"],[0.5555555555555556,\"#d8576b\"],[0.6666666666666666,\"#ed7953\"],[0.7777777777777778,\"#fb9f3a\"],[0.8888888888888888,\"#fdca26\"],[1.0,\"#f0f921\"]],\"sequentialminus\":[[0.0,\"#0d0887\"],[0.1111111111111111,\"#46039f\"],[0.2222222222222222,\"#7201a8\"],[0.3333333333333333,\"#9c179e\"],[0.4444444444444444,\"#bd3786\"],[0.5555555555555556,\"#d8576b\"],[0.6666666666666666,\"#ed7953\"],[0.7777777777777778,\"#fb9f3a\"],[0.8888888888888888,\"#fdca26\"],[1.0,\"#f0f921\"]]},\"colorway\":[\"#636efa\",\"#EF553B\",\"#00cc96\",\"#ab63fa\",\"#FFA15A\",\"#19d3f3\",\"#FF6692\",\"#B6E880\",\"#FF97FF\",\"#FECB52\"],\"font\":{\"color\":\"#2a3f5f\"},\"geo\":{\"bgcolor\":\"white\",\"lakecolor\":\"white\",\"landcolor\":\"#E5ECF6\",\"showlakes\":true,\"showland\":true,\"subunitcolor\":\"white\"},\"hoverlabel\":{\"align\":\"left\"},\"hovermode\":\"closest\",\"mapbox\":{\"style\":\"light\"},\"paper_bgcolor\":\"white\",\"plot_bgcolor\":\"#E5ECF6\",\"polar\":{\"angularaxis\":{\"gridcolor\":\"white\",\"linecolor\":\"white\",\"ticks\":\"\"},\"bgcolor\":\"#E5ECF6\",\"radialaxis\":{\"gridcolor\":\"white\",\"linecolor\":\"white\",\"ticks\":\"\"}},\"scene\":{\"xaxis\":{\"backgroundcolor\":\"#E5ECF6\",\"gridcolor\":\"white\",\"gridwidth\":2,\"linecolor\":\"white\",\"showbackground\":true,\"ticks\":\"\",\"zerolinecolor\":\"white\"},\"yaxis\":{\"backgroundcolor\":\"#E5ECF6\",\"gridcolor\":\"white\",\"gridwidth\":2,\"linecolor\":\"white\",\"showbackground\":true,\"ticks\":\"\",\"zerolinecolor\":\"white\"},\"zaxis\":{\"backgroundcolor\":\"#E5ECF6\",\"gridcolor\":\"white\",\"gridwidth\":2,\"linecolor\":\"white\",\"showbackground\":true,\"ticks\":\"\",\"zerolinecolor\":\"white\"}},\"shapedefaults\":{\"line\":{\"color\":\"#2a3f5f\"}},\"ternary\":{\"aaxis\":{\"gridcolor\":\"white\",\"linecolor\":\"white\",\"ticks\":\"\"},\"baxis\":{\"gridcolor\":\"white\",\"linecolor\":\"white\",\"ticks\":\"\"},\"bgcolor\":\"#E5ECF6\",\"caxis\":{\"gridcolor\":\"white\",\"linecolor\":\"white\",\"ticks\":\"\"}},\"title\":{\"x\":0.05},\"xaxis\":{\"automargin\":true,\"gridcolor\":\"white\",\"linecolor\":\"white\",\"ticks\":\"\",\"title\":{\"standoff\":15},\"zerolinecolor\":\"white\",\"zerolinewidth\":2},\"yaxis\":{\"automargin\":true,\"gridcolor\":\"white\",\"linecolor\":\"white\",\"ticks\":\"\",\"title\":{\"standoff\":15},\"zerolinecolor\":\"white\",\"zerolinewidth\":2}}},\"title\":{\"font\":{\"color\":\"#4D5663\"}},\"xaxis\":{\"gridcolor\":\"#E1E5ED\",\"showgrid\":true,\"tickfont\":{\"color\":\"#4D5663\"},\"title\":{\"font\":{\"color\":\"#4D5663\"},\"text\":\"\"},\"zerolinecolor\":\"#E1E5ED\"},\"yaxis\":{\"gridcolor\":\"#E1E5ED\",\"showgrid\":true,\"tickfont\":{\"color\":\"#4D5663\"},\"title\":{\"font\":{\"color\":\"#4D5663\"},\"text\":\"\"},\"zerolinecolor\":\"#E1E5ED\"}},                        {\"showLink\": true, \"linkText\": \"Export to plot.ly\", \"plotlyServerURL\": \"https://plot.ly\", \"responsive\": true}                    ).then(function(){\n",
       "                            \n",
       "var gd = document.getElementById('d6d94545-f451-417e-af69-c862dc92456c');\n",
       "var x = new MutationObserver(function (mutations, observer) {{\n",
       "        var display = window.getComputedStyle(gd).display;\n",
       "        if (!display || display === 'none') {{\n",
       "            console.log([gd, 'removed!']);\n",
       "            Plotly.purge(gd);\n",
       "            observer.disconnect();\n",
       "        }}\n",
       "}});\n",
       "\n",
       "// Listen for the removal of the full notebook cells\n",
       "var notebookContainer = gd.closest('#notebook-container');\n",
       "if (notebookContainer) {{\n",
       "    x.observe(notebookContainer, {childList: true});\n",
       "}}\n",
       "\n",
       "// Listen for the clearing of the current output cell\n",
       "var outputEl = gd.closest('.output');\n",
       "if (outputEl) {{\n",
       "    x.observe(outputEl, {childList: true});\n",
       "}}\n",
       "\n",
       "                        })                };                });            </script>        </div>"
      ]
     },
     "metadata": {},
     "output_type": "display_data"
    }
   ],
   "source": [
    "df.iplot(kind=\"scatter\",x=\"A\",y=\"B\",mode=\"markers\",size=10)"
   ]
  },
  {
   "cell_type": "code",
   "execution_count": 12,
   "id": "9d2b6c11",
   "metadata": {},
   "outputs": [
    {
     "data": {
      "application/vnd.plotly.v1+json": {
       "config": {
        "linkText": "Export to plot.ly",
        "plotlyServerURL": "https://plot.ly",
        "showLink": true
       },
       "data": [
        {
         "marker": {
          "color": "rgba(255, 153, 51, 0.6)",
          "line": {
           "color": "rgba(255, 153, 51, 1.0)",
           "width": 1
          }
         },
         "name": "Values",
         "orientation": "v",
         "text": "",
         "type": "bar",
         "x": [
          "A",
          "B",
          "C"
         ],
         "y": [
          12,
          45,
          11
         ]
        }
       ],
       "layout": {
        "legend": {
         "bgcolor": "#F5F6F9",
         "font": {
          "color": "#4D5663"
         }
        },
        "paper_bgcolor": "#F5F6F9",
        "plot_bgcolor": "#F5F6F9",
        "template": {
         "data": {
          "bar": [
           {
            "error_x": {
             "color": "#2a3f5f"
            },
            "error_y": {
             "color": "#2a3f5f"
            },
            "marker": {
             "line": {
              "color": "#E5ECF6",
              "width": 0.5
             },
             "pattern": {
              "fillmode": "overlay",
              "size": 10,
              "solidity": 0.2
             }
            },
            "type": "bar"
           }
          ],
          "barpolar": [
           {
            "marker": {
             "line": {
              "color": "#E5ECF6",
              "width": 0.5
             },
             "pattern": {
              "fillmode": "overlay",
              "size": 10,
              "solidity": 0.2
             }
            },
            "type": "barpolar"
           }
          ],
          "carpet": [
           {
            "aaxis": {
             "endlinecolor": "#2a3f5f",
             "gridcolor": "white",
             "linecolor": "white",
             "minorgridcolor": "white",
             "startlinecolor": "#2a3f5f"
            },
            "baxis": {
             "endlinecolor": "#2a3f5f",
             "gridcolor": "white",
             "linecolor": "white",
             "minorgridcolor": "white",
             "startlinecolor": "#2a3f5f"
            },
            "type": "carpet"
           }
          ],
          "choropleth": [
           {
            "colorbar": {
             "outlinewidth": 0,
             "ticks": ""
            },
            "type": "choropleth"
           }
          ],
          "contour": [
           {
            "colorbar": {
             "outlinewidth": 0,
             "ticks": ""
            },
            "colorscale": [
             [
              0,
              "#0d0887"
             ],
             [
              0.1111111111111111,
              "#46039f"
             ],
             [
              0.2222222222222222,
              "#7201a8"
             ],
             [
              0.3333333333333333,
              "#9c179e"
             ],
             [
              0.4444444444444444,
              "#bd3786"
             ],
             [
              0.5555555555555556,
              "#d8576b"
             ],
             [
              0.6666666666666666,
              "#ed7953"
             ],
             [
              0.7777777777777778,
              "#fb9f3a"
             ],
             [
              0.8888888888888888,
              "#fdca26"
             ],
             [
              1,
              "#f0f921"
             ]
            ],
            "type": "contour"
           }
          ],
          "contourcarpet": [
           {
            "colorbar": {
             "outlinewidth": 0,
             "ticks": ""
            },
            "type": "contourcarpet"
           }
          ],
          "heatmap": [
           {
            "colorbar": {
             "outlinewidth": 0,
             "ticks": ""
            },
            "colorscale": [
             [
              0,
              "#0d0887"
             ],
             [
              0.1111111111111111,
              "#46039f"
             ],
             [
              0.2222222222222222,
              "#7201a8"
             ],
             [
              0.3333333333333333,
              "#9c179e"
             ],
             [
              0.4444444444444444,
              "#bd3786"
             ],
             [
              0.5555555555555556,
              "#d8576b"
             ],
             [
              0.6666666666666666,
              "#ed7953"
             ],
             [
              0.7777777777777778,
              "#fb9f3a"
             ],
             [
              0.8888888888888888,
              "#fdca26"
             ],
             [
              1,
              "#f0f921"
             ]
            ],
            "type": "heatmap"
           }
          ],
          "heatmapgl": [
           {
            "colorbar": {
             "outlinewidth": 0,
             "ticks": ""
            },
            "colorscale": [
             [
              0,
              "#0d0887"
             ],
             [
              0.1111111111111111,
              "#46039f"
             ],
             [
              0.2222222222222222,
              "#7201a8"
             ],
             [
              0.3333333333333333,
              "#9c179e"
             ],
             [
              0.4444444444444444,
              "#bd3786"
             ],
             [
              0.5555555555555556,
              "#d8576b"
             ],
             [
              0.6666666666666666,
              "#ed7953"
             ],
             [
              0.7777777777777778,
              "#fb9f3a"
             ],
             [
              0.8888888888888888,
              "#fdca26"
             ],
             [
              1,
              "#f0f921"
             ]
            ],
            "type": "heatmapgl"
           }
          ],
          "histogram": [
           {
            "marker": {
             "pattern": {
              "fillmode": "overlay",
              "size": 10,
              "solidity": 0.2
             }
            },
            "type": "histogram"
           }
          ],
          "histogram2d": [
           {
            "colorbar": {
             "outlinewidth": 0,
             "ticks": ""
            },
            "colorscale": [
             [
              0,
              "#0d0887"
             ],
             [
              0.1111111111111111,
              "#46039f"
             ],
             [
              0.2222222222222222,
              "#7201a8"
             ],
             [
              0.3333333333333333,
              "#9c179e"
             ],
             [
              0.4444444444444444,
              "#bd3786"
             ],
             [
              0.5555555555555556,
              "#d8576b"
             ],
             [
              0.6666666666666666,
              "#ed7953"
             ],
             [
              0.7777777777777778,
              "#fb9f3a"
             ],
             [
              0.8888888888888888,
              "#fdca26"
             ],
             [
              1,
              "#f0f921"
             ]
            ],
            "type": "histogram2d"
           }
          ],
          "histogram2dcontour": [
           {
            "colorbar": {
             "outlinewidth": 0,
             "ticks": ""
            },
            "colorscale": [
             [
              0,
              "#0d0887"
             ],
             [
              0.1111111111111111,
              "#46039f"
             ],
             [
              0.2222222222222222,
              "#7201a8"
             ],
             [
              0.3333333333333333,
              "#9c179e"
             ],
             [
              0.4444444444444444,
              "#bd3786"
             ],
             [
              0.5555555555555556,
              "#d8576b"
             ],
             [
              0.6666666666666666,
              "#ed7953"
             ],
             [
              0.7777777777777778,
              "#fb9f3a"
             ],
             [
              0.8888888888888888,
              "#fdca26"
             ],
             [
              1,
              "#f0f921"
             ]
            ],
            "type": "histogram2dcontour"
           }
          ],
          "mesh3d": [
           {
            "colorbar": {
             "outlinewidth": 0,
             "ticks": ""
            },
            "type": "mesh3d"
           }
          ],
          "parcoords": [
           {
            "line": {
             "colorbar": {
              "outlinewidth": 0,
              "ticks": ""
             }
            },
            "type": "parcoords"
           }
          ],
          "pie": [
           {
            "automargin": true,
            "type": "pie"
           }
          ],
          "scatter": [
           {
            "marker": {
             "colorbar": {
              "outlinewidth": 0,
              "ticks": ""
             }
            },
            "type": "scatter"
           }
          ],
          "scatter3d": [
           {
            "line": {
             "colorbar": {
              "outlinewidth": 0,
              "ticks": ""
             }
            },
            "marker": {
             "colorbar": {
              "outlinewidth": 0,
              "ticks": ""
             }
            },
            "type": "scatter3d"
           }
          ],
          "scattercarpet": [
           {
            "marker": {
             "colorbar": {
              "outlinewidth": 0,
              "ticks": ""
             }
            },
            "type": "scattercarpet"
           }
          ],
          "scattergeo": [
           {
            "marker": {
             "colorbar": {
              "outlinewidth": 0,
              "ticks": ""
             }
            },
            "type": "scattergeo"
           }
          ],
          "scattergl": [
           {
            "marker": {
             "colorbar": {
              "outlinewidth": 0,
              "ticks": ""
             }
            },
            "type": "scattergl"
           }
          ],
          "scattermapbox": [
           {
            "marker": {
             "colorbar": {
              "outlinewidth": 0,
              "ticks": ""
             }
            },
            "type": "scattermapbox"
           }
          ],
          "scatterpolar": [
           {
            "marker": {
             "colorbar": {
              "outlinewidth": 0,
              "ticks": ""
             }
            },
            "type": "scatterpolar"
           }
          ],
          "scatterpolargl": [
           {
            "marker": {
             "colorbar": {
              "outlinewidth": 0,
              "ticks": ""
             }
            },
            "type": "scatterpolargl"
           }
          ],
          "scatterternary": [
           {
            "marker": {
             "colorbar": {
              "outlinewidth": 0,
              "ticks": ""
             }
            },
            "type": "scatterternary"
           }
          ],
          "surface": [
           {
            "colorbar": {
             "outlinewidth": 0,
             "ticks": ""
            },
            "colorscale": [
             [
              0,
              "#0d0887"
             ],
             [
              0.1111111111111111,
              "#46039f"
             ],
             [
              0.2222222222222222,
              "#7201a8"
             ],
             [
              0.3333333333333333,
              "#9c179e"
             ],
             [
              0.4444444444444444,
              "#bd3786"
             ],
             [
              0.5555555555555556,
              "#d8576b"
             ],
             [
              0.6666666666666666,
              "#ed7953"
             ],
             [
              0.7777777777777778,
              "#fb9f3a"
             ],
             [
              0.8888888888888888,
              "#fdca26"
             ],
             [
              1,
              "#f0f921"
             ]
            ],
            "type": "surface"
           }
          ],
          "table": [
           {
            "cells": {
             "fill": {
              "color": "#EBF0F8"
             },
             "line": {
              "color": "white"
             }
            },
            "header": {
             "fill": {
              "color": "#C8D4E3"
             },
             "line": {
              "color": "white"
             }
            },
            "type": "table"
           }
          ]
         },
         "layout": {
          "annotationdefaults": {
           "arrowcolor": "#2a3f5f",
           "arrowhead": 0,
           "arrowwidth": 1
          },
          "autotypenumbers": "strict",
          "coloraxis": {
           "colorbar": {
            "outlinewidth": 0,
            "ticks": ""
           }
          },
          "colorscale": {
           "diverging": [
            [
             0,
             "#8e0152"
            ],
            [
             0.1,
             "#c51b7d"
            ],
            [
             0.2,
             "#de77ae"
            ],
            [
             0.3,
             "#f1b6da"
            ],
            [
             0.4,
             "#fde0ef"
            ],
            [
             0.5,
             "#f7f7f7"
            ],
            [
             0.6,
             "#e6f5d0"
            ],
            [
             0.7,
             "#b8e186"
            ],
            [
             0.8,
             "#7fbc41"
            ],
            [
             0.9,
             "#4d9221"
            ],
            [
             1,
             "#276419"
            ]
           ],
           "sequential": [
            [
             0,
             "#0d0887"
            ],
            [
             0.1111111111111111,
             "#46039f"
            ],
            [
             0.2222222222222222,
             "#7201a8"
            ],
            [
             0.3333333333333333,
             "#9c179e"
            ],
            [
             0.4444444444444444,
             "#bd3786"
            ],
            [
             0.5555555555555556,
             "#d8576b"
            ],
            [
             0.6666666666666666,
             "#ed7953"
            ],
            [
             0.7777777777777778,
             "#fb9f3a"
            ],
            [
             0.8888888888888888,
             "#fdca26"
            ],
            [
             1,
             "#f0f921"
            ]
           ],
           "sequentialminus": [
            [
             0,
             "#0d0887"
            ],
            [
             0.1111111111111111,
             "#46039f"
            ],
            [
             0.2222222222222222,
             "#7201a8"
            ],
            [
             0.3333333333333333,
             "#9c179e"
            ],
            [
             0.4444444444444444,
             "#bd3786"
            ],
            [
             0.5555555555555556,
             "#d8576b"
            ],
            [
             0.6666666666666666,
             "#ed7953"
            ],
            [
             0.7777777777777778,
             "#fb9f3a"
            ],
            [
             0.8888888888888888,
             "#fdca26"
            ],
            [
             1,
             "#f0f921"
            ]
           ]
          },
          "colorway": [
           "#636efa",
           "#EF553B",
           "#00cc96",
           "#ab63fa",
           "#FFA15A",
           "#19d3f3",
           "#FF6692",
           "#B6E880",
           "#FF97FF",
           "#FECB52"
          ],
          "font": {
           "color": "#2a3f5f"
          },
          "geo": {
           "bgcolor": "white",
           "lakecolor": "white",
           "landcolor": "#E5ECF6",
           "showlakes": true,
           "showland": true,
           "subunitcolor": "white"
          },
          "hoverlabel": {
           "align": "left"
          },
          "hovermode": "closest",
          "mapbox": {
           "style": "light"
          },
          "paper_bgcolor": "white",
          "plot_bgcolor": "#E5ECF6",
          "polar": {
           "angularaxis": {
            "gridcolor": "white",
            "linecolor": "white",
            "ticks": ""
           },
           "bgcolor": "#E5ECF6",
           "radialaxis": {
            "gridcolor": "white",
            "linecolor": "white",
            "ticks": ""
           }
          },
          "scene": {
           "xaxis": {
            "backgroundcolor": "#E5ECF6",
            "gridcolor": "white",
            "gridwidth": 2,
            "linecolor": "white",
            "showbackground": true,
            "ticks": "",
            "zerolinecolor": "white"
           },
           "yaxis": {
            "backgroundcolor": "#E5ECF6",
            "gridcolor": "white",
            "gridwidth": 2,
            "linecolor": "white",
            "showbackground": true,
            "ticks": "",
            "zerolinecolor": "white"
           },
           "zaxis": {
            "backgroundcolor": "#E5ECF6",
            "gridcolor": "white",
            "gridwidth": 2,
            "linecolor": "white",
            "showbackground": true,
            "ticks": "",
            "zerolinecolor": "white"
           }
          },
          "shapedefaults": {
           "line": {
            "color": "#2a3f5f"
           }
          },
          "ternary": {
           "aaxis": {
            "gridcolor": "white",
            "linecolor": "white",
            "ticks": ""
           },
           "baxis": {
            "gridcolor": "white",
            "linecolor": "white",
            "ticks": ""
           },
           "bgcolor": "#E5ECF6",
           "caxis": {
            "gridcolor": "white",
            "linecolor": "white",
            "ticks": ""
           }
          },
          "title": {
           "x": 0.05
          },
          "xaxis": {
           "automargin": true,
           "gridcolor": "white",
           "linecolor": "white",
           "ticks": "",
           "title": {
            "standoff": 15
           },
           "zerolinecolor": "white",
           "zerolinewidth": 2
          },
          "yaxis": {
           "automargin": true,
           "gridcolor": "white",
           "linecolor": "white",
           "ticks": "",
           "title": {
            "standoff": 15
           },
           "zerolinecolor": "white",
           "zerolinewidth": 2
          }
         }
        },
        "title": {
         "font": {
          "color": "#4D5663"
         }
        },
        "xaxis": {
         "gridcolor": "#E1E5ED",
         "showgrid": true,
         "tickfont": {
          "color": "#4D5663"
         },
         "title": {
          "font": {
           "color": "#4D5663"
          },
          "text": ""
         },
         "zerolinecolor": "#E1E5ED"
        },
        "yaxis": {
         "gridcolor": "#E1E5ED",
         "showgrid": true,
         "tickfont": {
          "color": "#4D5663"
         },
         "title": {
          "font": {
           "color": "#4D5663"
          },
          "text": ""
         },
         "zerolinecolor": "#E1E5ED"
        }
       }
      },
      "text/html": [
       "<div>                            <div id=\"9147e439-87d0-4994-a90f-1a76f8a18ffc\" class=\"plotly-graph-div\" style=\"height:525px; width:100%;\"></div>            <script type=\"text/javascript\">                require([\"plotly\"], function(Plotly) {                    window.PLOTLYENV=window.PLOTLYENV || {};\n",
       "                    window.PLOTLYENV.BASE_URL='https://plot.ly';                                    if (document.getElementById(\"9147e439-87d0-4994-a90f-1a76f8a18ffc\")) {                    Plotly.newPlot(                        \"9147e439-87d0-4994-a90f-1a76f8a18ffc\",                        [{\"marker\":{\"color\":\"rgba(255, 153, 51, 0.6)\",\"line\":{\"color\":\"rgba(255, 153, 51, 1.0)\",\"width\":1}},\"name\":\"Values\",\"orientation\":\"v\",\"text\":\"\",\"x\":[\"A\",\"B\",\"C\"],\"y\":[12,45,11],\"type\":\"bar\"}],                        {\"legend\":{\"bgcolor\":\"#F5F6F9\",\"font\":{\"color\":\"#4D5663\"}},\"paper_bgcolor\":\"#F5F6F9\",\"plot_bgcolor\":\"#F5F6F9\",\"template\":{\"data\":{\"barpolar\":[{\"marker\":{\"line\":{\"color\":\"#E5ECF6\",\"width\":0.5},\"pattern\":{\"fillmode\":\"overlay\",\"size\":10,\"solidity\":0.2}},\"type\":\"barpolar\"}],\"bar\":[{\"error_x\":{\"color\":\"#2a3f5f\"},\"error_y\":{\"color\":\"#2a3f5f\"},\"marker\":{\"line\":{\"color\":\"#E5ECF6\",\"width\":0.5},\"pattern\":{\"fillmode\":\"overlay\",\"size\":10,\"solidity\":0.2}},\"type\":\"bar\"}],\"carpet\":[{\"aaxis\":{\"endlinecolor\":\"#2a3f5f\",\"gridcolor\":\"white\",\"linecolor\":\"white\",\"minorgridcolor\":\"white\",\"startlinecolor\":\"#2a3f5f\"},\"baxis\":{\"endlinecolor\":\"#2a3f5f\",\"gridcolor\":\"white\",\"linecolor\":\"white\",\"minorgridcolor\":\"white\",\"startlinecolor\":\"#2a3f5f\"},\"type\":\"carpet\"}],\"choropleth\":[{\"colorbar\":{\"outlinewidth\":0,\"ticks\":\"\"},\"type\":\"choropleth\"}],\"contourcarpet\":[{\"colorbar\":{\"outlinewidth\":0,\"ticks\":\"\"},\"type\":\"contourcarpet\"}],\"contour\":[{\"colorbar\":{\"outlinewidth\":0,\"ticks\":\"\"},\"colorscale\":[[0.0,\"#0d0887\"],[0.1111111111111111,\"#46039f\"],[0.2222222222222222,\"#7201a8\"],[0.3333333333333333,\"#9c179e\"],[0.4444444444444444,\"#bd3786\"],[0.5555555555555556,\"#d8576b\"],[0.6666666666666666,\"#ed7953\"],[0.7777777777777778,\"#fb9f3a\"],[0.8888888888888888,\"#fdca26\"],[1.0,\"#f0f921\"]],\"type\":\"contour\"}],\"heatmapgl\":[{\"colorbar\":{\"outlinewidth\":0,\"ticks\":\"\"},\"colorscale\":[[0.0,\"#0d0887\"],[0.1111111111111111,\"#46039f\"],[0.2222222222222222,\"#7201a8\"],[0.3333333333333333,\"#9c179e\"],[0.4444444444444444,\"#bd3786\"],[0.5555555555555556,\"#d8576b\"],[0.6666666666666666,\"#ed7953\"],[0.7777777777777778,\"#fb9f3a\"],[0.8888888888888888,\"#fdca26\"],[1.0,\"#f0f921\"]],\"type\":\"heatmapgl\"}],\"heatmap\":[{\"colorbar\":{\"outlinewidth\":0,\"ticks\":\"\"},\"colorscale\":[[0.0,\"#0d0887\"],[0.1111111111111111,\"#46039f\"],[0.2222222222222222,\"#7201a8\"],[0.3333333333333333,\"#9c179e\"],[0.4444444444444444,\"#bd3786\"],[0.5555555555555556,\"#d8576b\"],[0.6666666666666666,\"#ed7953\"],[0.7777777777777778,\"#fb9f3a\"],[0.8888888888888888,\"#fdca26\"],[1.0,\"#f0f921\"]],\"type\":\"heatmap\"}],\"histogram2dcontour\":[{\"colorbar\":{\"outlinewidth\":0,\"ticks\":\"\"},\"colorscale\":[[0.0,\"#0d0887\"],[0.1111111111111111,\"#46039f\"],[0.2222222222222222,\"#7201a8\"],[0.3333333333333333,\"#9c179e\"],[0.4444444444444444,\"#bd3786\"],[0.5555555555555556,\"#d8576b\"],[0.6666666666666666,\"#ed7953\"],[0.7777777777777778,\"#fb9f3a\"],[0.8888888888888888,\"#fdca26\"],[1.0,\"#f0f921\"]],\"type\":\"histogram2dcontour\"}],\"histogram2d\":[{\"colorbar\":{\"outlinewidth\":0,\"ticks\":\"\"},\"colorscale\":[[0.0,\"#0d0887\"],[0.1111111111111111,\"#46039f\"],[0.2222222222222222,\"#7201a8\"],[0.3333333333333333,\"#9c179e\"],[0.4444444444444444,\"#bd3786\"],[0.5555555555555556,\"#d8576b\"],[0.6666666666666666,\"#ed7953\"],[0.7777777777777778,\"#fb9f3a\"],[0.8888888888888888,\"#fdca26\"],[1.0,\"#f0f921\"]],\"type\":\"histogram2d\"}],\"histogram\":[{\"marker\":{\"pattern\":{\"fillmode\":\"overlay\",\"size\":10,\"solidity\":0.2}},\"type\":\"histogram\"}],\"mesh3d\":[{\"colorbar\":{\"outlinewidth\":0,\"ticks\":\"\"},\"type\":\"mesh3d\"}],\"parcoords\":[{\"line\":{\"colorbar\":{\"outlinewidth\":0,\"ticks\":\"\"}},\"type\":\"parcoords\"}],\"pie\":[{\"automargin\":true,\"type\":\"pie\"}],\"scatter3d\":[{\"line\":{\"colorbar\":{\"outlinewidth\":0,\"ticks\":\"\"}},\"marker\":{\"colorbar\":{\"outlinewidth\":0,\"ticks\":\"\"}},\"type\":\"scatter3d\"}],\"scattercarpet\":[{\"marker\":{\"colorbar\":{\"outlinewidth\":0,\"ticks\":\"\"}},\"type\":\"scattercarpet\"}],\"scattergeo\":[{\"marker\":{\"colorbar\":{\"outlinewidth\":0,\"ticks\":\"\"}},\"type\":\"scattergeo\"}],\"scattergl\":[{\"marker\":{\"colorbar\":{\"outlinewidth\":0,\"ticks\":\"\"}},\"type\":\"scattergl\"}],\"scattermapbox\":[{\"marker\":{\"colorbar\":{\"outlinewidth\":0,\"ticks\":\"\"}},\"type\":\"scattermapbox\"}],\"scatterpolargl\":[{\"marker\":{\"colorbar\":{\"outlinewidth\":0,\"ticks\":\"\"}},\"type\":\"scatterpolargl\"}],\"scatterpolar\":[{\"marker\":{\"colorbar\":{\"outlinewidth\":0,\"ticks\":\"\"}},\"type\":\"scatterpolar\"}],\"scatter\":[{\"marker\":{\"colorbar\":{\"outlinewidth\":0,\"ticks\":\"\"}},\"type\":\"scatter\"}],\"scatterternary\":[{\"marker\":{\"colorbar\":{\"outlinewidth\":0,\"ticks\":\"\"}},\"type\":\"scatterternary\"}],\"surface\":[{\"colorbar\":{\"outlinewidth\":0,\"ticks\":\"\"},\"colorscale\":[[0.0,\"#0d0887\"],[0.1111111111111111,\"#46039f\"],[0.2222222222222222,\"#7201a8\"],[0.3333333333333333,\"#9c179e\"],[0.4444444444444444,\"#bd3786\"],[0.5555555555555556,\"#d8576b\"],[0.6666666666666666,\"#ed7953\"],[0.7777777777777778,\"#fb9f3a\"],[0.8888888888888888,\"#fdca26\"],[1.0,\"#f0f921\"]],\"type\":\"surface\"}],\"table\":[{\"cells\":{\"fill\":{\"color\":\"#EBF0F8\"},\"line\":{\"color\":\"white\"}},\"header\":{\"fill\":{\"color\":\"#C8D4E3\"},\"line\":{\"color\":\"white\"}},\"type\":\"table\"}]},\"layout\":{\"annotationdefaults\":{\"arrowcolor\":\"#2a3f5f\",\"arrowhead\":0,\"arrowwidth\":1},\"autotypenumbers\":\"strict\",\"coloraxis\":{\"colorbar\":{\"outlinewidth\":0,\"ticks\":\"\"}},\"colorscale\":{\"diverging\":[[0,\"#8e0152\"],[0.1,\"#c51b7d\"],[0.2,\"#de77ae\"],[0.3,\"#f1b6da\"],[0.4,\"#fde0ef\"],[0.5,\"#f7f7f7\"],[0.6,\"#e6f5d0\"],[0.7,\"#b8e186\"],[0.8,\"#7fbc41\"],[0.9,\"#4d9221\"],[1,\"#276419\"]],\"sequential\":[[0.0,\"#0d0887\"],[0.1111111111111111,\"#46039f\"],[0.2222222222222222,\"#7201a8\"],[0.3333333333333333,\"#9c179e\"],[0.4444444444444444,\"#bd3786\"],[0.5555555555555556,\"#d8576b\"],[0.6666666666666666,\"#ed7953\"],[0.7777777777777778,\"#fb9f3a\"],[0.8888888888888888,\"#fdca26\"],[1.0,\"#f0f921\"]],\"sequentialminus\":[[0.0,\"#0d0887\"],[0.1111111111111111,\"#46039f\"],[0.2222222222222222,\"#7201a8\"],[0.3333333333333333,\"#9c179e\"],[0.4444444444444444,\"#bd3786\"],[0.5555555555555556,\"#d8576b\"],[0.6666666666666666,\"#ed7953\"],[0.7777777777777778,\"#fb9f3a\"],[0.8888888888888888,\"#fdca26\"],[1.0,\"#f0f921\"]]},\"colorway\":[\"#636efa\",\"#EF553B\",\"#00cc96\",\"#ab63fa\",\"#FFA15A\",\"#19d3f3\",\"#FF6692\",\"#B6E880\",\"#FF97FF\",\"#FECB52\"],\"font\":{\"color\":\"#2a3f5f\"},\"geo\":{\"bgcolor\":\"white\",\"lakecolor\":\"white\",\"landcolor\":\"#E5ECF6\",\"showlakes\":true,\"showland\":true,\"subunitcolor\":\"white\"},\"hoverlabel\":{\"align\":\"left\"},\"hovermode\":\"closest\",\"mapbox\":{\"style\":\"light\"},\"paper_bgcolor\":\"white\",\"plot_bgcolor\":\"#E5ECF6\",\"polar\":{\"angularaxis\":{\"gridcolor\":\"white\",\"linecolor\":\"white\",\"ticks\":\"\"},\"bgcolor\":\"#E5ECF6\",\"radialaxis\":{\"gridcolor\":\"white\",\"linecolor\":\"white\",\"ticks\":\"\"}},\"scene\":{\"xaxis\":{\"backgroundcolor\":\"#E5ECF6\",\"gridcolor\":\"white\",\"gridwidth\":2,\"linecolor\":\"white\",\"showbackground\":true,\"ticks\":\"\",\"zerolinecolor\":\"white\"},\"yaxis\":{\"backgroundcolor\":\"#E5ECF6\",\"gridcolor\":\"white\",\"gridwidth\":2,\"linecolor\":\"white\",\"showbackground\":true,\"ticks\":\"\",\"zerolinecolor\":\"white\"},\"zaxis\":{\"backgroundcolor\":\"#E5ECF6\",\"gridcolor\":\"white\",\"gridwidth\":2,\"linecolor\":\"white\",\"showbackground\":true,\"ticks\":\"\",\"zerolinecolor\":\"white\"}},\"shapedefaults\":{\"line\":{\"color\":\"#2a3f5f\"}},\"ternary\":{\"aaxis\":{\"gridcolor\":\"white\",\"linecolor\":\"white\",\"ticks\":\"\"},\"baxis\":{\"gridcolor\":\"white\",\"linecolor\":\"white\",\"ticks\":\"\"},\"bgcolor\":\"#E5ECF6\",\"caxis\":{\"gridcolor\":\"white\",\"linecolor\":\"white\",\"ticks\":\"\"}},\"title\":{\"x\":0.05},\"xaxis\":{\"automargin\":true,\"gridcolor\":\"white\",\"linecolor\":\"white\",\"ticks\":\"\",\"title\":{\"standoff\":15},\"zerolinecolor\":\"white\",\"zerolinewidth\":2},\"yaxis\":{\"automargin\":true,\"gridcolor\":\"white\",\"linecolor\":\"white\",\"ticks\":\"\",\"title\":{\"standoff\":15},\"zerolinecolor\":\"white\",\"zerolinewidth\":2}}},\"title\":{\"font\":{\"color\":\"#4D5663\"}},\"xaxis\":{\"gridcolor\":\"#E1E5ED\",\"showgrid\":true,\"tickfont\":{\"color\":\"#4D5663\"},\"title\":{\"font\":{\"color\":\"#4D5663\"},\"text\":\"\"},\"zerolinecolor\":\"#E1E5ED\"},\"yaxis\":{\"gridcolor\":\"#E1E5ED\",\"showgrid\":true,\"tickfont\":{\"color\":\"#4D5663\"},\"title\":{\"font\":{\"color\":\"#4D5663\"},\"text\":\"\"},\"zerolinecolor\":\"#E1E5ED\"}},                        {\"showLink\": true, \"linkText\": \"Export to plot.ly\", \"plotlyServerURL\": \"https://plot.ly\", \"responsive\": true}                    ).then(function(){\n",
       "                            \n",
       "var gd = document.getElementById('9147e439-87d0-4994-a90f-1a76f8a18ffc');\n",
       "var x = new MutationObserver(function (mutations, observer) {{\n",
       "        var display = window.getComputedStyle(gd).display;\n",
       "        if (!display || display === 'none') {{\n",
       "            console.log([gd, 'removed!']);\n",
       "            Plotly.purge(gd);\n",
       "            observer.disconnect();\n",
       "        }}\n",
       "}});\n",
       "\n",
       "// Listen for the removal of the full notebook cells\n",
       "var notebookContainer = gd.closest('#notebook-container');\n",
       "if (notebookContainer) {{\n",
       "    x.observe(notebookContainer, {childList: true});\n",
       "}}\n",
       "\n",
       "// Listen for the clearing of the current output cell\n",
       "var outputEl = gd.closest('.output');\n",
       "if (outputEl) {{\n",
       "    x.observe(outputEl, {childList: true});\n",
       "}}\n",
       "\n",
       "                        })                };                });            </script>        </div>"
      ]
     },
     "metadata": {},
     "output_type": "display_data"
    }
   ],
   "source": [
    "df2.iplot(kind=\"bar\",x=\"Category\",y=\"Values\")"
   ]
  },
  {
   "cell_type": "code",
   "execution_count": 13,
   "id": "ae77718a",
   "metadata": {},
   "outputs": [
    {
     "data": {
      "application/vnd.plotly.v1+json": {
       "config": {
        "linkText": "Export to plot.ly",
        "plotlyServerURL": "https://plot.ly",
        "showLink": true
       },
       "data": [
        {
         "marker": {
          "color": "rgba(255, 153, 51, 0.6)",
          "line": {
           "color": "rgba(255, 153, 51, 1.0)",
           "width": 1
          }
         },
         "name": "None",
         "orientation": "v",
         "text": "",
         "type": "bar",
         "x": [
          "A",
          "B",
          "C",
          "D"
         ],
         "y": [
          0.0984421232205004,
          0.14147071480037676,
          -0.08862251048872828,
          0.07756776240327745
         ]
        }
       ],
       "layout": {
        "legend": {
         "bgcolor": "#F5F6F9",
         "font": {
          "color": "#4D5663"
         }
        },
        "paper_bgcolor": "#F5F6F9",
        "plot_bgcolor": "#F5F6F9",
        "template": {
         "data": {
          "bar": [
           {
            "error_x": {
             "color": "#2a3f5f"
            },
            "error_y": {
             "color": "#2a3f5f"
            },
            "marker": {
             "line": {
              "color": "#E5ECF6",
              "width": 0.5
             },
             "pattern": {
              "fillmode": "overlay",
              "size": 10,
              "solidity": 0.2
             }
            },
            "type": "bar"
           }
          ],
          "barpolar": [
           {
            "marker": {
             "line": {
              "color": "#E5ECF6",
              "width": 0.5
             },
             "pattern": {
              "fillmode": "overlay",
              "size": 10,
              "solidity": 0.2
             }
            },
            "type": "barpolar"
           }
          ],
          "carpet": [
           {
            "aaxis": {
             "endlinecolor": "#2a3f5f",
             "gridcolor": "white",
             "linecolor": "white",
             "minorgridcolor": "white",
             "startlinecolor": "#2a3f5f"
            },
            "baxis": {
             "endlinecolor": "#2a3f5f",
             "gridcolor": "white",
             "linecolor": "white",
             "minorgridcolor": "white",
             "startlinecolor": "#2a3f5f"
            },
            "type": "carpet"
           }
          ],
          "choropleth": [
           {
            "colorbar": {
             "outlinewidth": 0,
             "ticks": ""
            },
            "type": "choropleth"
           }
          ],
          "contour": [
           {
            "colorbar": {
             "outlinewidth": 0,
             "ticks": ""
            },
            "colorscale": [
             [
              0,
              "#0d0887"
             ],
             [
              0.1111111111111111,
              "#46039f"
             ],
             [
              0.2222222222222222,
              "#7201a8"
             ],
             [
              0.3333333333333333,
              "#9c179e"
             ],
             [
              0.4444444444444444,
              "#bd3786"
             ],
             [
              0.5555555555555556,
              "#d8576b"
             ],
             [
              0.6666666666666666,
              "#ed7953"
             ],
             [
              0.7777777777777778,
              "#fb9f3a"
             ],
             [
              0.8888888888888888,
              "#fdca26"
             ],
             [
              1,
              "#f0f921"
             ]
            ],
            "type": "contour"
           }
          ],
          "contourcarpet": [
           {
            "colorbar": {
             "outlinewidth": 0,
             "ticks": ""
            },
            "type": "contourcarpet"
           }
          ],
          "heatmap": [
           {
            "colorbar": {
             "outlinewidth": 0,
             "ticks": ""
            },
            "colorscale": [
             [
              0,
              "#0d0887"
             ],
             [
              0.1111111111111111,
              "#46039f"
             ],
             [
              0.2222222222222222,
              "#7201a8"
             ],
             [
              0.3333333333333333,
              "#9c179e"
             ],
             [
              0.4444444444444444,
              "#bd3786"
             ],
             [
              0.5555555555555556,
              "#d8576b"
             ],
             [
              0.6666666666666666,
              "#ed7953"
             ],
             [
              0.7777777777777778,
              "#fb9f3a"
             ],
             [
              0.8888888888888888,
              "#fdca26"
             ],
             [
              1,
              "#f0f921"
             ]
            ],
            "type": "heatmap"
           }
          ],
          "heatmapgl": [
           {
            "colorbar": {
             "outlinewidth": 0,
             "ticks": ""
            },
            "colorscale": [
             [
              0,
              "#0d0887"
             ],
             [
              0.1111111111111111,
              "#46039f"
             ],
             [
              0.2222222222222222,
              "#7201a8"
             ],
             [
              0.3333333333333333,
              "#9c179e"
             ],
             [
              0.4444444444444444,
              "#bd3786"
             ],
             [
              0.5555555555555556,
              "#d8576b"
             ],
             [
              0.6666666666666666,
              "#ed7953"
             ],
             [
              0.7777777777777778,
              "#fb9f3a"
             ],
             [
              0.8888888888888888,
              "#fdca26"
             ],
             [
              1,
              "#f0f921"
             ]
            ],
            "type": "heatmapgl"
           }
          ],
          "histogram": [
           {
            "marker": {
             "pattern": {
              "fillmode": "overlay",
              "size": 10,
              "solidity": 0.2
             }
            },
            "type": "histogram"
           }
          ],
          "histogram2d": [
           {
            "colorbar": {
             "outlinewidth": 0,
             "ticks": ""
            },
            "colorscale": [
             [
              0,
              "#0d0887"
             ],
             [
              0.1111111111111111,
              "#46039f"
             ],
             [
              0.2222222222222222,
              "#7201a8"
             ],
             [
              0.3333333333333333,
              "#9c179e"
             ],
             [
              0.4444444444444444,
              "#bd3786"
             ],
             [
              0.5555555555555556,
              "#d8576b"
             ],
             [
              0.6666666666666666,
              "#ed7953"
             ],
             [
              0.7777777777777778,
              "#fb9f3a"
             ],
             [
              0.8888888888888888,
              "#fdca26"
             ],
             [
              1,
              "#f0f921"
             ]
            ],
            "type": "histogram2d"
           }
          ],
          "histogram2dcontour": [
           {
            "colorbar": {
             "outlinewidth": 0,
             "ticks": ""
            },
            "colorscale": [
             [
              0,
              "#0d0887"
             ],
             [
              0.1111111111111111,
              "#46039f"
             ],
             [
              0.2222222222222222,
              "#7201a8"
             ],
             [
              0.3333333333333333,
              "#9c179e"
             ],
             [
              0.4444444444444444,
              "#bd3786"
             ],
             [
              0.5555555555555556,
              "#d8576b"
             ],
             [
              0.6666666666666666,
              "#ed7953"
             ],
             [
              0.7777777777777778,
              "#fb9f3a"
             ],
             [
              0.8888888888888888,
              "#fdca26"
             ],
             [
              1,
              "#f0f921"
             ]
            ],
            "type": "histogram2dcontour"
           }
          ],
          "mesh3d": [
           {
            "colorbar": {
             "outlinewidth": 0,
             "ticks": ""
            },
            "type": "mesh3d"
           }
          ],
          "parcoords": [
           {
            "line": {
             "colorbar": {
              "outlinewidth": 0,
              "ticks": ""
             }
            },
            "type": "parcoords"
           }
          ],
          "pie": [
           {
            "automargin": true,
            "type": "pie"
           }
          ],
          "scatter": [
           {
            "marker": {
             "colorbar": {
              "outlinewidth": 0,
              "ticks": ""
             }
            },
            "type": "scatter"
           }
          ],
          "scatter3d": [
           {
            "line": {
             "colorbar": {
              "outlinewidth": 0,
              "ticks": ""
             }
            },
            "marker": {
             "colorbar": {
              "outlinewidth": 0,
              "ticks": ""
             }
            },
            "type": "scatter3d"
           }
          ],
          "scattercarpet": [
           {
            "marker": {
             "colorbar": {
              "outlinewidth": 0,
              "ticks": ""
             }
            },
            "type": "scattercarpet"
           }
          ],
          "scattergeo": [
           {
            "marker": {
             "colorbar": {
              "outlinewidth": 0,
              "ticks": ""
             }
            },
            "type": "scattergeo"
           }
          ],
          "scattergl": [
           {
            "marker": {
             "colorbar": {
              "outlinewidth": 0,
              "ticks": ""
             }
            },
            "type": "scattergl"
           }
          ],
          "scattermapbox": [
           {
            "marker": {
             "colorbar": {
              "outlinewidth": 0,
              "ticks": ""
             }
            },
            "type": "scattermapbox"
           }
          ],
          "scatterpolar": [
           {
            "marker": {
             "colorbar": {
              "outlinewidth": 0,
              "ticks": ""
             }
            },
            "type": "scatterpolar"
           }
          ],
          "scatterpolargl": [
           {
            "marker": {
             "colorbar": {
              "outlinewidth": 0,
              "ticks": ""
             }
            },
            "type": "scatterpolargl"
           }
          ],
          "scatterternary": [
           {
            "marker": {
             "colorbar": {
              "outlinewidth": 0,
              "ticks": ""
             }
            },
            "type": "scatterternary"
           }
          ],
          "surface": [
           {
            "colorbar": {
             "outlinewidth": 0,
             "ticks": ""
            },
            "colorscale": [
             [
              0,
              "#0d0887"
             ],
             [
              0.1111111111111111,
              "#46039f"
             ],
             [
              0.2222222222222222,
              "#7201a8"
             ],
             [
              0.3333333333333333,
              "#9c179e"
             ],
             [
              0.4444444444444444,
              "#bd3786"
             ],
             [
              0.5555555555555556,
              "#d8576b"
             ],
             [
              0.6666666666666666,
              "#ed7953"
             ],
             [
              0.7777777777777778,
              "#fb9f3a"
             ],
             [
              0.8888888888888888,
              "#fdca26"
             ],
             [
              1,
              "#f0f921"
             ]
            ],
            "type": "surface"
           }
          ],
          "table": [
           {
            "cells": {
             "fill": {
              "color": "#EBF0F8"
             },
             "line": {
              "color": "white"
             }
            },
            "header": {
             "fill": {
              "color": "#C8D4E3"
             },
             "line": {
              "color": "white"
             }
            },
            "type": "table"
           }
          ]
         },
         "layout": {
          "annotationdefaults": {
           "arrowcolor": "#2a3f5f",
           "arrowhead": 0,
           "arrowwidth": 1
          },
          "autotypenumbers": "strict",
          "coloraxis": {
           "colorbar": {
            "outlinewidth": 0,
            "ticks": ""
           }
          },
          "colorscale": {
           "diverging": [
            [
             0,
             "#8e0152"
            ],
            [
             0.1,
             "#c51b7d"
            ],
            [
             0.2,
             "#de77ae"
            ],
            [
             0.3,
             "#f1b6da"
            ],
            [
             0.4,
             "#fde0ef"
            ],
            [
             0.5,
             "#f7f7f7"
            ],
            [
             0.6,
             "#e6f5d0"
            ],
            [
             0.7,
             "#b8e186"
            ],
            [
             0.8,
             "#7fbc41"
            ],
            [
             0.9,
             "#4d9221"
            ],
            [
             1,
             "#276419"
            ]
           ],
           "sequential": [
            [
             0,
             "#0d0887"
            ],
            [
             0.1111111111111111,
             "#46039f"
            ],
            [
             0.2222222222222222,
             "#7201a8"
            ],
            [
             0.3333333333333333,
             "#9c179e"
            ],
            [
             0.4444444444444444,
             "#bd3786"
            ],
            [
             0.5555555555555556,
             "#d8576b"
            ],
            [
             0.6666666666666666,
             "#ed7953"
            ],
            [
             0.7777777777777778,
             "#fb9f3a"
            ],
            [
             0.8888888888888888,
             "#fdca26"
            ],
            [
             1,
             "#f0f921"
            ]
           ],
           "sequentialminus": [
            [
             0,
             "#0d0887"
            ],
            [
             0.1111111111111111,
             "#46039f"
            ],
            [
             0.2222222222222222,
             "#7201a8"
            ],
            [
             0.3333333333333333,
             "#9c179e"
            ],
            [
             0.4444444444444444,
             "#bd3786"
            ],
            [
             0.5555555555555556,
             "#d8576b"
            ],
            [
             0.6666666666666666,
             "#ed7953"
            ],
            [
             0.7777777777777778,
             "#fb9f3a"
            ],
            [
             0.8888888888888888,
             "#fdca26"
            ],
            [
             1,
             "#f0f921"
            ]
           ]
          },
          "colorway": [
           "#636efa",
           "#EF553B",
           "#00cc96",
           "#ab63fa",
           "#FFA15A",
           "#19d3f3",
           "#FF6692",
           "#B6E880",
           "#FF97FF",
           "#FECB52"
          ],
          "font": {
           "color": "#2a3f5f"
          },
          "geo": {
           "bgcolor": "white",
           "lakecolor": "white",
           "landcolor": "#E5ECF6",
           "showlakes": true,
           "showland": true,
           "subunitcolor": "white"
          },
          "hoverlabel": {
           "align": "left"
          },
          "hovermode": "closest",
          "mapbox": {
           "style": "light"
          },
          "paper_bgcolor": "white",
          "plot_bgcolor": "#E5ECF6",
          "polar": {
           "angularaxis": {
            "gridcolor": "white",
            "linecolor": "white",
            "ticks": ""
           },
           "bgcolor": "#E5ECF6",
           "radialaxis": {
            "gridcolor": "white",
            "linecolor": "white",
            "ticks": ""
           }
          },
          "scene": {
           "xaxis": {
            "backgroundcolor": "#E5ECF6",
            "gridcolor": "white",
            "gridwidth": 2,
            "linecolor": "white",
            "showbackground": true,
            "ticks": "",
            "zerolinecolor": "white"
           },
           "yaxis": {
            "backgroundcolor": "#E5ECF6",
            "gridcolor": "white",
            "gridwidth": 2,
            "linecolor": "white",
            "showbackground": true,
            "ticks": "",
            "zerolinecolor": "white"
           },
           "zaxis": {
            "backgroundcolor": "#E5ECF6",
            "gridcolor": "white",
            "gridwidth": 2,
            "linecolor": "white",
            "showbackground": true,
            "ticks": "",
            "zerolinecolor": "white"
           }
          },
          "shapedefaults": {
           "line": {
            "color": "#2a3f5f"
           }
          },
          "ternary": {
           "aaxis": {
            "gridcolor": "white",
            "linecolor": "white",
            "ticks": ""
           },
           "baxis": {
            "gridcolor": "white",
            "linecolor": "white",
            "ticks": ""
           },
           "bgcolor": "#E5ECF6",
           "caxis": {
            "gridcolor": "white",
            "linecolor": "white",
            "ticks": ""
           }
          },
          "title": {
           "x": 0.05
          },
          "xaxis": {
           "automargin": true,
           "gridcolor": "white",
           "linecolor": "white",
           "ticks": "",
           "title": {
            "standoff": 15
           },
           "zerolinecolor": "white",
           "zerolinewidth": 2
          },
          "yaxis": {
           "automargin": true,
           "gridcolor": "white",
           "linecolor": "white",
           "ticks": "",
           "title": {
            "standoff": 15
           },
           "zerolinecolor": "white",
           "zerolinewidth": 2
          }
         }
        },
        "title": {
         "font": {
          "color": "#4D5663"
         }
        },
        "xaxis": {
         "gridcolor": "#E1E5ED",
         "showgrid": true,
         "tickfont": {
          "color": "#4D5663"
         },
         "title": {
          "font": {
           "color": "#4D5663"
          },
          "text": ""
         },
         "zerolinecolor": "#E1E5ED"
        },
        "yaxis": {
         "gridcolor": "#E1E5ED",
         "showgrid": true,
         "tickfont": {
          "color": "#4D5663"
         },
         "title": {
          "font": {
           "color": "#4D5663"
          },
          "text": ""
         },
         "zerolinecolor": "#E1E5ED"
        }
       }
      },
      "text/html": [
       "<div>                            <div id=\"7d3e624c-d53b-4109-a5dd-421be84b27fd\" class=\"plotly-graph-div\" style=\"height:525px; width:100%;\"></div>            <script type=\"text/javascript\">                require([\"plotly\"], function(Plotly) {                    window.PLOTLYENV=window.PLOTLYENV || {};\n",
       "                    window.PLOTLYENV.BASE_URL='https://plot.ly';                                    if (document.getElementById(\"7d3e624c-d53b-4109-a5dd-421be84b27fd\")) {                    Plotly.newPlot(                        \"7d3e624c-d53b-4109-a5dd-421be84b27fd\",                        [{\"marker\":{\"color\":\"rgba(255, 153, 51, 0.6)\",\"line\":{\"color\":\"rgba(255, 153, 51, 1.0)\",\"width\":1}},\"name\":\"None\",\"orientation\":\"v\",\"text\":\"\",\"x\":[\"A\",\"B\",\"C\",\"D\"],\"y\":[0.0984421232205004,0.14147071480037676,-0.08862251048872828,0.07756776240327745],\"type\":\"bar\"}],                        {\"legend\":{\"bgcolor\":\"#F5F6F9\",\"font\":{\"color\":\"#4D5663\"}},\"paper_bgcolor\":\"#F5F6F9\",\"plot_bgcolor\":\"#F5F6F9\",\"template\":{\"data\":{\"barpolar\":[{\"marker\":{\"line\":{\"color\":\"#E5ECF6\",\"width\":0.5},\"pattern\":{\"fillmode\":\"overlay\",\"size\":10,\"solidity\":0.2}},\"type\":\"barpolar\"}],\"bar\":[{\"error_x\":{\"color\":\"#2a3f5f\"},\"error_y\":{\"color\":\"#2a3f5f\"},\"marker\":{\"line\":{\"color\":\"#E5ECF6\",\"width\":0.5},\"pattern\":{\"fillmode\":\"overlay\",\"size\":10,\"solidity\":0.2}},\"type\":\"bar\"}],\"carpet\":[{\"aaxis\":{\"endlinecolor\":\"#2a3f5f\",\"gridcolor\":\"white\",\"linecolor\":\"white\",\"minorgridcolor\":\"white\",\"startlinecolor\":\"#2a3f5f\"},\"baxis\":{\"endlinecolor\":\"#2a3f5f\",\"gridcolor\":\"white\",\"linecolor\":\"white\",\"minorgridcolor\":\"white\",\"startlinecolor\":\"#2a3f5f\"},\"type\":\"carpet\"}],\"choropleth\":[{\"colorbar\":{\"outlinewidth\":0,\"ticks\":\"\"},\"type\":\"choropleth\"}],\"contourcarpet\":[{\"colorbar\":{\"outlinewidth\":0,\"ticks\":\"\"},\"type\":\"contourcarpet\"}],\"contour\":[{\"colorbar\":{\"outlinewidth\":0,\"ticks\":\"\"},\"colorscale\":[[0.0,\"#0d0887\"],[0.1111111111111111,\"#46039f\"],[0.2222222222222222,\"#7201a8\"],[0.3333333333333333,\"#9c179e\"],[0.4444444444444444,\"#bd3786\"],[0.5555555555555556,\"#d8576b\"],[0.6666666666666666,\"#ed7953\"],[0.7777777777777778,\"#fb9f3a\"],[0.8888888888888888,\"#fdca26\"],[1.0,\"#f0f921\"]],\"type\":\"contour\"}],\"heatmapgl\":[{\"colorbar\":{\"outlinewidth\":0,\"ticks\":\"\"},\"colorscale\":[[0.0,\"#0d0887\"],[0.1111111111111111,\"#46039f\"],[0.2222222222222222,\"#7201a8\"],[0.3333333333333333,\"#9c179e\"],[0.4444444444444444,\"#bd3786\"],[0.5555555555555556,\"#d8576b\"],[0.6666666666666666,\"#ed7953\"],[0.7777777777777778,\"#fb9f3a\"],[0.8888888888888888,\"#fdca26\"],[1.0,\"#f0f921\"]],\"type\":\"heatmapgl\"}],\"heatmap\":[{\"colorbar\":{\"outlinewidth\":0,\"ticks\":\"\"},\"colorscale\":[[0.0,\"#0d0887\"],[0.1111111111111111,\"#46039f\"],[0.2222222222222222,\"#7201a8\"],[0.3333333333333333,\"#9c179e\"],[0.4444444444444444,\"#bd3786\"],[0.5555555555555556,\"#d8576b\"],[0.6666666666666666,\"#ed7953\"],[0.7777777777777778,\"#fb9f3a\"],[0.8888888888888888,\"#fdca26\"],[1.0,\"#f0f921\"]],\"type\":\"heatmap\"}],\"histogram2dcontour\":[{\"colorbar\":{\"outlinewidth\":0,\"ticks\":\"\"},\"colorscale\":[[0.0,\"#0d0887\"],[0.1111111111111111,\"#46039f\"],[0.2222222222222222,\"#7201a8\"],[0.3333333333333333,\"#9c179e\"],[0.4444444444444444,\"#bd3786\"],[0.5555555555555556,\"#d8576b\"],[0.6666666666666666,\"#ed7953\"],[0.7777777777777778,\"#fb9f3a\"],[0.8888888888888888,\"#fdca26\"],[1.0,\"#f0f921\"]],\"type\":\"histogram2dcontour\"}],\"histogram2d\":[{\"colorbar\":{\"outlinewidth\":0,\"ticks\":\"\"},\"colorscale\":[[0.0,\"#0d0887\"],[0.1111111111111111,\"#46039f\"],[0.2222222222222222,\"#7201a8\"],[0.3333333333333333,\"#9c179e\"],[0.4444444444444444,\"#bd3786\"],[0.5555555555555556,\"#d8576b\"],[0.6666666666666666,\"#ed7953\"],[0.7777777777777778,\"#fb9f3a\"],[0.8888888888888888,\"#fdca26\"],[1.0,\"#f0f921\"]],\"type\":\"histogram2d\"}],\"histogram\":[{\"marker\":{\"pattern\":{\"fillmode\":\"overlay\",\"size\":10,\"solidity\":0.2}},\"type\":\"histogram\"}],\"mesh3d\":[{\"colorbar\":{\"outlinewidth\":0,\"ticks\":\"\"},\"type\":\"mesh3d\"}],\"parcoords\":[{\"line\":{\"colorbar\":{\"outlinewidth\":0,\"ticks\":\"\"}},\"type\":\"parcoords\"}],\"pie\":[{\"automargin\":true,\"type\":\"pie\"}],\"scatter3d\":[{\"line\":{\"colorbar\":{\"outlinewidth\":0,\"ticks\":\"\"}},\"marker\":{\"colorbar\":{\"outlinewidth\":0,\"ticks\":\"\"}},\"type\":\"scatter3d\"}],\"scattercarpet\":[{\"marker\":{\"colorbar\":{\"outlinewidth\":0,\"ticks\":\"\"}},\"type\":\"scattercarpet\"}],\"scattergeo\":[{\"marker\":{\"colorbar\":{\"outlinewidth\":0,\"ticks\":\"\"}},\"type\":\"scattergeo\"}],\"scattergl\":[{\"marker\":{\"colorbar\":{\"outlinewidth\":0,\"ticks\":\"\"}},\"type\":\"scattergl\"}],\"scattermapbox\":[{\"marker\":{\"colorbar\":{\"outlinewidth\":0,\"ticks\":\"\"}},\"type\":\"scattermapbox\"}],\"scatterpolargl\":[{\"marker\":{\"colorbar\":{\"outlinewidth\":0,\"ticks\":\"\"}},\"type\":\"scatterpolargl\"}],\"scatterpolar\":[{\"marker\":{\"colorbar\":{\"outlinewidth\":0,\"ticks\":\"\"}},\"type\":\"scatterpolar\"}],\"scatter\":[{\"marker\":{\"colorbar\":{\"outlinewidth\":0,\"ticks\":\"\"}},\"type\":\"scatter\"}],\"scatterternary\":[{\"marker\":{\"colorbar\":{\"outlinewidth\":0,\"ticks\":\"\"}},\"type\":\"scatterternary\"}],\"surface\":[{\"colorbar\":{\"outlinewidth\":0,\"ticks\":\"\"},\"colorscale\":[[0.0,\"#0d0887\"],[0.1111111111111111,\"#46039f\"],[0.2222222222222222,\"#7201a8\"],[0.3333333333333333,\"#9c179e\"],[0.4444444444444444,\"#bd3786\"],[0.5555555555555556,\"#d8576b\"],[0.6666666666666666,\"#ed7953\"],[0.7777777777777778,\"#fb9f3a\"],[0.8888888888888888,\"#fdca26\"],[1.0,\"#f0f921\"]],\"type\":\"surface\"}],\"table\":[{\"cells\":{\"fill\":{\"color\":\"#EBF0F8\"},\"line\":{\"color\":\"white\"}},\"header\":{\"fill\":{\"color\":\"#C8D4E3\"},\"line\":{\"color\":\"white\"}},\"type\":\"table\"}]},\"layout\":{\"annotationdefaults\":{\"arrowcolor\":\"#2a3f5f\",\"arrowhead\":0,\"arrowwidth\":1},\"autotypenumbers\":\"strict\",\"coloraxis\":{\"colorbar\":{\"outlinewidth\":0,\"ticks\":\"\"}},\"colorscale\":{\"diverging\":[[0,\"#8e0152\"],[0.1,\"#c51b7d\"],[0.2,\"#de77ae\"],[0.3,\"#f1b6da\"],[0.4,\"#fde0ef\"],[0.5,\"#f7f7f7\"],[0.6,\"#e6f5d0\"],[0.7,\"#b8e186\"],[0.8,\"#7fbc41\"],[0.9,\"#4d9221\"],[1,\"#276419\"]],\"sequential\":[[0.0,\"#0d0887\"],[0.1111111111111111,\"#46039f\"],[0.2222222222222222,\"#7201a8\"],[0.3333333333333333,\"#9c179e\"],[0.4444444444444444,\"#bd3786\"],[0.5555555555555556,\"#d8576b\"],[0.6666666666666666,\"#ed7953\"],[0.7777777777777778,\"#fb9f3a\"],[0.8888888888888888,\"#fdca26\"],[1.0,\"#f0f921\"]],\"sequentialminus\":[[0.0,\"#0d0887\"],[0.1111111111111111,\"#46039f\"],[0.2222222222222222,\"#7201a8\"],[0.3333333333333333,\"#9c179e\"],[0.4444444444444444,\"#bd3786\"],[0.5555555555555556,\"#d8576b\"],[0.6666666666666666,\"#ed7953\"],[0.7777777777777778,\"#fb9f3a\"],[0.8888888888888888,\"#fdca26\"],[1.0,\"#f0f921\"]]},\"colorway\":[\"#636efa\",\"#EF553B\",\"#00cc96\",\"#ab63fa\",\"#FFA15A\",\"#19d3f3\",\"#FF6692\",\"#B6E880\",\"#FF97FF\",\"#FECB52\"],\"font\":{\"color\":\"#2a3f5f\"},\"geo\":{\"bgcolor\":\"white\",\"lakecolor\":\"white\",\"landcolor\":\"#E5ECF6\",\"showlakes\":true,\"showland\":true,\"subunitcolor\":\"white\"},\"hoverlabel\":{\"align\":\"left\"},\"hovermode\":\"closest\",\"mapbox\":{\"style\":\"light\"},\"paper_bgcolor\":\"white\",\"plot_bgcolor\":\"#E5ECF6\",\"polar\":{\"angularaxis\":{\"gridcolor\":\"white\",\"linecolor\":\"white\",\"ticks\":\"\"},\"bgcolor\":\"#E5ECF6\",\"radialaxis\":{\"gridcolor\":\"white\",\"linecolor\":\"white\",\"ticks\":\"\"}},\"scene\":{\"xaxis\":{\"backgroundcolor\":\"#E5ECF6\",\"gridcolor\":\"white\",\"gridwidth\":2,\"linecolor\":\"white\",\"showbackground\":true,\"ticks\":\"\",\"zerolinecolor\":\"white\"},\"yaxis\":{\"backgroundcolor\":\"#E5ECF6\",\"gridcolor\":\"white\",\"gridwidth\":2,\"linecolor\":\"white\",\"showbackground\":true,\"ticks\":\"\",\"zerolinecolor\":\"white\"},\"zaxis\":{\"backgroundcolor\":\"#E5ECF6\",\"gridcolor\":\"white\",\"gridwidth\":2,\"linecolor\":\"white\",\"showbackground\":true,\"ticks\":\"\",\"zerolinecolor\":\"white\"}},\"shapedefaults\":{\"line\":{\"color\":\"#2a3f5f\"}},\"ternary\":{\"aaxis\":{\"gridcolor\":\"white\",\"linecolor\":\"white\",\"ticks\":\"\"},\"baxis\":{\"gridcolor\":\"white\",\"linecolor\":\"white\",\"ticks\":\"\"},\"bgcolor\":\"#E5ECF6\",\"caxis\":{\"gridcolor\":\"white\",\"linecolor\":\"white\",\"ticks\":\"\"}},\"title\":{\"x\":0.05},\"xaxis\":{\"automargin\":true,\"gridcolor\":\"white\",\"linecolor\":\"white\",\"ticks\":\"\",\"title\":{\"standoff\":15},\"zerolinecolor\":\"white\",\"zerolinewidth\":2},\"yaxis\":{\"automargin\":true,\"gridcolor\":\"white\",\"linecolor\":\"white\",\"ticks\":\"\",\"title\":{\"standoff\":15},\"zerolinecolor\":\"white\",\"zerolinewidth\":2}}},\"title\":{\"font\":{\"color\":\"#4D5663\"}},\"xaxis\":{\"gridcolor\":\"#E1E5ED\",\"showgrid\":true,\"tickfont\":{\"color\":\"#4D5663\"},\"title\":{\"font\":{\"color\":\"#4D5663\"},\"text\":\"\"},\"zerolinecolor\":\"#E1E5ED\"},\"yaxis\":{\"gridcolor\":\"#E1E5ED\",\"showgrid\":true,\"tickfont\":{\"color\":\"#4D5663\"},\"title\":{\"font\":{\"color\":\"#4D5663\"},\"text\":\"\"},\"zerolinecolor\":\"#E1E5ED\"}},                        {\"showLink\": true, \"linkText\": \"Export to plot.ly\", \"plotlyServerURL\": \"https://plot.ly\", \"responsive\": true}                    ).then(function(){\n",
       "                            \n",
       "var gd = document.getElementById('7d3e624c-d53b-4109-a5dd-421be84b27fd');\n",
       "var x = new MutationObserver(function (mutations, observer) {{\n",
       "        var display = window.getComputedStyle(gd).display;\n",
       "        if (!display || display === 'none') {{\n",
       "            console.log([gd, 'removed!']);\n",
       "            Plotly.purge(gd);\n",
       "            observer.disconnect();\n",
       "        }}\n",
       "}});\n",
       "\n",
       "// Listen for the removal of the full notebook cells\n",
       "var notebookContainer = gd.closest('#notebook-container');\n",
       "if (notebookContainer) {{\n",
       "    x.observe(notebookContainer, {childList: true});\n",
       "}}\n",
       "\n",
       "// Listen for the clearing of the current output cell\n",
       "var outputEl = gd.closest('.output');\n",
       "if (outputEl) {{\n",
       "    x.observe(outputEl, {childList: true});\n",
       "}}\n",
       "\n",
       "                        })                };                });            </script>        </div>"
      ]
     },
     "metadata": {},
     "output_type": "display_data"
    }
   ],
   "source": [
    "df.mean().iplot(kind=\"bar\")"
   ]
  },
  {
   "cell_type": "code",
   "execution_count": 14,
   "id": "1b847a14",
   "metadata": {},
   "outputs": [
    {
     "data": {
      "application/vnd.plotly.v1+json": {
       "config": {
        "linkText": "Export to plot.ly",
        "plotlyServerURL": "https://plot.ly",
        "showLink": true
       },
       "data": [
        {
         "boxpoints": false,
         "line": {
          "width": 1.3
         },
         "marker": {
          "color": "rgba(255, 153, 51, 1.0)"
         },
         "name": "A",
         "orientation": "v",
         "type": "box",
         "y": [
          0.17182131329699793,
          -0.21751837149008088,
          0.8520992115955089,
          0.05742133483880542,
          -0.03701115586440133,
          2.6973597817844914,
          -1.8877793190781818,
          1.7166623332352855,
          1.259911262295181,
          0.031769281679936395,
          0.0508239712076725,
          0.43627786253626,
          1.0198172828269088,
          0.2240566601363054,
          1.3260778196171579,
          -0.3910345927243946,
          -0.6624997831912773,
          -0.9400987274239068,
          -0.6377684477678879,
          0.23788029069286531,
          0.06969530641928225,
          -0.08669172991049304,
          -0.1512677661162708,
          -1.1658260190456318,
          1.0600197895207202,
          -0.20221201669291944,
          -0.07693099603756043,
          0.4945802513070474,
          0.6371521910271359,
          0.4852632657427939,
          -0.40581619690111637,
          0.1412205595276012,
          0.13918143842256417,
          0.6310934836171265,
          1.1433954277165832,
          -0.34590239097163983,
          0.7302838926871985,
          0.02829008194726475,
          -1.0251405439724093,
          -0.16828515380497752,
          0.713802473498807,
          -1.5230087719873744,
          1.1894249747216414,
          -0.02110573542948361,
          -0.009013224341380086,
          -0.6099868239339996,
          0.3827652838586205,
          -0.4881093218446922,
          -1.2923096311306281,
          0.6609728793408054,
          0.46890971023101813,
          0.5326518795412732,
          0.20057041674142995,
          -0.579659726057919,
          -0.7904339074270497,
          -1.9195917396464204,
          -0.12432851356501343,
          0.016896163296924296,
          -0.7006644454340994,
          1.4037974829972457,
          -1.591543040486118,
          -0.12099627209491523,
          0.4642002294162683,
          -0.7821594697936182,
          1.1783639613615309,
          -2.026759862138661,
          -1.025229349046652,
          -0.8046370009828545,
          -0.5076446125965427,
          0.02281882785522542,
          1.2024157907690753,
          1.4714869478383663,
          0.689903888615297,
          -0.24514831334276257,
          -0.0035223811014121866,
          0.8883867313431024,
          0.21921114499087757,
          1.1141936138054414,
          0.2788188678593166,
          -0.07634107259449303,
          0.6826915621705238,
          0.3114738030169309,
          0.2615743783695237,
          0.014063052275365666,
          0.8572265898624823,
          1.160204046429771,
          0.5413020744257988,
          1.1959762106386431,
          -1.4804127495676545,
          0.5208510722656184,
          0.10931121482756144,
          -0.8714162682553113,
          -0.8863941668231697,
          -1.6131738814242642,
          1.7170467935777118,
          1.2368578356106872,
          2.115808069659541,
          -0.9575909358514951,
          -1.0103683951644498,
          0.8414130802145096
         ]
        },
        {
         "boxpoints": false,
         "line": {
          "width": 1.3
         },
         "marker": {
          "color": "rgba(55, 128, 191, 1.0)"
         },
         "name": "B",
         "orientation": "v",
         "type": "box",
         "y": [
          1.9824198315783816,
          1.3091993326892228,
          -1.2232988271495462,
          -0.19719594337514346,
          -0.3883205707396667,
          -0.714436389257402,
          -2.88227623152448,
          0.844681688946653,
          -0.22775321569799709,
          1.1823240259708958,
          0.34029333587973354,
          -1.3109908156911778,
          -0.23828709768589754,
          -0.3284753384999053,
          0.3854320433598857,
          -0.7877815992111348,
          1.260930508403904,
          -0.6376699832686588,
          1.4919925325626402,
          1.8430188733793647,
          -0.53329941520741,
          0.8995368070732571,
          1.3220065246551411,
          0.7899378206176743,
          2.559225504588923,
          -2.163397447913008,
          -0.5114503633193542,
          -0.6804299981894304,
          0.3916906174456555,
          -0.9137016294766945,
          -1.2210721128562319,
          -1.9725269460216899,
          0.7094890909986767,
          -0.2751737621465072,
          -0.08731916358838872,
          0.9866228301041913,
          -0.5595860856582786,
          -1.1939186763929523,
          0.6681730424053982,
          0.5014533400976171,
          0.8551026990355919,
          -0.256238454119293,
          0.5470435635003105,
          1.3442119595879491,
          0.08477395127003368,
          1.9755689399593193,
          0.7678336141341726,
          -0.6567260332772877,
          2.456323956444022,
          -0.7011317822766581,
          0.78227220870668,
          0.24481209559617614,
          -0.8680652415261771,
          -0.4560191083149844,
          -0.4181872761228879,
          -0.6640338993480072,
          0.6842151623414131,
          -1.715738873887148,
          0.4210807397823437,
          -0.9472812249812783,
          0.10244262377035715,
          1.2471790365716295,
          -0.6633440997020905,
          1.5130780644821349,
          -1.634256863891054,
          -0.27978027667764627,
          -0.15764709446756195,
          1.3268082081064996,
          0.2119850457355075,
          -0.20335591336657793,
          0.03811988530396497,
          0.3615077045931863,
          -0.022946861281996894,
          1.751464493217749,
          0.38794212109299925,
          1.1266379375838935,
          1.2421671040967004,
          1.5766723383052155,
          0.1673679152308049,
          0.6650414255780529,
          -0.7491324331459841,
          0.4255355160409724,
          -0.8234191555435801,
          1.4476429835646385,
          -0.16701431149830737,
          -0.6008746398228956,
          -1.2647876115554673,
          -0.1398344928393769,
          2.6919066244577023,
          -1.3693196253960402,
          1.3240376603454416,
          0.711397001180157,
          -1.395667721912057,
          0.7702217374207543,
          1.4635340072179726,
          -2.5356853246697746,
          -0.2843972219611788,
          1.6286145267704566,
          -0.08473981575812777,
          0.4420878484700525
         ]
        },
        {
         "boxpoints": false,
         "line": {
          "width": 1.3
         },
         "marker": {
          "color": "rgba(50, 171, 96, 1.0)"
         },
         "name": "C",
         "orientation": "v",
         "type": "box",
         "y": [
          -0.06692149827891483,
          0.21163508676146844,
          0.10962546429194915,
          -0.2558534300057048,
          -1.0492460939050248,
          1.040490686200205,
          0.07354678550251936,
          -1.008281976174112,
          0.13282976375171887,
          1.1192055133929228,
          -0.11040444333363535,
          0.3793407458297617,
          -0.46090660728034044,
          -1.660226482279525,
          -0.2961280544340508,
          -1.5586414580003636,
          2.169467850787301,
          2.523535716595376,
          -1.4642940309453036,
          -0.038437747590108075,
          -0.8699575853617059,
          -0.16345142570587193,
          -0.4719380413247446,
          -1.1452082460673398,
          0.4819366982023875,
          -1.0363534957745169,
          0.2859574178040571,
          1.0655286630933491,
          -0.11086346800488464,
          -0.07293702286019811,
          -0.25293593473615616,
          -0.18303416407740078,
          -0.41790548892845597,
          -0.11461663118001136,
          -1.589200545678026,
          -1.0964099934514793,
          -0.37554800238541103,
          -0.0996017199236781,
          1.0676301399002148,
          0.48654784004203167,
          0.36290834128167454,
          0.1300103793987335,
          0.8064625009596381,
          0.013830930107821401,
          -1.2755600507738083,
          -1.1260322492935764,
          1.8563698674995595,
          -1.1159804104526063,
          1.0499349480169025,
          -1.3161252441082945,
          1.0193888319116835,
          -0.4174508404753829,
          0.4676925181626736,
          -0.7391404683682344,
          0.9946440781326336,
          -2.3851102826330313,
          1.1528027729198533,
          0.5533125722332582,
          0.0853455012942767,
          -1.6007079416275325,
          0.5066546358568118,
          0.09296421976299869,
          -1.4091398749727495,
          0.8488858182257673,
          0.3537522176221965,
          -0.648665513302343,
          -0.365054741533402,
          0.9958427403963284,
          -0.09566153249121677,
          -0.39006338725617334,
          0.3836322694653195,
          -0.28249667470159623,
          -1.0427682001568448,
          -0.42081315933762353,
          0.9340478224623755,
          0.3154766707839829,
          -0.5493194486239779,
          1.6084689913196342,
          0.7485272991064392,
          0.3265551336874761,
          -0.10060890300142215,
          -1.6274240822731207,
          -0.692156534635706,
          -1.649334531922874,
          0.6229110651212619,
          0.7797817051121688,
          -0.589418862332541,
          -0.8523257616912966,
          0.2606750596232987,
          -1.209367782431702,
          0.5388364328927802,
          0.4939253040890085,
          -0.12839754386255955,
          0.5605173596848374,
          1.0305025247887865,
          -1.4444643659994203,
          0.7520344814672549,
          0.22493433918716954,
          -0.5579279755129903,
          -0.8803388021437051
         ]
        },
        {
         "boxpoints": false,
         "line": {
          "width": 1.3
         },
         "marker": {
          "color": "rgba(128, 0, 128, 1.0)"
         },
         "name": "D",
         "orientation": "v",
         "type": "box",
         "y": [
          -0.3368986726967059,
          0.7518137909507739,
          -1.4754031781684198,
          -1.3873661948467646,
          0.5366440290038864,
          -0.6086279807801238,
          -0.28449750603972696,
          -0.997729440194146,
          0.6840601963313361,
          0.16335827281561927,
          2.068184744244638,
          -0.6470979605963196,
          1.195153469755728,
          1.6012105097647358,
          -0.43323389782101746,
          1.1313213515968712,
          -0.553422330480302,
          -0.47918545859079326,
          -1.198827599019185,
          -0.7587809042198871,
          -0.5375272630792494,
          -0.9709238393633437,
          -1.4002850298460936,
          -0.23482208473203486,
          -1.4756939327392007,
          1.5749289674525897,
          -0.4401486798614137,
          -0.08248188246193845,
          0.018602802785695465,
          -0.8403496381646197,
          -0.04956322074918477,
          0.6178076978921899,
          1.1455904042809115,
          0.13989362246954168,
          -0.03550083311516659,
          0.9272741147509023,
          0.6361229855491726,
          -0.7841808232655151,
          0.8585857815829068,
          -1.8011355532888107,
          1.661808660248311,
          2.0109400289145523,
          1.3048734457294462,
          0.9032419964846703,
          0.8971648156733816,
          0.16441321975080556,
          0.9837495198363891,
          -0.11443263495506939,
          1.4643237693041038,
          -0.7246778998206684,
          -0.5573238370238565,
          -2.75463884493668,
          -0.43206859770011463,
          0.9777073791219038,
          -0.646060193433183,
          0.2686794046986245,
          -1.3815109656918652,
          -0.4219384041798588,
          -0.02745170413573071,
          -0.4588991425406564,
          0.3378129992552197,
          0.9397124179166676,
          0.0748915667472112,
          -0.6224447864353309,
          1.2355086067491552,
          -0.9813545480077074,
          -0.06580046251001918,
          -1.4518800547323825,
          2.0962158584098898,
          -0.9998231377997212,
          -1.0096604103407463,
          -0.20009481575248378,
          1.7761070447361005,
          -0.2987396767581034,
          -0.7339866886202033,
          -0.13981579480794043,
          0.8888538171707128,
          -0.23081176937598127,
          0.8466152990663928,
          -1.68114726177875,
          0.24520929705750316,
          0.15083576195661244,
          1.053478957203685,
          0.11546385904520526,
          0.9459855873687798,
          -0.577724287787626,
          2.9784813172241154,
          -0.20089625538567984,
          1.137863396939422,
          0.5097395919053742,
          1.4833471902768316,
          -0.2800028816075082,
          -1.7430766063513776,
          1.094082687721341,
          -0.34140792454295366,
          0.5917964983346524,
          0.20270662579236268,
          0.31175478102408394,
          -0.532804399900463,
          1.477015988469366
         ]
        }
       ],
       "layout": {
        "legend": {
         "bgcolor": "#F5F6F9",
         "font": {
          "color": "#4D5663"
         }
        },
        "paper_bgcolor": "#F5F6F9",
        "plot_bgcolor": "#F5F6F9",
        "template": {
         "data": {
          "bar": [
           {
            "error_x": {
             "color": "#2a3f5f"
            },
            "error_y": {
             "color": "#2a3f5f"
            },
            "marker": {
             "line": {
              "color": "#E5ECF6",
              "width": 0.5
             },
             "pattern": {
              "fillmode": "overlay",
              "size": 10,
              "solidity": 0.2
             }
            },
            "type": "bar"
           }
          ],
          "barpolar": [
           {
            "marker": {
             "line": {
              "color": "#E5ECF6",
              "width": 0.5
             },
             "pattern": {
              "fillmode": "overlay",
              "size": 10,
              "solidity": 0.2
             }
            },
            "type": "barpolar"
           }
          ],
          "carpet": [
           {
            "aaxis": {
             "endlinecolor": "#2a3f5f",
             "gridcolor": "white",
             "linecolor": "white",
             "minorgridcolor": "white",
             "startlinecolor": "#2a3f5f"
            },
            "baxis": {
             "endlinecolor": "#2a3f5f",
             "gridcolor": "white",
             "linecolor": "white",
             "minorgridcolor": "white",
             "startlinecolor": "#2a3f5f"
            },
            "type": "carpet"
           }
          ],
          "choropleth": [
           {
            "colorbar": {
             "outlinewidth": 0,
             "ticks": ""
            },
            "type": "choropleth"
           }
          ],
          "contour": [
           {
            "colorbar": {
             "outlinewidth": 0,
             "ticks": ""
            },
            "colorscale": [
             [
              0,
              "#0d0887"
             ],
             [
              0.1111111111111111,
              "#46039f"
             ],
             [
              0.2222222222222222,
              "#7201a8"
             ],
             [
              0.3333333333333333,
              "#9c179e"
             ],
             [
              0.4444444444444444,
              "#bd3786"
             ],
             [
              0.5555555555555556,
              "#d8576b"
             ],
             [
              0.6666666666666666,
              "#ed7953"
             ],
             [
              0.7777777777777778,
              "#fb9f3a"
             ],
             [
              0.8888888888888888,
              "#fdca26"
             ],
             [
              1,
              "#f0f921"
             ]
            ],
            "type": "contour"
           }
          ],
          "contourcarpet": [
           {
            "colorbar": {
             "outlinewidth": 0,
             "ticks": ""
            },
            "type": "contourcarpet"
           }
          ],
          "heatmap": [
           {
            "colorbar": {
             "outlinewidth": 0,
             "ticks": ""
            },
            "colorscale": [
             [
              0,
              "#0d0887"
             ],
             [
              0.1111111111111111,
              "#46039f"
             ],
             [
              0.2222222222222222,
              "#7201a8"
             ],
             [
              0.3333333333333333,
              "#9c179e"
             ],
             [
              0.4444444444444444,
              "#bd3786"
             ],
             [
              0.5555555555555556,
              "#d8576b"
             ],
             [
              0.6666666666666666,
              "#ed7953"
             ],
             [
              0.7777777777777778,
              "#fb9f3a"
             ],
             [
              0.8888888888888888,
              "#fdca26"
             ],
             [
              1,
              "#f0f921"
             ]
            ],
            "type": "heatmap"
           }
          ],
          "heatmapgl": [
           {
            "colorbar": {
             "outlinewidth": 0,
             "ticks": ""
            },
            "colorscale": [
             [
              0,
              "#0d0887"
             ],
             [
              0.1111111111111111,
              "#46039f"
             ],
             [
              0.2222222222222222,
              "#7201a8"
             ],
             [
              0.3333333333333333,
              "#9c179e"
             ],
             [
              0.4444444444444444,
              "#bd3786"
             ],
             [
              0.5555555555555556,
              "#d8576b"
             ],
             [
              0.6666666666666666,
              "#ed7953"
             ],
             [
              0.7777777777777778,
              "#fb9f3a"
             ],
             [
              0.8888888888888888,
              "#fdca26"
             ],
             [
              1,
              "#f0f921"
             ]
            ],
            "type": "heatmapgl"
           }
          ],
          "histogram": [
           {
            "marker": {
             "pattern": {
              "fillmode": "overlay",
              "size": 10,
              "solidity": 0.2
             }
            },
            "type": "histogram"
           }
          ],
          "histogram2d": [
           {
            "colorbar": {
             "outlinewidth": 0,
             "ticks": ""
            },
            "colorscale": [
             [
              0,
              "#0d0887"
             ],
             [
              0.1111111111111111,
              "#46039f"
             ],
             [
              0.2222222222222222,
              "#7201a8"
             ],
             [
              0.3333333333333333,
              "#9c179e"
             ],
             [
              0.4444444444444444,
              "#bd3786"
             ],
             [
              0.5555555555555556,
              "#d8576b"
             ],
             [
              0.6666666666666666,
              "#ed7953"
             ],
             [
              0.7777777777777778,
              "#fb9f3a"
             ],
             [
              0.8888888888888888,
              "#fdca26"
             ],
             [
              1,
              "#f0f921"
             ]
            ],
            "type": "histogram2d"
           }
          ],
          "histogram2dcontour": [
           {
            "colorbar": {
             "outlinewidth": 0,
             "ticks": ""
            },
            "colorscale": [
             [
              0,
              "#0d0887"
             ],
             [
              0.1111111111111111,
              "#46039f"
             ],
             [
              0.2222222222222222,
              "#7201a8"
             ],
             [
              0.3333333333333333,
              "#9c179e"
             ],
             [
              0.4444444444444444,
              "#bd3786"
             ],
             [
              0.5555555555555556,
              "#d8576b"
             ],
             [
              0.6666666666666666,
              "#ed7953"
             ],
             [
              0.7777777777777778,
              "#fb9f3a"
             ],
             [
              0.8888888888888888,
              "#fdca26"
             ],
             [
              1,
              "#f0f921"
             ]
            ],
            "type": "histogram2dcontour"
           }
          ],
          "mesh3d": [
           {
            "colorbar": {
             "outlinewidth": 0,
             "ticks": ""
            },
            "type": "mesh3d"
           }
          ],
          "parcoords": [
           {
            "line": {
             "colorbar": {
              "outlinewidth": 0,
              "ticks": ""
             }
            },
            "type": "parcoords"
           }
          ],
          "pie": [
           {
            "automargin": true,
            "type": "pie"
           }
          ],
          "scatter": [
           {
            "marker": {
             "colorbar": {
              "outlinewidth": 0,
              "ticks": ""
             }
            },
            "type": "scatter"
           }
          ],
          "scatter3d": [
           {
            "line": {
             "colorbar": {
              "outlinewidth": 0,
              "ticks": ""
             }
            },
            "marker": {
             "colorbar": {
              "outlinewidth": 0,
              "ticks": ""
             }
            },
            "type": "scatter3d"
           }
          ],
          "scattercarpet": [
           {
            "marker": {
             "colorbar": {
              "outlinewidth": 0,
              "ticks": ""
             }
            },
            "type": "scattercarpet"
           }
          ],
          "scattergeo": [
           {
            "marker": {
             "colorbar": {
              "outlinewidth": 0,
              "ticks": ""
             }
            },
            "type": "scattergeo"
           }
          ],
          "scattergl": [
           {
            "marker": {
             "colorbar": {
              "outlinewidth": 0,
              "ticks": ""
             }
            },
            "type": "scattergl"
           }
          ],
          "scattermapbox": [
           {
            "marker": {
             "colorbar": {
              "outlinewidth": 0,
              "ticks": ""
             }
            },
            "type": "scattermapbox"
           }
          ],
          "scatterpolar": [
           {
            "marker": {
             "colorbar": {
              "outlinewidth": 0,
              "ticks": ""
             }
            },
            "type": "scatterpolar"
           }
          ],
          "scatterpolargl": [
           {
            "marker": {
             "colorbar": {
              "outlinewidth": 0,
              "ticks": ""
             }
            },
            "type": "scatterpolargl"
           }
          ],
          "scatterternary": [
           {
            "marker": {
             "colorbar": {
              "outlinewidth": 0,
              "ticks": ""
             }
            },
            "type": "scatterternary"
           }
          ],
          "surface": [
           {
            "colorbar": {
             "outlinewidth": 0,
             "ticks": ""
            },
            "colorscale": [
             [
              0,
              "#0d0887"
             ],
             [
              0.1111111111111111,
              "#46039f"
             ],
             [
              0.2222222222222222,
              "#7201a8"
             ],
             [
              0.3333333333333333,
              "#9c179e"
             ],
             [
              0.4444444444444444,
              "#bd3786"
             ],
             [
              0.5555555555555556,
              "#d8576b"
             ],
             [
              0.6666666666666666,
              "#ed7953"
             ],
             [
              0.7777777777777778,
              "#fb9f3a"
             ],
             [
              0.8888888888888888,
              "#fdca26"
             ],
             [
              1,
              "#f0f921"
             ]
            ],
            "type": "surface"
           }
          ],
          "table": [
           {
            "cells": {
             "fill": {
              "color": "#EBF0F8"
             },
             "line": {
              "color": "white"
             }
            },
            "header": {
             "fill": {
              "color": "#C8D4E3"
             },
             "line": {
              "color": "white"
             }
            },
            "type": "table"
           }
          ]
         },
         "layout": {
          "annotationdefaults": {
           "arrowcolor": "#2a3f5f",
           "arrowhead": 0,
           "arrowwidth": 1
          },
          "autotypenumbers": "strict",
          "coloraxis": {
           "colorbar": {
            "outlinewidth": 0,
            "ticks": ""
           }
          },
          "colorscale": {
           "diverging": [
            [
             0,
             "#8e0152"
            ],
            [
             0.1,
             "#c51b7d"
            ],
            [
             0.2,
             "#de77ae"
            ],
            [
             0.3,
             "#f1b6da"
            ],
            [
             0.4,
             "#fde0ef"
            ],
            [
             0.5,
             "#f7f7f7"
            ],
            [
             0.6,
             "#e6f5d0"
            ],
            [
             0.7,
             "#b8e186"
            ],
            [
             0.8,
             "#7fbc41"
            ],
            [
             0.9,
             "#4d9221"
            ],
            [
             1,
             "#276419"
            ]
           ],
           "sequential": [
            [
             0,
             "#0d0887"
            ],
            [
             0.1111111111111111,
             "#46039f"
            ],
            [
             0.2222222222222222,
             "#7201a8"
            ],
            [
             0.3333333333333333,
             "#9c179e"
            ],
            [
             0.4444444444444444,
             "#bd3786"
            ],
            [
             0.5555555555555556,
             "#d8576b"
            ],
            [
             0.6666666666666666,
             "#ed7953"
            ],
            [
             0.7777777777777778,
             "#fb9f3a"
            ],
            [
             0.8888888888888888,
             "#fdca26"
            ],
            [
             1,
             "#f0f921"
            ]
           ],
           "sequentialminus": [
            [
             0,
             "#0d0887"
            ],
            [
             0.1111111111111111,
             "#46039f"
            ],
            [
             0.2222222222222222,
             "#7201a8"
            ],
            [
             0.3333333333333333,
             "#9c179e"
            ],
            [
             0.4444444444444444,
             "#bd3786"
            ],
            [
             0.5555555555555556,
             "#d8576b"
            ],
            [
             0.6666666666666666,
             "#ed7953"
            ],
            [
             0.7777777777777778,
             "#fb9f3a"
            ],
            [
             0.8888888888888888,
             "#fdca26"
            ],
            [
             1,
             "#f0f921"
            ]
           ]
          },
          "colorway": [
           "#636efa",
           "#EF553B",
           "#00cc96",
           "#ab63fa",
           "#FFA15A",
           "#19d3f3",
           "#FF6692",
           "#B6E880",
           "#FF97FF",
           "#FECB52"
          ],
          "font": {
           "color": "#2a3f5f"
          },
          "geo": {
           "bgcolor": "white",
           "lakecolor": "white",
           "landcolor": "#E5ECF6",
           "showlakes": true,
           "showland": true,
           "subunitcolor": "white"
          },
          "hoverlabel": {
           "align": "left"
          },
          "hovermode": "closest",
          "mapbox": {
           "style": "light"
          },
          "paper_bgcolor": "white",
          "plot_bgcolor": "#E5ECF6",
          "polar": {
           "angularaxis": {
            "gridcolor": "white",
            "linecolor": "white",
            "ticks": ""
           },
           "bgcolor": "#E5ECF6",
           "radialaxis": {
            "gridcolor": "white",
            "linecolor": "white",
            "ticks": ""
           }
          },
          "scene": {
           "xaxis": {
            "backgroundcolor": "#E5ECF6",
            "gridcolor": "white",
            "gridwidth": 2,
            "linecolor": "white",
            "showbackground": true,
            "ticks": "",
            "zerolinecolor": "white"
           },
           "yaxis": {
            "backgroundcolor": "#E5ECF6",
            "gridcolor": "white",
            "gridwidth": 2,
            "linecolor": "white",
            "showbackground": true,
            "ticks": "",
            "zerolinecolor": "white"
           },
           "zaxis": {
            "backgroundcolor": "#E5ECF6",
            "gridcolor": "white",
            "gridwidth": 2,
            "linecolor": "white",
            "showbackground": true,
            "ticks": "",
            "zerolinecolor": "white"
           }
          },
          "shapedefaults": {
           "line": {
            "color": "#2a3f5f"
           }
          },
          "ternary": {
           "aaxis": {
            "gridcolor": "white",
            "linecolor": "white",
            "ticks": ""
           },
           "baxis": {
            "gridcolor": "white",
            "linecolor": "white",
            "ticks": ""
           },
           "bgcolor": "#E5ECF6",
           "caxis": {
            "gridcolor": "white",
            "linecolor": "white",
            "ticks": ""
           }
          },
          "title": {
           "x": 0.05
          },
          "xaxis": {
           "automargin": true,
           "gridcolor": "white",
           "linecolor": "white",
           "ticks": "",
           "title": {
            "standoff": 15
           },
           "zerolinecolor": "white",
           "zerolinewidth": 2
          },
          "yaxis": {
           "automargin": true,
           "gridcolor": "white",
           "linecolor": "white",
           "ticks": "",
           "title": {
            "standoff": 15
           },
           "zerolinecolor": "white",
           "zerolinewidth": 2
          }
         }
        },
        "title": {
         "font": {
          "color": "#4D5663"
         }
        },
        "xaxis": {
         "gridcolor": "#E1E5ED",
         "showgrid": true,
         "tickfont": {
          "color": "#4D5663"
         },
         "title": {
          "font": {
           "color": "#4D5663"
          },
          "text": ""
         },
         "zerolinecolor": "#E1E5ED"
        },
        "yaxis": {
         "gridcolor": "#E1E5ED",
         "showgrid": true,
         "tickfont": {
          "color": "#4D5663"
         },
         "title": {
          "font": {
           "color": "#4D5663"
          },
          "text": ""
         },
         "zerolinecolor": "#E1E5ED"
        }
       }
      },
      "text/html": [
       "<div>                            <div id=\"aa1a933f-dcb8-4f91-9640-8ca41694149b\" class=\"plotly-graph-div\" style=\"height:525px; width:100%;\"></div>            <script type=\"text/javascript\">                require([\"plotly\"], function(Plotly) {                    window.PLOTLYENV=window.PLOTLYENV || {};\n",
       "                    window.PLOTLYENV.BASE_URL='https://plot.ly';                                    if (document.getElementById(\"aa1a933f-dcb8-4f91-9640-8ca41694149b\")) {                    Plotly.newPlot(                        \"aa1a933f-dcb8-4f91-9640-8ca41694149b\",                        [{\"boxpoints\":false,\"line\":{\"width\":1.3},\"marker\":{\"color\":\"rgba(255, 153, 51, 1.0)\"},\"name\":\"A\",\"orientation\":\"v\",\"y\":[0.17182131329699793,-0.21751837149008088,0.8520992115955089,0.05742133483880542,-0.03701115586440133,2.6973597817844914,-1.8877793190781818,1.7166623332352855,1.259911262295181,0.031769281679936395,0.0508239712076725,0.43627786253626,1.0198172828269088,0.2240566601363054,1.3260778196171579,-0.3910345927243946,-0.6624997831912773,-0.9400987274239068,-0.6377684477678879,0.23788029069286531,0.06969530641928225,-0.08669172991049304,-0.1512677661162708,-1.1658260190456318,1.0600197895207202,-0.20221201669291944,-0.07693099603756043,0.4945802513070474,0.6371521910271359,0.4852632657427939,-0.40581619690111637,0.1412205595276012,0.13918143842256417,0.6310934836171265,1.1433954277165832,-0.34590239097163983,0.7302838926871985,0.02829008194726475,-1.0251405439724093,-0.16828515380497752,0.713802473498807,-1.5230087719873744,1.1894249747216414,-0.02110573542948361,-0.009013224341380086,-0.6099868239339996,0.3827652838586205,-0.4881093218446922,-1.2923096311306281,0.6609728793408054,0.46890971023101813,0.5326518795412732,0.20057041674142995,-0.579659726057919,-0.7904339074270497,-1.9195917396464204,-0.12432851356501343,0.016896163296924296,-0.7006644454340994,1.4037974829972457,-1.591543040486118,-0.12099627209491523,0.4642002294162683,-0.7821594697936182,1.1783639613615309,-2.026759862138661,-1.025229349046652,-0.8046370009828545,-0.5076446125965427,0.02281882785522542,1.2024157907690753,1.4714869478383663,0.689903888615297,-0.24514831334276257,-0.0035223811014121866,0.8883867313431024,0.21921114499087757,1.1141936138054414,0.2788188678593166,-0.07634107259449303,0.6826915621705238,0.3114738030169309,0.2615743783695237,0.014063052275365666,0.8572265898624823,1.160204046429771,0.5413020744257988,1.1959762106386431,-1.4804127495676545,0.5208510722656184,0.10931121482756144,-0.8714162682553113,-0.8863941668231697,-1.6131738814242642,1.7170467935777118,1.2368578356106872,2.115808069659541,-0.9575909358514951,-1.0103683951644498,0.8414130802145096],\"type\":\"box\"},{\"boxpoints\":false,\"line\":{\"width\":1.3},\"marker\":{\"color\":\"rgba(55, 128, 191, 1.0)\"},\"name\":\"B\",\"orientation\":\"v\",\"y\":[1.9824198315783816,1.3091993326892228,-1.2232988271495462,-0.19719594337514346,-0.3883205707396667,-0.714436389257402,-2.88227623152448,0.844681688946653,-0.22775321569799709,1.1823240259708958,0.34029333587973354,-1.3109908156911778,-0.23828709768589754,-0.3284753384999053,0.3854320433598857,-0.7877815992111348,1.260930508403904,-0.6376699832686588,1.4919925325626402,1.8430188733793647,-0.53329941520741,0.8995368070732571,1.3220065246551411,0.7899378206176743,2.559225504588923,-2.163397447913008,-0.5114503633193542,-0.6804299981894304,0.3916906174456555,-0.9137016294766945,-1.2210721128562319,-1.9725269460216899,0.7094890909986767,-0.2751737621465072,-0.08731916358838872,0.9866228301041913,-0.5595860856582786,-1.1939186763929523,0.6681730424053982,0.5014533400976171,0.8551026990355919,-0.256238454119293,0.5470435635003105,1.3442119595879491,0.08477395127003368,1.9755689399593193,0.7678336141341726,-0.6567260332772877,2.456323956444022,-0.7011317822766581,0.78227220870668,0.24481209559617614,-0.8680652415261771,-0.4560191083149844,-0.4181872761228879,-0.6640338993480072,0.6842151623414131,-1.715738873887148,0.4210807397823437,-0.9472812249812783,0.10244262377035715,1.2471790365716295,-0.6633440997020905,1.5130780644821349,-1.634256863891054,-0.27978027667764627,-0.15764709446756195,1.3268082081064996,0.2119850457355075,-0.20335591336657793,0.03811988530396497,0.3615077045931863,-0.022946861281996894,1.751464493217749,0.38794212109299925,1.1266379375838935,1.2421671040967004,1.5766723383052155,0.1673679152308049,0.6650414255780529,-0.7491324331459841,0.4255355160409724,-0.8234191555435801,1.4476429835646385,-0.16701431149830737,-0.6008746398228956,-1.2647876115554673,-0.1398344928393769,2.6919066244577023,-1.3693196253960402,1.3240376603454416,0.711397001180157,-1.395667721912057,0.7702217374207543,1.4635340072179726,-2.5356853246697746,-0.2843972219611788,1.6286145267704566,-0.08473981575812777,0.4420878484700525],\"type\":\"box\"},{\"boxpoints\":false,\"line\":{\"width\":1.3},\"marker\":{\"color\":\"rgba(50, 171, 96, 1.0)\"},\"name\":\"C\",\"orientation\":\"v\",\"y\":[-0.06692149827891483,0.21163508676146844,0.10962546429194915,-0.2558534300057048,-1.0492460939050248,1.040490686200205,0.07354678550251936,-1.008281976174112,0.13282976375171887,1.1192055133929228,-0.11040444333363535,0.3793407458297617,-0.46090660728034044,-1.660226482279525,-0.2961280544340508,-1.5586414580003636,2.169467850787301,2.523535716595376,-1.4642940309453036,-0.038437747590108075,-0.8699575853617059,-0.16345142570587193,-0.4719380413247446,-1.1452082460673398,0.4819366982023875,-1.0363534957745169,0.2859574178040571,1.0655286630933491,-0.11086346800488464,-0.07293702286019811,-0.25293593473615616,-0.18303416407740078,-0.41790548892845597,-0.11461663118001136,-1.589200545678026,-1.0964099934514793,-0.37554800238541103,-0.0996017199236781,1.0676301399002148,0.48654784004203167,0.36290834128167454,0.1300103793987335,0.8064625009596381,0.013830930107821401,-1.2755600507738083,-1.1260322492935764,1.8563698674995595,-1.1159804104526063,1.0499349480169025,-1.3161252441082945,1.0193888319116835,-0.4174508404753829,0.4676925181626736,-0.7391404683682344,0.9946440781326336,-2.3851102826330313,1.1528027729198533,0.5533125722332582,0.0853455012942767,-1.6007079416275325,0.5066546358568118,0.09296421976299869,-1.4091398749727495,0.8488858182257673,0.3537522176221965,-0.648665513302343,-0.365054741533402,0.9958427403963284,-0.09566153249121677,-0.39006338725617334,0.3836322694653195,-0.28249667470159623,-1.0427682001568448,-0.42081315933762353,0.9340478224623755,0.3154766707839829,-0.5493194486239779,1.6084689913196342,0.7485272991064392,0.3265551336874761,-0.10060890300142215,-1.6274240822731207,-0.692156534635706,-1.649334531922874,0.6229110651212619,0.7797817051121688,-0.589418862332541,-0.8523257616912966,0.2606750596232987,-1.209367782431702,0.5388364328927802,0.4939253040890085,-0.12839754386255955,0.5605173596848374,1.0305025247887865,-1.4444643659994203,0.7520344814672549,0.22493433918716954,-0.5579279755129903,-0.8803388021437051],\"type\":\"box\"},{\"boxpoints\":false,\"line\":{\"width\":1.3},\"marker\":{\"color\":\"rgba(128, 0, 128, 1.0)\"},\"name\":\"D\",\"orientation\":\"v\",\"y\":[-0.3368986726967059,0.7518137909507739,-1.4754031781684198,-1.3873661948467646,0.5366440290038864,-0.6086279807801238,-0.28449750603972696,-0.997729440194146,0.6840601963313361,0.16335827281561927,2.068184744244638,-0.6470979605963196,1.195153469755728,1.6012105097647358,-0.43323389782101746,1.1313213515968712,-0.553422330480302,-0.47918545859079326,-1.198827599019185,-0.7587809042198871,-0.5375272630792494,-0.9709238393633437,-1.4002850298460936,-0.23482208473203486,-1.4756939327392007,1.5749289674525897,-0.4401486798614137,-0.08248188246193845,0.018602802785695465,-0.8403496381646197,-0.04956322074918477,0.6178076978921899,1.1455904042809115,0.13989362246954168,-0.03550083311516659,0.9272741147509023,0.6361229855491726,-0.7841808232655151,0.8585857815829068,-1.8011355532888107,1.661808660248311,2.0109400289145523,1.3048734457294462,0.9032419964846703,0.8971648156733816,0.16441321975080556,0.9837495198363891,-0.11443263495506939,1.4643237693041038,-0.7246778998206684,-0.5573238370238565,-2.75463884493668,-0.43206859770011463,0.9777073791219038,-0.646060193433183,0.2686794046986245,-1.3815109656918652,-0.4219384041798588,-0.02745170413573071,-0.4588991425406564,0.3378129992552197,0.9397124179166676,0.0748915667472112,-0.6224447864353309,1.2355086067491552,-0.9813545480077074,-0.06580046251001918,-1.4518800547323825,2.0962158584098898,-0.9998231377997212,-1.0096604103407463,-0.20009481575248378,1.7761070447361005,-0.2987396767581034,-0.7339866886202033,-0.13981579480794043,0.8888538171707128,-0.23081176937598127,0.8466152990663928,-1.68114726177875,0.24520929705750316,0.15083576195661244,1.053478957203685,0.11546385904520526,0.9459855873687798,-0.577724287787626,2.9784813172241154,-0.20089625538567984,1.137863396939422,0.5097395919053742,1.4833471902768316,-0.2800028816075082,-1.7430766063513776,1.094082687721341,-0.34140792454295366,0.5917964983346524,0.20270662579236268,0.31175478102408394,-0.532804399900463,1.477015988469366],\"type\":\"box\"}],                        {\"legend\":{\"bgcolor\":\"#F5F6F9\",\"font\":{\"color\":\"#4D5663\"}},\"paper_bgcolor\":\"#F5F6F9\",\"plot_bgcolor\":\"#F5F6F9\",\"template\":{\"data\":{\"barpolar\":[{\"marker\":{\"line\":{\"color\":\"#E5ECF6\",\"width\":0.5},\"pattern\":{\"fillmode\":\"overlay\",\"size\":10,\"solidity\":0.2}},\"type\":\"barpolar\"}],\"bar\":[{\"error_x\":{\"color\":\"#2a3f5f\"},\"error_y\":{\"color\":\"#2a3f5f\"},\"marker\":{\"line\":{\"color\":\"#E5ECF6\",\"width\":0.5},\"pattern\":{\"fillmode\":\"overlay\",\"size\":10,\"solidity\":0.2}},\"type\":\"bar\"}],\"carpet\":[{\"aaxis\":{\"endlinecolor\":\"#2a3f5f\",\"gridcolor\":\"white\",\"linecolor\":\"white\",\"minorgridcolor\":\"white\",\"startlinecolor\":\"#2a3f5f\"},\"baxis\":{\"endlinecolor\":\"#2a3f5f\",\"gridcolor\":\"white\",\"linecolor\":\"white\",\"minorgridcolor\":\"white\",\"startlinecolor\":\"#2a3f5f\"},\"type\":\"carpet\"}],\"choropleth\":[{\"colorbar\":{\"outlinewidth\":0,\"ticks\":\"\"},\"type\":\"choropleth\"}],\"contourcarpet\":[{\"colorbar\":{\"outlinewidth\":0,\"ticks\":\"\"},\"type\":\"contourcarpet\"}],\"contour\":[{\"colorbar\":{\"outlinewidth\":0,\"ticks\":\"\"},\"colorscale\":[[0.0,\"#0d0887\"],[0.1111111111111111,\"#46039f\"],[0.2222222222222222,\"#7201a8\"],[0.3333333333333333,\"#9c179e\"],[0.4444444444444444,\"#bd3786\"],[0.5555555555555556,\"#d8576b\"],[0.6666666666666666,\"#ed7953\"],[0.7777777777777778,\"#fb9f3a\"],[0.8888888888888888,\"#fdca26\"],[1.0,\"#f0f921\"]],\"type\":\"contour\"}],\"heatmapgl\":[{\"colorbar\":{\"outlinewidth\":0,\"ticks\":\"\"},\"colorscale\":[[0.0,\"#0d0887\"],[0.1111111111111111,\"#46039f\"],[0.2222222222222222,\"#7201a8\"],[0.3333333333333333,\"#9c179e\"],[0.4444444444444444,\"#bd3786\"],[0.5555555555555556,\"#d8576b\"],[0.6666666666666666,\"#ed7953\"],[0.7777777777777778,\"#fb9f3a\"],[0.8888888888888888,\"#fdca26\"],[1.0,\"#f0f921\"]],\"type\":\"heatmapgl\"}],\"heatmap\":[{\"colorbar\":{\"outlinewidth\":0,\"ticks\":\"\"},\"colorscale\":[[0.0,\"#0d0887\"],[0.1111111111111111,\"#46039f\"],[0.2222222222222222,\"#7201a8\"],[0.3333333333333333,\"#9c179e\"],[0.4444444444444444,\"#bd3786\"],[0.5555555555555556,\"#d8576b\"],[0.6666666666666666,\"#ed7953\"],[0.7777777777777778,\"#fb9f3a\"],[0.8888888888888888,\"#fdca26\"],[1.0,\"#f0f921\"]],\"type\":\"heatmap\"}],\"histogram2dcontour\":[{\"colorbar\":{\"outlinewidth\":0,\"ticks\":\"\"},\"colorscale\":[[0.0,\"#0d0887\"],[0.1111111111111111,\"#46039f\"],[0.2222222222222222,\"#7201a8\"],[0.3333333333333333,\"#9c179e\"],[0.4444444444444444,\"#bd3786\"],[0.5555555555555556,\"#d8576b\"],[0.6666666666666666,\"#ed7953\"],[0.7777777777777778,\"#fb9f3a\"],[0.8888888888888888,\"#fdca26\"],[1.0,\"#f0f921\"]],\"type\":\"histogram2dcontour\"}],\"histogram2d\":[{\"colorbar\":{\"outlinewidth\":0,\"ticks\":\"\"},\"colorscale\":[[0.0,\"#0d0887\"],[0.1111111111111111,\"#46039f\"],[0.2222222222222222,\"#7201a8\"],[0.3333333333333333,\"#9c179e\"],[0.4444444444444444,\"#bd3786\"],[0.5555555555555556,\"#d8576b\"],[0.6666666666666666,\"#ed7953\"],[0.7777777777777778,\"#fb9f3a\"],[0.8888888888888888,\"#fdca26\"],[1.0,\"#f0f921\"]],\"type\":\"histogram2d\"}],\"histogram\":[{\"marker\":{\"pattern\":{\"fillmode\":\"overlay\",\"size\":10,\"solidity\":0.2}},\"type\":\"histogram\"}],\"mesh3d\":[{\"colorbar\":{\"outlinewidth\":0,\"ticks\":\"\"},\"type\":\"mesh3d\"}],\"parcoords\":[{\"line\":{\"colorbar\":{\"outlinewidth\":0,\"ticks\":\"\"}},\"type\":\"parcoords\"}],\"pie\":[{\"automargin\":true,\"type\":\"pie\"}],\"scatter3d\":[{\"line\":{\"colorbar\":{\"outlinewidth\":0,\"ticks\":\"\"}},\"marker\":{\"colorbar\":{\"outlinewidth\":0,\"ticks\":\"\"}},\"type\":\"scatter3d\"}],\"scattercarpet\":[{\"marker\":{\"colorbar\":{\"outlinewidth\":0,\"ticks\":\"\"}},\"type\":\"scattercarpet\"}],\"scattergeo\":[{\"marker\":{\"colorbar\":{\"outlinewidth\":0,\"ticks\":\"\"}},\"type\":\"scattergeo\"}],\"scattergl\":[{\"marker\":{\"colorbar\":{\"outlinewidth\":0,\"ticks\":\"\"}},\"type\":\"scattergl\"}],\"scattermapbox\":[{\"marker\":{\"colorbar\":{\"outlinewidth\":0,\"ticks\":\"\"}},\"type\":\"scattermapbox\"}],\"scatterpolargl\":[{\"marker\":{\"colorbar\":{\"outlinewidth\":0,\"ticks\":\"\"}},\"type\":\"scatterpolargl\"}],\"scatterpolar\":[{\"marker\":{\"colorbar\":{\"outlinewidth\":0,\"ticks\":\"\"}},\"type\":\"scatterpolar\"}],\"scatter\":[{\"marker\":{\"colorbar\":{\"outlinewidth\":0,\"ticks\":\"\"}},\"type\":\"scatter\"}],\"scatterternary\":[{\"marker\":{\"colorbar\":{\"outlinewidth\":0,\"ticks\":\"\"}},\"type\":\"scatterternary\"}],\"surface\":[{\"colorbar\":{\"outlinewidth\":0,\"ticks\":\"\"},\"colorscale\":[[0.0,\"#0d0887\"],[0.1111111111111111,\"#46039f\"],[0.2222222222222222,\"#7201a8\"],[0.3333333333333333,\"#9c179e\"],[0.4444444444444444,\"#bd3786\"],[0.5555555555555556,\"#d8576b\"],[0.6666666666666666,\"#ed7953\"],[0.7777777777777778,\"#fb9f3a\"],[0.8888888888888888,\"#fdca26\"],[1.0,\"#f0f921\"]],\"type\":\"surface\"}],\"table\":[{\"cells\":{\"fill\":{\"color\":\"#EBF0F8\"},\"line\":{\"color\":\"white\"}},\"header\":{\"fill\":{\"color\":\"#C8D4E3\"},\"line\":{\"color\":\"white\"}},\"type\":\"table\"}]},\"layout\":{\"annotationdefaults\":{\"arrowcolor\":\"#2a3f5f\",\"arrowhead\":0,\"arrowwidth\":1},\"autotypenumbers\":\"strict\",\"coloraxis\":{\"colorbar\":{\"outlinewidth\":0,\"ticks\":\"\"}},\"colorscale\":{\"diverging\":[[0,\"#8e0152\"],[0.1,\"#c51b7d\"],[0.2,\"#de77ae\"],[0.3,\"#f1b6da\"],[0.4,\"#fde0ef\"],[0.5,\"#f7f7f7\"],[0.6,\"#e6f5d0\"],[0.7,\"#b8e186\"],[0.8,\"#7fbc41\"],[0.9,\"#4d9221\"],[1,\"#276419\"]],\"sequential\":[[0.0,\"#0d0887\"],[0.1111111111111111,\"#46039f\"],[0.2222222222222222,\"#7201a8\"],[0.3333333333333333,\"#9c179e\"],[0.4444444444444444,\"#bd3786\"],[0.5555555555555556,\"#d8576b\"],[0.6666666666666666,\"#ed7953\"],[0.7777777777777778,\"#fb9f3a\"],[0.8888888888888888,\"#fdca26\"],[1.0,\"#f0f921\"]],\"sequentialminus\":[[0.0,\"#0d0887\"],[0.1111111111111111,\"#46039f\"],[0.2222222222222222,\"#7201a8\"],[0.3333333333333333,\"#9c179e\"],[0.4444444444444444,\"#bd3786\"],[0.5555555555555556,\"#d8576b\"],[0.6666666666666666,\"#ed7953\"],[0.7777777777777778,\"#fb9f3a\"],[0.8888888888888888,\"#fdca26\"],[1.0,\"#f0f921\"]]},\"colorway\":[\"#636efa\",\"#EF553B\",\"#00cc96\",\"#ab63fa\",\"#FFA15A\",\"#19d3f3\",\"#FF6692\",\"#B6E880\",\"#FF97FF\",\"#FECB52\"],\"font\":{\"color\":\"#2a3f5f\"},\"geo\":{\"bgcolor\":\"white\",\"lakecolor\":\"white\",\"landcolor\":\"#E5ECF6\",\"showlakes\":true,\"showland\":true,\"subunitcolor\":\"white\"},\"hoverlabel\":{\"align\":\"left\"},\"hovermode\":\"closest\",\"mapbox\":{\"style\":\"light\"},\"paper_bgcolor\":\"white\",\"plot_bgcolor\":\"#E5ECF6\",\"polar\":{\"angularaxis\":{\"gridcolor\":\"white\",\"linecolor\":\"white\",\"ticks\":\"\"},\"bgcolor\":\"#E5ECF6\",\"radialaxis\":{\"gridcolor\":\"white\",\"linecolor\":\"white\",\"ticks\":\"\"}},\"scene\":{\"xaxis\":{\"backgroundcolor\":\"#E5ECF6\",\"gridcolor\":\"white\",\"gridwidth\":2,\"linecolor\":\"white\",\"showbackground\":true,\"ticks\":\"\",\"zerolinecolor\":\"white\"},\"yaxis\":{\"backgroundcolor\":\"#E5ECF6\",\"gridcolor\":\"white\",\"gridwidth\":2,\"linecolor\":\"white\",\"showbackground\":true,\"ticks\":\"\",\"zerolinecolor\":\"white\"},\"zaxis\":{\"backgroundcolor\":\"#E5ECF6\",\"gridcolor\":\"white\",\"gridwidth\":2,\"linecolor\":\"white\",\"showbackground\":true,\"ticks\":\"\",\"zerolinecolor\":\"white\"}},\"shapedefaults\":{\"line\":{\"color\":\"#2a3f5f\"}},\"ternary\":{\"aaxis\":{\"gridcolor\":\"white\",\"linecolor\":\"white\",\"ticks\":\"\"},\"baxis\":{\"gridcolor\":\"white\",\"linecolor\":\"white\",\"ticks\":\"\"},\"bgcolor\":\"#E5ECF6\",\"caxis\":{\"gridcolor\":\"white\",\"linecolor\":\"white\",\"ticks\":\"\"}},\"title\":{\"x\":0.05},\"xaxis\":{\"automargin\":true,\"gridcolor\":\"white\",\"linecolor\":\"white\",\"ticks\":\"\",\"title\":{\"standoff\":15},\"zerolinecolor\":\"white\",\"zerolinewidth\":2},\"yaxis\":{\"automargin\":true,\"gridcolor\":\"white\",\"linecolor\":\"white\",\"ticks\":\"\",\"title\":{\"standoff\":15},\"zerolinecolor\":\"white\",\"zerolinewidth\":2}}},\"title\":{\"font\":{\"color\":\"#4D5663\"}},\"xaxis\":{\"gridcolor\":\"#E1E5ED\",\"showgrid\":true,\"tickfont\":{\"color\":\"#4D5663\"},\"title\":{\"font\":{\"color\":\"#4D5663\"},\"text\":\"\"},\"zerolinecolor\":\"#E1E5ED\"},\"yaxis\":{\"gridcolor\":\"#E1E5ED\",\"showgrid\":true,\"tickfont\":{\"color\":\"#4D5663\"},\"title\":{\"font\":{\"color\":\"#4D5663\"},\"text\":\"\"},\"zerolinecolor\":\"#E1E5ED\"}},                        {\"showLink\": true, \"linkText\": \"Export to plot.ly\", \"plotlyServerURL\": \"https://plot.ly\", \"responsive\": true}                    ).then(function(){\n",
       "                            \n",
       "var gd = document.getElementById('aa1a933f-dcb8-4f91-9640-8ca41694149b');\n",
       "var x = new MutationObserver(function (mutations, observer) {{\n",
       "        var display = window.getComputedStyle(gd).display;\n",
       "        if (!display || display === 'none') {{\n",
       "            console.log([gd, 'removed!']);\n",
       "            Plotly.purge(gd);\n",
       "            observer.disconnect();\n",
       "        }}\n",
       "}});\n",
       "\n",
       "// Listen for the removal of the full notebook cells\n",
       "var notebookContainer = gd.closest('#notebook-container');\n",
       "if (notebookContainer) {{\n",
       "    x.observe(notebookContainer, {childList: true});\n",
       "}}\n",
       "\n",
       "// Listen for the clearing of the current output cell\n",
       "var outputEl = gd.closest('.output');\n",
       "if (outputEl) {{\n",
       "    x.observe(outputEl, {childList: true});\n",
       "}}\n",
       "\n",
       "                        })                };                });            </script>        </div>"
      ]
     },
     "metadata": {},
     "output_type": "display_data"
    }
   ],
   "source": [
    "df.iplot(kind=\"box\")"
   ]
  },
  {
   "cell_type": "code",
   "execution_count": 15,
   "id": "2d99a1f6",
   "metadata": {
    "scrolled": true
   },
   "outputs": [
    {
     "data": {
      "application/vnd.plotly.v1+json": {
       "config": {
        "linkText": "Export to plot.ly",
        "plotlyServerURL": "https://plot.ly",
        "showLink": true
       },
       "data": [
        {
         "colorscale": [
          [
           0,
           "rgb(255, 153, 51)"
          ],
          [
           0.1111111111111111,
           "rgb(55, 128, 191)"
          ],
          [
           0.2222222222222222,
           "rgb(50, 171, 96)"
          ],
          [
           0.3333333333333333,
           "rgb(128, 0, 128)"
          ],
          [
           0.4444444444444444,
           "rgb(219, 64, 82)"
          ],
          [
           0.5555555555555556,
           "rgb(0, 128, 128)"
          ],
          [
           0.6666666666666666,
           "rgb(255, 255, 51)"
          ],
          [
           0.7777777777777778,
           "rgb(128, 128, 0)"
          ],
          [
           0.8888888888888888,
           "rgb(251, 128, 114)"
          ],
          [
           1,
           "rgb(128, 177, 211)"
          ]
         ],
         "type": "surface",
         "x": [
          0,
          1,
          2,
          3,
          4,
          5,
          6,
          7,
          8,
          9,
          10,
          11,
          12,
          13,
          14,
          15,
          16,
          17,
          18,
          19,
          20,
          21,
          22,
          23,
          24,
          25,
          26,
          27,
          28,
          29,
          30,
          31,
          32,
          33,
          34,
          35,
          36,
          37,
          38,
          39,
          40,
          41,
          42,
          43,
          44,
          45,
          46,
          47,
          48,
          49,
          50,
          51,
          52,
          53,
          54,
          55,
          56,
          57,
          58,
          59,
          60,
          61,
          62,
          63,
          64,
          65,
          66,
          67,
          68,
          69,
          70,
          71,
          72,
          73,
          74,
          75,
          76,
          77,
          78,
          79,
          80,
          81,
          82,
          83,
          84,
          85,
          86,
          87,
          88,
          89,
          90,
          91,
          92,
          93,
          94,
          95,
          96,
          97,
          98,
          99
         ],
         "y": [
          "A",
          "B",
          "C",
          "D"
         ],
         "z": [
          [
           0.17182131329699793,
           -0.21751837149008088,
           0.8520992115955089,
           0.05742133483880542,
           -0.03701115586440133,
           2.6973597817844914,
           -1.8877793190781818,
           1.7166623332352855,
           1.259911262295181,
           0.031769281679936395,
           0.0508239712076725,
           0.43627786253626,
           1.0198172828269088,
           0.2240566601363054,
           1.3260778196171579,
           -0.3910345927243946,
           -0.6624997831912773,
           -0.9400987274239068,
           -0.6377684477678879,
           0.23788029069286531,
           0.06969530641928225,
           -0.08669172991049304,
           -0.1512677661162708,
           -1.1658260190456318,
           1.0600197895207202,
           -0.20221201669291944,
           -0.07693099603756043,
           0.4945802513070474,
           0.6371521910271359,
           0.4852632657427939,
           -0.40581619690111637,
           0.1412205595276012,
           0.13918143842256417,
           0.6310934836171265,
           1.1433954277165832,
           -0.34590239097163983,
           0.7302838926871985,
           0.02829008194726475,
           -1.0251405439724093,
           -0.16828515380497752,
           0.713802473498807,
           -1.5230087719873744,
           1.1894249747216414,
           -0.02110573542948361,
           -0.009013224341380086,
           -0.6099868239339996,
           0.3827652838586205,
           -0.4881093218446922,
           -1.2923096311306281,
           0.6609728793408054,
           0.46890971023101813,
           0.5326518795412732,
           0.20057041674142995,
           -0.579659726057919,
           -0.7904339074270497,
           -1.9195917396464204,
           -0.12432851356501343,
           0.016896163296924296,
           -0.7006644454340994,
           1.4037974829972457,
           -1.591543040486118,
           -0.12099627209491523,
           0.4642002294162683,
           -0.7821594697936182,
           1.1783639613615309,
           -2.026759862138661,
           -1.025229349046652,
           -0.8046370009828545,
           -0.5076446125965427,
           0.02281882785522542,
           1.2024157907690753,
           1.4714869478383663,
           0.689903888615297,
           -0.24514831334276257,
           -0.0035223811014121866,
           0.8883867313431024,
           0.21921114499087757,
           1.1141936138054414,
           0.2788188678593166,
           -0.07634107259449303,
           0.6826915621705238,
           0.3114738030169309,
           0.2615743783695237,
           0.014063052275365666,
           0.8572265898624823,
           1.160204046429771,
           0.5413020744257988,
           1.1959762106386431,
           -1.4804127495676545,
           0.5208510722656184,
           0.10931121482756144,
           -0.8714162682553113,
           -0.8863941668231697,
           -1.6131738814242642,
           1.7170467935777118,
           1.2368578356106872,
           2.115808069659541,
           -0.9575909358514951,
           -1.0103683951644498,
           0.8414130802145096
          ],
          [
           1.9824198315783816,
           1.3091993326892228,
           -1.2232988271495462,
           -0.19719594337514346,
           -0.3883205707396667,
           -0.714436389257402,
           -2.88227623152448,
           0.844681688946653,
           -0.22775321569799709,
           1.1823240259708958,
           0.34029333587973354,
           -1.3109908156911778,
           -0.23828709768589754,
           -0.3284753384999053,
           0.3854320433598857,
           -0.7877815992111348,
           1.260930508403904,
           -0.6376699832686588,
           1.4919925325626402,
           1.8430188733793647,
           -0.53329941520741,
           0.8995368070732571,
           1.3220065246551411,
           0.7899378206176743,
           2.559225504588923,
           -2.163397447913008,
           -0.5114503633193542,
           -0.6804299981894304,
           0.3916906174456555,
           -0.9137016294766945,
           -1.2210721128562319,
           -1.9725269460216899,
           0.7094890909986767,
           -0.2751737621465072,
           -0.08731916358838872,
           0.9866228301041913,
           -0.5595860856582786,
           -1.1939186763929523,
           0.6681730424053982,
           0.5014533400976171,
           0.8551026990355919,
           -0.256238454119293,
           0.5470435635003105,
           1.3442119595879491,
           0.08477395127003368,
           1.9755689399593193,
           0.7678336141341726,
           -0.6567260332772877,
           2.456323956444022,
           -0.7011317822766581,
           0.78227220870668,
           0.24481209559617614,
           -0.8680652415261771,
           -0.4560191083149844,
           -0.4181872761228879,
           -0.6640338993480072,
           0.6842151623414131,
           -1.715738873887148,
           0.4210807397823437,
           -0.9472812249812783,
           0.10244262377035715,
           1.2471790365716295,
           -0.6633440997020905,
           1.5130780644821349,
           -1.634256863891054,
           -0.27978027667764627,
           -0.15764709446756195,
           1.3268082081064996,
           0.2119850457355075,
           -0.20335591336657793,
           0.03811988530396497,
           0.3615077045931863,
           -0.022946861281996894,
           1.751464493217749,
           0.38794212109299925,
           1.1266379375838935,
           1.2421671040967004,
           1.5766723383052155,
           0.1673679152308049,
           0.6650414255780529,
           -0.7491324331459841,
           0.4255355160409724,
           -0.8234191555435801,
           1.4476429835646385,
           -0.16701431149830737,
           -0.6008746398228956,
           -1.2647876115554673,
           -0.1398344928393769,
           2.6919066244577023,
           -1.3693196253960402,
           1.3240376603454416,
           0.711397001180157,
           -1.395667721912057,
           0.7702217374207543,
           1.4635340072179726,
           -2.5356853246697746,
           -0.2843972219611788,
           1.6286145267704566,
           -0.08473981575812777,
           0.4420878484700525
          ],
          [
           -0.06692149827891483,
           0.21163508676146844,
           0.10962546429194915,
           -0.2558534300057048,
           -1.0492460939050248,
           1.040490686200205,
           0.07354678550251936,
           -1.008281976174112,
           0.13282976375171887,
           1.1192055133929228,
           -0.11040444333363535,
           0.3793407458297617,
           -0.46090660728034044,
           -1.660226482279525,
           -0.2961280544340508,
           -1.5586414580003636,
           2.169467850787301,
           2.523535716595376,
           -1.4642940309453036,
           -0.038437747590108075,
           -0.8699575853617059,
           -0.16345142570587193,
           -0.4719380413247446,
           -1.1452082460673398,
           0.4819366982023875,
           -1.0363534957745169,
           0.2859574178040571,
           1.0655286630933491,
           -0.11086346800488464,
           -0.07293702286019811,
           -0.25293593473615616,
           -0.18303416407740078,
           -0.41790548892845597,
           -0.11461663118001136,
           -1.589200545678026,
           -1.0964099934514793,
           -0.37554800238541103,
           -0.0996017199236781,
           1.0676301399002148,
           0.48654784004203167,
           0.36290834128167454,
           0.1300103793987335,
           0.8064625009596381,
           0.013830930107821401,
           -1.2755600507738083,
           -1.1260322492935764,
           1.8563698674995595,
           -1.1159804104526063,
           1.0499349480169025,
           -1.3161252441082945,
           1.0193888319116835,
           -0.4174508404753829,
           0.4676925181626736,
           -0.7391404683682344,
           0.9946440781326336,
           -2.3851102826330313,
           1.1528027729198533,
           0.5533125722332582,
           0.0853455012942767,
           -1.6007079416275325,
           0.5066546358568118,
           0.09296421976299869,
           -1.4091398749727495,
           0.8488858182257673,
           0.3537522176221965,
           -0.648665513302343,
           -0.365054741533402,
           0.9958427403963284,
           -0.09566153249121677,
           -0.39006338725617334,
           0.3836322694653195,
           -0.28249667470159623,
           -1.0427682001568448,
           -0.42081315933762353,
           0.9340478224623755,
           0.3154766707839829,
           -0.5493194486239779,
           1.6084689913196342,
           0.7485272991064392,
           0.3265551336874761,
           -0.10060890300142215,
           -1.6274240822731207,
           -0.692156534635706,
           -1.649334531922874,
           0.6229110651212619,
           0.7797817051121688,
           -0.589418862332541,
           -0.8523257616912966,
           0.2606750596232987,
           -1.209367782431702,
           0.5388364328927802,
           0.4939253040890085,
           -0.12839754386255955,
           0.5605173596848374,
           1.0305025247887865,
           -1.4444643659994203,
           0.7520344814672549,
           0.22493433918716954,
           -0.5579279755129903,
           -0.8803388021437051
          ],
          [
           -0.3368986726967059,
           0.7518137909507739,
           -1.4754031781684198,
           -1.3873661948467646,
           0.5366440290038864,
           -0.6086279807801238,
           -0.28449750603972696,
           -0.997729440194146,
           0.6840601963313361,
           0.16335827281561927,
           2.068184744244638,
           -0.6470979605963196,
           1.195153469755728,
           1.6012105097647358,
           -0.43323389782101746,
           1.1313213515968712,
           -0.553422330480302,
           -0.47918545859079326,
           -1.198827599019185,
           -0.7587809042198871,
           -0.5375272630792494,
           -0.9709238393633437,
           -1.4002850298460936,
           -0.23482208473203486,
           -1.4756939327392007,
           1.5749289674525897,
           -0.4401486798614137,
           -0.08248188246193845,
           0.018602802785695465,
           -0.8403496381646197,
           -0.04956322074918477,
           0.6178076978921899,
           1.1455904042809115,
           0.13989362246954168,
           -0.03550083311516659,
           0.9272741147509023,
           0.6361229855491726,
           -0.7841808232655151,
           0.8585857815829068,
           -1.8011355532888107,
           1.661808660248311,
           2.0109400289145523,
           1.3048734457294462,
           0.9032419964846703,
           0.8971648156733816,
           0.16441321975080556,
           0.9837495198363891,
           -0.11443263495506939,
           1.4643237693041038,
           -0.7246778998206684,
           -0.5573238370238565,
           -2.75463884493668,
           -0.43206859770011463,
           0.9777073791219038,
           -0.646060193433183,
           0.2686794046986245,
           -1.3815109656918652,
           -0.4219384041798588,
           -0.02745170413573071,
           -0.4588991425406564,
           0.3378129992552197,
           0.9397124179166676,
           0.0748915667472112,
           -0.6224447864353309,
           1.2355086067491552,
           -0.9813545480077074,
           -0.06580046251001918,
           -1.4518800547323825,
           2.0962158584098898,
           -0.9998231377997212,
           -1.0096604103407463,
           -0.20009481575248378,
           1.7761070447361005,
           -0.2987396767581034,
           -0.7339866886202033,
           -0.13981579480794043,
           0.8888538171707128,
           -0.23081176937598127,
           0.8466152990663928,
           -1.68114726177875,
           0.24520929705750316,
           0.15083576195661244,
           1.053478957203685,
           0.11546385904520526,
           0.9459855873687798,
           -0.577724287787626,
           2.9784813172241154,
           -0.20089625538567984,
           1.137863396939422,
           0.5097395919053742,
           1.4833471902768316,
           -0.2800028816075082,
           -1.7430766063513776,
           1.094082687721341,
           -0.34140792454295366,
           0.5917964983346524,
           0.20270662579236268,
           0.31175478102408394,
           -0.532804399900463,
           1.477015988469366
          ]
         ]
        }
       ],
       "layout": {
        "legend": {
         "bgcolor": "#F5F6F9",
         "font": {
          "color": "#4D5663"
         }
        },
        "paper_bgcolor": "#F5F6F9",
        "plot_bgcolor": "#F5F6F9",
        "template": {
         "data": {
          "bar": [
           {
            "error_x": {
             "color": "#2a3f5f"
            },
            "error_y": {
             "color": "#2a3f5f"
            },
            "marker": {
             "line": {
              "color": "#E5ECF6",
              "width": 0.5
             },
             "pattern": {
              "fillmode": "overlay",
              "size": 10,
              "solidity": 0.2
             }
            },
            "type": "bar"
           }
          ],
          "barpolar": [
           {
            "marker": {
             "line": {
              "color": "#E5ECF6",
              "width": 0.5
             },
             "pattern": {
              "fillmode": "overlay",
              "size": 10,
              "solidity": 0.2
             }
            },
            "type": "barpolar"
           }
          ],
          "carpet": [
           {
            "aaxis": {
             "endlinecolor": "#2a3f5f",
             "gridcolor": "white",
             "linecolor": "white",
             "minorgridcolor": "white",
             "startlinecolor": "#2a3f5f"
            },
            "baxis": {
             "endlinecolor": "#2a3f5f",
             "gridcolor": "white",
             "linecolor": "white",
             "minorgridcolor": "white",
             "startlinecolor": "#2a3f5f"
            },
            "type": "carpet"
           }
          ],
          "choropleth": [
           {
            "colorbar": {
             "outlinewidth": 0,
             "ticks": ""
            },
            "type": "choropleth"
           }
          ],
          "contour": [
           {
            "colorbar": {
             "outlinewidth": 0,
             "ticks": ""
            },
            "colorscale": [
             [
              0,
              "#0d0887"
             ],
             [
              0.1111111111111111,
              "#46039f"
             ],
             [
              0.2222222222222222,
              "#7201a8"
             ],
             [
              0.3333333333333333,
              "#9c179e"
             ],
             [
              0.4444444444444444,
              "#bd3786"
             ],
             [
              0.5555555555555556,
              "#d8576b"
             ],
             [
              0.6666666666666666,
              "#ed7953"
             ],
             [
              0.7777777777777778,
              "#fb9f3a"
             ],
             [
              0.8888888888888888,
              "#fdca26"
             ],
             [
              1,
              "#f0f921"
             ]
            ],
            "type": "contour"
           }
          ],
          "contourcarpet": [
           {
            "colorbar": {
             "outlinewidth": 0,
             "ticks": ""
            },
            "type": "contourcarpet"
           }
          ],
          "heatmap": [
           {
            "colorbar": {
             "outlinewidth": 0,
             "ticks": ""
            },
            "colorscale": [
             [
              0,
              "#0d0887"
             ],
             [
              0.1111111111111111,
              "#46039f"
             ],
             [
              0.2222222222222222,
              "#7201a8"
             ],
             [
              0.3333333333333333,
              "#9c179e"
             ],
             [
              0.4444444444444444,
              "#bd3786"
             ],
             [
              0.5555555555555556,
              "#d8576b"
             ],
             [
              0.6666666666666666,
              "#ed7953"
             ],
             [
              0.7777777777777778,
              "#fb9f3a"
             ],
             [
              0.8888888888888888,
              "#fdca26"
             ],
             [
              1,
              "#f0f921"
             ]
            ],
            "type": "heatmap"
           }
          ],
          "heatmapgl": [
           {
            "colorbar": {
             "outlinewidth": 0,
             "ticks": ""
            },
            "colorscale": [
             [
              0,
              "#0d0887"
             ],
             [
              0.1111111111111111,
              "#46039f"
             ],
             [
              0.2222222222222222,
              "#7201a8"
             ],
             [
              0.3333333333333333,
              "#9c179e"
             ],
             [
              0.4444444444444444,
              "#bd3786"
             ],
             [
              0.5555555555555556,
              "#d8576b"
             ],
             [
              0.6666666666666666,
              "#ed7953"
             ],
             [
              0.7777777777777778,
              "#fb9f3a"
             ],
             [
              0.8888888888888888,
              "#fdca26"
             ],
             [
              1,
              "#f0f921"
             ]
            ],
            "type": "heatmapgl"
           }
          ],
          "histogram": [
           {
            "marker": {
             "pattern": {
              "fillmode": "overlay",
              "size": 10,
              "solidity": 0.2
             }
            },
            "type": "histogram"
           }
          ],
          "histogram2d": [
           {
            "colorbar": {
             "outlinewidth": 0,
             "ticks": ""
            },
            "colorscale": [
             [
              0,
              "#0d0887"
             ],
             [
              0.1111111111111111,
              "#46039f"
             ],
             [
              0.2222222222222222,
              "#7201a8"
             ],
             [
              0.3333333333333333,
              "#9c179e"
             ],
             [
              0.4444444444444444,
              "#bd3786"
             ],
             [
              0.5555555555555556,
              "#d8576b"
             ],
             [
              0.6666666666666666,
              "#ed7953"
             ],
             [
              0.7777777777777778,
              "#fb9f3a"
             ],
             [
              0.8888888888888888,
              "#fdca26"
             ],
             [
              1,
              "#f0f921"
             ]
            ],
            "type": "histogram2d"
           }
          ],
          "histogram2dcontour": [
           {
            "colorbar": {
             "outlinewidth": 0,
             "ticks": ""
            },
            "colorscale": [
             [
              0,
              "#0d0887"
             ],
             [
              0.1111111111111111,
              "#46039f"
             ],
             [
              0.2222222222222222,
              "#7201a8"
             ],
             [
              0.3333333333333333,
              "#9c179e"
             ],
             [
              0.4444444444444444,
              "#bd3786"
             ],
             [
              0.5555555555555556,
              "#d8576b"
             ],
             [
              0.6666666666666666,
              "#ed7953"
             ],
             [
              0.7777777777777778,
              "#fb9f3a"
             ],
             [
              0.8888888888888888,
              "#fdca26"
             ],
             [
              1,
              "#f0f921"
             ]
            ],
            "type": "histogram2dcontour"
           }
          ],
          "mesh3d": [
           {
            "colorbar": {
             "outlinewidth": 0,
             "ticks": ""
            },
            "type": "mesh3d"
           }
          ],
          "parcoords": [
           {
            "line": {
             "colorbar": {
              "outlinewidth": 0,
              "ticks": ""
             }
            },
            "type": "parcoords"
           }
          ],
          "pie": [
           {
            "automargin": true,
            "type": "pie"
           }
          ],
          "scatter": [
           {
            "marker": {
             "colorbar": {
              "outlinewidth": 0,
              "ticks": ""
             }
            },
            "type": "scatter"
           }
          ],
          "scatter3d": [
           {
            "line": {
             "colorbar": {
              "outlinewidth": 0,
              "ticks": ""
             }
            },
            "marker": {
             "colorbar": {
              "outlinewidth": 0,
              "ticks": ""
             }
            },
            "type": "scatter3d"
           }
          ],
          "scattercarpet": [
           {
            "marker": {
             "colorbar": {
              "outlinewidth": 0,
              "ticks": ""
             }
            },
            "type": "scattercarpet"
           }
          ],
          "scattergeo": [
           {
            "marker": {
             "colorbar": {
              "outlinewidth": 0,
              "ticks": ""
             }
            },
            "type": "scattergeo"
           }
          ],
          "scattergl": [
           {
            "marker": {
             "colorbar": {
              "outlinewidth": 0,
              "ticks": ""
             }
            },
            "type": "scattergl"
           }
          ],
          "scattermapbox": [
           {
            "marker": {
             "colorbar": {
              "outlinewidth": 0,
              "ticks": ""
             }
            },
            "type": "scattermapbox"
           }
          ],
          "scatterpolar": [
           {
            "marker": {
             "colorbar": {
              "outlinewidth": 0,
              "ticks": ""
             }
            },
            "type": "scatterpolar"
           }
          ],
          "scatterpolargl": [
           {
            "marker": {
             "colorbar": {
              "outlinewidth": 0,
              "ticks": ""
             }
            },
            "type": "scatterpolargl"
           }
          ],
          "scatterternary": [
           {
            "marker": {
             "colorbar": {
              "outlinewidth": 0,
              "ticks": ""
             }
            },
            "type": "scatterternary"
           }
          ],
          "surface": [
           {
            "colorbar": {
             "outlinewidth": 0,
             "ticks": ""
            },
            "colorscale": [
             [
              0,
              "#0d0887"
             ],
             [
              0.1111111111111111,
              "#46039f"
             ],
             [
              0.2222222222222222,
              "#7201a8"
             ],
             [
              0.3333333333333333,
              "#9c179e"
             ],
             [
              0.4444444444444444,
              "#bd3786"
             ],
             [
              0.5555555555555556,
              "#d8576b"
             ],
             [
              0.6666666666666666,
              "#ed7953"
             ],
             [
              0.7777777777777778,
              "#fb9f3a"
             ],
             [
              0.8888888888888888,
              "#fdca26"
             ],
             [
              1,
              "#f0f921"
             ]
            ],
            "type": "surface"
           }
          ],
          "table": [
           {
            "cells": {
             "fill": {
              "color": "#EBF0F8"
             },
             "line": {
              "color": "white"
             }
            },
            "header": {
             "fill": {
              "color": "#C8D4E3"
             },
             "line": {
              "color": "white"
             }
            },
            "type": "table"
           }
          ]
         },
         "layout": {
          "annotationdefaults": {
           "arrowcolor": "#2a3f5f",
           "arrowhead": 0,
           "arrowwidth": 1
          },
          "autotypenumbers": "strict",
          "coloraxis": {
           "colorbar": {
            "outlinewidth": 0,
            "ticks": ""
           }
          },
          "colorscale": {
           "diverging": [
            [
             0,
             "#8e0152"
            ],
            [
             0.1,
             "#c51b7d"
            ],
            [
             0.2,
             "#de77ae"
            ],
            [
             0.3,
             "#f1b6da"
            ],
            [
             0.4,
             "#fde0ef"
            ],
            [
             0.5,
             "#f7f7f7"
            ],
            [
             0.6,
             "#e6f5d0"
            ],
            [
             0.7,
             "#b8e186"
            ],
            [
             0.8,
             "#7fbc41"
            ],
            [
             0.9,
             "#4d9221"
            ],
            [
             1,
             "#276419"
            ]
           ],
           "sequential": [
            [
             0,
             "#0d0887"
            ],
            [
             0.1111111111111111,
             "#46039f"
            ],
            [
             0.2222222222222222,
             "#7201a8"
            ],
            [
             0.3333333333333333,
             "#9c179e"
            ],
            [
             0.4444444444444444,
             "#bd3786"
            ],
            [
             0.5555555555555556,
             "#d8576b"
            ],
            [
             0.6666666666666666,
             "#ed7953"
            ],
            [
             0.7777777777777778,
             "#fb9f3a"
            ],
            [
             0.8888888888888888,
             "#fdca26"
            ],
            [
             1,
             "#f0f921"
            ]
           ],
           "sequentialminus": [
            [
             0,
             "#0d0887"
            ],
            [
             0.1111111111111111,
             "#46039f"
            ],
            [
             0.2222222222222222,
             "#7201a8"
            ],
            [
             0.3333333333333333,
             "#9c179e"
            ],
            [
             0.4444444444444444,
             "#bd3786"
            ],
            [
             0.5555555555555556,
             "#d8576b"
            ],
            [
             0.6666666666666666,
             "#ed7953"
            ],
            [
             0.7777777777777778,
             "#fb9f3a"
            ],
            [
             0.8888888888888888,
             "#fdca26"
            ],
            [
             1,
             "#f0f921"
            ]
           ]
          },
          "colorway": [
           "#636efa",
           "#EF553B",
           "#00cc96",
           "#ab63fa",
           "#FFA15A",
           "#19d3f3",
           "#FF6692",
           "#B6E880",
           "#FF97FF",
           "#FECB52"
          ],
          "font": {
           "color": "#2a3f5f"
          },
          "geo": {
           "bgcolor": "white",
           "lakecolor": "white",
           "landcolor": "#E5ECF6",
           "showlakes": true,
           "showland": true,
           "subunitcolor": "white"
          },
          "hoverlabel": {
           "align": "left"
          },
          "hovermode": "closest",
          "mapbox": {
           "style": "light"
          },
          "paper_bgcolor": "white",
          "plot_bgcolor": "#E5ECF6",
          "polar": {
           "angularaxis": {
            "gridcolor": "white",
            "linecolor": "white",
            "ticks": ""
           },
           "bgcolor": "#E5ECF6",
           "radialaxis": {
            "gridcolor": "white",
            "linecolor": "white",
            "ticks": ""
           }
          },
          "scene": {
           "xaxis": {
            "backgroundcolor": "#E5ECF6",
            "gridcolor": "white",
            "gridwidth": 2,
            "linecolor": "white",
            "showbackground": true,
            "ticks": "",
            "zerolinecolor": "white"
           },
           "yaxis": {
            "backgroundcolor": "#E5ECF6",
            "gridcolor": "white",
            "gridwidth": 2,
            "linecolor": "white",
            "showbackground": true,
            "ticks": "",
            "zerolinecolor": "white"
           },
           "zaxis": {
            "backgroundcolor": "#E5ECF6",
            "gridcolor": "white",
            "gridwidth": 2,
            "linecolor": "white",
            "showbackground": true,
            "ticks": "",
            "zerolinecolor": "white"
           }
          },
          "shapedefaults": {
           "line": {
            "color": "#2a3f5f"
           }
          },
          "ternary": {
           "aaxis": {
            "gridcolor": "white",
            "linecolor": "white",
            "ticks": ""
           },
           "baxis": {
            "gridcolor": "white",
            "linecolor": "white",
            "ticks": ""
           },
           "bgcolor": "#E5ECF6",
           "caxis": {
            "gridcolor": "white",
            "linecolor": "white",
            "ticks": ""
           }
          },
          "title": {
           "x": 0.05
          },
          "xaxis": {
           "automargin": true,
           "gridcolor": "white",
           "linecolor": "white",
           "ticks": "",
           "title": {
            "standoff": 15
           },
           "zerolinecolor": "white",
           "zerolinewidth": 2
          },
          "yaxis": {
           "automargin": true,
           "gridcolor": "white",
           "linecolor": "white",
           "ticks": "",
           "title": {
            "standoff": 15
           },
           "zerolinecolor": "white",
           "zerolinewidth": 2
          }
         }
        },
        "title": {
         "font": {
          "color": "#4D5663"
         }
        },
        "xaxis": {
         "gridcolor": "#E1E5ED",
         "showgrid": true,
         "tickfont": {
          "color": "#4D5663"
         },
         "title": {
          "font": {
           "color": "#4D5663"
          },
          "text": ""
         },
         "zerolinecolor": "#E1E5ED"
        },
        "yaxis": {
         "gridcolor": "#E1E5ED",
         "showgrid": true,
         "tickfont": {
          "color": "#4D5663"
         },
         "title": {
          "font": {
           "color": "#4D5663"
          },
          "text": ""
         },
         "zerolinecolor": "#E1E5ED"
        }
       }
      },
      "text/html": [
       "<div>                            <div id=\"f40bfe32-f181-44b0-98b5-f58ef6854fc2\" class=\"plotly-graph-div\" style=\"height:525px; width:100%;\"></div>            <script type=\"text/javascript\">                require([\"plotly\"], function(Plotly) {                    window.PLOTLYENV=window.PLOTLYENV || {};\n",
       "                    window.PLOTLYENV.BASE_URL='https://plot.ly';                                    if (document.getElementById(\"f40bfe32-f181-44b0-98b5-f58ef6854fc2\")) {                    Plotly.newPlot(                        \"f40bfe32-f181-44b0-98b5-f58ef6854fc2\",                        [{\"colorscale\":[[0.0,\"rgb(255, 153, 51)\"],[0.1111111111111111,\"rgb(55, 128, 191)\"],[0.2222222222222222,\"rgb(50, 171, 96)\"],[0.3333333333333333,\"rgb(128, 0, 128)\"],[0.4444444444444444,\"rgb(219, 64, 82)\"],[0.5555555555555556,\"rgb(0, 128, 128)\"],[0.6666666666666666,\"rgb(255, 255, 51)\"],[0.7777777777777778,\"rgb(128, 128, 0)\"],[0.8888888888888888,\"rgb(251, 128, 114)\"],[1.0,\"rgb(128, 177, 211)\"]],\"x\":[0,1,2,3,4,5,6,7,8,9,10,11,12,13,14,15,16,17,18,19,20,21,22,23,24,25,26,27,28,29,30,31,32,33,34,35,36,37,38,39,40,41,42,43,44,45,46,47,48,49,50,51,52,53,54,55,56,57,58,59,60,61,62,63,64,65,66,67,68,69,70,71,72,73,74,75,76,77,78,79,80,81,82,83,84,85,86,87,88,89,90,91,92,93,94,95,96,97,98,99],\"y\":[\"A\",\"B\",\"C\",\"D\"],\"z\":[[0.17182131329699793,-0.21751837149008088,0.8520992115955089,0.05742133483880542,-0.03701115586440133,2.6973597817844914,-1.8877793190781818,1.7166623332352855,1.259911262295181,0.031769281679936395,0.0508239712076725,0.43627786253626,1.0198172828269088,0.2240566601363054,1.3260778196171579,-0.3910345927243946,-0.6624997831912773,-0.9400987274239068,-0.6377684477678879,0.23788029069286531,0.06969530641928225,-0.08669172991049304,-0.1512677661162708,-1.1658260190456318,1.0600197895207202,-0.20221201669291944,-0.07693099603756043,0.4945802513070474,0.6371521910271359,0.4852632657427939,-0.40581619690111637,0.1412205595276012,0.13918143842256417,0.6310934836171265,1.1433954277165832,-0.34590239097163983,0.7302838926871985,0.02829008194726475,-1.0251405439724093,-0.16828515380497752,0.713802473498807,-1.5230087719873744,1.1894249747216414,-0.02110573542948361,-0.009013224341380086,-0.6099868239339996,0.3827652838586205,-0.4881093218446922,-1.2923096311306281,0.6609728793408054,0.46890971023101813,0.5326518795412732,0.20057041674142995,-0.579659726057919,-0.7904339074270497,-1.9195917396464204,-0.12432851356501343,0.016896163296924296,-0.7006644454340994,1.4037974829972457,-1.591543040486118,-0.12099627209491523,0.4642002294162683,-0.7821594697936182,1.1783639613615309,-2.026759862138661,-1.025229349046652,-0.8046370009828545,-0.5076446125965427,0.02281882785522542,1.2024157907690753,1.4714869478383663,0.689903888615297,-0.24514831334276257,-0.0035223811014121866,0.8883867313431024,0.21921114499087757,1.1141936138054414,0.2788188678593166,-0.07634107259449303,0.6826915621705238,0.3114738030169309,0.2615743783695237,0.014063052275365666,0.8572265898624823,1.160204046429771,0.5413020744257988,1.1959762106386431,-1.4804127495676545,0.5208510722656184,0.10931121482756144,-0.8714162682553113,-0.8863941668231697,-1.6131738814242642,1.7170467935777118,1.2368578356106872,2.115808069659541,-0.9575909358514951,-1.0103683951644498,0.8414130802145096],[1.9824198315783816,1.3091993326892228,-1.2232988271495462,-0.19719594337514346,-0.3883205707396667,-0.714436389257402,-2.88227623152448,0.844681688946653,-0.22775321569799709,1.1823240259708958,0.34029333587973354,-1.3109908156911778,-0.23828709768589754,-0.3284753384999053,0.3854320433598857,-0.7877815992111348,1.260930508403904,-0.6376699832686588,1.4919925325626402,1.8430188733793647,-0.53329941520741,0.8995368070732571,1.3220065246551411,0.7899378206176743,2.559225504588923,-2.163397447913008,-0.5114503633193542,-0.6804299981894304,0.3916906174456555,-0.9137016294766945,-1.2210721128562319,-1.9725269460216899,0.7094890909986767,-0.2751737621465072,-0.08731916358838872,0.9866228301041913,-0.5595860856582786,-1.1939186763929523,0.6681730424053982,0.5014533400976171,0.8551026990355919,-0.256238454119293,0.5470435635003105,1.3442119595879491,0.08477395127003368,1.9755689399593193,0.7678336141341726,-0.6567260332772877,2.456323956444022,-0.7011317822766581,0.78227220870668,0.24481209559617614,-0.8680652415261771,-0.4560191083149844,-0.4181872761228879,-0.6640338993480072,0.6842151623414131,-1.715738873887148,0.4210807397823437,-0.9472812249812783,0.10244262377035715,1.2471790365716295,-0.6633440997020905,1.5130780644821349,-1.634256863891054,-0.27978027667764627,-0.15764709446756195,1.3268082081064996,0.2119850457355075,-0.20335591336657793,0.03811988530396497,0.3615077045931863,-0.022946861281996894,1.751464493217749,0.38794212109299925,1.1266379375838935,1.2421671040967004,1.5766723383052155,0.1673679152308049,0.6650414255780529,-0.7491324331459841,0.4255355160409724,-0.8234191555435801,1.4476429835646385,-0.16701431149830737,-0.6008746398228956,-1.2647876115554673,-0.1398344928393769,2.6919066244577023,-1.3693196253960402,1.3240376603454416,0.711397001180157,-1.395667721912057,0.7702217374207543,1.4635340072179726,-2.5356853246697746,-0.2843972219611788,1.6286145267704566,-0.08473981575812777,0.4420878484700525],[-0.06692149827891483,0.21163508676146844,0.10962546429194915,-0.2558534300057048,-1.0492460939050248,1.040490686200205,0.07354678550251936,-1.008281976174112,0.13282976375171887,1.1192055133929228,-0.11040444333363535,0.3793407458297617,-0.46090660728034044,-1.660226482279525,-0.2961280544340508,-1.5586414580003636,2.169467850787301,2.523535716595376,-1.4642940309453036,-0.038437747590108075,-0.8699575853617059,-0.16345142570587193,-0.4719380413247446,-1.1452082460673398,0.4819366982023875,-1.0363534957745169,0.2859574178040571,1.0655286630933491,-0.11086346800488464,-0.07293702286019811,-0.25293593473615616,-0.18303416407740078,-0.41790548892845597,-0.11461663118001136,-1.589200545678026,-1.0964099934514793,-0.37554800238541103,-0.0996017199236781,1.0676301399002148,0.48654784004203167,0.36290834128167454,0.1300103793987335,0.8064625009596381,0.013830930107821401,-1.2755600507738083,-1.1260322492935764,1.8563698674995595,-1.1159804104526063,1.0499349480169025,-1.3161252441082945,1.0193888319116835,-0.4174508404753829,0.4676925181626736,-0.7391404683682344,0.9946440781326336,-2.3851102826330313,1.1528027729198533,0.5533125722332582,0.0853455012942767,-1.6007079416275325,0.5066546358568118,0.09296421976299869,-1.4091398749727495,0.8488858182257673,0.3537522176221965,-0.648665513302343,-0.365054741533402,0.9958427403963284,-0.09566153249121677,-0.39006338725617334,0.3836322694653195,-0.28249667470159623,-1.0427682001568448,-0.42081315933762353,0.9340478224623755,0.3154766707839829,-0.5493194486239779,1.6084689913196342,0.7485272991064392,0.3265551336874761,-0.10060890300142215,-1.6274240822731207,-0.692156534635706,-1.649334531922874,0.6229110651212619,0.7797817051121688,-0.589418862332541,-0.8523257616912966,0.2606750596232987,-1.209367782431702,0.5388364328927802,0.4939253040890085,-0.12839754386255955,0.5605173596848374,1.0305025247887865,-1.4444643659994203,0.7520344814672549,0.22493433918716954,-0.5579279755129903,-0.8803388021437051],[-0.3368986726967059,0.7518137909507739,-1.4754031781684198,-1.3873661948467646,0.5366440290038864,-0.6086279807801238,-0.28449750603972696,-0.997729440194146,0.6840601963313361,0.16335827281561927,2.068184744244638,-0.6470979605963196,1.195153469755728,1.6012105097647358,-0.43323389782101746,1.1313213515968712,-0.553422330480302,-0.47918545859079326,-1.198827599019185,-0.7587809042198871,-0.5375272630792494,-0.9709238393633437,-1.4002850298460936,-0.23482208473203486,-1.4756939327392007,1.5749289674525897,-0.4401486798614137,-0.08248188246193845,0.018602802785695465,-0.8403496381646197,-0.04956322074918477,0.6178076978921899,1.1455904042809115,0.13989362246954168,-0.03550083311516659,0.9272741147509023,0.6361229855491726,-0.7841808232655151,0.8585857815829068,-1.8011355532888107,1.661808660248311,2.0109400289145523,1.3048734457294462,0.9032419964846703,0.8971648156733816,0.16441321975080556,0.9837495198363891,-0.11443263495506939,1.4643237693041038,-0.7246778998206684,-0.5573238370238565,-2.75463884493668,-0.43206859770011463,0.9777073791219038,-0.646060193433183,0.2686794046986245,-1.3815109656918652,-0.4219384041798588,-0.02745170413573071,-0.4588991425406564,0.3378129992552197,0.9397124179166676,0.0748915667472112,-0.6224447864353309,1.2355086067491552,-0.9813545480077074,-0.06580046251001918,-1.4518800547323825,2.0962158584098898,-0.9998231377997212,-1.0096604103407463,-0.20009481575248378,1.7761070447361005,-0.2987396767581034,-0.7339866886202033,-0.13981579480794043,0.8888538171707128,-0.23081176937598127,0.8466152990663928,-1.68114726177875,0.24520929705750316,0.15083576195661244,1.053478957203685,0.11546385904520526,0.9459855873687798,-0.577724287787626,2.9784813172241154,-0.20089625538567984,1.137863396939422,0.5097395919053742,1.4833471902768316,-0.2800028816075082,-1.7430766063513776,1.094082687721341,-0.34140792454295366,0.5917964983346524,0.20270662579236268,0.31175478102408394,-0.532804399900463,1.477015988469366]],\"type\":\"surface\"}],                        {\"legend\":{\"bgcolor\":\"#F5F6F9\",\"font\":{\"color\":\"#4D5663\"}},\"paper_bgcolor\":\"#F5F6F9\",\"plot_bgcolor\":\"#F5F6F9\",\"template\":{\"data\":{\"barpolar\":[{\"marker\":{\"line\":{\"color\":\"#E5ECF6\",\"width\":0.5},\"pattern\":{\"fillmode\":\"overlay\",\"size\":10,\"solidity\":0.2}},\"type\":\"barpolar\"}],\"bar\":[{\"error_x\":{\"color\":\"#2a3f5f\"},\"error_y\":{\"color\":\"#2a3f5f\"},\"marker\":{\"line\":{\"color\":\"#E5ECF6\",\"width\":0.5},\"pattern\":{\"fillmode\":\"overlay\",\"size\":10,\"solidity\":0.2}},\"type\":\"bar\"}],\"carpet\":[{\"aaxis\":{\"endlinecolor\":\"#2a3f5f\",\"gridcolor\":\"white\",\"linecolor\":\"white\",\"minorgridcolor\":\"white\",\"startlinecolor\":\"#2a3f5f\"},\"baxis\":{\"endlinecolor\":\"#2a3f5f\",\"gridcolor\":\"white\",\"linecolor\":\"white\",\"minorgridcolor\":\"white\",\"startlinecolor\":\"#2a3f5f\"},\"type\":\"carpet\"}],\"choropleth\":[{\"colorbar\":{\"outlinewidth\":0,\"ticks\":\"\"},\"type\":\"choropleth\"}],\"contourcarpet\":[{\"colorbar\":{\"outlinewidth\":0,\"ticks\":\"\"},\"type\":\"contourcarpet\"}],\"contour\":[{\"colorbar\":{\"outlinewidth\":0,\"ticks\":\"\"},\"colorscale\":[[0.0,\"#0d0887\"],[0.1111111111111111,\"#46039f\"],[0.2222222222222222,\"#7201a8\"],[0.3333333333333333,\"#9c179e\"],[0.4444444444444444,\"#bd3786\"],[0.5555555555555556,\"#d8576b\"],[0.6666666666666666,\"#ed7953\"],[0.7777777777777778,\"#fb9f3a\"],[0.8888888888888888,\"#fdca26\"],[1.0,\"#f0f921\"]],\"type\":\"contour\"}],\"heatmapgl\":[{\"colorbar\":{\"outlinewidth\":0,\"ticks\":\"\"},\"colorscale\":[[0.0,\"#0d0887\"],[0.1111111111111111,\"#46039f\"],[0.2222222222222222,\"#7201a8\"],[0.3333333333333333,\"#9c179e\"],[0.4444444444444444,\"#bd3786\"],[0.5555555555555556,\"#d8576b\"],[0.6666666666666666,\"#ed7953\"],[0.7777777777777778,\"#fb9f3a\"],[0.8888888888888888,\"#fdca26\"],[1.0,\"#f0f921\"]],\"type\":\"heatmapgl\"}],\"heatmap\":[{\"colorbar\":{\"outlinewidth\":0,\"ticks\":\"\"},\"colorscale\":[[0.0,\"#0d0887\"],[0.1111111111111111,\"#46039f\"],[0.2222222222222222,\"#7201a8\"],[0.3333333333333333,\"#9c179e\"],[0.4444444444444444,\"#bd3786\"],[0.5555555555555556,\"#d8576b\"],[0.6666666666666666,\"#ed7953\"],[0.7777777777777778,\"#fb9f3a\"],[0.8888888888888888,\"#fdca26\"],[1.0,\"#f0f921\"]],\"type\":\"heatmap\"}],\"histogram2dcontour\":[{\"colorbar\":{\"outlinewidth\":0,\"ticks\":\"\"},\"colorscale\":[[0.0,\"#0d0887\"],[0.1111111111111111,\"#46039f\"],[0.2222222222222222,\"#7201a8\"],[0.3333333333333333,\"#9c179e\"],[0.4444444444444444,\"#bd3786\"],[0.5555555555555556,\"#d8576b\"],[0.6666666666666666,\"#ed7953\"],[0.7777777777777778,\"#fb9f3a\"],[0.8888888888888888,\"#fdca26\"],[1.0,\"#f0f921\"]],\"type\":\"histogram2dcontour\"}],\"histogram2d\":[{\"colorbar\":{\"outlinewidth\":0,\"ticks\":\"\"},\"colorscale\":[[0.0,\"#0d0887\"],[0.1111111111111111,\"#46039f\"],[0.2222222222222222,\"#7201a8\"],[0.3333333333333333,\"#9c179e\"],[0.4444444444444444,\"#bd3786\"],[0.5555555555555556,\"#d8576b\"],[0.6666666666666666,\"#ed7953\"],[0.7777777777777778,\"#fb9f3a\"],[0.8888888888888888,\"#fdca26\"],[1.0,\"#f0f921\"]],\"type\":\"histogram2d\"}],\"histogram\":[{\"marker\":{\"pattern\":{\"fillmode\":\"overlay\",\"size\":10,\"solidity\":0.2}},\"type\":\"histogram\"}],\"mesh3d\":[{\"colorbar\":{\"outlinewidth\":0,\"ticks\":\"\"},\"type\":\"mesh3d\"}],\"parcoords\":[{\"line\":{\"colorbar\":{\"outlinewidth\":0,\"ticks\":\"\"}},\"type\":\"parcoords\"}],\"pie\":[{\"automargin\":true,\"type\":\"pie\"}],\"scatter3d\":[{\"line\":{\"colorbar\":{\"outlinewidth\":0,\"ticks\":\"\"}},\"marker\":{\"colorbar\":{\"outlinewidth\":0,\"ticks\":\"\"}},\"type\":\"scatter3d\"}],\"scattercarpet\":[{\"marker\":{\"colorbar\":{\"outlinewidth\":0,\"ticks\":\"\"}},\"type\":\"scattercarpet\"}],\"scattergeo\":[{\"marker\":{\"colorbar\":{\"outlinewidth\":0,\"ticks\":\"\"}},\"type\":\"scattergeo\"}],\"scattergl\":[{\"marker\":{\"colorbar\":{\"outlinewidth\":0,\"ticks\":\"\"}},\"type\":\"scattergl\"}],\"scattermapbox\":[{\"marker\":{\"colorbar\":{\"outlinewidth\":0,\"ticks\":\"\"}},\"type\":\"scattermapbox\"}],\"scatterpolargl\":[{\"marker\":{\"colorbar\":{\"outlinewidth\":0,\"ticks\":\"\"}},\"type\":\"scatterpolargl\"}],\"scatterpolar\":[{\"marker\":{\"colorbar\":{\"outlinewidth\":0,\"ticks\":\"\"}},\"type\":\"scatterpolar\"}],\"scatter\":[{\"marker\":{\"colorbar\":{\"outlinewidth\":0,\"ticks\":\"\"}},\"type\":\"scatter\"}],\"scatterternary\":[{\"marker\":{\"colorbar\":{\"outlinewidth\":0,\"ticks\":\"\"}},\"type\":\"scatterternary\"}],\"surface\":[{\"colorbar\":{\"outlinewidth\":0,\"ticks\":\"\"},\"colorscale\":[[0.0,\"#0d0887\"],[0.1111111111111111,\"#46039f\"],[0.2222222222222222,\"#7201a8\"],[0.3333333333333333,\"#9c179e\"],[0.4444444444444444,\"#bd3786\"],[0.5555555555555556,\"#d8576b\"],[0.6666666666666666,\"#ed7953\"],[0.7777777777777778,\"#fb9f3a\"],[0.8888888888888888,\"#fdca26\"],[1.0,\"#f0f921\"]],\"type\":\"surface\"}],\"table\":[{\"cells\":{\"fill\":{\"color\":\"#EBF0F8\"},\"line\":{\"color\":\"white\"}},\"header\":{\"fill\":{\"color\":\"#C8D4E3\"},\"line\":{\"color\":\"white\"}},\"type\":\"table\"}]},\"layout\":{\"annotationdefaults\":{\"arrowcolor\":\"#2a3f5f\",\"arrowhead\":0,\"arrowwidth\":1},\"autotypenumbers\":\"strict\",\"coloraxis\":{\"colorbar\":{\"outlinewidth\":0,\"ticks\":\"\"}},\"colorscale\":{\"diverging\":[[0,\"#8e0152\"],[0.1,\"#c51b7d\"],[0.2,\"#de77ae\"],[0.3,\"#f1b6da\"],[0.4,\"#fde0ef\"],[0.5,\"#f7f7f7\"],[0.6,\"#e6f5d0\"],[0.7,\"#b8e186\"],[0.8,\"#7fbc41\"],[0.9,\"#4d9221\"],[1,\"#276419\"]],\"sequential\":[[0.0,\"#0d0887\"],[0.1111111111111111,\"#46039f\"],[0.2222222222222222,\"#7201a8\"],[0.3333333333333333,\"#9c179e\"],[0.4444444444444444,\"#bd3786\"],[0.5555555555555556,\"#d8576b\"],[0.6666666666666666,\"#ed7953\"],[0.7777777777777778,\"#fb9f3a\"],[0.8888888888888888,\"#fdca26\"],[1.0,\"#f0f921\"]],\"sequentialminus\":[[0.0,\"#0d0887\"],[0.1111111111111111,\"#46039f\"],[0.2222222222222222,\"#7201a8\"],[0.3333333333333333,\"#9c179e\"],[0.4444444444444444,\"#bd3786\"],[0.5555555555555556,\"#d8576b\"],[0.6666666666666666,\"#ed7953\"],[0.7777777777777778,\"#fb9f3a\"],[0.8888888888888888,\"#fdca26\"],[1.0,\"#f0f921\"]]},\"colorway\":[\"#636efa\",\"#EF553B\",\"#00cc96\",\"#ab63fa\",\"#FFA15A\",\"#19d3f3\",\"#FF6692\",\"#B6E880\",\"#FF97FF\",\"#FECB52\"],\"font\":{\"color\":\"#2a3f5f\"},\"geo\":{\"bgcolor\":\"white\",\"lakecolor\":\"white\",\"landcolor\":\"#E5ECF6\",\"showlakes\":true,\"showland\":true,\"subunitcolor\":\"white\"},\"hoverlabel\":{\"align\":\"left\"},\"hovermode\":\"closest\",\"mapbox\":{\"style\":\"light\"},\"paper_bgcolor\":\"white\",\"plot_bgcolor\":\"#E5ECF6\",\"polar\":{\"angularaxis\":{\"gridcolor\":\"white\",\"linecolor\":\"white\",\"ticks\":\"\"},\"bgcolor\":\"#E5ECF6\",\"radialaxis\":{\"gridcolor\":\"white\",\"linecolor\":\"white\",\"ticks\":\"\"}},\"scene\":{\"xaxis\":{\"backgroundcolor\":\"#E5ECF6\",\"gridcolor\":\"white\",\"gridwidth\":2,\"linecolor\":\"white\",\"showbackground\":true,\"ticks\":\"\",\"zerolinecolor\":\"white\"},\"yaxis\":{\"backgroundcolor\":\"#E5ECF6\",\"gridcolor\":\"white\",\"gridwidth\":2,\"linecolor\":\"white\",\"showbackground\":true,\"ticks\":\"\",\"zerolinecolor\":\"white\"},\"zaxis\":{\"backgroundcolor\":\"#E5ECF6\",\"gridcolor\":\"white\",\"gridwidth\":2,\"linecolor\":\"white\",\"showbackground\":true,\"ticks\":\"\",\"zerolinecolor\":\"white\"}},\"shapedefaults\":{\"line\":{\"color\":\"#2a3f5f\"}},\"ternary\":{\"aaxis\":{\"gridcolor\":\"white\",\"linecolor\":\"white\",\"ticks\":\"\"},\"baxis\":{\"gridcolor\":\"white\",\"linecolor\":\"white\",\"ticks\":\"\"},\"bgcolor\":\"#E5ECF6\",\"caxis\":{\"gridcolor\":\"white\",\"linecolor\":\"white\",\"ticks\":\"\"}},\"title\":{\"x\":0.05},\"xaxis\":{\"automargin\":true,\"gridcolor\":\"white\",\"linecolor\":\"white\",\"ticks\":\"\",\"title\":{\"standoff\":15},\"zerolinecolor\":\"white\",\"zerolinewidth\":2},\"yaxis\":{\"automargin\":true,\"gridcolor\":\"white\",\"linecolor\":\"white\",\"ticks\":\"\",\"title\":{\"standoff\":15},\"zerolinecolor\":\"white\",\"zerolinewidth\":2}}},\"title\":{\"font\":{\"color\":\"#4D5663\"}},\"xaxis\":{\"gridcolor\":\"#E1E5ED\",\"showgrid\":true,\"tickfont\":{\"color\":\"#4D5663\"},\"title\":{\"font\":{\"color\":\"#4D5663\"},\"text\":\"\"},\"zerolinecolor\":\"#E1E5ED\"},\"yaxis\":{\"gridcolor\":\"#E1E5ED\",\"showgrid\":true,\"tickfont\":{\"color\":\"#4D5663\"},\"title\":{\"font\":{\"color\":\"#4D5663\"},\"text\":\"\"},\"zerolinecolor\":\"#E1E5ED\"}},                        {\"showLink\": true, \"linkText\": \"Export to plot.ly\", \"plotlyServerURL\": \"https://plot.ly\", \"responsive\": true}                    ).then(function(){\n",
       "                            \n",
       "var gd = document.getElementById('f40bfe32-f181-44b0-98b5-f58ef6854fc2');\n",
       "var x = new MutationObserver(function (mutations, observer) {{\n",
       "        var display = window.getComputedStyle(gd).display;\n",
       "        if (!display || display === 'none') {{\n",
       "            console.log([gd, 'removed!']);\n",
       "            Plotly.purge(gd);\n",
       "            observer.disconnect();\n",
       "        }}\n",
       "}});\n",
       "\n",
       "// Listen for the removal of the full notebook cells\n",
       "var notebookContainer = gd.closest('#notebook-container');\n",
       "if (notebookContainer) {{\n",
       "    x.observe(notebookContainer, {childList: true});\n",
       "}}\n",
       "\n",
       "// Listen for the clearing of the current output cell\n",
       "var outputEl = gd.closest('.output');\n",
       "if (outputEl) {{\n",
       "    x.observe(outputEl, {childList: true});\n",
       "}}\n",
       "\n",
       "                        })                };                });            </script>        </div>"
      ]
     },
     "metadata": {},
     "output_type": "display_data"
    }
   ],
   "source": [
    "df.iplot(kind=\"surface\")"
   ]
  },
  {
   "cell_type": "code",
   "execution_count": 16,
   "id": "337790b9",
   "metadata": {},
   "outputs": [],
   "source": [
    "df3=pd.DataFrame({\"x\":[1,4,5,2],\"y\":[43,78,33,1],\"z\":[55,0,99,12]})"
   ]
  },
  {
   "cell_type": "code",
   "execution_count": 58,
   "id": "05a257ae",
   "metadata": {},
   "outputs": [
    {
     "data": {
      "text/html": [
       "<div>\n",
       "<style scoped>\n",
       "    .dataframe tbody tr th:only-of-type {\n",
       "        vertical-align: middle;\n",
       "    }\n",
       "\n",
       "    .dataframe tbody tr th {\n",
       "        vertical-align: top;\n",
       "    }\n",
       "\n",
       "    .dataframe thead th {\n",
       "        text-align: right;\n",
       "    }\n",
       "</style>\n",
       "<table border=\"1\" class=\"dataframe\">\n",
       "  <thead>\n",
       "    <tr style=\"text-align: right;\">\n",
       "      <th></th>\n",
       "      <th>x</th>\n",
       "      <th>y</th>\n",
       "      <th>z</th>\n",
       "    </tr>\n",
       "  </thead>\n",
       "  <tbody>\n",
       "    <tr>\n",
       "      <th>0</th>\n",
       "      <td>1</td>\n",
       "      <td>43</td>\n",
       "      <td>55</td>\n",
       "    </tr>\n",
       "    <tr>\n",
       "      <th>1</th>\n",
       "      <td>4</td>\n",
       "      <td>78</td>\n",
       "      <td>0</td>\n",
       "    </tr>\n",
       "    <tr>\n",
       "      <th>2</th>\n",
       "      <td>5</td>\n",
       "      <td>33</td>\n",
       "      <td>99</td>\n",
       "    </tr>\n",
       "    <tr>\n",
       "      <th>3</th>\n",
       "      <td>2</td>\n",
       "      <td>1</td>\n",
       "      <td>12</td>\n",
       "    </tr>\n",
       "  </tbody>\n",
       "</table>\n",
       "</div>"
      ],
      "text/plain": [
       "   x   y   z\n",
       "0  1  43  55\n",
       "1  4  78   0\n",
       "2  5  33  99\n",
       "3  2   1  12"
      ]
     },
     "execution_count": 58,
     "metadata": {},
     "output_type": "execute_result"
    }
   ],
   "source": [
    "df3"
   ]
  },
  {
   "cell_type": "code",
   "execution_count": 63,
   "id": "22d3deee",
   "metadata": {},
   "outputs": [
    {
     "data": {
      "application/vnd.plotly.v1+json": {
       "config": {
        "linkText": "Export to plot.ly",
        "plotlyServerURL": "https://plot.ly",
        "showLink": true
       },
       "data": [
        {
         "colorscale": [
          [
           0,
           "rgb(255, 153, 51)"
          ],
          [
           0.1111111111111111,
           "rgb(55, 128, 191)"
          ],
          [
           0.2222222222222222,
           "rgb(50, 171, 96)"
          ],
          [
           0.3333333333333333,
           "rgb(128, 0, 128)"
          ],
          [
           0.4444444444444444,
           "rgb(219, 64, 82)"
          ],
          [
           0.5555555555555556,
           "rgb(0, 128, 128)"
          ],
          [
           0.6666666666666666,
           "rgb(255, 255, 51)"
          ],
          [
           0.7777777777777778,
           "rgb(128, 128, 0)"
          ],
          [
           0.8888888888888888,
           "rgb(251, 128, 114)"
          ],
          [
           1,
           "rgb(128, 177, 211)"
          ]
         ],
         "type": "surface",
         "x": [
          0,
          1,
          2,
          3
         ],
         "y": [
          "x",
          "y",
          "z"
         ],
         "z": [
          [
           1,
           4,
           5,
           2
          ],
          [
           43,
           78,
           33,
           1
          ],
          [
           55,
           0,
           99,
           12
          ]
         ]
        }
       ],
       "layout": {
        "legend": {
         "bgcolor": "#F5F6F9",
         "font": {
          "color": "#4D5663"
         }
        },
        "paper_bgcolor": "#F5F6F9",
        "plot_bgcolor": "#F5F6F9",
        "template": {
         "data": {
          "bar": [
           {
            "error_x": {
             "color": "#2a3f5f"
            },
            "error_y": {
             "color": "#2a3f5f"
            },
            "marker": {
             "line": {
              "color": "#E5ECF6",
              "width": 0.5
             },
             "pattern": {
              "fillmode": "overlay",
              "size": 10,
              "solidity": 0.2
             }
            },
            "type": "bar"
           }
          ],
          "barpolar": [
           {
            "marker": {
             "line": {
              "color": "#E5ECF6",
              "width": 0.5
             },
             "pattern": {
              "fillmode": "overlay",
              "size": 10,
              "solidity": 0.2
             }
            },
            "type": "barpolar"
           }
          ],
          "carpet": [
           {
            "aaxis": {
             "endlinecolor": "#2a3f5f",
             "gridcolor": "white",
             "linecolor": "white",
             "minorgridcolor": "white",
             "startlinecolor": "#2a3f5f"
            },
            "baxis": {
             "endlinecolor": "#2a3f5f",
             "gridcolor": "white",
             "linecolor": "white",
             "minorgridcolor": "white",
             "startlinecolor": "#2a3f5f"
            },
            "type": "carpet"
           }
          ],
          "choropleth": [
           {
            "colorbar": {
             "outlinewidth": 0,
             "ticks": ""
            },
            "type": "choropleth"
           }
          ],
          "contour": [
           {
            "colorbar": {
             "outlinewidth": 0,
             "ticks": ""
            },
            "colorscale": [
             [
              0,
              "#0d0887"
             ],
             [
              0.1111111111111111,
              "#46039f"
             ],
             [
              0.2222222222222222,
              "#7201a8"
             ],
             [
              0.3333333333333333,
              "#9c179e"
             ],
             [
              0.4444444444444444,
              "#bd3786"
             ],
             [
              0.5555555555555556,
              "#d8576b"
             ],
             [
              0.6666666666666666,
              "#ed7953"
             ],
             [
              0.7777777777777778,
              "#fb9f3a"
             ],
             [
              0.8888888888888888,
              "#fdca26"
             ],
             [
              1,
              "#f0f921"
             ]
            ],
            "type": "contour"
           }
          ],
          "contourcarpet": [
           {
            "colorbar": {
             "outlinewidth": 0,
             "ticks": ""
            },
            "type": "contourcarpet"
           }
          ],
          "heatmap": [
           {
            "colorbar": {
             "outlinewidth": 0,
             "ticks": ""
            },
            "colorscale": [
             [
              0,
              "#0d0887"
             ],
             [
              0.1111111111111111,
              "#46039f"
             ],
             [
              0.2222222222222222,
              "#7201a8"
             ],
             [
              0.3333333333333333,
              "#9c179e"
             ],
             [
              0.4444444444444444,
              "#bd3786"
             ],
             [
              0.5555555555555556,
              "#d8576b"
             ],
             [
              0.6666666666666666,
              "#ed7953"
             ],
             [
              0.7777777777777778,
              "#fb9f3a"
             ],
             [
              0.8888888888888888,
              "#fdca26"
             ],
             [
              1,
              "#f0f921"
             ]
            ],
            "type": "heatmap"
           }
          ],
          "heatmapgl": [
           {
            "colorbar": {
             "outlinewidth": 0,
             "ticks": ""
            },
            "colorscale": [
             [
              0,
              "#0d0887"
             ],
             [
              0.1111111111111111,
              "#46039f"
             ],
             [
              0.2222222222222222,
              "#7201a8"
             ],
             [
              0.3333333333333333,
              "#9c179e"
             ],
             [
              0.4444444444444444,
              "#bd3786"
             ],
             [
              0.5555555555555556,
              "#d8576b"
             ],
             [
              0.6666666666666666,
              "#ed7953"
             ],
             [
              0.7777777777777778,
              "#fb9f3a"
             ],
             [
              0.8888888888888888,
              "#fdca26"
             ],
             [
              1,
              "#f0f921"
             ]
            ],
            "type": "heatmapgl"
           }
          ],
          "histogram": [
           {
            "marker": {
             "pattern": {
              "fillmode": "overlay",
              "size": 10,
              "solidity": 0.2
             }
            },
            "type": "histogram"
           }
          ],
          "histogram2d": [
           {
            "colorbar": {
             "outlinewidth": 0,
             "ticks": ""
            },
            "colorscale": [
             [
              0,
              "#0d0887"
             ],
             [
              0.1111111111111111,
              "#46039f"
             ],
             [
              0.2222222222222222,
              "#7201a8"
             ],
             [
              0.3333333333333333,
              "#9c179e"
             ],
             [
              0.4444444444444444,
              "#bd3786"
             ],
             [
              0.5555555555555556,
              "#d8576b"
             ],
             [
              0.6666666666666666,
              "#ed7953"
             ],
             [
              0.7777777777777778,
              "#fb9f3a"
             ],
             [
              0.8888888888888888,
              "#fdca26"
             ],
             [
              1,
              "#f0f921"
             ]
            ],
            "type": "histogram2d"
           }
          ],
          "histogram2dcontour": [
           {
            "colorbar": {
             "outlinewidth": 0,
             "ticks": ""
            },
            "colorscale": [
             [
              0,
              "#0d0887"
             ],
             [
              0.1111111111111111,
              "#46039f"
             ],
             [
              0.2222222222222222,
              "#7201a8"
             ],
             [
              0.3333333333333333,
              "#9c179e"
             ],
             [
              0.4444444444444444,
              "#bd3786"
             ],
             [
              0.5555555555555556,
              "#d8576b"
             ],
             [
              0.6666666666666666,
              "#ed7953"
             ],
             [
              0.7777777777777778,
              "#fb9f3a"
             ],
             [
              0.8888888888888888,
              "#fdca26"
             ],
             [
              1,
              "#f0f921"
             ]
            ],
            "type": "histogram2dcontour"
           }
          ],
          "mesh3d": [
           {
            "colorbar": {
             "outlinewidth": 0,
             "ticks": ""
            },
            "type": "mesh3d"
           }
          ],
          "parcoords": [
           {
            "line": {
             "colorbar": {
              "outlinewidth": 0,
              "ticks": ""
             }
            },
            "type": "parcoords"
           }
          ],
          "pie": [
           {
            "automargin": true,
            "type": "pie"
           }
          ],
          "scatter": [
           {
            "marker": {
             "colorbar": {
              "outlinewidth": 0,
              "ticks": ""
             }
            },
            "type": "scatter"
           }
          ],
          "scatter3d": [
           {
            "line": {
             "colorbar": {
              "outlinewidth": 0,
              "ticks": ""
             }
            },
            "marker": {
             "colorbar": {
              "outlinewidth": 0,
              "ticks": ""
             }
            },
            "type": "scatter3d"
           }
          ],
          "scattercarpet": [
           {
            "marker": {
             "colorbar": {
              "outlinewidth": 0,
              "ticks": ""
             }
            },
            "type": "scattercarpet"
           }
          ],
          "scattergeo": [
           {
            "marker": {
             "colorbar": {
              "outlinewidth": 0,
              "ticks": ""
             }
            },
            "type": "scattergeo"
           }
          ],
          "scattergl": [
           {
            "marker": {
             "colorbar": {
              "outlinewidth": 0,
              "ticks": ""
             }
            },
            "type": "scattergl"
           }
          ],
          "scattermapbox": [
           {
            "marker": {
             "colorbar": {
              "outlinewidth": 0,
              "ticks": ""
             }
            },
            "type": "scattermapbox"
           }
          ],
          "scatterpolar": [
           {
            "marker": {
             "colorbar": {
              "outlinewidth": 0,
              "ticks": ""
             }
            },
            "type": "scatterpolar"
           }
          ],
          "scatterpolargl": [
           {
            "marker": {
             "colorbar": {
              "outlinewidth": 0,
              "ticks": ""
             }
            },
            "type": "scatterpolargl"
           }
          ],
          "scatterternary": [
           {
            "marker": {
             "colorbar": {
              "outlinewidth": 0,
              "ticks": ""
             }
            },
            "type": "scatterternary"
           }
          ],
          "surface": [
           {
            "colorbar": {
             "outlinewidth": 0,
             "ticks": ""
            },
            "colorscale": [
             [
              0,
              "#0d0887"
             ],
             [
              0.1111111111111111,
              "#46039f"
             ],
             [
              0.2222222222222222,
              "#7201a8"
             ],
             [
              0.3333333333333333,
              "#9c179e"
             ],
             [
              0.4444444444444444,
              "#bd3786"
             ],
             [
              0.5555555555555556,
              "#d8576b"
             ],
             [
              0.6666666666666666,
              "#ed7953"
             ],
             [
              0.7777777777777778,
              "#fb9f3a"
             ],
             [
              0.8888888888888888,
              "#fdca26"
             ],
             [
              1,
              "#f0f921"
             ]
            ],
            "type": "surface"
           }
          ],
          "table": [
           {
            "cells": {
             "fill": {
              "color": "#EBF0F8"
             },
             "line": {
              "color": "white"
             }
            },
            "header": {
             "fill": {
              "color": "#C8D4E3"
             },
             "line": {
              "color": "white"
             }
            },
            "type": "table"
           }
          ]
         },
         "layout": {
          "annotationdefaults": {
           "arrowcolor": "#2a3f5f",
           "arrowhead": 0,
           "arrowwidth": 1
          },
          "autotypenumbers": "strict",
          "coloraxis": {
           "colorbar": {
            "outlinewidth": 0,
            "ticks": ""
           }
          },
          "colorscale": {
           "diverging": [
            [
             0,
             "#8e0152"
            ],
            [
             0.1,
             "#c51b7d"
            ],
            [
             0.2,
             "#de77ae"
            ],
            [
             0.3,
             "#f1b6da"
            ],
            [
             0.4,
             "#fde0ef"
            ],
            [
             0.5,
             "#f7f7f7"
            ],
            [
             0.6,
             "#e6f5d0"
            ],
            [
             0.7,
             "#b8e186"
            ],
            [
             0.8,
             "#7fbc41"
            ],
            [
             0.9,
             "#4d9221"
            ],
            [
             1,
             "#276419"
            ]
           ],
           "sequential": [
            [
             0,
             "#0d0887"
            ],
            [
             0.1111111111111111,
             "#46039f"
            ],
            [
             0.2222222222222222,
             "#7201a8"
            ],
            [
             0.3333333333333333,
             "#9c179e"
            ],
            [
             0.4444444444444444,
             "#bd3786"
            ],
            [
             0.5555555555555556,
             "#d8576b"
            ],
            [
             0.6666666666666666,
             "#ed7953"
            ],
            [
             0.7777777777777778,
             "#fb9f3a"
            ],
            [
             0.8888888888888888,
             "#fdca26"
            ],
            [
             1,
             "#f0f921"
            ]
           ],
           "sequentialminus": [
            [
             0,
             "#0d0887"
            ],
            [
             0.1111111111111111,
             "#46039f"
            ],
            [
             0.2222222222222222,
             "#7201a8"
            ],
            [
             0.3333333333333333,
             "#9c179e"
            ],
            [
             0.4444444444444444,
             "#bd3786"
            ],
            [
             0.5555555555555556,
             "#d8576b"
            ],
            [
             0.6666666666666666,
             "#ed7953"
            ],
            [
             0.7777777777777778,
             "#fb9f3a"
            ],
            [
             0.8888888888888888,
             "#fdca26"
            ],
            [
             1,
             "#f0f921"
            ]
           ]
          },
          "colorway": [
           "#636efa",
           "#EF553B",
           "#00cc96",
           "#ab63fa",
           "#FFA15A",
           "#19d3f3",
           "#FF6692",
           "#B6E880",
           "#FF97FF",
           "#FECB52"
          ],
          "font": {
           "color": "#2a3f5f"
          },
          "geo": {
           "bgcolor": "white",
           "lakecolor": "white",
           "landcolor": "#E5ECF6",
           "showlakes": true,
           "showland": true,
           "subunitcolor": "white"
          },
          "hoverlabel": {
           "align": "left"
          },
          "hovermode": "closest",
          "mapbox": {
           "style": "light"
          },
          "paper_bgcolor": "white",
          "plot_bgcolor": "#E5ECF6",
          "polar": {
           "angularaxis": {
            "gridcolor": "white",
            "linecolor": "white",
            "ticks": ""
           },
           "bgcolor": "#E5ECF6",
           "radialaxis": {
            "gridcolor": "white",
            "linecolor": "white",
            "ticks": ""
           }
          },
          "scene": {
           "xaxis": {
            "backgroundcolor": "#E5ECF6",
            "gridcolor": "white",
            "gridwidth": 2,
            "linecolor": "white",
            "showbackground": true,
            "ticks": "",
            "zerolinecolor": "white"
           },
           "yaxis": {
            "backgroundcolor": "#E5ECF6",
            "gridcolor": "white",
            "gridwidth": 2,
            "linecolor": "white",
            "showbackground": true,
            "ticks": "",
            "zerolinecolor": "white"
           },
           "zaxis": {
            "backgroundcolor": "#E5ECF6",
            "gridcolor": "white",
            "gridwidth": 2,
            "linecolor": "white",
            "showbackground": true,
            "ticks": "",
            "zerolinecolor": "white"
           }
          },
          "shapedefaults": {
           "line": {
            "color": "#2a3f5f"
           }
          },
          "ternary": {
           "aaxis": {
            "gridcolor": "white",
            "linecolor": "white",
            "ticks": ""
           },
           "baxis": {
            "gridcolor": "white",
            "linecolor": "white",
            "ticks": ""
           },
           "bgcolor": "#E5ECF6",
           "caxis": {
            "gridcolor": "white",
            "linecolor": "white",
            "ticks": ""
           }
          },
          "title": {
           "x": 0.05
          },
          "xaxis": {
           "automargin": true,
           "gridcolor": "white",
           "linecolor": "white",
           "ticks": "",
           "title": {
            "standoff": 15
           },
           "zerolinecolor": "white",
           "zerolinewidth": 2
          },
          "yaxis": {
           "automargin": true,
           "gridcolor": "white",
           "linecolor": "white",
           "ticks": "",
           "title": {
            "standoff": 15
           },
           "zerolinecolor": "white",
           "zerolinewidth": 2
          }
         }
        },
        "title": {
         "font": {
          "color": "#4D5663"
         }
        },
        "xaxis": {
         "gridcolor": "#E1E5ED",
         "showgrid": true,
         "tickfont": {
          "color": "#4D5663"
         },
         "title": {
          "font": {
           "color": "#4D5663"
          },
          "text": ""
         },
         "zerolinecolor": "#E1E5ED"
        },
        "yaxis": {
         "gridcolor": "#E1E5ED",
         "showgrid": true,
         "tickfont": {
          "color": "#4D5663"
         },
         "title": {
          "font": {
           "color": "#4D5663"
          },
          "text": ""
         },
         "zerolinecolor": "#E1E5ED"
        }
       }
      },
      "text/html": [
       "<div>                            <div id=\"5f7b798e-a7a8-4991-8b9c-d0749e579f65\" class=\"plotly-graph-div\" style=\"height:525px; width:100%;\"></div>            <script type=\"text/javascript\">                require([\"plotly\"], function(Plotly) {                    window.PLOTLYENV=window.PLOTLYENV || {};\n",
       "                    window.PLOTLYENV.BASE_URL='https://plot.ly';                                    if (document.getElementById(\"5f7b798e-a7a8-4991-8b9c-d0749e579f65\")) {                    Plotly.newPlot(                        \"5f7b798e-a7a8-4991-8b9c-d0749e579f65\",                        [{\"colorscale\":[[0.0,\"rgb(255, 153, 51)\"],[0.1111111111111111,\"rgb(55, 128, 191)\"],[0.2222222222222222,\"rgb(50, 171, 96)\"],[0.3333333333333333,\"rgb(128, 0, 128)\"],[0.4444444444444444,\"rgb(219, 64, 82)\"],[0.5555555555555556,\"rgb(0, 128, 128)\"],[0.6666666666666666,\"rgb(255, 255, 51)\"],[0.7777777777777778,\"rgb(128, 128, 0)\"],[0.8888888888888888,\"rgb(251, 128, 114)\"],[1.0,\"rgb(128, 177, 211)\"]],\"x\":[0,1,2,3],\"y\":[\"x\",\"y\",\"z\"],\"z\":[[1,4,5,2],[43,78,33,1],[55,0,99,12]],\"type\":\"surface\"}],                        {\"legend\":{\"bgcolor\":\"#F5F6F9\",\"font\":{\"color\":\"#4D5663\"}},\"paper_bgcolor\":\"#F5F6F9\",\"plot_bgcolor\":\"#F5F6F9\",\"template\":{\"data\":{\"barpolar\":[{\"marker\":{\"line\":{\"color\":\"#E5ECF6\",\"width\":0.5},\"pattern\":{\"fillmode\":\"overlay\",\"size\":10,\"solidity\":0.2}},\"type\":\"barpolar\"}],\"bar\":[{\"error_x\":{\"color\":\"#2a3f5f\"},\"error_y\":{\"color\":\"#2a3f5f\"},\"marker\":{\"line\":{\"color\":\"#E5ECF6\",\"width\":0.5},\"pattern\":{\"fillmode\":\"overlay\",\"size\":10,\"solidity\":0.2}},\"type\":\"bar\"}],\"carpet\":[{\"aaxis\":{\"endlinecolor\":\"#2a3f5f\",\"gridcolor\":\"white\",\"linecolor\":\"white\",\"minorgridcolor\":\"white\",\"startlinecolor\":\"#2a3f5f\"},\"baxis\":{\"endlinecolor\":\"#2a3f5f\",\"gridcolor\":\"white\",\"linecolor\":\"white\",\"minorgridcolor\":\"white\",\"startlinecolor\":\"#2a3f5f\"},\"type\":\"carpet\"}],\"choropleth\":[{\"colorbar\":{\"outlinewidth\":0,\"ticks\":\"\"},\"type\":\"choropleth\"}],\"contourcarpet\":[{\"colorbar\":{\"outlinewidth\":0,\"ticks\":\"\"},\"type\":\"contourcarpet\"}],\"contour\":[{\"colorbar\":{\"outlinewidth\":0,\"ticks\":\"\"},\"colorscale\":[[0.0,\"#0d0887\"],[0.1111111111111111,\"#46039f\"],[0.2222222222222222,\"#7201a8\"],[0.3333333333333333,\"#9c179e\"],[0.4444444444444444,\"#bd3786\"],[0.5555555555555556,\"#d8576b\"],[0.6666666666666666,\"#ed7953\"],[0.7777777777777778,\"#fb9f3a\"],[0.8888888888888888,\"#fdca26\"],[1.0,\"#f0f921\"]],\"type\":\"contour\"}],\"heatmapgl\":[{\"colorbar\":{\"outlinewidth\":0,\"ticks\":\"\"},\"colorscale\":[[0.0,\"#0d0887\"],[0.1111111111111111,\"#46039f\"],[0.2222222222222222,\"#7201a8\"],[0.3333333333333333,\"#9c179e\"],[0.4444444444444444,\"#bd3786\"],[0.5555555555555556,\"#d8576b\"],[0.6666666666666666,\"#ed7953\"],[0.7777777777777778,\"#fb9f3a\"],[0.8888888888888888,\"#fdca26\"],[1.0,\"#f0f921\"]],\"type\":\"heatmapgl\"}],\"heatmap\":[{\"colorbar\":{\"outlinewidth\":0,\"ticks\":\"\"},\"colorscale\":[[0.0,\"#0d0887\"],[0.1111111111111111,\"#46039f\"],[0.2222222222222222,\"#7201a8\"],[0.3333333333333333,\"#9c179e\"],[0.4444444444444444,\"#bd3786\"],[0.5555555555555556,\"#d8576b\"],[0.6666666666666666,\"#ed7953\"],[0.7777777777777778,\"#fb9f3a\"],[0.8888888888888888,\"#fdca26\"],[1.0,\"#f0f921\"]],\"type\":\"heatmap\"}],\"histogram2dcontour\":[{\"colorbar\":{\"outlinewidth\":0,\"ticks\":\"\"},\"colorscale\":[[0.0,\"#0d0887\"],[0.1111111111111111,\"#46039f\"],[0.2222222222222222,\"#7201a8\"],[0.3333333333333333,\"#9c179e\"],[0.4444444444444444,\"#bd3786\"],[0.5555555555555556,\"#d8576b\"],[0.6666666666666666,\"#ed7953\"],[0.7777777777777778,\"#fb9f3a\"],[0.8888888888888888,\"#fdca26\"],[1.0,\"#f0f921\"]],\"type\":\"histogram2dcontour\"}],\"histogram2d\":[{\"colorbar\":{\"outlinewidth\":0,\"ticks\":\"\"},\"colorscale\":[[0.0,\"#0d0887\"],[0.1111111111111111,\"#46039f\"],[0.2222222222222222,\"#7201a8\"],[0.3333333333333333,\"#9c179e\"],[0.4444444444444444,\"#bd3786\"],[0.5555555555555556,\"#d8576b\"],[0.6666666666666666,\"#ed7953\"],[0.7777777777777778,\"#fb9f3a\"],[0.8888888888888888,\"#fdca26\"],[1.0,\"#f0f921\"]],\"type\":\"histogram2d\"}],\"histogram\":[{\"marker\":{\"pattern\":{\"fillmode\":\"overlay\",\"size\":10,\"solidity\":0.2}},\"type\":\"histogram\"}],\"mesh3d\":[{\"colorbar\":{\"outlinewidth\":0,\"ticks\":\"\"},\"type\":\"mesh3d\"}],\"parcoords\":[{\"line\":{\"colorbar\":{\"outlinewidth\":0,\"ticks\":\"\"}},\"type\":\"parcoords\"}],\"pie\":[{\"automargin\":true,\"type\":\"pie\"}],\"scatter3d\":[{\"line\":{\"colorbar\":{\"outlinewidth\":0,\"ticks\":\"\"}},\"marker\":{\"colorbar\":{\"outlinewidth\":0,\"ticks\":\"\"}},\"type\":\"scatter3d\"}],\"scattercarpet\":[{\"marker\":{\"colorbar\":{\"outlinewidth\":0,\"ticks\":\"\"}},\"type\":\"scattercarpet\"}],\"scattergeo\":[{\"marker\":{\"colorbar\":{\"outlinewidth\":0,\"ticks\":\"\"}},\"type\":\"scattergeo\"}],\"scattergl\":[{\"marker\":{\"colorbar\":{\"outlinewidth\":0,\"ticks\":\"\"}},\"type\":\"scattergl\"}],\"scattermapbox\":[{\"marker\":{\"colorbar\":{\"outlinewidth\":0,\"ticks\":\"\"}},\"type\":\"scattermapbox\"}],\"scatterpolargl\":[{\"marker\":{\"colorbar\":{\"outlinewidth\":0,\"ticks\":\"\"}},\"type\":\"scatterpolargl\"}],\"scatterpolar\":[{\"marker\":{\"colorbar\":{\"outlinewidth\":0,\"ticks\":\"\"}},\"type\":\"scatterpolar\"}],\"scatter\":[{\"marker\":{\"colorbar\":{\"outlinewidth\":0,\"ticks\":\"\"}},\"type\":\"scatter\"}],\"scatterternary\":[{\"marker\":{\"colorbar\":{\"outlinewidth\":0,\"ticks\":\"\"}},\"type\":\"scatterternary\"}],\"surface\":[{\"colorbar\":{\"outlinewidth\":0,\"ticks\":\"\"},\"colorscale\":[[0.0,\"#0d0887\"],[0.1111111111111111,\"#46039f\"],[0.2222222222222222,\"#7201a8\"],[0.3333333333333333,\"#9c179e\"],[0.4444444444444444,\"#bd3786\"],[0.5555555555555556,\"#d8576b\"],[0.6666666666666666,\"#ed7953\"],[0.7777777777777778,\"#fb9f3a\"],[0.8888888888888888,\"#fdca26\"],[1.0,\"#f0f921\"]],\"type\":\"surface\"}],\"table\":[{\"cells\":{\"fill\":{\"color\":\"#EBF0F8\"},\"line\":{\"color\":\"white\"}},\"header\":{\"fill\":{\"color\":\"#C8D4E3\"},\"line\":{\"color\":\"white\"}},\"type\":\"table\"}]},\"layout\":{\"annotationdefaults\":{\"arrowcolor\":\"#2a3f5f\",\"arrowhead\":0,\"arrowwidth\":1},\"autotypenumbers\":\"strict\",\"coloraxis\":{\"colorbar\":{\"outlinewidth\":0,\"ticks\":\"\"}},\"colorscale\":{\"diverging\":[[0,\"#8e0152\"],[0.1,\"#c51b7d\"],[0.2,\"#de77ae\"],[0.3,\"#f1b6da\"],[0.4,\"#fde0ef\"],[0.5,\"#f7f7f7\"],[0.6,\"#e6f5d0\"],[0.7,\"#b8e186\"],[0.8,\"#7fbc41\"],[0.9,\"#4d9221\"],[1,\"#276419\"]],\"sequential\":[[0.0,\"#0d0887\"],[0.1111111111111111,\"#46039f\"],[0.2222222222222222,\"#7201a8\"],[0.3333333333333333,\"#9c179e\"],[0.4444444444444444,\"#bd3786\"],[0.5555555555555556,\"#d8576b\"],[0.6666666666666666,\"#ed7953\"],[0.7777777777777778,\"#fb9f3a\"],[0.8888888888888888,\"#fdca26\"],[1.0,\"#f0f921\"]],\"sequentialminus\":[[0.0,\"#0d0887\"],[0.1111111111111111,\"#46039f\"],[0.2222222222222222,\"#7201a8\"],[0.3333333333333333,\"#9c179e\"],[0.4444444444444444,\"#bd3786\"],[0.5555555555555556,\"#d8576b\"],[0.6666666666666666,\"#ed7953\"],[0.7777777777777778,\"#fb9f3a\"],[0.8888888888888888,\"#fdca26\"],[1.0,\"#f0f921\"]]},\"colorway\":[\"#636efa\",\"#EF553B\",\"#00cc96\",\"#ab63fa\",\"#FFA15A\",\"#19d3f3\",\"#FF6692\",\"#B6E880\",\"#FF97FF\",\"#FECB52\"],\"font\":{\"color\":\"#2a3f5f\"},\"geo\":{\"bgcolor\":\"white\",\"lakecolor\":\"white\",\"landcolor\":\"#E5ECF6\",\"showlakes\":true,\"showland\":true,\"subunitcolor\":\"white\"},\"hoverlabel\":{\"align\":\"left\"},\"hovermode\":\"closest\",\"mapbox\":{\"style\":\"light\"},\"paper_bgcolor\":\"white\",\"plot_bgcolor\":\"#E5ECF6\",\"polar\":{\"angularaxis\":{\"gridcolor\":\"white\",\"linecolor\":\"white\",\"ticks\":\"\"},\"bgcolor\":\"#E5ECF6\",\"radialaxis\":{\"gridcolor\":\"white\",\"linecolor\":\"white\",\"ticks\":\"\"}},\"scene\":{\"xaxis\":{\"backgroundcolor\":\"#E5ECF6\",\"gridcolor\":\"white\",\"gridwidth\":2,\"linecolor\":\"white\",\"showbackground\":true,\"ticks\":\"\",\"zerolinecolor\":\"white\"},\"yaxis\":{\"backgroundcolor\":\"#E5ECF6\",\"gridcolor\":\"white\",\"gridwidth\":2,\"linecolor\":\"white\",\"showbackground\":true,\"ticks\":\"\",\"zerolinecolor\":\"white\"},\"zaxis\":{\"backgroundcolor\":\"#E5ECF6\",\"gridcolor\":\"white\",\"gridwidth\":2,\"linecolor\":\"white\",\"showbackground\":true,\"ticks\":\"\",\"zerolinecolor\":\"white\"}},\"shapedefaults\":{\"line\":{\"color\":\"#2a3f5f\"}},\"ternary\":{\"aaxis\":{\"gridcolor\":\"white\",\"linecolor\":\"white\",\"ticks\":\"\"},\"baxis\":{\"gridcolor\":\"white\",\"linecolor\":\"white\",\"ticks\":\"\"},\"bgcolor\":\"#E5ECF6\",\"caxis\":{\"gridcolor\":\"white\",\"linecolor\":\"white\",\"ticks\":\"\"}},\"title\":{\"x\":0.05},\"xaxis\":{\"automargin\":true,\"gridcolor\":\"white\",\"linecolor\":\"white\",\"ticks\":\"\",\"title\":{\"standoff\":15},\"zerolinecolor\":\"white\",\"zerolinewidth\":2},\"yaxis\":{\"automargin\":true,\"gridcolor\":\"white\",\"linecolor\":\"white\",\"ticks\":\"\",\"title\":{\"standoff\":15},\"zerolinecolor\":\"white\",\"zerolinewidth\":2}}},\"title\":{\"font\":{\"color\":\"#4D5663\"}},\"xaxis\":{\"gridcolor\":\"#E1E5ED\",\"showgrid\":true,\"tickfont\":{\"color\":\"#4D5663\"},\"title\":{\"font\":{\"color\":\"#4D5663\"},\"text\":\"\"},\"zerolinecolor\":\"#E1E5ED\"},\"yaxis\":{\"gridcolor\":\"#E1E5ED\",\"showgrid\":true,\"tickfont\":{\"color\":\"#4D5663\"},\"title\":{\"font\":{\"color\":\"#4D5663\"},\"text\":\"\"},\"zerolinecolor\":\"#E1E5ED\"}},                        {\"showLink\": true, \"linkText\": \"Export to plot.ly\", \"plotlyServerURL\": \"https://plot.ly\", \"responsive\": true}                    ).then(function(){\n",
       "                            \n",
       "var gd = document.getElementById('5f7b798e-a7a8-4991-8b9c-d0749e579f65');\n",
       "var x = new MutationObserver(function (mutations, observer) {{\n",
       "        var display = window.getComputedStyle(gd).display;\n",
       "        if (!display || display === 'none') {{\n",
       "            console.log([gd, 'removed!']);\n",
       "            Plotly.purge(gd);\n",
       "            observer.disconnect();\n",
       "        }}\n",
       "}});\n",
       "\n",
       "// Listen for the removal of the full notebook cells\n",
       "var notebookContainer = gd.closest('#notebook-container');\n",
       "if (notebookContainer) {{\n",
       "    x.observe(notebookContainer, {childList: true});\n",
       "}}\n",
       "\n",
       "// Listen for the clearing of the current output cell\n",
       "var outputEl = gd.closest('.output');\n",
       "if (outputEl) {{\n",
       "    x.observe(outputEl, {childList: true});\n",
       "}}\n",
       "\n",
       "                        })                };                });            </script>        </div>"
      ]
     },
     "metadata": {},
     "output_type": "display_data"
    }
   ],
   "source": [
    "df3.iplot(\"surface\")"
   ]
  },
  {
   "cell_type": "code",
   "execution_count": 67,
   "id": "e7f1bb7a",
   "metadata": {},
   "outputs": [
    {
     "name": "stderr",
     "output_type": "stream",
     "text": [
      "/home/huda/.local/lib/python3.8/site-packages/cufflinks/plotlytools.py:849: FutureWarning:\n",
      "\n",
      "The pandas.np module is deprecated and will be removed from pandas in a future version. Import numpy directly instead.\n",
      "\n",
      "/home/huda/.local/lib/python3.8/site-packages/cufflinks/plotlytools.py:850: FutureWarning:\n",
      "\n",
      "The pandas.np module is deprecated and will be removed from pandas in a future version. Import numpy directly instead.\n",
      "\n"
     ]
    },
    {
     "data": {
      "application/vnd.plotly.v1+json": {
       "config": {
        "linkText": "Export to plot.ly",
        "plotlyServerURL": "https://plot.ly",
        "showLink": true
       },
       "data": [
        {
         "line": {
          "color": "rgba(255, 153, 51, 1.0)",
          "dash": "solid",
          "shape": "linear",
          "width": 1.3
         },
         "mode": "lines",
         "name": "C",
         "text": "",
         "type": "scatter",
         "x": [
          0,
          1,
          2,
          3,
          4,
          5,
          6,
          7,
          8,
          9,
          10,
          11,
          12,
          13,
          14,
          15,
          16,
          17,
          18,
          19,
          20,
          21,
          22,
          23,
          24,
          25,
          26,
          27,
          28,
          29,
          30,
          31,
          32,
          33,
          34,
          35,
          36,
          37,
          38,
          39,
          40,
          41,
          42,
          43,
          44,
          45,
          46,
          47,
          48,
          49,
          50,
          51,
          52,
          53,
          54,
          55,
          56,
          57,
          58,
          59,
          60,
          61,
          62,
          63,
          64,
          65,
          66,
          67,
          68,
          69,
          70,
          71,
          72,
          73,
          74,
          75,
          76,
          77,
          78,
          79,
          80,
          81,
          82,
          83,
          84,
          85,
          86,
          87,
          88,
          89,
          90,
          91,
          92,
          93,
          94,
          95,
          96,
          97,
          98,
          99
         ],
         "y": [
          -0.9111639501444778,
          -0.21308462762989866,
          0.6178500690224831,
          -0.9491608825047444,
          -0.7718195162364357,
          0.24578190485569634,
          -0.11297161514474634,
          0.05257491343649683,
          1.7921592380873255,
          0.022391913581764206,
          -1.8827530796472438,
          -0.5339157642434252,
          -0.5233726427430536,
          -0.3297124192276205,
          -0.021877630236314984,
          -0.40041345704488357,
          0.47916628560228697,
          1.5613708893385065,
          1.1189151260780066,
          -0.8251285480100764,
          -1.443898523211242,
          1.1764741611916676,
          0.26183975626268585,
          -0.25257828944963806,
          1.1326142050056685,
          -1.2946514979500152,
          -1.1605251382923323,
          -1.0611605388452843,
          -1.5917093690006994,
          -0.47638249303850033,
          0.21077012851362467,
          -1.4529783993970429,
          0.08963217544554952,
          0.26964815391518976,
          1.0045000285749042,
          -0.4186933642798534,
          0.34657172219430366,
          -0.24368542150057984,
          0.26789854356827236,
          -0.9184965002857977,
          0.2990592064381899,
          -1.602502896906284,
          0.38753280042224925,
          0.5605532730294414,
          1.037797069991631,
          -2.191130195941812,
          -1.2798828932732627,
          -1.175341557492041,
          -0.06290157773707312,
          -0.46025244134216337,
          0.6517960047363252,
          1.225213880695869,
          -0.044471056102332554,
          -1.2472283852835697,
          0.6113753040244009,
          -2.3093373536934694,
          0.011318723986845788,
          -0.6701173004275855,
          0.11853525749460166,
          -0.08121217707410237,
          -0.09091553442692922,
          -0.3846229748303238,
          0.4712894744606097,
          -1.1068225933524853,
          -0.9748698602211955,
          0.18619409790889427,
          0.5647919679884869,
          -0.39464378644442094,
          2.3928215378791755,
          1.7040736571936441,
          -0.5151391213076665,
          -0.08137003103917313,
          1.2640930238124004,
          -0.07094263042349323,
          -0.4149743949688728,
          -0.9982413151079128,
          0.032905586865713765,
          -0.5335850221643458,
          0.3438496953412661,
          -0.1992338233417873,
          -1.1401816603739796,
          0.25884031292409476,
          0.32323683840794887,
          -0.2664597337932239,
          0.4029405980918615,
          0.5372414723745346,
          1.1770049034294952,
          -0.050365752585326815,
          -0.3426954694018073,
          -0.9312296561679975,
          0.5892684756912165,
          -1.0909878734947331,
          -1.783197085848866,
          0.09822018499037254,
          -0.898541185350123,
          -0.268581700766926,
          1.8343974601897173,
          -0.9703909136015605,
          -0.49621922608057123,
          0.058404937813770146
         ]
        },
        {
         "line": {
          "color": "rgba(55, 128, 191, 1.0)",
          "dash": "solid",
          "shape": "linear",
          "width": 1.3
         },
         "mode": "lines",
         "name": "D",
         "text": "",
         "type": "scatter",
         "x": [
          0,
          1,
          2,
          3,
          4,
          5,
          6,
          7,
          8,
          9,
          10,
          11,
          12,
          13,
          14,
          15,
          16,
          17,
          18,
          19,
          20,
          21,
          22,
          23,
          24,
          25,
          26,
          27,
          28,
          29,
          30,
          31,
          32,
          33,
          34,
          35,
          36,
          37,
          38,
          39,
          40,
          41,
          42,
          43,
          44,
          45,
          46,
          47,
          48,
          49,
          50,
          51,
          52,
          53,
          54,
          55,
          56,
          57,
          58,
          59,
          60,
          61,
          62,
          63,
          64,
          65,
          66,
          67,
          68,
          69,
          70,
          71,
          72,
          73,
          74,
          75,
          76,
          77,
          78,
          79,
          80,
          81,
          82,
          83,
          84,
          85,
          86,
          87,
          88,
          89,
          90,
          91,
          92,
          93,
          94,
          95,
          96,
          97,
          98,
          99
         ],
         "y": [
          0.901625400646958,
          -0.049514969031106415,
          -0.5436316703459625,
          -0.6740816194768533,
          -0.0436335460907179,
          1.312218805289843,
          -1.7788215798946212,
          0.9395934557601892,
          -0.2837863718544718,
          -1.8229775405218895,
          0.0664212955525262,
          1.0026965717886291,
          1.7492203741629795,
          -0.3645746532685288,
          -0.7813815162373545,
          0.3781935450243182,
          -0.5090260728395484,
          0.5188107004889,
          -0.06651783174961994,
          0.22153952684157205,
          -1.866621181584803,
          -0.617241104874736,
          0.26827028925273505,
          1.2509085494452925,
          0.019409775851041207,
          -1.0832155061104165,
          1.0110797935259062,
          -1.8740614748451139,
          -0.6266998441654743,
          -0.04400478399589192,
          0.18937554400294493,
          -1.371302348618277,
          -0.1400635642035595,
          -0.737607274461631,
          -1.7577654442327857,
          0.00878796650331657,
          -0.17379907818277626,
          0.926350887460455,
          -0.0857595086263262,
          0.08772033753918801,
          -0.41181199564907645,
          0.10627044864902223,
          1.7451134698565127,
          0.6023903504471164,
          -1.225712943850586,
          0.02989961530307323,
          0.39345322629876694,
          0.5623321875737589,
          -1.490186418748514,
          1.43103169107788,
          -0.6912091248391053,
          -1.1490171922735388,
          0.4621308697596686,
          -1.694278393910498,
          -1.8249469539132568,
          0.4026888699890036,
          1.4589676140913095,
          0.06360793441385354,
          -0.6274756707793143,
          1.9228987987930435,
          -0.49380093161145294,
          0.7225478415902334,
          -0.15241404498658934,
          -0.5780999074327073,
          -0.48420272952273335,
          0.6177270949721229,
          -1.1810762151079863,
          0.3986044465010986,
          1.654493984752075,
          0.21763998586240077,
          -0.510184604326875,
          -0.12001725979624689,
          -0.1422921410982252,
          0.08885045657532206,
          0.031142341694185213,
          1.4203303335399462,
          -0.016421202475835193,
          -0.30173166478023944,
          -0.1520262096445688,
          -0.5448118784094882,
          -1.197061098819882,
          -0.8063403671715362,
          0.9163453028095149,
          -0.5216803892654508,
          0.23007478398777292,
          0.8901991950988024,
          1.4807017118381032,
          -1.7607411386790102,
          -1.2129477353242093,
          1.6674246071924355,
          1.3984399994740626,
          -0.10158924923118912,
          -0.05966384308772902,
          -0.15128827260123795,
          0.7467288790878025,
          -0.20460751589824278,
          1.4618363436781472,
          0.6498805877950959,
          0.07671615404303134,
          0.31892399689042944
         ]
        },
        {
         "connectgaps": false,
         "fill": "tozeroy",
         "line": {
          "color": "green",
          "dash": "solid",
          "shape": "linear",
          "width": 0.5
         },
         "mode": "lines",
         "name": "Spread",
         "showlegend": false,
         "type": "scatter",
         "x": [
          0,
          1,
          2,
          3,
          4,
          5,
          6,
          7,
          8,
          9,
          10,
          11,
          12,
          13,
          14,
          15,
          16,
          17,
          18,
          19,
          20,
          21,
          22,
          23,
          24,
          25,
          26,
          27,
          28,
          29,
          30,
          31,
          32,
          33,
          34,
          35,
          36,
          37,
          38,
          39,
          40,
          41,
          42,
          43,
          44,
          45,
          46,
          47,
          48,
          49,
          50,
          51,
          52,
          53,
          54,
          55,
          56,
          57,
          58,
          59,
          60,
          61,
          62,
          63,
          64,
          65,
          66,
          67,
          68,
          69,
          70,
          71,
          72,
          73,
          74,
          75,
          76,
          77,
          78,
          79,
          80,
          81,
          82,
          83,
          84,
          85,
          86,
          87,
          88,
          89,
          90,
          91,
          92,
          93,
          94,
          95,
          96,
          97,
          98,
          99
         ],
         "xaxis": "x2",
         "y": [
          "",
          "",
          1.1614817393684456,
          "",
          "",
          "",
          1.6658499647498748,
          "",
          2.0759456099417974,
          1.8453694541036538,
          "",
          "",
          "",
          0.03486223404090827,
          0.7595038860010396,
          "",
          0.9881923584418353,
          1.0425601888496066,
          1.1854329578276266,
          "",
          0.42272265837356104,
          1.7937152660664037,
          "",
          "",
          1.1132044291546273,
          "",
          "",
          0.8129009359998296,
          "",
          "",
          0.021394584510679743,
          "",
          0.22969573964910903,
          1.0072554283768207,
          2.76226547280769,
          "",
          0.52037080037708,
          "",
          0.35365805219459856,
          "",
          0.7108712020872663,
          "",
          "",
          "",
          2.2635100138422173,
          "",
          "",
          "",
          1.427284841011441,
          "",
          1.3430051295754306,
          2.374231072969408,
          "",
          0.44705000862692823,
          2.4363222579376576,
          "",
          "",
          "",
          0.746010928273916,
          "",
          0.4028853971845237,
          "",
          0.623703519447199,
          "",
          "",
          "",
          1.7458681830964733,
          "",
          0.7383275531271005,
          1.4864336713312434,
          "",
          0.03864722875707376,
          1.4063851649106256,
          "",
          "",
          "",
          0.04932678934154896,
          "",
          0.4958759049858349,
          0.3455780550677009,
          0.056879438445902375,
          1.065180680095631,
          "",
          0.2552206554722269,
          0.17286581410408858,
          "",
          "",
          1.7103753860936834,
          0.870252265922402,
          "",
          "",
          "",
          "",
          0.2495084575916105,
          "",
          "",
          0.3725611165115701,
          "",
          "",
          ""
         ],
         "yaxis": "y2"
        },
        {
         "connectgaps": false,
         "fill": "tozeroy",
         "line": {
          "color": "red",
          "dash": "solid",
          "shape": "linear",
          "width": 0.5
         },
         "mode": "lines",
         "name": "Spread",
         "showlegend": false,
         "type": "scatter",
         "x": [
          0,
          1,
          2,
          3,
          4,
          5,
          6,
          7,
          8,
          9,
          10,
          11,
          12,
          13,
          14,
          15,
          16,
          17,
          18,
          19,
          20,
          21,
          22,
          23,
          24,
          25,
          26,
          27,
          28,
          29,
          30,
          31,
          32,
          33,
          34,
          35,
          36,
          37,
          38,
          39,
          40,
          41,
          42,
          43,
          44,
          45,
          46,
          47,
          48,
          49,
          50,
          51,
          52,
          53,
          54,
          55,
          56,
          57,
          58,
          59,
          60,
          61,
          62,
          63,
          64,
          65,
          66,
          67,
          68,
          69,
          70,
          71,
          72,
          73,
          74,
          75,
          76,
          77,
          78,
          79,
          80,
          81,
          82,
          83,
          84,
          85,
          86,
          87,
          88,
          89,
          90,
          91,
          92,
          93,
          94,
          95,
          96,
          97,
          98,
          99
         ],
         "xaxis": "x2",
         "y": [
          -1.8127893507914359,
          -0.16356965859879224,
          "",
          -0.2750792630278911,
          -0.7281859701457178,
          -1.0664369004341465,
          "",
          -0.8870185423236924,
          "",
          "",
          -1.94917437519977,
          -1.5366123360320545,
          -2.272593016906033,
          "",
          "",
          -0.7786070020692017,
          "",
          "",
          "",
          -1.0466680748516484,
          "",
          "",
          -0.006430532990049198,
          -1.5034868388949305,
          "",
          -0.2114359918395987,
          -2.1716049318182384,
          "",
          -0.9650095248352251,
          -0.4323777090426084,
          "",
          -0.08167605077876594,
          "",
          "",
          "",
          -0.42748133078316997,
          "",
          -1.1700363089610348,
          "",
          -1.0062168378249856,
          "",
          -1.7087733455553062,
          -1.3575806694342636,
          -0.04183707741767506,
          "",
          -2.221029811244885,
          -1.6733361195720295,
          -1.7376737450657997,
          "",
          -1.8912841324200433,
          "",
          "",
          -0.5066019258620011,
          "",
          "",
          -2.712026223682473,
          -1.4476488901044637,
          -0.7337252348414391,
          "",
          -2.004110975867146,
          "",
          -1.1071708164205574,
          "",
          -0.528722685919778,
          -0.49066713069846213,
          -0.43153299706322856,
          "",
          -0.7932482329455195,
          "",
          "",
          -0.0049545169807915235,
          "",
          "",
          -0.15979308699881528,
          -0.446116736663058,
          -2.418571648647859,
          "",
          -0.23185335738410634,
          "",
          "",
          "",
          "",
          -0.5931084644015661,
          "",
          "",
          -0.35295772272426784,
          -0.303696808408608,
          "",
          "",
          -2.598654263360433,
          -0.8091715237828461,
          -0.989398624263544,
          -1.723533242761137,
          "",
          -1.6452700644379255,
          -0.06397418486868323,
          "",
          -1.6202715013966564,
          -0.5729353801236026,
          -0.2605190590766593
         ],
         "yaxis": "y2"
        }
       ],
       "layout": {
        "hovermode": "x",
        "legend": {
         "bgcolor": "#F5F6F9",
         "font": {
          "color": "#4D5663"
         }
        },
        "paper_bgcolor": "#F5F6F9",
        "plot_bgcolor": "#F5F6F9",
        "template": {
         "data": {
          "bar": [
           {
            "error_x": {
             "color": "#2a3f5f"
            },
            "error_y": {
             "color": "#2a3f5f"
            },
            "marker": {
             "line": {
              "color": "#E5ECF6",
              "width": 0.5
             },
             "pattern": {
              "fillmode": "overlay",
              "size": 10,
              "solidity": 0.2
             }
            },
            "type": "bar"
           }
          ],
          "barpolar": [
           {
            "marker": {
             "line": {
              "color": "#E5ECF6",
              "width": 0.5
             },
             "pattern": {
              "fillmode": "overlay",
              "size": 10,
              "solidity": 0.2
             }
            },
            "type": "barpolar"
           }
          ],
          "carpet": [
           {
            "aaxis": {
             "endlinecolor": "#2a3f5f",
             "gridcolor": "white",
             "linecolor": "white",
             "minorgridcolor": "white",
             "startlinecolor": "#2a3f5f"
            },
            "baxis": {
             "endlinecolor": "#2a3f5f",
             "gridcolor": "white",
             "linecolor": "white",
             "minorgridcolor": "white",
             "startlinecolor": "#2a3f5f"
            },
            "type": "carpet"
           }
          ],
          "choropleth": [
           {
            "colorbar": {
             "outlinewidth": 0,
             "ticks": ""
            },
            "type": "choropleth"
           }
          ],
          "contour": [
           {
            "colorbar": {
             "outlinewidth": 0,
             "ticks": ""
            },
            "colorscale": [
             [
              0,
              "#0d0887"
             ],
             [
              0.1111111111111111,
              "#46039f"
             ],
             [
              0.2222222222222222,
              "#7201a8"
             ],
             [
              0.3333333333333333,
              "#9c179e"
             ],
             [
              0.4444444444444444,
              "#bd3786"
             ],
             [
              0.5555555555555556,
              "#d8576b"
             ],
             [
              0.6666666666666666,
              "#ed7953"
             ],
             [
              0.7777777777777778,
              "#fb9f3a"
             ],
             [
              0.8888888888888888,
              "#fdca26"
             ],
             [
              1,
              "#f0f921"
             ]
            ],
            "type": "contour"
           }
          ],
          "contourcarpet": [
           {
            "colorbar": {
             "outlinewidth": 0,
             "ticks": ""
            },
            "type": "contourcarpet"
           }
          ],
          "heatmap": [
           {
            "colorbar": {
             "outlinewidth": 0,
             "ticks": ""
            },
            "colorscale": [
             [
              0,
              "#0d0887"
             ],
             [
              0.1111111111111111,
              "#46039f"
             ],
             [
              0.2222222222222222,
              "#7201a8"
             ],
             [
              0.3333333333333333,
              "#9c179e"
             ],
             [
              0.4444444444444444,
              "#bd3786"
             ],
             [
              0.5555555555555556,
              "#d8576b"
             ],
             [
              0.6666666666666666,
              "#ed7953"
             ],
             [
              0.7777777777777778,
              "#fb9f3a"
             ],
             [
              0.8888888888888888,
              "#fdca26"
             ],
             [
              1,
              "#f0f921"
             ]
            ],
            "type": "heatmap"
           }
          ],
          "heatmapgl": [
           {
            "colorbar": {
             "outlinewidth": 0,
             "ticks": ""
            },
            "colorscale": [
             [
              0,
              "#0d0887"
             ],
             [
              0.1111111111111111,
              "#46039f"
             ],
             [
              0.2222222222222222,
              "#7201a8"
             ],
             [
              0.3333333333333333,
              "#9c179e"
             ],
             [
              0.4444444444444444,
              "#bd3786"
             ],
             [
              0.5555555555555556,
              "#d8576b"
             ],
             [
              0.6666666666666666,
              "#ed7953"
             ],
             [
              0.7777777777777778,
              "#fb9f3a"
             ],
             [
              0.8888888888888888,
              "#fdca26"
             ],
             [
              1,
              "#f0f921"
             ]
            ],
            "type": "heatmapgl"
           }
          ],
          "histogram": [
           {
            "marker": {
             "pattern": {
              "fillmode": "overlay",
              "size": 10,
              "solidity": 0.2
             }
            },
            "type": "histogram"
           }
          ],
          "histogram2d": [
           {
            "colorbar": {
             "outlinewidth": 0,
             "ticks": ""
            },
            "colorscale": [
             [
              0,
              "#0d0887"
             ],
             [
              0.1111111111111111,
              "#46039f"
             ],
             [
              0.2222222222222222,
              "#7201a8"
             ],
             [
              0.3333333333333333,
              "#9c179e"
             ],
             [
              0.4444444444444444,
              "#bd3786"
             ],
             [
              0.5555555555555556,
              "#d8576b"
             ],
             [
              0.6666666666666666,
              "#ed7953"
             ],
             [
              0.7777777777777778,
              "#fb9f3a"
             ],
             [
              0.8888888888888888,
              "#fdca26"
             ],
             [
              1,
              "#f0f921"
             ]
            ],
            "type": "histogram2d"
           }
          ],
          "histogram2dcontour": [
           {
            "colorbar": {
             "outlinewidth": 0,
             "ticks": ""
            },
            "colorscale": [
             [
              0,
              "#0d0887"
             ],
             [
              0.1111111111111111,
              "#46039f"
             ],
             [
              0.2222222222222222,
              "#7201a8"
             ],
             [
              0.3333333333333333,
              "#9c179e"
             ],
             [
              0.4444444444444444,
              "#bd3786"
             ],
             [
              0.5555555555555556,
              "#d8576b"
             ],
             [
              0.6666666666666666,
              "#ed7953"
             ],
             [
              0.7777777777777778,
              "#fb9f3a"
             ],
             [
              0.8888888888888888,
              "#fdca26"
             ],
             [
              1,
              "#f0f921"
             ]
            ],
            "type": "histogram2dcontour"
           }
          ],
          "mesh3d": [
           {
            "colorbar": {
             "outlinewidth": 0,
             "ticks": ""
            },
            "type": "mesh3d"
           }
          ],
          "parcoords": [
           {
            "line": {
             "colorbar": {
              "outlinewidth": 0,
              "ticks": ""
             }
            },
            "type": "parcoords"
           }
          ],
          "pie": [
           {
            "automargin": true,
            "type": "pie"
           }
          ],
          "scatter": [
           {
            "marker": {
             "colorbar": {
              "outlinewidth": 0,
              "ticks": ""
             }
            },
            "type": "scatter"
           }
          ],
          "scatter3d": [
           {
            "line": {
             "colorbar": {
              "outlinewidth": 0,
              "ticks": ""
             }
            },
            "marker": {
             "colorbar": {
              "outlinewidth": 0,
              "ticks": ""
             }
            },
            "type": "scatter3d"
           }
          ],
          "scattercarpet": [
           {
            "marker": {
             "colorbar": {
              "outlinewidth": 0,
              "ticks": ""
             }
            },
            "type": "scattercarpet"
           }
          ],
          "scattergeo": [
           {
            "marker": {
             "colorbar": {
              "outlinewidth": 0,
              "ticks": ""
             }
            },
            "type": "scattergeo"
           }
          ],
          "scattergl": [
           {
            "marker": {
             "colorbar": {
              "outlinewidth": 0,
              "ticks": ""
             }
            },
            "type": "scattergl"
           }
          ],
          "scattermapbox": [
           {
            "marker": {
             "colorbar": {
              "outlinewidth": 0,
              "ticks": ""
             }
            },
            "type": "scattermapbox"
           }
          ],
          "scatterpolar": [
           {
            "marker": {
             "colorbar": {
              "outlinewidth": 0,
              "ticks": ""
             }
            },
            "type": "scatterpolar"
           }
          ],
          "scatterpolargl": [
           {
            "marker": {
             "colorbar": {
              "outlinewidth": 0,
              "ticks": ""
             }
            },
            "type": "scatterpolargl"
           }
          ],
          "scatterternary": [
           {
            "marker": {
             "colorbar": {
              "outlinewidth": 0,
              "ticks": ""
             }
            },
            "type": "scatterternary"
           }
          ],
          "surface": [
           {
            "colorbar": {
             "outlinewidth": 0,
             "ticks": ""
            },
            "colorscale": [
             [
              0,
              "#0d0887"
             ],
             [
              0.1111111111111111,
              "#46039f"
             ],
             [
              0.2222222222222222,
              "#7201a8"
             ],
             [
              0.3333333333333333,
              "#9c179e"
             ],
             [
              0.4444444444444444,
              "#bd3786"
             ],
             [
              0.5555555555555556,
              "#d8576b"
             ],
             [
              0.6666666666666666,
              "#ed7953"
             ],
             [
              0.7777777777777778,
              "#fb9f3a"
             ],
             [
              0.8888888888888888,
              "#fdca26"
             ],
             [
              1,
              "#f0f921"
             ]
            ],
            "type": "surface"
           }
          ],
          "table": [
           {
            "cells": {
             "fill": {
              "color": "#EBF0F8"
             },
             "line": {
              "color": "white"
             }
            },
            "header": {
             "fill": {
              "color": "#C8D4E3"
             },
             "line": {
              "color": "white"
             }
            },
            "type": "table"
           }
          ]
         },
         "layout": {
          "annotationdefaults": {
           "arrowcolor": "#2a3f5f",
           "arrowhead": 0,
           "arrowwidth": 1
          },
          "autotypenumbers": "strict",
          "coloraxis": {
           "colorbar": {
            "outlinewidth": 0,
            "ticks": ""
           }
          },
          "colorscale": {
           "diverging": [
            [
             0,
             "#8e0152"
            ],
            [
             0.1,
             "#c51b7d"
            ],
            [
             0.2,
             "#de77ae"
            ],
            [
             0.3,
             "#f1b6da"
            ],
            [
             0.4,
             "#fde0ef"
            ],
            [
             0.5,
             "#f7f7f7"
            ],
            [
             0.6,
             "#e6f5d0"
            ],
            [
             0.7,
             "#b8e186"
            ],
            [
             0.8,
             "#7fbc41"
            ],
            [
             0.9,
             "#4d9221"
            ],
            [
             1,
             "#276419"
            ]
           ],
           "sequential": [
            [
             0,
             "#0d0887"
            ],
            [
             0.1111111111111111,
             "#46039f"
            ],
            [
             0.2222222222222222,
             "#7201a8"
            ],
            [
             0.3333333333333333,
             "#9c179e"
            ],
            [
             0.4444444444444444,
             "#bd3786"
            ],
            [
             0.5555555555555556,
             "#d8576b"
            ],
            [
             0.6666666666666666,
             "#ed7953"
            ],
            [
             0.7777777777777778,
             "#fb9f3a"
            ],
            [
             0.8888888888888888,
             "#fdca26"
            ],
            [
             1,
             "#f0f921"
            ]
           ],
           "sequentialminus": [
            [
             0,
             "#0d0887"
            ],
            [
             0.1111111111111111,
             "#46039f"
            ],
            [
             0.2222222222222222,
             "#7201a8"
            ],
            [
             0.3333333333333333,
             "#9c179e"
            ],
            [
             0.4444444444444444,
             "#bd3786"
            ],
            [
             0.5555555555555556,
             "#d8576b"
            ],
            [
             0.6666666666666666,
             "#ed7953"
            ],
            [
             0.7777777777777778,
             "#fb9f3a"
            ],
            [
             0.8888888888888888,
             "#fdca26"
            ],
            [
             1,
             "#f0f921"
            ]
           ]
          },
          "colorway": [
           "#636efa",
           "#EF553B",
           "#00cc96",
           "#ab63fa",
           "#FFA15A",
           "#19d3f3",
           "#FF6692",
           "#B6E880",
           "#FF97FF",
           "#FECB52"
          ],
          "font": {
           "color": "#2a3f5f"
          },
          "geo": {
           "bgcolor": "white",
           "lakecolor": "white",
           "landcolor": "#E5ECF6",
           "showlakes": true,
           "showland": true,
           "subunitcolor": "white"
          },
          "hoverlabel": {
           "align": "left"
          },
          "hovermode": "closest",
          "mapbox": {
           "style": "light"
          },
          "paper_bgcolor": "white",
          "plot_bgcolor": "#E5ECF6",
          "polar": {
           "angularaxis": {
            "gridcolor": "white",
            "linecolor": "white",
            "ticks": ""
           },
           "bgcolor": "#E5ECF6",
           "radialaxis": {
            "gridcolor": "white",
            "linecolor": "white",
            "ticks": ""
           }
          },
          "scene": {
           "xaxis": {
            "backgroundcolor": "#E5ECF6",
            "gridcolor": "white",
            "gridwidth": 2,
            "linecolor": "white",
            "showbackground": true,
            "ticks": "",
            "zerolinecolor": "white"
           },
           "yaxis": {
            "backgroundcolor": "#E5ECF6",
            "gridcolor": "white",
            "gridwidth": 2,
            "linecolor": "white",
            "showbackground": true,
            "ticks": "",
            "zerolinecolor": "white"
           },
           "zaxis": {
            "backgroundcolor": "#E5ECF6",
            "gridcolor": "white",
            "gridwidth": 2,
            "linecolor": "white",
            "showbackground": true,
            "ticks": "",
            "zerolinecolor": "white"
           }
          },
          "shapedefaults": {
           "line": {
            "color": "#2a3f5f"
           }
          },
          "ternary": {
           "aaxis": {
            "gridcolor": "white",
            "linecolor": "white",
            "ticks": ""
           },
           "baxis": {
            "gridcolor": "white",
            "linecolor": "white",
            "ticks": ""
           },
           "bgcolor": "#E5ECF6",
           "caxis": {
            "gridcolor": "white",
            "linecolor": "white",
            "ticks": ""
           }
          },
          "title": {
           "x": 0.05
          },
          "xaxis": {
           "automargin": true,
           "gridcolor": "white",
           "linecolor": "white",
           "ticks": "",
           "title": {
            "standoff": 15
           },
           "zerolinecolor": "white",
           "zerolinewidth": 2
          },
          "yaxis": {
           "automargin": true,
           "gridcolor": "white",
           "linecolor": "white",
           "ticks": "",
           "title": {
            "standoff": 15
           },
           "zerolinecolor": "white",
           "zerolinewidth": 2
          }
         }
        },
        "title": {
         "font": {
          "color": "#4D5663"
         }
        },
        "xaxis": {
         "gridcolor": "#E1E5ED",
         "showgrid": true,
         "tickfont": {
          "color": "#4D5663"
         },
         "title": {
          "font": {
           "color": "#4D5663"
          },
          "text": ""
         },
         "zerolinecolor": "#E1E5ED"
        },
        "xaxis2": {
         "anchor": "y2",
         "gridcolor": "#E1E5ED",
         "showgrid": true,
         "showticklabels": false,
         "tickfont": {
          "color": "#4D5663"
         },
         "title": {
          "font": {
           "color": "#4D5663"
          },
          "text": ""
         },
         "zerolinecolor": "#E1E5ED"
        },
        "yaxis": {
         "domain": [
          0.3,
          1
         ],
         "gridcolor": "#E1E5ED",
         "showgrid": true,
         "tickfont": {
          "color": "#4D5663"
         },
         "title": {
          "font": {
           "color": "#4D5663"
          },
          "text": ""
         },
         "zerolinecolor": "#E1E5ED"
        },
        "yaxis2": {
         "domain": [
          0,
          0.25
         ],
         "gridcolor": "#E1E5ED",
         "showgrid": true,
         "tickfont": {
          "color": "#4D5663"
         },
         "title": {
          "font": {
           "color": "#4D5663"
          },
          "text": "Spread"
         },
         "zerolinecolor": "#E1E5ED"
        }
       }
      },
      "text/html": [
       "<div>                            <div id=\"e2481abc-a507-41bc-8450-f2139a53c9bc\" class=\"plotly-graph-div\" style=\"height:525px; width:100%;\"></div>            <script type=\"text/javascript\">                require([\"plotly\"], function(Plotly) {                    window.PLOTLYENV=window.PLOTLYENV || {};\n",
       "                    window.PLOTLYENV.BASE_URL='https://plot.ly';                                    if (document.getElementById(\"e2481abc-a507-41bc-8450-f2139a53c9bc\")) {                    Plotly.newPlot(                        \"e2481abc-a507-41bc-8450-f2139a53c9bc\",                        [{\"line\":{\"color\":\"rgba(255, 153, 51, 1.0)\",\"dash\":\"solid\",\"shape\":\"linear\",\"width\":1.3},\"mode\":\"lines\",\"name\":\"C\",\"text\":\"\",\"x\":[0,1,2,3,4,5,6,7,8,9,10,11,12,13,14,15,16,17,18,19,20,21,22,23,24,25,26,27,28,29,30,31,32,33,34,35,36,37,38,39,40,41,42,43,44,45,46,47,48,49,50,51,52,53,54,55,56,57,58,59,60,61,62,63,64,65,66,67,68,69,70,71,72,73,74,75,76,77,78,79,80,81,82,83,84,85,86,87,88,89,90,91,92,93,94,95,96,97,98,99],\"y\":[-0.9111639501444778,-0.21308462762989866,0.6178500690224831,-0.9491608825047444,-0.7718195162364357,0.24578190485569634,-0.11297161514474634,0.05257491343649683,1.7921592380873255,0.022391913581764206,-1.8827530796472438,-0.5339157642434252,-0.5233726427430536,-0.3297124192276205,-0.021877630236314984,-0.40041345704488357,0.47916628560228697,1.5613708893385065,1.1189151260780066,-0.8251285480100764,-1.443898523211242,1.1764741611916676,0.26183975626268585,-0.25257828944963806,1.1326142050056685,-1.2946514979500152,-1.1605251382923323,-1.0611605388452843,-1.5917093690006994,-0.47638249303850033,0.21077012851362467,-1.4529783993970429,0.08963217544554952,0.26964815391518976,1.0045000285749042,-0.4186933642798534,0.34657172219430366,-0.24368542150057984,0.26789854356827236,-0.9184965002857977,0.2990592064381899,-1.602502896906284,0.38753280042224925,0.5605532730294414,1.037797069991631,-2.191130195941812,-1.2798828932732627,-1.175341557492041,-0.06290157773707312,-0.46025244134216337,0.6517960047363252,1.225213880695869,-0.044471056102332554,-1.2472283852835697,0.6113753040244009,-2.3093373536934694,0.011318723986845788,-0.6701173004275855,0.11853525749460166,-0.08121217707410237,-0.09091553442692922,-0.3846229748303238,0.4712894744606097,-1.1068225933524853,-0.9748698602211955,0.18619409790889427,0.5647919679884869,-0.39464378644442094,2.3928215378791755,1.7040736571936441,-0.5151391213076665,-0.08137003103917313,1.2640930238124004,-0.07094263042349323,-0.4149743949688728,-0.9982413151079128,0.032905586865713765,-0.5335850221643458,0.3438496953412661,-0.1992338233417873,-1.1401816603739796,0.25884031292409476,0.32323683840794887,-0.2664597337932239,0.4029405980918615,0.5372414723745346,1.1770049034294952,-0.050365752585326815,-0.3426954694018073,-0.9312296561679975,0.5892684756912165,-1.0909878734947331,-1.783197085848866,0.09822018499037254,-0.898541185350123,-0.268581700766926,1.8343974601897173,-0.9703909136015605,-0.49621922608057123,0.058404937813770146],\"type\":\"scatter\"},{\"line\":{\"color\":\"rgba(55, 128, 191, 1.0)\",\"dash\":\"solid\",\"shape\":\"linear\",\"width\":1.3},\"mode\":\"lines\",\"name\":\"D\",\"text\":\"\",\"x\":[0,1,2,3,4,5,6,7,8,9,10,11,12,13,14,15,16,17,18,19,20,21,22,23,24,25,26,27,28,29,30,31,32,33,34,35,36,37,38,39,40,41,42,43,44,45,46,47,48,49,50,51,52,53,54,55,56,57,58,59,60,61,62,63,64,65,66,67,68,69,70,71,72,73,74,75,76,77,78,79,80,81,82,83,84,85,86,87,88,89,90,91,92,93,94,95,96,97,98,99],\"y\":[0.901625400646958,-0.049514969031106415,-0.5436316703459625,-0.6740816194768533,-0.0436335460907179,1.312218805289843,-1.7788215798946212,0.9395934557601892,-0.2837863718544718,-1.8229775405218895,0.0664212955525262,1.0026965717886291,1.7492203741629795,-0.3645746532685288,-0.7813815162373545,0.3781935450243182,-0.5090260728395484,0.5188107004889,-0.06651783174961994,0.22153952684157205,-1.866621181584803,-0.617241104874736,0.26827028925273505,1.2509085494452925,0.019409775851041207,-1.0832155061104165,1.0110797935259062,-1.8740614748451139,-0.6266998441654743,-0.04400478399589192,0.18937554400294493,-1.371302348618277,-0.1400635642035595,-0.737607274461631,-1.7577654442327857,0.00878796650331657,-0.17379907818277626,0.926350887460455,-0.0857595086263262,0.08772033753918801,-0.41181199564907645,0.10627044864902223,1.7451134698565127,0.6023903504471164,-1.225712943850586,0.02989961530307323,0.39345322629876694,0.5623321875737589,-1.490186418748514,1.43103169107788,-0.6912091248391053,-1.1490171922735388,0.4621308697596686,-1.694278393910498,-1.8249469539132568,0.4026888699890036,1.4589676140913095,0.06360793441385354,-0.6274756707793143,1.9228987987930435,-0.49380093161145294,0.7225478415902334,-0.15241404498658934,-0.5780999074327073,-0.48420272952273335,0.6177270949721229,-1.1810762151079863,0.3986044465010986,1.654493984752075,0.21763998586240077,-0.510184604326875,-0.12001725979624689,-0.1422921410982252,0.08885045657532206,0.031142341694185213,1.4203303335399462,-0.016421202475835193,-0.30173166478023944,-0.1520262096445688,-0.5448118784094882,-1.197061098819882,-0.8063403671715362,0.9163453028095149,-0.5216803892654508,0.23007478398777292,0.8901991950988024,1.4807017118381032,-1.7607411386790102,-1.2129477353242093,1.6674246071924355,1.3984399994740626,-0.10158924923118912,-0.05966384308772902,-0.15128827260123795,0.7467288790878025,-0.20460751589824278,1.4618363436781472,0.6498805877950959,0.07671615404303134,0.31892399689042944],\"type\":\"scatter\"},{\"connectgaps\":false,\"fill\":\"tozeroy\",\"line\":{\"color\":\"green\",\"dash\":\"solid\",\"shape\":\"linear\",\"width\":0.5},\"mode\":\"lines\",\"name\":\"Spread\",\"showlegend\":false,\"x\":[0,1,2,3,4,5,6,7,8,9,10,11,12,13,14,15,16,17,18,19,20,21,22,23,24,25,26,27,28,29,30,31,32,33,34,35,36,37,38,39,40,41,42,43,44,45,46,47,48,49,50,51,52,53,54,55,56,57,58,59,60,61,62,63,64,65,66,67,68,69,70,71,72,73,74,75,76,77,78,79,80,81,82,83,84,85,86,87,88,89,90,91,92,93,94,95,96,97,98,99],\"xaxis\":\"x2\",\"y\":[\"\",\"\",1.1614817393684456,\"\",\"\",\"\",1.6658499647498748,\"\",2.0759456099417974,1.8453694541036538,\"\",\"\",\"\",0.03486223404090827,0.7595038860010396,\"\",0.9881923584418353,1.0425601888496066,1.1854329578276266,\"\",0.42272265837356104,1.7937152660664037,\"\",\"\",1.1132044291546273,\"\",\"\",0.8129009359998296,\"\",\"\",0.021394584510679743,\"\",0.22969573964910903,1.0072554283768207,2.76226547280769,\"\",0.52037080037708,\"\",0.35365805219459856,\"\",0.7108712020872663,\"\",\"\",\"\",2.2635100138422173,\"\",\"\",\"\",1.427284841011441,\"\",1.3430051295754306,2.374231072969408,\"\",0.44705000862692823,2.4363222579376576,\"\",\"\",\"\",0.746010928273916,\"\",0.4028853971845237,\"\",0.623703519447199,\"\",\"\",\"\",1.7458681830964733,\"\",0.7383275531271005,1.4864336713312434,\"\",0.03864722875707376,1.4063851649106256,\"\",\"\",\"\",0.04932678934154896,\"\",0.4958759049858349,0.3455780550677009,0.056879438445902375,1.065180680095631,\"\",0.2552206554722269,0.17286581410408858,\"\",\"\",1.7103753860936834,0.870252265922402,\"\",\"\",\"\",\"\",0.2495084575916105,\"\",\"\",0.3725611165115701,\"\",\"\",\"\"],\"yaxis\":\"y2\",\"type\":\"scatter\"},{\"connectgaps\":false,\"fill\":\"tozeroy\",\"line\":{\"color\":\"red\",\"dash\":\"solid\",\"shape\":\"linear\",\"width\":0.5},\"mode\":\"lines\",\"name\":\"Spread\",\"showlegend\":false,\"x\":[0,1,2,3,4,5,6,7,8,9,10,11,12,13,14,15,16,17,18,19,20,21,22,23,24,25,26,27,28,29,30,31,32,33,34,35,36,37,38,39,40,41,42,43,44,45,46,47,48,49,50,51,52,53,54,55,56,57,58,59,60,61,62,63,64,65,66,67,68,69,70,71,72,73,74,75,76,77,78,79,80,81,82,83,84,85,86,87,88,89,90,91,92,93,94,95,96,97,98,99],\"xaxis\":\"x2\",\"y\":[-1.8127893507914359,-0.16356965859879224,\"\",-0.2750792630278911,-0.7281859701457178,-1.0664369004341465,\"\",-0.8870185423236924,\"\",\"\",-1.94917437519977,-1.5366123360320545,-2.272593016906033,\"\",\"\",-0.7786070020692017,\"\",\"\",\"\",-1.0466680748516484,\"\",\"\",-0.006430532990049198,-1.5034868388949305,\"\",-0.2114359918395987,-2.1716049318182384,\"\",-0.9650095248352251,-0.4323777090426084,\"\",-0.08167605077876594,\"\",\"\",\"\",-0.42748133078316997,\"\",-1.1700363089610348,\"\",-1.0062168378249856,\"\",-1.7087733455553062,-1.3575806694342636,-0.04183707741767506,\"\",-2.221029811244885,-1.6733361195720295,-1.7376737450657997,\"\",-1.8912841324200433,\"\",\"\",-0.5066019258620011,\"\",\"\",-2.712026223682473,-1.4476488901044637,-0.7337252348414391,\"\",-2.004110975867146,\"\",-1.1071708164205574,\"\",-0.528722685919778,-0.49066713069846213,-0.43153299706322856,\"\",-0.7932482329455195,\"\",\"\",-0.0049545169807915235,\"\",\"\",-0.15979308699881528,-0.446116736663058,-2.418571648647859,\"\",-0.23185335738410634,\"\",\"\",\"\",\"\",-0.5931084644015661,\"\",\"\",-0.35295772272426784,-0.303696808408608,\"\",\"\",-2.598654263360433,-0.8091715237828461,-0.989398624263544,-1.723533242761137,\"\",-1.6452700644379255,-0.06397418486868323,\"\",-1.6202715013966564,-0.5729353801236026,-0.2605190590766593],\"yaxis\":\"y2\",\"type\":\"scatter\"}],                        {\"hovermode\":\"x\",\"legend\":{\"bgcolor\":\"#F5F6F9\",\"font\":{\"color\":\"#4D5663\"}},\"paper_bgcolor\":\"#F5F6F9\",\"plot_bgcolor\":\"#F5F6F9\",\"template\":{\"data\":{\"barpolar\":[{\"marker\":{\"line\":{\"color\":\"#E5ECF6\",\"width\":0.5},\"pattern\":{\"fillmode\":\"overlay\",\"size\":10,\"solidity\":0.2}},\"type\":\"barpolar\"}],\"bar\":[{\"error_x\":{\"color\":\"#2a3f5f\"},\"error_y\":{\"color\":\"#2a3f5f\"},\"marker\":{\"line\":{\"color\":\"#E5ECF6\",\"width\":0.5},\"pattern\":{\"fillmode\":\"overlay\",\"size\":10,\"solidity\":0.2}},\"type\":\"bar\"}],\"carpet\":[{\"aaxis\":{\"endlinecolor\":\"#2a3f5f\",\"gridcolor\":\"white\",\"linecolor\":\"white\",\"minorgridcolor\":\"white\",\"startlinecolor\":\"#2a3f5f\"},\"baxis\":{\"endlinecolor\":\"#2a3f5f\",\"gridcolor\":\"white\",\"linecolor\":\"white\",\"minorgridcolor\":\"white\",\"startlinecolor\":\"#2a3f5f\"},\"type\":\"carpet\"}],\"choropleth\":[{\"colorbar\":{\"outlinewidth\":0,\"ticks\":\"\"},\"type\":\"choropleth\"}],\"contourcarpet\":[{\"colorbar\":{\"outlinewidth\":0,\"ticks\":\"\"},\"type\":\"contourcarpet\"}],\"contour\":[{\"colorbar\":{\"outlinewidth\":0,\"ticks\":\"\"},\"colorscale\":[[0.0,\"#0d0887\"],[0.1111111111111111,\"#46039f\"],[0.2222222222222222,\"#7201a8\"],[0.3333333333333333,\"#9c179e\"],[0.4444444444444444,\"#bd3786\"],[0.5555555555555556,\"#d8576b\"],[0.6666666666666666,\"#ed7953\"],[0.7777777777777778,\"#fb9f3a\"],[0.8888888888888888,\"#fdca26\"],[1.0,\"#f0f921\"]],\"type\":\"contour\"}],\"heatmapgl\":[{\"colorbar\":{\"outlinewidth\":0,\"ticks\":\"\"},\"colorscale\":[[0.0,\"#0d0887\"],[0.1111111111111111,\"#46039f\"],[0.2222222222222222,\"#7201a8\"],[0.3333333333333333,\"#9c179e\"],[0.4444444444444444,\"#bd3786\"],[0.5555555555555556,\"#d8576b\"],[0.6666666666666666,\"#ed7953\"],[0.7777777777777778,\"#fb9f3a\"],[0.8888888888888888,\"#fdca26\"],[1.0,\"#f0f921\"]],\"type\":\"heatmapgl\"}],\"heatmap\":[{\"colorbar\":{\"outlinewidth\":0,\"ticks\":\"\"},\"colorscale\":[[0.0,\"#0d0887\"],[0.1111111111111111,\"#46039f\"],[0.2222222222222222,\"#7201a8\"],[0.3333333333333333,\"#9c179e\"],[0.4444444444444444,\"#bd3786\"],[0.5555555555555556,\"#d8576b\"],[0.6666666666666666,\"#ed7953\"],[0.7777777777777778,\"#fb9f3a\"],[0.8888888888888888,\"#fdca26\"],[1.0,\"#f0f921\"]],\"type\":\"heatmap\"}],\"histogram2dcontour\":[{\"colorbar\":{\"outlinewidth\":0,\"ticks\":\"\"},\"colorscale\":[[0.0,\"#0d0887\"],[0.1111111111111111,\"#46039f\"],[0.2222222222222222,\"#7201a8\"],[0.3333333333333333,\"#9c179e\"],[0.4444444444444444,\"#bd3786\"],[0.5555555555555556,\"#d8576b\"],[0.6666666666666666,\"#ed7953\"],[0.7777777777777778,\"#fb9f3a\"],[0.8888888888888888,\"#fdca26\"],[1.0,\"#f0f921\"]],\"type\":\"histogram2dcontour\"}],\"histogram2d\":[{\"colorbar\":{\"outlinewidth\":0,\"ticks\":\"\"},\"colorscale\":[[0.0,\"#0d0887\"],[0.1111111111111111,\"#46039f\"],[0.2222222222222222,\"#7201a8\"],[0.3333333333333333,\"#9c179e\"],[0.4444444444444444,\"#bd3786\"],[0.5555555555555556,\"#d8576b\"],[0.6666666666666666,\"#ed7953\"],[0.7777777777777778,\"#fb9f3a\"],[0.8888888888888888,\"#fdca26\"],[1.0,\"#f0f921\"]],\"type\":\"histogram2d\"}],\"histogram\":[{\"marker\":{\"pattern\":{\"fillmode\":\"overlay\",\"size\":10,\"solidity\":0.2}},\"type\":\"histogram\"}],\"mesh3d\":[{\"colorbar\":{\"outlinewidth\":0,\"ticks\":\"\"},\"type\":\"mesh3d\"}],\"parcoords\":[{\"line\":{\"colorbar\":{\"outlinewidth\":0,\"ticks\":\"\"}},\"type\":\"parcoords\"}],\"pie\":[{\"automargin\":true,\"type\":\"pie\"}],\"scatter3d\":[{\"line\":{\"colorbar\":{\"outlinewidth\":0,\"ticks\":\"\"}},\"marker\":{\"colorbar\":{\"outlinewidth\":0,\"ticks\":\"\"}},\"type\":\"scatter3d\"}],\"scattercarpet\":[{\"marker\":{\"colorbar\":{\"outlinewidth\":0,\"ticks\":\"\"}},\"type\":\"scattercarpet\"}],\"scattergeo\":[{\"marker\":{\"colorbar\":{\"outlinewidth\":0,\"ticks\":\"\"}},\"type\":\"scattergeo\"}],\"scattergl\":[{\"marker\":{\"colorbar\":{\"outlinewidth\":0,\"ticks\":\"\"}},\"type\":\"scattergl\"}],\"scattermapbox\":[{\"marker\":{\"colorbar\":{\"outlinewidth\":0,\"ticks\":\"\"}},\"type\":\"scattermapbox\"}],\"scatterpolargl\":[{\"marker\":{\"colorbar\":{\"outlinewidth\":0,\"ticks\":\"\"}},\"type\":\"scatterpolargl\"}],\"scatterpolar\":[{\"marker\":{\"colorbar\":{\"outlinewidth\":0,\"ticks\":\"\"}},\"type\":\"scatterpolar\"}],\"scatter\":[{\"marker\":{\"colorbar\":{\"outlinewidth\":0,\"ticks\":\"\"}},\"type\":\"scatter\"}],\"scatterternary\":[{\"marker\":{\"colorbar\":{\"outlinewidth\":0,\"ticks\":\"\"}},\"type\":\"scatterternary\"}],\"surface\":[{\"colorbar\":{\"outlinewidth\":0,\"ticks\":\"\"},\"colorscale\":[[0.0,\"#0d0887\"],[0.1111111111111111,\"#46039f\"],[0.2222222222222222,\"#7201a8\"],[0.3333333333333333,\"#9c179e\"],[0.4444444444444444,\"#bd3786\"],[0.5555555555555556,\"#d8576b\"],[0.6666666666666666,\"#ed7953\"],[0.7777777777777778,\"#fb9f3a\"],[0.8888888888888888,\"#fdca26\"],[1.0,\"#f0f921\"]],\"type\":\"surface\"}],\"table\":[{\"cells\":{\"fill\":{\"color\":\"#EBF0F8\"},\"line\":{\"color\":\"white\"}},\"header\":{\"fill\":{\"color\":\"#C8D4E3\"},\"line\":{\"color\":\"white\"}},\"type\":\"table\"}]},\"layout\":{\"annotationdefaults\":{\"arrowcolor\":\"#2a3f5f\",\"arrowhead\":0,\"arrowwidth\":1},\"autotypenumbers\":\"strict\",\"coloraxis\":{\"colorbar\":{\"outlinewidth\":0,\"ticks\":\"\"}},\"colorscale\":{\"diverging\":[[0,\"#8e0152\"],[0.1,\"#c51b7d\"],[0.2,\"#de77ae\"],[0.3,\"#f1b6da\"],[0.4,\"#fde0ef\"],[0.5,\"#f7f7f7\"],[0.6,\"#e6f5d0\"],[0.7,\"#b8e186\"],[0.8,\"#7fbc41\"],[0.9,\"#4d9221\"],[1,\"#276419\"]],\"sequential\":[[0.0,\"#0d0887\"],[0.1111111111111111,\"#46039f\"],[0.2222222222222222,\"#7201a8\"],[0.3333333333333333,\"#9c179e\"],[0.4444444444444444,\"#bd3786\"],[0.5555555555555556,\"#d8576b\"],[0.6666666666666666,\"#ed7953\"],[0.7777777777777778,\"#fb9f3a\"],[0.8888888888888888,\"#fdca26\"],[1.0,\"#f0f921\"]],\"sequentialminus\":[[0.0,\"#0d0887\"],[0.1111111111111111,\"#46039f\"],[0.2222222222222222,\"#7201a8\"],[0.3333333333333333,\"#9c179e\"],[0.4444444444444444,\"#bd3786\"],[0.5555555555555556,\"#d8576b\"],[0.6666666666666666,\"#ed7953\"],[0.7777777777777778,\"#fb9f3a\"],[0.8888888888888888,\"#fdca26\"],[1.0,\"#f0f921\"]]},\"colorway\":[\"#636efa\",\"#EF553B\",\"#00cc96\",\"#ab63fa\",\"#FFA15A\",\"#19d3f3\",\"#FF6692\",\"#B6E880\",\"#FF97FF\",\"#FECB52\"],\"font\":{\"color\":\"#2a3f5f\"},\"geo\":{\"bgcolor\":\"white\",\"lakecolor\":\"white\",\"landcolor\":\"#E5ECF6\",\"showlakes\":true,\"showland\":true,\"subunitcolor\":\"white\"},\"hoverlabel\":{\"align\":\"left\"},\"hovermode\":\"closest\",\"mapbox\":{\"style\":\"light\"},\"paper_bgcolor\":\"white\",\"plot_bgcolor\":\"#E5ECF6\",\"polar\":{\"angularaxis\":{\"gridcolor\":\"white\",\"linecolor\":\"white\",\"ticks\":\"\"},\"bgcolor\":\"#E5ECF6\",\"radialaxis\":{\"gridcolor\":\"white\",\"linecolor\":\"white\",\"ticks\":\"\"}},\"scene\":{\"xaxis\":{\"backgroundcolor\":\"#E5ECF6\",\"gridcolor\":\"white\",\"gridwidth\":2,\"linecolor\":\"white\",\"showbackground\":true,\"ticks\":\"\",\"zerolinecolor\":\"white\"},\"yaxis\":{\"backgroundcolor\":\"#E5ECF6\",\"gridcolor\":\"white\",\"gridwidth\":2,\"linecolor\":\"white\",\"showbackground\":true,\"ticks\":\"\",\"zerolinecolor\":\"white\"},\"zaxis\":{\"backgroundcolor\":\"#E5ECF6\",\"gridcolor\":\"white\",\"gridwidth\":2,\"linecolor\":\"white\",\"showbackground\":true,\"ticks\":\"\",\"zerolinecolor\":\"white\"}},\"shapedefaults\":{\"line\":{\"color\":\"#2a3f5f\"}},\"ternary\":{\"aaxis\":{\"gridcolor\":\"white\",\"linecolor\":\"white\",\"ticks\":\"\"},\"baxis\":{\"gridcolor\":\"white\",\"linecolor\":\"white\",\"ticks\":\"\"},\"bgcolor\":\"#E5ECF6\",\"caxis\":{\"gridcolor\":\"white\",\"linecolor\":\"white\",\"ticks\":\"\"}},\"title\":{\"x\":0.05},\"xaxis\":{\"automargin\":true,\"gridcolor\":\"white\",\"linecolor\":\"white\",\"ticks\":\"\",\"title\":{\"standoff\":15},\"zerolinecolor\":\"white\",\"zerolinewidth\":2},\"yaxis\":{\"automargin\":true,\"gridcolor\":\"white\",\"linecolor\":\"white\",\"ticks\":\"\",\"title\":{\"standoff\":15},\"zerolinecolor\":\"white\",\"zerolinewidth\":2}}},\"title\":{\"font\":{\"color\":\"#4D5663\"}},\"xaxis\":{\"gridcolor\":\"#E1E5ED\",\"showgrid\":true,\"tickfont\":{\"color\":\"#4D5663\"},\"title\":{\"font\":{\"color\":\"#4D5663\"},\"text\":\"\"},\"zerolinecolor\":\"#E1E5ED\"},\"yaxis\":{\"domain\":[0.3,1],\"gridcolor\":\"#E1E5ED\",\"showgrid\":true,\"tickfont\":{\"color\":\"#4D5663\"},\"title\":{\"font\":{\"color\":\"#4D5663\"},\"text\":\"\"},\"zerolinecolor\":\"#E1E5ED\"},\"yaxis2\":{\"domain\":[0,0.25],\"gridcolor\":\"#E1E5ED\",\"showgrid\":true,\"tickfont\":{\"color\":\"#4D5663\"},\"title\":{\"font\":{\"color\":\"#4D5663\"},\"text\":\"Spread\"},\"zerolinecolor\":\"#E1E5ED\"},\"xaxis2\":{\"anchor\":\"y2\",\"gridcolor\":\"#E1E5ED\",\"showgrid\":true,\"showticklabels\":false,\"tickfont\":{\"color\":\"#4D5663\"},\"title\":{\"font\":{\"color\":\"#4D5663\"},\"text\":\"\"},\"zerolinecolor\":\"#E1E5ED\"}},                        {\"showLink\": true, \"linkText\": \"Export to plot.ly\", \"plotlyServerURL\": \"https://plot.ly\", \"responsive\": true}                    ).then(function(){\n",
       "                            \n",
       "var gd = document.getElementById('e2481abc-a507-41bc-8450-f2139a53c9bc');\n",
       "var x = new MutationObserver(function (mutations, observer) {{\n",
       "        var display = window.getComputedStyle(gd).display;\n",
       "        if (!display || display === 'none') {{\n",
       "            console.log([gd, 'removed!']);\n",
       "            Plotly.purge(gd);\n",
       "            observer.disconnect();\n",
       "        }}\n",
       "}});\n",
       "\n",
       "// Listen for the removal of the full notebook cells\n",
       "var notebookContainer = gd.closest('#notebook-container');\n",
       "if (notebookContainer) {{\n",
       "    x.observe(notebookContainer, {childList: true});\n",
       "}}\n",
       "\n",
       "// Listen for the clearing of the current output cell\n",
       "var outputEl = gd.closest('.output');\n",
       "if (outputEl) {{\n",
       "    x.observe(outputEl, {childList: true});\n",
       "}}\n",
       "\n",
       "                        })                };                });            </script>        </div>"
      ]
     },
     "metadata": {},
     "output_type": "display_data"
    }
   ],
   "source": [
    "df[[\"C\",\"D\"]].iplot(\"spread\")"
   ]
  },
  {
   "cell_type": "code",
   "execution_count": 76,
   "id": "34d42c2c",
   "metadata": {},
   "outputs": [
    {
     "data": {
      "application/vnd.plotly.v1+json": {
       "config": {
        "linkText": "Export to plot.ly",
        "plotlyServerURL": "https://plot.ly",
        "showLink": true
       },
       "data": [
        {
         "marker": {
          "color": [
           "rgb(255, 153, 51)",
           "rgb(55, 128, 191)",
           "rgb(50, 171, 96)",
           "rgb(128, 0, 128)",
           "rgb(219, 64, 82)",
           "rgb(0, 128, 128)",
           "rgb(255, 255, 51)",
           "rgb(128, 128, 0)",
           "rgb(251, 128, 114)",
           "rgb(128, 177, 211)"
          ],
          "line": {
           "width": 1.3
          },
          "size": [
           41,
           56,
           74,
           40,
           44,
           66,
           58,
           62,
           99,
           61,
           21,
           49,
           49,
           54,
           60,
           52,
           71,
           94,
           84,
           43,
           30,
           86,
           66,
           55,
           85,
           33,
           36,
           38,
           27,
           50,
           65,
           30,
           63,
           66,
           82,
           52,
           68,
           55,
           66,
           41,
           67,
           27,
           69,
           73,
           83,
           14,
           33,
           36,
           59,
           51,
           74,
           87,
           60,
           34,
           74,
           12,
           61,
           46,
           63,
           59,
           59,
           52,
           71,
           37,
           40,
           65,
           73,
           52,
           112,
           97,
           50,
           59,
           87,
           59,
           52,
           39,
           61,
           49,
           68,
           56,
           36,
           66,
           67,
           55,
           69,
           72,
           86,
           60,
           53,
           41,
           73,
           37,
           23,
           63,
           42,
           55,
           100,
           40,
           50,
           62
          ],
          "symbol": "circle"
         },
         "mode": "markers",
         "text": "",
         "type": "scatter",
         "x": [
          1.0695780874798893,
          -0.6688246077647048,
          -0.8768325532699232,
          0.5846041548118759,
          0.1234743270956829,
          3.4791082204999846,
          0.6394411045953567,
          -1.8588525353308045,
          -0.09988848117769902,
          -3.585334312685853,
          -0.3468308478497572,
          -0.8260384206665327,
          -0.6907893591011696,
          -1.4852586173285742,
          -0.25765375593010137,
          -0.44626977717335475,
          -1.7881342688303001,
          1.0560463232781325,
          -0.6118484997932785,
          -0.28090068433241533,
          -0.36129223471773436,
          0.05624123962916439,
          -1.0493408332261727,
          1.3571359129570726,
          0.6080852256235924,
          -1.0764672477878665,
          0.6576424280762245,
          2.1686207235766246,
          -1.3066081747334748,
          0.9394087435997776,
          -0.5226267172566758,
          -0.49651129843957736,
          -0.9918493687721509,
          -0.19131682338888764,
          0.7142159865359168,
          0.18180856373710771,
          0.7501866480553426,
          -0.2659994587199686,
          -1.0863108611887782,
          0.3845970933447684,
          0.08385491653407101,
          0.213288645841052,
          0.8285450872251666,
          0.7829263857702672,
          -0.49796304010092884,
          1.0268246038778484,
          -1.367210159961053,
          -0.7102119846311828,
          -0.38098132668670065,
          0.027296080474879927,
          0.20727149763656935,
          -0.39831741064134546,
          -0.4858771542442912,
          0.044894688014666465,
          -0.3377575089268816,
          0.8146487451450918,
          -0.5176401803753576,
          1.6282037718948779,
          -0.8053439703768238,
          -1.2450221802677344,
          -1.0429522515434908,
          -0.7181219633120665,
          -0.8687414942939818,
          -1.646924395142777,
          1.378280613564057,
          0.5681960097760388,
          -0.006350409197701762,
          -1.027078098139645,
          1.3672669957436328,
          -0.42399754739567835,
          0.2572681050701859,
          0.9866400986616074,
          -0.9179216938928588,
          -2.0808712866480374,
          0.5528322892342697,
          0.9230106496890149,
          0.1686186313709958,
          -1.5417456070111637,
          -0.4200677293091439,
          0.0643680205861979,
          1.437529140323141,
          -0.14220738186728962,
          1.7983613814824884,
          0.2178318654089859,
          -1.5549591871383583,
          2.4969030349900567,
          -1.749730221977046,
          0.6134052139711424,
          -0.3362184800002531,
          -0.3027409579953844,
          1.293778086782797,
          -1.0131940755359794,
          2.1181805861810776,
          -1.3959307921409663,
          0.5140414624574768,
          -0.599410039617266,
          1.7541114211585354,
          -0.6961689882949277,
          -0.09092864116037773,
          0.6647742078919533
         ],
         "y": [
          -0.9139878772827333,
          -0.08769317039224812,
          1.2549229594087425,
          0.7734929129565938,
          0.32551639667358967,
          0.06472013532223145,
          0.4489237903342312,
          -0.5376767084883879,
          1.4159491326545584,
          -0.16067285210103188,
          0.5395943979579801,
          -0.5964929759286733,
          -0.5694175285048431,
          0.8751026063828987,
          -0.7616455966638427,
          0.15897303518261077,
          -1.6875555004691791,
          0.32216394848199115,
          -0.10030356054937484,
          -0.11856117396267761,
          -0.27414364727766044,
          0.163723571047574,
          1.4237077596079468,
          -0.8629773392344109,
          -0.8963300480762472,
          0.3990646493880536,
          -0.7640696360957434,
          -0.9273917270584725,
          0.34452355271044877,
          0.15170227821005117,
          0.5648147860721607,
          -1.8701285343645826,
          1.950778763700419,
          2.1342463787666666,
          -0.4995652182175252,
          -0.5669159598591469,
          0.10666924786932587,
          0.263359843230698,
          -0.210681061067419,
          -0.8157159337327569,
          -1.4133654524950354,
          0.8290481002596413,
          0.3923108908193899,
          -1.5380858255153,
          1.08770035598143,
          0.11275619340426378,
          1.572544617584101,
          -0.5166715694677358,
          0.9284344540019726,
          0.8006337675994765,
          -1.4285058636600925,
          -0.6392361505059976,
          -0.23042531867174745,
          -0.793958906679922,
          -0.42254265403664415,
          0.16085517143794348,
          0.1125121445461009,
          -1.0882069564305088,
          -1.096823320824602,
          0.019633414187281737,
          0.6195893397874593,
          -1.4028099218639112,
          -0.4908141768141228,
          0.21148419670406784,
          0.6419280636141652,
          -0.06495314317794514,
          -0.9193876460797339,
          0.019942825358401563,
          -2.348428587225312,
          2.000913445564362,
          0.9277072465599404,
          -1.0222088298692635,
          -0.34273600359405526,
          2.338928916336926,
          -0.148101799502789,
          1.524964564987665,
          0.914025793860094,
          1.5422076668737787,
          -0.023749254518849662,
          0.524279843798628,
          -1.4347027513614323,
          -1.785504838816489,
          -0.8954800679209548,
          -1.8961976651347,
          -0.7442784395015505,
          -0.8048857189042761,
          -0.0967984291667222,
          -1.9393000002484315,
          1.6670645156175294,
          -0.21775076532364407,
          0.09050205548815078,
          0.8783754651483104,
          -1.7130236485510746,
          -2.0691261799490825,
          -1.1499457692550565,
          0.8595026389589712,
          -1.3373308228263112,
          0.023915176562741277,
          -0.9087830673537445,
          1.7719125771459925
         ]
        }
       ],
       "layout": {
        "legend": {
         "bgcolor": "#F5F6F9",
         "font": {
          "color": "#4D5663"
         }
        },
        "paper_bgcolor": "#F5F6F9",
        "plot_bgcolor": "#F5F6F9",
        "template": {
         "data": {
          "bar": [
           {
            "error_x": {
             "color": "#2a3f5f"
            },
            "error_y": {
             "color": "#2a3f5f"
            },
            "marker": {
             "line": {
              "color": "#E5ECF6",
              "width": 0.5
             },
             "pattern": {
              "fillmode": "overlay",
              "size": 10,
              "solidity": 0.2
             }
            },
            "type": "bar"
           }
          ],
          "barpolar": [
           {
            "marker": {
             "line": {
              "color": "#E5ECF6",
              "width": 0.5
             },
             "pattern": {
              "fillmode": "overlay",
              "size": 10,
              "solidity": 0.2
             }
            },
            "type": "barpolar"
           }
          ],
          "carpet": [
           {
            "aaxis": {
             "endlinecolor": "#2a3f5f",
             "gridcolor": "white",
             "linecolor": "white",
             "minorgridcolor": "white",
             "startlinecolor": "#2a3f5f"
            },
            "baxis": {
             "endlinecolor": "#2a3f5f",
             "gridcolor": "white",
             "linecolor": "white",
             "minorgridcolor": "white",
             "startlinecolor": "#2a3f5f"
            },
            "type": "carpet"
           }
          ],
          "choropleth": [
           {
            "colorbar": {
             "outlinewidth": 0,
             "ticks": ""
            },
            "type": "choropleth"
           }
          ],
          "contour": [
           {
            "colorbar": {
             "outlinewidth": 0,
             "ticks": ""
            },
            "colorscale": [
             [
              0,
              "#0d0887"
             ],
             [
              0.1111111111111111,
              "#46039f"
             ],
             [
              0.2222222222222222,
              "#7201a8"
             ],
             [
              0.3333333333333333,
              "#9c179e"
             ],
             [
              0.4444444444444444,
              "#bd3786"
             ],
             [
              0.5555555555555556,
              "#d8576b"
             ],
             [
              0.6666666666666666,
              "#ed7953"
             ],
             [
              0.7777777777777778,
              "#fb9f3a"
             ],
             [
              0.8888888888888888,
              "#fdca26"
             ],
             [
              1,
              "#f0f921"
             ]
            ],
            "type": "contour"
           }
          ],
          "contourcarpet": [
           {
            "colorbar": {
             "outlinewidth": 0,
             "ticks": ""
            },
            "type": "contourcarpet"
           }
          ],
          "heatmap": [
           {
            "colorbar": {
             "outlinewidth": 0,
             "ticks": ""
            },
            "colorscale": [
             [
              0,
              "#0d0887"
             ],
             [
              0.1111111111111111,
              "#46039f"
             ],
             [
              0.2222222222222222,
              "#7201a8"
             ],
             [
              0.3333333333333333,
              "#9c179e"
             ],
             [
              0.4444444444444444,
              "#bd3786"
             ],
             [
              0.5555555555555556,
              "#d8576b"
             ],
             [
              0.6666666666666666,
              "#ed7953"
             ],
             [
              0.7777777777777778,
              "#fb9f3a"
             ],
             [
              0.8888888888888888,
              "#fdca26"
             ],
             [
              1,
              "#f0f921"
             ]
            ],
            "type": "heatmap"
           }
          ],
          "heatmapgl": [
           {
            "colorbar": {
             "outlinewidth": 0,
             "ticks": ""
            },
            "colorscale": [
             [
              0,
              "#0d0887"
             ],
             [
              0.1111111111111111,
              "#46039f"
             ],
             [
              0.2222222222222222,
              "#7201a8"
             ],
             [
              0.3333333333333333,
              "#9c179e"
             ],
             [
              0.4444444444444444,
              "#bd3786"
             ],
             [
              0.5555555555555556,
              "#d8576b"
             ],
             [
              0.6666666666666666,
              "#ed7953"
             ],
             [
              0.7777777777777778,
              "#fb9f3a"
             ],
             [
              0.8888888888888888,
              "#fdca26"
             ],
             [
              1,
              "#f0f921"
             ]
            ],
            "type": "heatmapgl"
           }
          ],
          "histogram": [
           {
            "marker": {
             "pattern": {
              "fillmode": "overlay",
              "size": 10,
              "solidity": 0.2
             }
            },
            "type": "histogram"
           }
          ],
          "histogram2d": [
           {
            "colorbar": {
             "outlinewidth": 0,
             "ticks": ""
            },
            "colorscale": [
             [
              0,
              "#0d0887"
             ],
             [
              0.1111111111111111,
              "#46039f"
             ],
             [
              0.2222222222222222,
              "#7201a8"
             ],
             [
              0.3333333333333333,
              "#9c179e"
             ],
             [
              0.4444444444444444,
              "#bd3786"
             ],
             [
              0.5555555555555556,
              "#d8576b"
             ],
             [
              0.6666666666666666,
              "#ed7953"
             ],
             [
              0.7777777777777778,
              "#fb9f3a"
             ],
             [
              0.8888888888888888,
              "#fdca26"
             ],
             [
              1,
              "#f0f921"
             ]
            ],
            "type": "histogram2d"
           }
          ],
          "histogram2dcontour": [
           {
            "colorbar": {
             "outlinewidth": 0,
             "ticks": ""
            },
            "colorscale": [
             [
              0,
              "#0d0887"
             ],
             [
              0.1111111111111111,
              "#46039f"
             ],
             [
              0.2222222222222222,
              "#7201a8"
             ],
             [
              0.3333333333333333,
              "#9c179e"
             ],
             [
              0.4444444444444444,
              "#bd3786"
             ],
             [
              0.5555555555555556,
              "#d8576b"
             ],
             [
              0.6666666666666666,
              "#ed7953"
             ],
             [
              0.7777777777777778,
              "#fb9f3a"
             ],
             [
              0.8888888888888888,
              "#fdca26"
             ],
             [
              1,
              "#f0f921"
             ]
            ],
            "type": "histogram2dcontour"
           }
          ],
          "mesh3d": [
           {
            "colorbar": {
             "outlinewidth": 0,
             "ticks": ""
            },
            "type": "mesh3d"
           }
          ],
          "parcoords": [
           {
            "line": {
             "colorbar": {
              "outlinewidth": 0,
              "ticks": ""
             }
            },
            "type": "parcoords"
           }
          ],
          "pie": [
           {
            "automargin": true,
            "type": "pie"
           }
          ],
          "scatter": [
           {
            "marker": {
             "colorbar": {
              "outlinewidth": 0,
              "ticks": ""
             }
            },
            "type": "scatter"
           }
          ],
          "scatter3d": [
           {
            "line": {
             "colorbar": {
              "outlinewidth": 0,
              "ticks": ""
             }
            },
            "marker": {
             "colorbar": {
              "outlinewidth": 0,
              "ticks": ""
             }
            },
            "type": "scatter3d"
           }
          ],
          "scattercarpet": [
           {
            "marker": {
             "colorbar": {
              "outlinewidth": 0,
              "ticks": ""
             }
            },
            "type": "scattercarpet"
           }
          ],
          "scattergeo": [
           {
            "marker": {
             "colorbar": {
              "outlinewidth": 0,
              "ticks": ""
             }
            },
            "type": "scattergeo"
           }
          ],
          "scattergl": [
           {
            "marker": {
             "colorbar": {
              "outlinewidth": 0,
              "ticks": ""
             }
            },
            "type": "scattergl"
           }
          ],
          "scattermapbox": [
           {
            "marker": {
             "colorbar": {
              "outlinewidth": 0,
              "ticks": ""
             }
            },
            "type": "scattermapbox"
           }
          ],
          "scatterpolar": [
           {
            "marker": {
             "colorbar": {
              "outlinewidth": 0,
              "ticks": ""
             }
            },
            "type": "scatterpolar"
           }
          ],
          "scatterpolargl": [
           {
            "marker": {
             "colorbar": {
              "outlinewidth": 0,
              "ticks": ""
             }
            },
            "type": "scatterpolargl"
           }
          ],
          "scatterternary": [
           {
            "marker": {
             "colorbar": {
              "outlinewidth": 0,
              "ticks": ""
             }
            },
            "type": "scatterternary"
           }
          ],
          "surface": [
           {
            "colorbar": {
             "outlinewidth": 0,
             "ticks": ""
            },
            "colorscale": [
             [
              0,
              "#0d0887"
             ],
             [
              0.1111111111111111,
              "#46039f"
             ],
             [
              0.2222222222222222,
              "#7201a8"
             ],
             [
              0.3333333333333333,
              "#9c179e"
             ],
             [
              0.4444444444444444,
              "#bd3786"
             ],
             [
              0.5555555555555556,
              "#d8576b"
             ],
             [
              0.6666666666666666,
              "#ed7953"
             ],
             [
              0.7777777777777778,
              "#fb9f3a"
             ],
             [
              0.8888888888888888,
              "#fdca26"
             ],
             [
              1,
              "#f0f921"
             ]
            ],
            "type": "surface"
           }
          ],
          "table": [
           {
            "cells": {
             "fill": {
              "color": "#EBF0F8"
             },
             "line": {
              "color": "white"
             }
            },
            "header": {
             "fill": {
              "color": "#C8D4E3"
             },
             "line": {
              "color": "white"
             }
            },
            "type": "table"
           }
          ]
         },
         "layout": {
          "annotationdefaults": {
           "arrowcolor": "#2a3f5f",
           "arrowhead": 0,
           "arrowwidth": 1
          },
          "autotypenumbers": "strict",
          "coloraxis": {
           "colorbar": {
            "outlinewidth": 0,
            "ticks": ""
           }
          },
          "colorscale": {
           "diverging": [
            [
             0,
             "#8e0152"
            ],
            [
             0.1,
             "#c51b7d"
            ],
            [
             0.2,
             "#de77ae"
            ],
            [
             0.3,
             "#f1b6da"
            ],
            [
             0.4,
             "#fde0ef"
            ],
            [
             0.5,
             "#f7f7f7"
            ],
            [
             0.6,
             "#e6f5d0"
            ],
            [
             0.7,
             "#b8e186"
            ],
            [
             0.8,
             "#7fbc41"
            ],
            [
             0.9,
             "#4d9221"
            ],
            [
             1,
             "#276419"
            ]
           ],
           "sequential": [
            [
             0,
             "#0d0887"
            ],
            [
             0.1111111111111111,
             "#46039f"
            ],
            [
             0.2222222222222222,
             "#7201a8"
            ],
            [
             0.3333333333333333,
             "#9c179e"
            ],
            [
             0.4444444444444444,
             "#bd3786"
            ],
            [
             0.5555555555555556,
             "#d8576b"
            ],
            [
             0.6666666666666666,
             "#ed7953"
            ],
            [
             0.7777777777777778,
             "#fb9f3a"
            ],
            [
             0.8888888888888888,
             "#fdca26"
            ],
            [
             1,
             "#f0f921"
            ]
           ],
           "sequentialminus": [
            [
             0,
             "#0d0887"
            ],
            [
             0.1111111111111111,
             "#46039f"
            ],
            [
             0.2222222222222222,
             "#7201a8"
            ],
            [
             0.3333333333333333,
             "#9c179e"
            ],
            [
             0.4444444444444444,
             "#bd3786"
            ],
            [
             0.5555555555555556,
             "#d8576b"
            ],
            [
             0.6666666666666666,
             "#ed7953"
            ],
            [
             0.7777777777777778,
             "#fb9f3a"
            ],
            [
             0.8888888888888888,
             "#fdca26"
            ],
            [
             1,
             "#f0f921"
            ]
           ]
          },
          "colorway": [
           "#636efa",
           "#EF553B",
           "#00cc96",
           "#ab63fa",
           "#FFA15A",
           "#19d3f3",
           "#FF6692",
           "#B6E880",
           "#FF97FF",
           "#FECB52"
          ],
          "font": {
           "color": "#2a3f5f"
          },
          "geo": {
           "bgcolor": "white",
           "lakecolor": "white",
           "landcolor": "#E5ECF6",
           "showlakes": true,
           "showland": true,
           "subunitcolor": "white"
          },
          "hoverlabel": {
           "align": "left"
          },
          "hovermode": "closest",
          "mapbox": {
           "style": "light"
          },
          "paper_bgcolor": "white",
          "plot_bgcolor": "#E5ECF6",
          "polar": {
           "angularaxis": {
            "gridcolor": "white",
            "linecolor": "white",
            "ticks": ""
           },
           "bgcolor": "#E5ECF6",
           "radialaxis": {
            "gridcolor": "white",
            "linecolor": "white",
            "ticks": ""
           }
          },
          "scene": {
           "xaxis": {
            "backgroundcolor": "#E5ECF6",
            "gridcolor": "white",
            "gridwidth": 2,
            "linecolor": "white",
            "showbackground": true,
            "ticks": "",
            "zerolinecolor": "white"
           },
           "yaxis": {
            "backgroundcolor": "#E5ECF6",
            "gridcolor": "white",
            "gridwidth": 2,
            "linecolor": "white",
            "showbackground": true,
            "ticks": "",
            "zerolinecolor": "white"
           },
           "zaxis": {
            "backgroundcolor": "#E5ECF6",
            "gridcolor": "white",
            "gridwidth": 2,
            "linecolor": "white",
            "showbackground": true,
            "ticks": "",
            "zerolinecolor": "white"
           }
          },
          "shapedefaults": {
           "line": {
            "color": "#2a3f5f"
           }
          },
          "ternary": {
           "aaxis": {
            "gridcolor": "white",
            "linecolor": "white",
            "ticks": ""
           },
           "baxis": {
            "gridcolor": "white",
            "linecolor": "white",
            "ticks": ""
           },
           "bgcolor": "#E5ECF6",
           "caxis": {
            "gridcolor": "white",
            "linecolor": "white",
            "ticks": ""
           }
          },
          "title": {
           "x": 0.05
          },
          "xaxis": {
           "automargin": true,
           "gridcolor": "white",
           "linecolor": "white",
           "ticks": "",
           "title": {
            "standoff": 15
           },
           "zerolinecolor": "white",
           "zerolinewidth": 2
          },
          "yaxis": {
           "automargin": true,
           "gridcolor": "white",
           "linecolor": "white",
           "ticks": "",
           "title": {
            "standoff": 15
           },
           "zerolinecolor": "white",
           "zerolinewidth": 2
          }
         }
        },
        "title": {
         "font": {
          "color": "#4D5663"
         }
        },
        "xaxis": {
         "gridcolor": "#E1E5ED",
         "showgrid": true,
         "tickfont": {
          "color": "#4D5663"
         },
         "title": {
          "font": {
           "color": "#4D5663"
          },
          "text": ""
         },
         "zerolinecolor": "#E1E5ED"
        },
        "yaxis": {
         "gridcolor": "#E1E5ED",
         "showgrid": true,
         "tickfont": {
          "color": "#4D5663"
         },
         "title": {
          "font": {
           "color": "#4D5663"
          },
          "text": ""
         },
         "zerolinecolor": "#E1E5ED"
        }
       }
      },
      "text/html": [
       "<div>                            <div id=\"c927d0ac-bf46-4904-ab74-0f40a115daaa\" class=\"plotly-graph-div\" style=\"height:525px; width:100%;\"></div>            <script type=\"text/javascript\">                require([\"plotly\"], function(Plotly) {                    window.PLOTLYENV=window.PLOTLYENV || {};\n",
       "                    window.PLOTLYENV.BASE_URL='https://plot.ly';                                    if (document.getElementById(\"c927d0ac-bf46-4904-ab74-0f40a115daaa\")) {                    Plotly.newPlot(                        \"c927d0ac-bf46-4904-ab74-0f40a115daaa\",                        [{\"marker\":{\"color\":[\"rgb(255, 153, 51)\",\"rgb(55, 128, 191)\",\"rgb(50, 171, 96)\",\"rgb(128, 0, 128)\",\"rgb(219, 64, 82)\",\"rgb(0, 128, 128)\",\"rgb(255, 255, 51)\",\"rgb(128, 128, 0)\",\"rgb(251, 128, 114)\",\"rgb(128, 177, 211)\"],\"line\":{\"width\":1.3},\"size\":[41,56,74,40,44,66,58,62,99,61,21,49,49,54,60,52,71,94,84,43,30,86,66,55,85,33,36,38,27,50,65,30,63,66,82,52,68,55,66,41,67,27,69,73,83,14,33,36,59,51,74,87,60,34,74,12,61,46,63,59,59,52,71,37,40,65,73,52,112,97,50,59,87,59,52,39,61,49,68,56,36,66,67,55,69,72,86,60,53,41,73,37,23,63,42,55,100,40,50,62],\"symbol\":\"circle\"},\"mode\":\"markers\",\"text\":\"\",\"x\":[1.0695780874798893,-0.6688246077647048,-0.8768325532699232,0.5846041548118759,0.1234743270956829,3.4791082204999846,0.6394411045953567,-1.8588525353308045,-0.09988848117769902,-3.585334312685853,-0.3468308478497572,-0.8260384206665327,-0.6907893591011696,-1.4852586173285742,-0.25765375593010137,-0.44626977717335475,-1.7881342688303001,1.0560463232781325,-0.6118484997932785,-0.28090068433241533,-0.36129223471773436,0.05624123962916439,-1.0493408332261727,1.3571359129570726,0.6080852256235924,-1.0764672477878665,0.6576424280762245,2.1686207235766246,-1.3066081747334748,0.9394087435997776,-0.5226267172566758,-0.49651129843957736,-0.9918493687721509,-0.19131682338888764,0.7142159865359168,0.18180856373710771,0.7501866480553426,-0.2659994587199686,-1.0863108611887782,0.3845970933447684,0.08385491653407101,0.213288645841052,0.8285450872251666,0.7829263857702672,-0.49796304010092884,1.0268246038778484,-1.367210159961053,-0.7102119846311828,-0.38098132668670065,0.027296080474879927,0.20727149763656935,-0.39831741064134546,-0.4858771542442912,0.044894688014666465,-0.3377575089268816,0.8146487451450918,-0.5176401803753576,1.6282037718948779,-0.8053439703768238,-1.2450221802677344,-1.0429522515434908,-0.7181219633120665,-0.8687414942939818,-1.646924395142777,1.378280613564057,0.5681960097760388,-0.006350409197701762,-1.027078098139645,1.3672669957436328,-0.42399754739567835,0.2572681050701859,0.9866400986616074,-0.9179216938928588,-2.0808712866480374,0.5528322892342697,0.9230106496890149,0.1686186313709958,-1.5417456070111637,-0.4200677293091439,0.0643680205861979,1.437529140323141,-0.14220738186728962,1.7983613814824884,0.2178318654089859,-1.5549591871383583,2.4969030349900567,-1.749730221977046,0.6134052139711424,-0.3362184800002531,-0.3027409579953844,1.293778086782797,-1.0131940755359794,2.1181805861810776,-1.3959307921409663,0.5140414624574768,-0.599410039617266,1.7541114211585354,-0.6961689882949277,-0.09092864116037773,0.6647742078919533],\"y\":[-0.9139878772827333,-0.08769317039224812,1.2549229594087425,0.7734929129565938,0.32551639667358967,0.06472013532223145,0.4489237903342312,-0.5376767084883879,1.4159491326545584,-0.16067285210103188,0.5395943979579801,-0.5964929759286733,-0.5694175285048431,0.8751026063828987,-0.7616455966638427,0.15897303518261077,-1.6875555004691791,0.32216394848199115,-0.10030356054937484,-0.11856117396267761,-0.27414364727766044,0.163723571047574,1.4237077596079468,-0.8629773392344109,-0.8963300480762472,0.3990646493880536,-0.7640696360957434,-0.9273917270584725,0.34452355271044877,0.15170227821005117,0.5648147860721607,-1.8701285343645826,1.950778763700419,2.1342463787666666,-0.4995652182175252,-0.5669159598591469,0.10666924786932587,0.263359843230698,-0.210681061067419,-0.8157159337327569,-1.4133654524950354,0.8290481002596413,0.3923108908193899,-1.5380858255153,1.08770035598143,0.11275619340426378,1.572544617584101,-0.5166715694677358,0.9284344540019726,0.8006337675994765,-1.4285058636600925,-0.6392361505059976,-0.23042531867174745,-0.793958906679922,-0.42254265403664415,0.16085517143794348,0.1125121445461009,-1.0882069564305088,-1.096823320824602,0.019633414187281737,0.6195893397874593,-1.4028099218639112,-0.4908141768141228,0.21148419670406784,0.6419280636141652,-0.06495314317794514,-0.9193876460797339,0.019942825358401563,-2.348428587225312,2.000913445564362,0.9277072465599404,-1.0222088298692635,-0.34273600359405526,2.338928916336926,-0.148101799502789,1.524964564987665,0.914025793860094,1.5422076668737787,-0.023749254518849662,0.524279843798628,-1.4347027513614323,-1.785504838816489,-0.8954800679209548,-1.8961976651347,-0.7442784395015505,-0.8048857189042761,-0.0967984291667222,-1.9393000002484315,1.6670645156175294,-0.21775076532364407,0.09050205548815078,0.8783754651483104,-1.7130236485510746,-2.0691261799490825,-1.1499457692550565,0.8595026389589712,-1.3373308228263112,0.023915176562741277,-0.9087830673537445,1.7719125771459925],\"type\":\"scatter\"}],                        {\"legend\":{\"bgcolor\":\"#F5F6F9\",\"font\":{\"color\":\"#4D5663\"}},\"paper_bgcolor\":\"#F5F6F9\",\"plot_bgcolor\":\"#F5F6F9\",\"template\":{\"data\":{\"barpolar\":[{\"marker\":{\"line\":{\"color\":\"#E5ECF6\",\"width\":0.5},\"pattern\":{\"fillmode\":\"overlay\",\"size\":10,\"solidity\":0.2}},\"type\":\"barpolar\"}],\"bar\":[{\"error_x\":{\"color\":\"#2a3f5f\"},\"error_y\":{\"color\":\"#2a3f5f\"},\"marker\":{\"line\":{\"color\":\"#E5ECF6\",\"width\":0.5},\"pattern\":{\"fillmode\":\"overlay\",\"size\":10,\"solidity\":0.2}},\"type\":\"bar\"}],\"carpet\":[{\"aaxis\":{\"endlinecolor\":\"#2a3f5f\",\"gridcolor\":\"white\",\"linecolor\":\"white\",\"minorgridcolor\":\"white\",\"startlinecolor\":\"#2a3f5f\"},\"baxis\":{\"endlinecolor\":\"#2a3f5f\",\"gridcolor\":\"white\",\"linecolor\":\"white\",\"minorgridcolor\":\"white\",\"startlinecolor\":\"#2a3f5f\"},\"type\":\"carpet\"}],\"choropleth\":[{\"colorbar\":{\"outlinewidth\":0,\"ticks\":\"\"},\"type\":\"choropleth\"}],\"contourcarpet\":[{\"colorbar\":{\"outlinewidth\":0,\"ticks\":\"\"},\"type\":\"contourcarpet\"}],\"contour\":[{\"colorbar\":{\"outlinewidth\":0,\"ticks\":\"\"},\"colorscale\":[[0.0,\"#0d0887\"],[0.1111111111111111,\"#46039f\"],[0.2222222222222222,\"#7201a8\"],[0.3333333333333333,\"#9c179e\"],[0.4444444444444444,\"#bd3786\"],[0.5555555555555556,\"#d8576b\"],[0.6666666666666666,\"#ed7953\"],[0.7777777777777778,\"#fb9f3a\"],[0.8888888888888888,\"#fdca26\"],[1.0,\"#f0f921\"]],\"type\":\"contour\"}],\"heatmapgl\":[{\"colorbar\":{\"outlinewidth\":0,\"ticks\":\"\"},\"colorscale\":[[0.0,\"#0d0887\"],[0.1111111111111111,\"#46039f\"],[0.2222222222222222,\"#7201a8\"],[0.3333333333333333,\"#9c179e\"],[0.4444444444444444,\"#bd3786\"],[0.5555555555555556,\"#d8576b\"],[0.6666666666666666,\"#ed7953\"],[0.7777777777777778,\"#fb9f3a\"],[0.8888888888888888,\"#fdca26\"],[1.0,\"#f0f921\"]],\"type\":\"heatmapgl\"}],\"heatmap\":[{\"colorbar\":{\"outlinewidth\":0,\"ticks\":\"\"},\"colorscale\":[[0.0,\"#0d0887\"],[0.1111111111111111,\"#46039f\"],[0.2222222222222222,\"#7201a8\"],[0.3333333333333333,\"#9c179e\"],[0.4444444444444444,\"#bd3786\"],[0.5555555555555556,\"#d8576b\"],[0.6666666666666666,\"#ed7953\"],[0.7777777777777778,\"#fb9f3a\"],[0.8888888888888888,\"#fdca26\"],[1.0,\"#f0f921\"]],\"type\":\"heatmap\"}],\"histogram2dcontour\":[{\"colorbar\":{\"outlinewidth\":0,\"ticks\":\"\"},\"colorscale\":[[0.0,\"#0d0887\"],[0.1111111111111111,\"#46039f\"],[0.2222222222222222,\"#7201a8\"],[0.3333333333333333,\"#9c179e\"],[0.4444444444444444,\"#bd3786\"],[0.5555555555555556,\"#d8576b\"],[0.6666666666666666,\"#ed7953\"],[0.7777777777777778,\"#fb9f3a\"],[0.8888888888888888,\"#fdca26\"],[1.0,\"#f0f921\"]],\"type\":\"histogram2dcontour\"}],\"histogram2d\":[{\"colorbar\":{\"outlinewidth\":0,\"ticks\":\"\"},\"colorscale\":[[0.0,\"#0d0887\"],[0.1111111111111111,\"#46039f\"],[0.2222222222222222,\"#7201a8\"],[0.3333333333333333,\"#9c179e\"],[0.4444444444444444,\"#bd3786\"],[0.5555555555555556,\"#d8576b\"],[0.6666666666666666,\"#ed7953\"],[0.7777777777777778,\"#fb9f3a\"],[0.8888888888888888,\"#fdca26\"],[1.0,\"#f0f921\"]],\"type\":\"histogram2d\"}],\"histogram\":[{\"marker\":{\"pattern\":{\"fillmode\":\"overlay\",\"size\":10,\"solidity\":0.2}},\"type\":\"histogram\"}],\"mesh3d\":[{\"colorbar\":{\"outlinewidth\":0,\"ticks\":\"\"},\"type\":\"mesh3d\"}],\"parcoords\":[{\"line\":{\"colorbar\":{\"outlinewidth\":0,\"ticks\":\"\"}},\"type\":\"parcoords\"}],\"pie\":[{\"automargin\":true,\"type\":\"pie\"}],\"scatter3d\":[{\"line\":{\"colorbar\":{\"outlinewidth\":0,\"ticks\":\"\"}},\"marker\":{\"colorbar\":{\"outlinewidth\":0,\"ticks\":\"\"}},\"type\":\"scatter3d\"}],\"scattercarpet\":[{\"marker\":{\"colorbar\":{\"outlinewidth\":0,\"ticks\":\"\"}},\"type\":\"scattercarpet\"}],\"scattergeo\":[{\"marker\":{\"colorbar\":{\"outlinewidth\":0,\"ticks\":\"\"}},\"type\":\"scattergeo\"}],\"scattergl\":[{\"marker\":{\"colorbar\":{\"outlinewidth\":0,\"ticks\":\"\"}},\"type\":\"scattergl\"}],\"scattermapbox\":[{\"marker\":{\"colorbar\":{\"outlinewidth\":0,\"ticks\":\"\"}},\"type\":\"scattermapbox\"}],\"scatterpolargl\":[{\"marker\":{\"colorbar\":{\"outlinewidth\":0,\"ticks\":\"\"}},\"type\":\"scatterpolargl\"}],\"scatterpolar\":[{\"marker\":{\"colorbar\":{\"outlinewidth\":0,\"ticks\":\"\"}},\"type\":\"scatterpolar\"}],\"scatter\":[{\"marker\":{\"colorbar\":{\"outlinewidth\":0,\"ticks\":\"\"}},\"type\":\"scatter\"}],\"scatterternary\":[{\"marker\":{\"colorbar\":{\"outlinewidth\":0,\"ticks\":\"\"}},\"type\":\"scatterternary\"}],\"surface\":[{\"colorbar\":{\"outlinewidth\":0,\"ticks\":\"\"},\"colorscale\":[[0.0,\"#0d0887\"],[0.1111111111111111,\"#46039f\"],[0.2222222222222222,\"#7201a8\"],[0.3333333333333333,\"#9c179e\"],[0.4444444444444444,\"#bd3786\"],[0.5555555555555556,\"#d8576b\"],[0.6666666666666666,\"#ed7953\"],[0.7777777777777778,\"#fb9f3a\"],[0.8888888888888888,\"#fdca26\"],[1.0,\"#f0f921\"]],\"type\":\"surface\"}],\"table\":[{\"cells\":{\"fill\":{\"color\":\"#EBF0F8\"},\"line\":{\"color\":\"white\"}},\"header\":{\"fill\":{\"color\":\"#C8D4E3\"},\"line\":{\"color\":\"white\"}},\"type\":\"table\"}]},\"layout\":{\"annotationdefaults\":{\"arrowcolor\":\"#2a3f5f\",\"arrowhead\":0,\"arrowwidth\":1},\"autotypenumbers\":\"strict\",\"coloraxis\":{\"colorbar\":{\"outlinewidth\":0,\"ticks\":\"\"}},\"colorscale\":{\"diverging\":[[0,\"#8e0152\"],[0.1,\"#c51b7d\"],[0.2,\"#de77ae\"],[0.3,\"#f1b6da\"],[0.4,\"#fde0ef\"],[0.5,\"#f7f7f7\"],[0.6,\"#e6f5d0\"],[0.7,\"#b8e186\"],[0.8,\"#7fbc41\"],[0.9,\"#4d9221\"],[1,\"#276419\"]],\"sequential\":[[0.0,\"#0d0887\"],[0.1111111111111111,\"#46039f\"],[0.2222222222222222,\"#7201a8\"],[0.3333333333333333,\"#9c179e\"],[0.4444444444444444,\"#bd3786\"],[0.5555555555555556,\"#d8576b\"],[0.6666666666666666,\"#ed7953\"],[0.7777777777777778,\"#fb9f3a\"],[0.8888888888888888,\"#fdca26\"],[1.0,\"#f0f921\"]],\"sequentialminus\":[[0.0,\"#0d0887\"],[0.1111111111111111,\"#46039f\"],[0.2222222222222222,\"#7201a8\"],[0.3333333333333333,\"#9c179e\"],[0.4444444444444444,\"#bd3786\"],[0.5555555555555556,\"#d8576b\"],[0.6666666666666666,\"#ed7953\"],[0.7777777777777778,\"#fb9f3a\"],[0.8888888888888888,\"#fdca26\"],[1.0,\"#f0f921\"]]},\"colorway\":[\"#636efa\",\"#EF553B\",\"#00cc96\",\"#ab63fa\",\"#FFA15A\",\"#19d3f3\",\"#FF6692\",\"#B6E880\",\"#FF97FF\",\"#FECB52\"],\"font\":{\"color\":\"#2a3f5f\"},\"geo\":{\"bgcolor\":\"white\",\"lakecolor\":\"white\",\"landcolor\":\"#E5ECF6\",\"showlakes\":true,\"showland\":true,\"subunitcolor\":\"white\"},\"hoverlabel\":{\"align\":\"left\"},\"hovermode\":\"closest\",\"mapbox\":{\"style\":\"light\"},\"paper_bgcolor\":\"white\",\"plot_bgcolor\":\"#E5ECF6\",\"polar\":{\"angularaxis\":{\"gridcolor\":\"white\",\"linecolor\":\"white\",\"ticks\":\"\"},\"bgcolor\":\"#E5ECF6\",\"radialaxis\":{\"gridcolor\":\"white\",\"linecolor\":\"white\",\"ticks\":\"\"}},\"scene\":{\"xaxis\":{\"backgroundcolor\":\"#E5ECF6\",\"gridcolor\":\"white\",\"gridwidth\":2,\"linecolor\":\"white\",\"showbackground\":true,\"ticks\":\"\",\"zerolinecolor\":\"white\"},\"yaxis\":{\"backgroundcolor\":\"#E5ECF6\",\"gridcolor\":\"white\",\"gridwidth\":2,\"linecolor\":\"white\",\"showbackground\":true,\"ticks\":\"\",\"zerolinecolor\":\"white\"},\"zaxis\":{\"backgroundcolor\":\"#E5ECF6\",\"gridcolor\":\"white\",\"gridwidth\":2,\"linecolor\":\"white\",\"showbackground\":true,\"ticks\":\"\",\"zerolinecolor\":\"white\"}},\"shapedefaults\":{\"line\":{\"color\":\"#2a3f5f\"}},\"ternary\":{\"aaxis\":{\"gridcolor\":\"white\",\"linecolor\":\"white\",\"ticks\":\"\"},\"baxis\":{\"gridcolor\":\"white\",\"linecolor\":\"white\",\"ticks\":\"\"},\"bgcolor\":\"#E5ECF6\",\"caxis\":{\"gridcolor\":\"white\",\"linecolor\":\"white\",\"ticks\":\"\"}},\"title\":{\"x\":0.05},\"xaxis\":{\"automargin\":true,\"gridcolor\":\"white\",\"linecolor\":\"white\",\"ticks\":\"\",\"title\":{\"standoff\":15},\"zerolinecolor\":\"white\",\"zerolinewidth\":2},\"yaxis\":{\"automargin\":true,\"gridcolor\":\"white\",\"linecolor\":\"white\",\"ticks\":\"\",\"title\":{\"standoff\":15},\"zerolinecolor\":\"white\",\"zerolinewidth\":2}}},\"title\":{\"font\":{\"color\":\"#4D5663\"}},\"xaxis\":{\"gridcolor\":\"#E1E5ED\",\"showgrid\":true,\"tickfont\":{\"color\":\"#4D5663\"},\"title\":{\"font\":{\"color\":\"#4D5663\"},\"text\":\"\"},\"zerolinecolor\":\"#E1E5ED\"},\"yaxis\":{\"gridcolor\":\"#E1E5ED\",\"showgrid\":true,\"tickfont\":{\"color\":\"#4D5663\"},\"title\":{\"font\":{\"color\":\"#4D5663\"},\"text\":\"\"},\"zerolinecolor\":\"#E1E5ED\"}},                        {\"showLink\": true, \"linkText\": \"Export to plot.ly\", \"plotlyServerURL\": \"https://plot.ly\", \"responsive\": true}                    ).then(function(){\n",
       "                            \n",
       "var gd = document.getElementById('c927d0ac-bf46-4904-ab74-0f40a115daaa');\n",
       "var x = new MutationObserver(function (mutations, observer) {{\n",
       "        var display = window.getComputedStyle(gd).display;\n",
       "        if (!display || display === 'none') {{\n",
       "            console.log([gd, 'removed!']);\n",
       "            Plotly.purge(gd);\n",
       "            observer.disconnect();\n",
       "        }}\n",
       "}});\n",
       "\n",
       "// Listen for the removal of the full notebook cells\n",
       "var notebookContainer = gd.closest('#notebook-container');\n",
       "if (notebookContainer) {{\n",
       "    x.observe(notebookContainer, {childList: true});\n",
       "}}\n",
       "\n",
       "// Listen for the clearing of the current output cell\n",
       "var outputEl = gd.closest('.output');\n",
       "if (outputEl) {{\n",
       "    x.observe(outputEl, {childList: true});\n",
       "}}\n",
       "\n",
       "                        })                };                });            </script>        </div>"
      ]
     },
     "metadata": {},
     "output_type": "display_data"
    }
   ],
   "source": [
    "df.iplot(kind=\"bubble\",x=\"A\",y=\"B\",size=\"C\")"
   ]
  },
  {
   "cell_type": "code",
   "execution_count": 80,
   "id": "1e4a38fd",
   "metadata": {},
   "outputs": [
    {
     "data": {
      "application/vnd.plotly.v1+json": {
       "config": {
        "linkText": "Export to plot.ly",
        "plotlyServerURL": "https://plot.ly",
        "showLink": true
       },
       "data": [
        {
         "histfunc": "count",
         "histnorm": "",
         "marker": {
          "color": "rgba(255, 153, 51, 1.0)",
          "line": {
           "color": "#4D5663",
           "width": 1.3
          }
         },
         "name": "A",
         "nbinsx": 10,
         "opacity": 0.8,
         "orientation": "v",
         "type": "histogram",
         "x": [
          1.0695780874798893,
          -0.6688246077647048,
          -0.8768325532699232,
          0.5846041548118759,
          0.1234743270956829,
          3.4791082204999846,
          0.6394411045953567,
          -1.8588525353308045,
          -0.09988848117769902,
          -3.585334312685853,
          -0.3468308478497572,
          -0.8260384206665327,
          -0.6907893591011696,
          -1.4852586173285742,
          -0.25765375593010137,
          -0.44626977717335475,
          -1.7881342688303001,
          1.0560463232781325,
          -0.6118484997932785,
          -0.28090068433241533,
          -0.36129223471773436,
          0.05624123962916439,
          -1.0493408332261727,
          1.3571359129570726,
          0.6080852256235924,
          -1.0764672477878665,
          0.6576424280762245,
          2.1686207235766246,
          -1.3066081747334748,
          0.9394087435997776,
          -0.5226267172566758,
          -0.49651129843957736,
          -0.9918493687721509,
          -0.19131682338888764,
          0.7142159865359168,
          0.18180856373710771,
          0.7501866480553426,
          -0.2659994587199686,
          -1.0863108611887782,
          0.3845970933447684,
          0.08385491653407101,
          0.213288645841052,
          0.8285450872251666,
          0.7829263857702672,
          -0.49796304010092884,
          1.0268246038778484,
          -1.367210159961053,
          -0.7102119846311828,
          -0.38098132668670065,
          0.027296080474879927,
          0.20727149763656935,
          -0.39831741064134546,
          -0.4858771542442912,
          0.044894688014666465,
          -0.3377575089268816,
          0.8146487451450918,
          -0.5176401803753576,
          1.6282037718948779,
          -0.8053439703768238,
          -1.2450221802677344,
          -1.0429522515434908,
          -0.7181219633120665,
          -0.8687414942939818,
          -1.646924395142777,
          1.378280613564057,
          0.5681960097760388,
          -0.006350409197701762,
          -1.027078098139645,
          1.3672669957436328,
          -0.42399754739567835,
          0.2572681050701859,
          0.9866400986616074,
          -0.9179216938928588,
          -2.0808712866480374,
          0.5528322892342697,
          0.9230106496890149,
          0.1686186313709958,
          -1.5417456070111637,
          -0.4200677293091439,
          0.0643680205861979,
          1.437529140323141,
          -0.14220738186728962,
          1.7983613814824884,
          0.2178318654089859,
          -1.5549591871383583,
          2.4969030349900567,
          -1.749730221977046,
          0.6134052139711424,
          -0.3362184800002531,
          -0.3027409579953844,
          1.293778086782797,
          -1.0131940755359794,
          2.1181805861810776,
          -1.3959307921409663,
          0.5140414624574768,
          -0.599410039617266,
          1.7541114211585354,
          -0.6961689882949277,
          -0.09092864116037773,
          0.6647742078919533
         ],
         "xaxis": "x",
         "yaxis": "y"
        },
        {
         "line": {
          "color": "rgba(128, 128, 128, 1.0)",
          "dash": "solid",
          "shape": "linear",
          "width": 1.3
         },
         "marker": {
          "size": 2,
          "symbol": "circle"
         },
         "mode": "markers",
         "name": "A",
         "text": "",
         "type": "scatter",
         "x": [
          -0.9139878772827333,
          -0.08769317039224812,
          1.2549229594087425,
          0.7734929129565938,
          0.32551639667358967,
          0.06472013532223145,
          0.4489237903342312,
          -0.5376767084883879,
          1.4159491326545584,
          -0.16067285210103188,
          0.5395943979579801,
          -0.5964929759286733,
          -0.5694175285048431,
          0.8751026063828987,
          -0.7616455966638427,
          0.15897303518261077,
          -1.6875555004691791,
          0.32216394848199115,
          -0.10030356054937484,
          -0.11856117396267761,
          -0.27414364727766044,
          0.163723571047574,
          1.4237077596079468,
          -0.8629773392344109,
          -0.8963300480762472,
          0.3990646493880536,
          -0.7640696360957434,
          -0.9273917270584725,
          0.34452355271044877,
          0.15170227821005117,
          0.5648147860721607,
          -1.8701285343645826,
          1.950778763700419,
          2.1342463787666666,
          -0.4995652182175252,
          -0.5669159598591469,
          0.10666924786932587,
          0.263359843230698,
          -0.210681061067419,
          -0.8157159337327569,
          -1.4133654524950354,
          0.8290481002596413,
          0.3923108908193899,
          -1.5380858255153,
          1.08770035598143,
          0.11275619340426378,
          1.572544617584101,
          -0.5166715694677358,
          0.9284344540019726,
          0.8006337675994765,
          -1.4285058636600925,
          -0.6392361505059976,
          -0.23042531867174745,
          -0.793958906679922,
          -0.42254265403664415,
          0.16085517143794348,
          0.1125121445461009,
          -1.0882069564305088,
          -1.096823320824602,
          0.019633414187281737,
          0.6195893397874593,
          -1.4028099218639112,
          -0.4908141768141228,
          0.21148419670406784,
          0.6419280636141652,
          -0.06495314317794514,
          -0.9193876460797339,
          0.019942825358401563,
          -2.348428587225312,
          2.000913445564362,
          0.9277072465599404,
          -1.0222088298692635,
          -0.34273600359405526,
          2.338928916336926,
          -0.148101799502789,
          1.524964564987665,
          0.914025793860094,
          1.5422076668737787,
          -0.023749254518849662,
          0.524279843798628,
          -1.4347027513614323,
          -1.785504838816489,
          -0.8954800679209548,
          -1.8961976651347,
          -0.7442784395015505,
          -0.8048857189042761,
          -0.0967984291667222,
          -1.9393000002484315,
          1.6670645156175294,
          -0.21775076532364407,
          0.09050205548815078,
          0.8783754651483104,
          -1.7130236485510746,
          -2.0691261799490825,
          -1.1499457692550565,
          0.8595026389589712,
          -1.3373308228263112,
          0.023915176562741277,
          -0.9087830673537445,
          1.7719125771459925
         ],
         "xaxis": "x2",
         "y": [
          1.0695780874798893,
          -0.6688246077647048,
          -0.8768325532699232,
          0.5846041548118759,
          0.1234743270956829,
          3.4791082204999846,
          0.6394411045953567,
          -1.8588525353308045,
          -0.09988848117769902,
          -3.585334312685853,
          -0.3468308478497572,
          -0.8260384206665327,
          -0.6907893591011696,
          -1.4852586173285742,
          -0.25765375593010137,
          -0.44626977717335475,
          -1.7881342688303001,
          1.0560463232781325,
          -0.6118484997932785,
          -0.28090068433241533,
          -0.36129223471773436,
          0.05624123962916439,
          -1.0493408332261727,
          1.3571359129570726,
          0.6080852256235924,
          -1.0764672477878665,
          0.6576424280762245,
          2.1686207235766246,
          -1.3066081747334748,
          0.9394087435997776,
          -0.5226267172566758,
          -0.49651129843957736,
          -0.9918493687721509,
          -0.19131682338888764,
          0.7142159865359168,
          0.18180856373710771,
          0.7501866480553426,
          -0.2659994587199686,
          -1.0863108611887782,
          0.3845970933447684,
          0.08385491653407101,
          0.213288645841052,
          0.8285450872251666,
          0.7829263857702672,
          -0.49796304010092884,
          1.0268246038778484,
          -1.367210159961053,
          -0.7102119846311828,
          -0.38098132668670065,
          0.027296080474879927,
          0.20727149763656935,
          -0.39831741064134546,
          -0.4858771542442912,
          0.044894688014666465,
          -0.3377575089268816,
          0.8146487451450918,
          -0.5176401803753576,
          1.6282037718948779,
          -0.8053439703768238,
          -1.2450221802677344,
          -1.0429522515434908,
          -0.7181219633120665,
          -0.8687414942939818,
          -1.646924395142777,
          1.378280613564057,
          0.5681960097760388,
          -0.006350409197701762,
          -1.027078098139645,
          1.3672669957436328,
          -0.42399754739567835,
          0.2572681050701859,
          0.9866400986616074,
          -0.9179216938928588,
          -2.0808712866480374,
          0.5528322892342697,
          0.9230106496890149,
          0.1686186313709958,
          -1.5417456070111637,
          -0.4200677293091439,
          0.0643680205861979,
          1.437529140323141,
          -0.14220738186728962,
          1.7983613814824884,
          0.2178318654089859,
          -1.5549591871383583,
          2.4969030349900567,
          -1.749730221977046,
          0.6134052139711424,
          -0.3362184800002531,
          -0.3027409579953844,
          1.293778086782797,
          -1.0131940755359794,
          2.1181805861810776,
          -1.3959307921409663,
          0.5140414624574768,
          -0.599410039617266,
          1.7541114211585354,
          -0.6961689882949277,
          -0.09092864116037773,
          0.6647742078919533
         ],
         "yaxis": "y2"
        },
        {
         "line": {
          "color": "rgba(128, 128, 128, 1.0)",
          "dash": "solid",
          "shape": "linear",
          "width": 1.3
         },
         "marker": {
          "size": 2,
          "symbol": "circle"
         },
         "mode": "markers",
         "name": "A",
         "text": "",
         "type": "scatter",
         "x": [
          -0.9111639501444778,
          -0.21308462762989866,
          0.6178500690224831,
          -0.9491608825047444,
          -0.7718195162364357,
          0.24578190485569634,
          -0.11297161514474634,
          0.05257491343649683,
          1.7921592380873255,
          0.022391913581764206,
          -1.8827530796472438,
          -0.5339157642434252,
          -0.5233726427430536,
          -0.3297124192276205,
          -0.021877630236314984,
          -0.40041345704488357,
          0.47916628560228697,
          1.5613708893385065,
          1.1189151260780066,
          -0.8251285480100764,
          -1.443898523211242,
          1.1764741611916676,
          0.26183975626268585,
          -0.25257828944963806,
          1.1326142050056685,
          -1.2946514979500152,
          -1.1605251382923323,
          -1.0611605388452843,
          -1.5917093690006994,
          -0.47638249303850033,
          0.21077012851362467,
          -1.4529783993970429,
          0.08963217544554952,
          0.26964815391518976,
          1.0045000285749042,
          -0.4186933642798534,
          0.34657172219430366,
          -0.24368542150057984,
          0.26789854356827236,
          -0.9184965002857977,
          0.2990592064381899,
          -1.602502896906284,
          0.38753280042224925,
          0.5605532730294414,
          1.037797069991631,
          -2.191130195941812,
          -1.2798828932732627,
          -1.175341557492041,
          -0.06290157773707312,
          -0.46025244134216337,
          0.6517960047363252,
          1.225213880695869,
          -0.044471056102332554,
          -1.2472283852835697,
          0.6113753040244009,
          -2.3093373536934694,
          0.011318723986845788,
          -0.6701173004275855,
          0.11853525749460166,
          -0.08121217707410237,
          -0.09091553442692922,
          -0.3846229748303238,
          0.4712894744606097,
          -1.1068225933524853,
          -0.9748698602211955,
          0.18619409790889427,
          0.5647919679884869,
          -0.39464378644442094,
          2.3928215378791755,
          1.7040736571936441,
          -0.5151391213076665,
          -0.08137003103917313,
          1.2640930238124004,
          -0.07094263042349323,
          -0.4149743949688728,
          -0.9982413151079128,
          0.032905586865713765,
          -0.5335850221643458,
          0.3438496953412661,
          -0.1992338233417873,
          -1.1401816603739796,
          0.25884031292409476,
          0.32323683840794887,
          -0.2664597337932239,
          0.4029405980918615,
          0.5372414723745346,
          1.1770049034294952,
          -0.050365752585326815,
          -0.3426954694018073,
          -0.9312296561679975,
          0.5892684756912165,
          -1.0909878734947331,
          -1.783197085848866,
          0.09822018499037254,
          -0.898541185350123,
          -0.268581700766926,
          1.8343974601897173,
          -0.9703909136015605,
          -0.49621922608057123,
          0.058404937813770146
         ],
         "xaxis": "x3",
         "y": [
          1.0695780874798893,
          -0.6688246077647048,
          -0.8768325532699232,
          0.5846041548118759,
          0.1234743270956829,
          3.4791082204999846,
          0.6394411045953567,
          -1.8588525353308045,
          -0.09988848117769902,
          -3.585334312685853,
          -0.3468308478497572,
          -0.8260384206665327,
          -0.6907893591011696,
          -1.4852586173285742,
          -0.25765375593010137,
          -0.44626977717335475,
          -1.7881342688303001,
          1.0560463232781325,
          -0.6118484997932785,
          -0.28090068433241533,
          -0.36129223471773436,
          0.05624123962916439,
          -1.0493408332261727,
          1.3571359129570726,
          0.6080852256235924,
          -1.0764672477878665,
          0.6576424280762245,
          2.1686207235766246,
          -1.3066081747334748,
          0.9394087435997776,
          -0.5226267172566758,
          -0.49651129843957736,
          -0.9918493687721509,
          -0.19131682338888764,
          0.7142159865359168,
          0.18180856373710771,
          0.7501866480553426,
          -0.2659994587199686,
          -1.0863108611887782,
          0.3845970933447684,
          0.08385491653407101,
          0.213288645841052,
          0.8285450872251666,
          0.7829263857702672,
          -0.49796304010092884,
          1.0268246038778484,
          -1.367210159961053,
          -0.7102119846311828,
          -0.38098132668670065,
          0.027296080474879927,
          0.20727149763656935,
          -0.39831741064134546,
          -0.4858771542442912,
          0.044894688014666465,
          -0.3377575089268816,
          0.8146487451450918,
          -0.5176401803753576,
          1.6282037718948779,
          -0.8053439703768238,
          -1.2450221802677344,
          -1.0429522515434908,
          -0.7181219633120665,
          -0.8687414942939818,
          -1.646924395142777,
          1.378280613564057,
          0.5681960097760388,
          -0.006350409197701762,
          -1.027078098139645,
          1.3672669957436328,
          -0.42399754739567835,
          0.2572681050701859,
          0.9866400986616074,
          -0.9179216938928588,
          -2.0808712866480374,
          0.5528322892342697,
          0.9230106496890149,
          0.1686186313709958,
          -1.5417456070111637,
          -0.4200677293091439,
          0.0643680205861979,
          1.437529140323141,
          -0.14220738186728962,
          1.7983613814824884,
          0.2178318654089859,
          -1.5549591871383583,
          2.4969030349900567,
          -1.749730221977046,
          0.6134052139711424,
          -0.3362184800002531,
          -0.3027409579953844,
          1.293778086782797,
          -1.0131940755359794,
          2.1181805861810776,
          -1.3959307921409663,
          0.5140414624574768,
          -0.599410039617266,
          1.7541114211585354,
          -0.6961689882949277,
          -0.09092864116037773,
          0.6647742078919533
         ],
         "yaxis": "y3"
        },
        {
         "line": {
          "color": "rgba(128, 128, 128, 1.0)",
          "dash": "solid",
          "shape": "linear",
          "width": 1.3
         },
         "marker": {
          "size": 2,
          "symbol": "circle"
         },
         "mode": "markers",
         "name": "A",
         "text": "",
         "type": "scatter",
         "x": [
          0.901625400646958,
          -0.049514969031106415,
          -0.5436316703459625,
          -0.6740816194768533,
          -0.0436335460907179,
          1.312218805289843,
          -1.7788215798946212,
          0.9395934557601892,
          -0.2837863718544718,
          -1.8229775405218895,
          0.0664212955525262,
          1.0026965717886291,
          1.7492203741629795,
          -0.3645746532685288,
          -0.7813815162373545,
          0.3781935450243182,
          -0.5090260728395484,
          0.5188107004889,
          -0.06651783174961994,
          0.22153952684157205,
          -1.866621181584803,
          -0.617241104874736,
          0.26827028925273505,
          1.2509085494452925,
          0.019409775851041207,
          -1.0832155061104165,
          1.0110797935259062,
          -1.8740614748451139,
          -0.6266998441654743,
          -0.04400478399589192,
          0.18937554400294493,
          -1.371302348618277,
          -0.1400635642035595,
          -0.737607274461631,
          -1.7577654442327857,
          0.00878796650331657,
          -0.17379907818277626,
          0.926350887460455,
          -0.0857595086263262,
          0.08772033753918801,
          -0.41181199564907645,
          0.10627044864902223,
          1.7451134698565127,
          0.6023903504471164,
          -1.225712943850586,
          0.02989961530307323,
          0.39345322629876694,
          0.5623321875737589,
          -1.490186418748514,
          1.43103169107788,
          -0.6912091248391053,
          -1.1490171922735388,
          0.4621308697596686,
          -1.694278393910498,
          -1.8249469539132568,
          0.4026888699890036,
          1.4589676140913095,
          0.06360793441385354,
          -0.6274756707793143,
          1.9228987987930435,
          -0.49380093161145294,
          0.7225478415902334,
          -0.15241404498658934,
          -0.5780999074327073,
          -0.48420272952273335,
          0.6177270949721229,
          -1.1810762151079863,
          0.3986044465010986,
          1.654493984752075,
          0.21763998586240077,
          -0.510184604326875,
          -0.12001725979624689,
          -0.1422921410982252,
          0.08885045657532206,
          0.031142341694185213,
          1.4203303335399462,
          -0.016421202475835193,
          -0.30173166478023944,
          -0.1520262096445688,
          -0.5448118784094882,
          -1.197061098819882,
          -0.8063403671715362,
          0.9163453028095149,
          -0.5216803892654508,
          0.23007478398777292,
          0.8901991950988024,
          1.4807017118381032,
          -1.7607411386790102,
          -1.2129477353242093,
          1.6674246071924355,
          1.3984399994740626,
          -0.10158924923118912,
          -0.05966384308772902,
          -0.15128827260123795,
          0.7467288790878025,
          -0.20460751589824278,
          1.4618363436781472,
          0.6498805877950959,
          0.07671615404303134,
          0.31892399689042944
         ],
         "xaxis": "x4",
         "y": [
          1.0695780874798893,
          -0.6688246077647048,
          -0.8768325532699232,
          0.5846041548118759,
          0.1234743270956829,
          3.4791082204999846,
          0.6394411045953567,
          -1.8588525353308045,
          -0.09988848117769902,
          -3.585334312685853,
          -0.3468308478497572,
          -0.8260384206665327,
          -0.6907893591011696,
          -1.4852586173285742,
          -0.25765375593010137,
          -0.44626977717335475,
          -1.7881342688303001,
          1.0560463232781325,
          -0.6118484997932785,
          -0.28090068433241533,
          -0.36129223471773436,
          0.05624123962916439,
          -1.0493408332261727,
          1.3571359129570726,
          0.6080852256235924,
          -1.0764672477878665,
          0.6576424280762245,
          2.1686207235766246,
          -1.3066081747334748,
          0.9394087435997776,
          -0.5226267172566758,
          -0.49651129843957736,
          -0.9918493687721509,
          -0.19131682338888764,
          0.7142159865359168,
          0.18180856373710771,
          0.7501866480553426,
          -0.2659994587199686,
          -1.0863108611887782,
          0.3845970933447684,
          0.08385491653407101,
          0.213288645841052,
          0.8285450872251666,
          0.7829263857702672,
          -0.49796304010092884,
          1.0268246038778484,
          -1.367210159961053,
          -0.7102119846311828,
          -0.38098132668670065,
          0.027296080474879927,
          0.20727149763656935,
          -0.39831741064134546,
          -0.4858771542442912,
          0.044894688014666465,
          -0.3377575089268816,
          0.8146487451450918,
          -0.5176401803753576,
          1.6282037718948779,
          -0.8053439703768238,
          -1.2450221802677344,
          -1.0429522515434908,
          -0.7181219633120665,
          -0.8687414942939818,
          -1.646924395142777,
          1.378280613564057,
          0.5681960097760388,
          -0.006350409197701762,
          -1.027078098139645,
          1.3672669957436328,
          -0.42399754739567835,
          0.2572681050701859,
          0.9866400986616074,
          -0.9179216938928588,
          -2.0808712866480374,
          0.5528322892342697,
          0.9230106496890149,
          0.1686186313709958,
          -1.5417456070111637,
          -0.4200677293091439,
          0.0643680205861979,
          1.437529140323141,
          -0.14220738186728962,
          1.7983613814824884,
          0.2178318654089859,
          -1.5549591871383583,
          2.4969030349900567,
          -1.749730221977046,
          0.6134052139711424,
          -0.3362184800002531,
          -0.3027409579953844,
          1.293778086782797,
          -1.0131940755359794,
          2.1181805861810776,
          -1.3959307921409663,
          0.5140414624574768,
          -0.599410039617266,
          1.7541114211585354,
          -0.6961689882949277,
          -0.09092864116037773,
          0.6647742078919533
         ],
         "yaxis": "y4"
        },
        {
         "line": {
          "color": "rgba(128, 128, 128, 1.0)",
          "dash": "solid",
          "shape": "linear",
          "width": 1.3
         },
         "marker": {
          "size": 2,
          "symbol": "circle"
         },
         "mode": "markers",
         "name": "B",
         "text": "",
         "type": "scatter",
         "x": [
          1.0695780874798893,
          -0.6688246077647048,
          -0.8768325532699232,
          0.5846041548118759,
          0.1234743270956829,
          3.4791082204999846,
          0.6394411045953567,
          -1.8588525353308045,
          -0.09988848117769902,
          -3.585334312685853,
          -0.3468308478497572,
          -0.8260384206665327,
          -0.6907893591011696,
          -1.4852586173285742,
          -0.25765375593010137,
          -0.44626977717335475,
          -1.7881342688303001,
          1.0560463232781325,
          -0.6118484997932785,
          -0.28090068433241533,
          -0.36129223471773436,
          0.05624123962916439,
          -1.0493408332261727,
          1.3571359129570726,
          0.6080852256235924,
          -1.0764672477878665,
          0.6576424280762245,
          2.1686207235766246,
          -1.3066081747334748,
          0.9394087435997776,
          -0.5226267172566758,
          -0.49651129843957736,
          -0.9918493687721509,
          -0.19131682338888764,
          0.7142159865359168,
          0.18180856373710771,
          0.7501866480553426,
          -0.2659994587199686,
          -1.0863108611887782,
          0.3845970933447684,
          0.08385491653407101,
          0.213288645841052,
          0.8285450872251666,
          0.7829263857702672,
          -0.49796304010092884,
          1.0268246038778484,
          -1.367210159961053,
          -0.7102119846311828,
          -0.38098132668670065,
          0.027296080474879927,
          0.20727149763656935,
          -0.39831741064134546,
          -0.4858771542442912,
          0.044894688014666465,
          -0.3377575089268816,
          0.8146487451450918,
          -0.5176401803753576,
          1.6282037718948779,
          -0.8053439703768238,
          -1.2450221802677344,
          -1.0429522515434908,
          -0.7181219633120665,
          -0.8687414942939818,
          -1.646924395142777,
          1.378280613564057,
          0.5681960097760388,
          -0.006350409197701762,
          -1.027078098139645,
          1.3672669957436328,
          -0.42399754739567835,
          0.2572681050701859,
          0.9866400986616074,
          -0.9179216938928588,
          -2.0808712866480374,
          0.5528322892342697,
          0.9230106496890149,
          0.1686186313709958,
          -1.5417456070111637,
          -0.4200677293091439,
          0.0643680205861979,
          1.437529140323141,
          -0.14220738186728962,
          1.7983613814824884,
          0.2178318654089859,
          -1.5549591871383583,
          2.4969030349900567,
          -1.749730221977046,
          0.6134052139711424,
          -0.3362184800002531,
          -0.3027409579953844,
          1.293778086782797,
          -1.0131940755359794,
          2.1181805861810776,
          -1.3959307921409663,
          0.5140414624574768,
          -0.599410039617266,
          1.7541114211585354,
          -0.6961689882949277,
          -0.09092864116037773,
          0.6647742078919533
         ],
         "xaxis": "x5",
         "y": [
          -0.9139878772827333,
          -0.08769317039224812,
          1.2549229594087425,
          0.7734929129565938,
          0.32551639667358967,
          0.06472013532223145,
          0.4489237903342312,
          -0.5376767084883879,
          1.4159491326545584,
          -0.16067285210103188,
          0.5395943979579801,
          -0.5964929759286733,
          -0.5694175285048431,
          0.8751026063828987,
          -0.7616455966638427,
          0.15897303518261077,
          -1.6875555004691791,
          0.32216394848199115,
          -0.10030356054937484,
          -0.11856117396267761,
          -0.27414364727766044,
          0.163723571047574,
          1.4237077596079468,
          -0.8629773392344109,
          -0.8963300480762472,
          0.3990646493880536,
          -0.7640696360957434,
          -0.9273917270584725,
          0.34452355271044877,
          0.15170227821005117,
          0.5648147860721607,
          -1.8701285343645826,
          1.950778763700419,
          2.1342463787666666,
          -0.4995652182175252,
          -0.5669159598591469,
          0.10666924786932587,
          0.263359843230698,
          -0.210681061067419,
          -0.8157159337327569,
          -1.4133654524950354,
          0.8290481002596413,
          0.3923108908193899,
          -1.5380858255153,
          1.08770035598143,
          0.11275619340426378,
          1.572544617584101,
          -0.5166715694677358,
          0.9284344540019726,
          0.8006337675994765,
          -1.4285058636600925,
          -0.6392361505059976,
          -0.23042531867174745,
          -0.793958906679922,
          -0.42254265403664415,
          0.16085517143794348,
          0.1125121445461009,
          -1.0882069564305088,
          -1.096823320824602,
          0.019633414187281737,
          0.6195893397874593,
          -1.4028099218639112,
          -0.4908141768141228,
          0.21148419670406784,
          0.6419280636141652,
          -0.06495314317794514,
          -0.9193876460797339,
          0.019942825358401563,
          -2.348428587225312,
          2.000913445564362,
          0.9277072465599404,
          -1.0222088298692635,
          -0.34273600359405526,
          2.338928916336926,
          -0.148101799502789,
          1.524964564987665,
          0.914025793860094,
          1.5422076668737787,
          -0.023749254518849662,
          0.524279843798628,
          -1.4347027513614323,
          -1.785504838816489,
          -0.8954800679209548,
          -1.8961976651347,
          -0.7442784395015505,
          -0.8048857189042761,
          -0.0967984291667222,
          -1.9393000002484315,
          1.6670645156175294,
          -0.21775076532364407,
          0.09050205548815078,
          0.8783754651483104,
          -1.7130236485510746,
          -2.0691261799490825,
          -1.1499457692550565,
          0.8595026389589712,
          -1.3373308228263112,
          0.023915176562741277,
          -0.9087830673537445,
          1.7719125771459925
         ],
         "yaxis": "y5"
        },
        {
         "histfunc": "count",
         "histnorm": "",
         "marker": {
          "color": "rgba(55, 128, 191, 1.0)",
          "line": {
           "color": "#4D5663",
           "width": 1.3
          }
         },
         "name": "B",
         "nbinsx": 10,
         "opacity": 0.8,
         "orientation": "v",
         "type": "histogram",
         "x": [
          -0.9139878772827333,
          -0.08769317039224812,
          1.2549229594087425,
          0.7734929129565938,
          0.32551639667358967,
          0.06472013532223145,
          0.4489237903342312,
          -0.5376767084883879,
          1.4159491326545584,
          -0.16067285210103188,
          0.5395943979579801,
          -0.5964929759286733,
          -0.5694175285048431,
          0.8751026063828987,
          -0.7616455966638427,
          0.15897303518261077,
          -1.6875555004691791,
          0.32216394848199115,
          -0.10030356054937484,
          -0.11856117396267761,
          -0.27414364727766044,
          0.163723571047574,
          1.4237077596079468,
          -0.8629773392344109,
          -0.8963300480762472,
          0.3990646493880536,
          -0.7640696360957434,
          -0.9273917270584725,
          0.34452355271044877,
          0.15170227821005117,
          0.5648147860721607,
          -1.8701285343645826,
          1.950778763700419,
          2.1342463787666666,
          -0.4995652182175252,
          -0.5669159598591469,
          0.10666924786932587,
          0.263359843230698,
          -0.210681061067419,
          -0.8157159337327569,
          -1.4133654524950354,
          0.8290481002596413,
          0.3923108908193899,
          -1.5380858255153,
          1.08770035598143,
          0.11275619340426378,
          1.572544617584101,
          -0.5166715694677358,
          0.9284344540019726,
          0.8006337675994765,
          -1.4285058636600925,
          -0.6392361505059976,
          -0.23042531867174745,
          -0.793958906679922,
          -0.42254265403664415,
          0.16085517143794348,
          0.1125121445461009,
          -1.0882069564305088,
          -1.096823320824602,
          0.019633414187281737,
          0.6195893397874593,
          -1.4028099218639112,
          -0.4908141768141228,
          0.21148419670406784,
          0.6419280636141652,
          -0.06495314317794514,
          -0.9193876460797339,
          0.019942825358401563,
          -2.348428587225312,
          2.000913445564362,
          0.9277072465599404,
          -1.0222088298692635,
          -0.34273600359405526,
          2.338928916336926,
          -0.148101799502789,
          1.524964564987665,
          0.914025793860094,
          1.5422076668737787,
          -0.023749254518849662,
          0.524279843798628,
          -1.4347027513614323,
          -1.785504838816489,
          -0.8954800679209548,
          -1.8961976651347,
          -0.7442784395015505,
          -0.8048857189042761,
          -0.0967984291667222,
          -1.9393000002484315,
          1.6670645156175294,
          -0.21775076532364407,
          0.09050205548815078,
          0.8783754651483104,
          -1.7130236485510746,
          -2.0691261799490825,
          -1.1499457692550565,
          0.8595026389589712,
          -1.3373308228263112,
          0.023915176562741277,
          -0.9087830673537445,
          1.7719125771459925
         ],
         "xaxis": "x6",
         "yaxis": "y6"
        },
        {
         "line": {
          "color": "rgba(128, 128, 128, 1.0)",
          "dash": "solid",
          "shape": "linear",
          "width": 1.3
         },
         "marker": {
          "size": 2,
          "symbol": "circle"
         },
         "mode": "markers",
         "name": "B",
         "text": "",
         "type": "scatter",
         "x": [
          -0.9111639501444778,
          -0.21308462762989866,
          0.6178500690224831,
          -0.9491608825047444,
          -0.7718195162364357,
          0.24578190485569634,
          -0.11297161514474634,
          0.05257491343649683,
          1.7921592380873255,
          0.022391913581764206,
          -1.8827530796472438,
          -0.5339157642434252,
          -0.5233726427430536,
          -0.3297124192276205,
          -0.021877630236314984,
          -0.40041345704488357,
          0.47916628560228697,
          1.5613708893385065,
          1.1189151260780066,
          -0.8251285480100764,
          -1.443898523211242,
          1.1764741611916676,
          0.26183975626268585,
          -0.25257828944963806,
          1.1326142050056685,
          -1.2946514979500152,
          -1.1605251382923323,
          -1.0611605388452843,
          -1.5917093690006994,
          -0.47638249303850033,
          0.21077012851362467,
          -1.4529783993970429,
          0.08963217544554952,
          0.26964815391518976,
          1.0045000285749042,
          -0.4186933642798534,
          0.34657172219430366,
          -0.24368542150057984,
          0.26789854356827236,
          -0.9184965002857977,
          0.2990592064381899,
          -1.602502896906284,
          0.38753280042224925,
          0.5605532730294414,
          1.037797069991631,
          -2.191130195941812,
          -1.2798828932732627,
          -1.175341557492041,
          -0.06290157773707312,
          -0.46025244134216337,
          0.6517960047363252,
          1.225213880695869,
          -0.044471056102332554,
          -1.2472283852835697,
          0.6113753040244009,
          -2.3093373536934694,
          0.011318723986845788,
          -0.6701173004275855,
          0.11853525749460166,
          -0.08121217707410237,
          -0.09091553442692922,
          -0.3846229748303238,
          0.4712894744606097,
          -1.1068225933524853,
          -0.9748698602211955,
          0.18619409790889427,
          0.5647919679884869,
          -0.39464378644442094,
          2.3928215378791755,
          1.7040736571936441,
          -0.5151391213076665,
          -0.08137003103917313,
          1.2640930238124004,
          -0.07094263042349323,
          -0.4149743949688728,
          -0.9982413151079128,
          0.032905586865713765,
          -0.5335850221643458,
          0.3438496953412661,
          -0.1992338233417873,
          -1.1401816603739796,
          0.25884031292409476,
          0.32323683840794887,
          -0.2664597337932239,
          0.4029405980918615,
          0.5372414723745346,
          1.1770049034294952,
          -0.050365752585326815,
          -0.3426954694018073,
          -0.9312296561679975,
          0.5892684756912165,
          -1.0909878734947331,
          -1.783197085848866,
          0.09822018499037254,
          -0.898541185350123,
          -0.268581700766926,
          1.8343974601897173,
          -0.9703909136015605,
          -0.49621922608057123,
          0.058404937813770146
         ],
         "xaxis": "x7",
         "y": [
          -0.9139878772827333,
          -0.08769317039224812,
          1.2549229594087425,
          0.7734929129565938,
          0.32551639667358967,
          0.06472013532223145,
          0.4489237903342312,
          -0.5376767084883879,
          1.4159491326545584,
          -0.16067285210103188,
          0.5395943979579801,
          -0.5964929759286733,
          -0.5694175285048431,
          0.8751026063828987,
          -0.7616455966638427,
          0.15897303518261077,
          -1.6875555004691791,
          0.32216394848199115,
          -0.10030356054937484,
          -0.11856117396267761,
          -0.27414364727766044,
          0.163723571047574,
          1.4237077596079468,
          -0.8629773392344109,
          -0.8963300480762472,
          0.3990646493880536,
          -0.7640696360957434,
          -0.9273917270584725,
          0.34452355271044877,
          0.15170227821005117,
          0.5648147860721607,
          -1.8701285343645826,
          1.950778763700419,
          2.1342463787666666,
          -0.4995652182175252,
          -0.5669159598591469,
          0.10666924786932587,
          0.263359843230698,
          -0.210681061067419,
          -0.8157159337327569,
          -1.4133654524950354,
          0.8290481002596413,
          0.3923108908193899,
          -1.5380858255153,
          1.08770035598143,
          0.11275619340426378,
          1.572544617584101,
          -0.5166715694677358,
          0.9284344540019726,
          0.8006337675994765,
          -1.4285058636600925,
          -0.6392361505059976,
          -0.23042531867174745,
          -0.793958906679922,
          -0.42254265403664415,
          0.16085517143794348,
          0.1125121445461009,
          -1.0882069564305088,
          -1.096823320824602,
          0.019633414187281737,
          0.6195893397874593,
          -1.4028099218639112,
          -0.4908141768141228,
          0.21148419670406784,
          0.6419280636141652,
          -0.06495314317794514,
          -0.9193876460797339,
          0.019942825358401563,
          -2.348428587225312,
          2.000913445564362,
          0.9277072465599404,
          -1.0222088298692635,
          -0.34273600359405526,
          2.338928916336926,
          -0.148101799502789,
          1.524964564987665,
          0.914025793860094,
          1.5422076668737787,
          -0.023749254518849662,
          0.524279843798628,
          -1.4347027513614323,
          -1.785504838816489,
          -0.8954800679209548,
          -1.8961976651347,
          -0.7442784395015505,
          -0.8048857189042761,
          -0.0967984291667222,
          -1.9393000002484315,
          1.6670645156175294,
          -0.21775076532364407,
          0.09050205548815078,
          0.8783754651483104,
          -1.7130236485510746,
          -2.0691261799490825,
          -1.1499457692550565,
          0.8595026389589712,
          -1.3373308228263112,
          0.023915176562741277,
          -0.9087830673537445,
          1.7719125771459925
         ],
         "yaxis": "y7"
        },
        {
         "line": {
          "color": "rgba(128, 128, 128, 1.0)",
          "dash": "solid",
          "shape": "linear",
          "width": 1.3
         },
         "marker": {
          "size": 2,
          "symbol": "circle"
         },
         "mode": "markers",
         "name": "B",
         "text": "",
         "type": "scatter",
         "x": [
          0.901625400646958,
          -0.049514969031106415,
          -0.5436316703459625,
          -0.6740816194768533,
          -0.0436335460907179,
          1.312218805289843,
          -1.7788215798946212,
          0.9395934557601892,
          -0.2837863718544718,
          -1.8229775405218895,
          0.0664212955525262,
          1.0026965717886291,
          1.7492203741629795,
          -0.3645746532685288,
          -0.7813815162373545,
          0.3781935450243182,
          -0.5090260728395484,
          0.5188107004889,
          -0.06651783174961994,
          0.22153952684157205,
          -1.866621181584803,
          -0.617241104874736,
          0.26827028925273505,
          1.2509085494452925,
          0.019409775851041207,
          -1.0832155061104165,
          1.0110797935259062,
          -1.8740614748451139,
          -0.6266998441654743,
          -0.04400478399589192,
          0.18937554400294493,
          -1.371302348618277,
          -0.1400635642035595,
          -0.737607274461631,
          -1.7577654442327857,
          0.00878796650331657,
          -0.17379907818277626,
          0.926350887460455,
          -0.0857595086263262,
          0.08772033753918801,
          -0.41181199564907645,
          0.10627044864902223,
          1.7451134698565127,
          0.6023903504471164,
          -1.225712943850586,
          0.02989961530307323,
          0.39345322629876694,
          0.5623321875737589,
          -1.490186418748514,
          1.43103169107788,
          -0.6912091248391053,
          -1.1490171922735388,
          0.4621308697596686,
          -1.694278393910498,
          -1.8249469539132568,
          0.4026888699890036,
          1.4589676140913095,
          0.06360793441385354,
          -0.6274756707793143,
          1.9228987987930435,
          -0.49380093161145294,
          0.7225478415902334,
          -0.15241404498658934,
          -0.5780999074327073,
          -0.48420272952273335,
          0.6177270949721229,
          -1.1810762151079863,
          0.3986044465010986,
          1.654493984752075,
          0.21763998586240077,
          -0.510184604326875,
          -0.12001725979624689,
          -0.1422921410982252,
          0.08885045657532206,
          0.031142341694185213,
          1.4203303335399462,
          -0.016421202475835193,
          -0.30173166478023944,
          -0.1520262096445688,
          -0.5448118784094882,
          -1.197061098819882,
          -0.8063403671715362,
          0.9163453028095149,
          -0.5216803892654508,
          0.23007478398777292,
          0.8901991950988024,
          1.4807017118381032,
          -1.7607411386790102,
          -1.2129477353242093,
          1.6674246071924355,
          1.3984399994740626,
          -0.10158924923118912,
          -0.05966384308772902,
          -0.15128827260123795,
          0.7467288790878025,
          -0.20460751589824278,
          1.4618363436781472,
          0.6498805877950959,
          0.07671615404303134,
          0.31892399689042944
         ],
         "xaxis": "x8",
         "y": [
          -0.9139878772827333,
          -0.08769317039224812,
          1.2549229594087425,
          0.7734929129565938,
          0.32551639667358967,
          0.06472013532223145,
          0.4489237903342312,
          -0.5376767084883879,
          1.4159491326545584,
          -0.16067285210103188,
          0.5395943979579801,
          -0.5964929759286733,
          -0.5694175285048431,
          0.8751026063828987,
          -0.7616455966638427,
          0.15897303518261077,
          -1.6875555004691791,
          0.32216394848199115,
          -0.10030356054937484,
          -0.11856117396267761,
          -0.27414364727766044,
          0.163723571047574,
          1.4237077596079468,
          -0.8629773392344109,
          -0.8963300480762472,
          0.3990646493880536,
          -0.7640696360957434,
          -0.9273917270584725,
          0.34452355271044877,
          0.15170227821005117,
          0.5648147860721607,
          -1.8701285343645826,
          1.950778763700419,
          2.1342463787666666,
          -0.4995652182175252,
          -0.5669159598591469,
          0.10666924786932587,
          0.263359843230698,
          -0.210681061067419,
          -0.8157159337327569,
          -1.4133654524950354,
          0.8290481002596413,
          0.3923108908193899,
          -1.5380858255153,
          1.08770035598143,
          0.11275619340426378,
          1.572544617584101,
          -0.5166715694677358,
          0.9284344540019726,
          0.8006337675994765,
          -1.4285058636600925,
          -0.6392361505059976,
          -0.23042531867174745,
          -0.793958906679922,
          -0.42254265403664415,
          0.16085517143794348,
          0.1125121445461009,
          -1.0882069564305088,
          -1.096823320824602,
          0.019633414187281737,
          0.6195893397874593,
          -1.4028099218639112,
          -0.4908141768141228,
          0.21148419670406784,
          0.6419280636141652,
          -0.06495314317794514,
          -0.9193876460797339,
          0.019942825358401563,
          -2.348428587225312,
          2.000913445564362,
          0.9277072465599404,
          -1.0222088298692635,
          -0.34273600359405526,
          2.338928916336926,
          -0.148101799502789,
          1.524964564987665,
          0.914025793860094,
          1.5422076668737787,
          -0.023749254518849662,
          0.524279843798628,
          -1.4347027513614323,
          -1.785504838816489,
          -0.8954800679209548,
          -1.8961976651347,
          -0.7442784395015505,
          -0.8048857189042761,
          -0.0967984291667222,
          -1.9393000002484315,
          1.6670645156175294,
          -0.21775076532364407,
          0.09050205548815078,
          0.8783754651483104,
          -1.7130236485510746,
          -2.0691261799490825,
          -1.1499457692550565,
          0.8595026389589712,
          -1.3373308228263112,
          0.023915176562741277,
          -0.9087830673537445,
          1.7719125771459925
         ],
         "yaxis": "y8"
        },
        {
         "line": {
          "color": "rgba(128, 128, 128, 1.0)",
          "dash": "solid",
          "shape": "linear",
          "width": 1.3
         },
         "marker": {
          "size": 2,
          "symbol": "circle"
         },
         "mode": "markers",
         "name": "C",
         "text": "",
         "type": "scatter",
         "x": [
          1.0695780874798893,
          -0.6688246077647048,
          -0.8768325532699232,
          0.5846041548118759,
          0.1234743270956829,
          3.4791082204999846,
          0.6394411045953567,
          -1.8588525353308045,
          -0.09988848117769902,
          -3.585334312685853,
          -0.3468308478497572,
          -0.8260384206665327,
          -0.6907893591011696,
          -1.4852586173285742,
          -0.25765375593010137,
          -0.44626977717335475,
          -1.7881342688303001,
          1.0560463232781325,
          -0.6118484997932785,
          -0.28090068433241533,
          -0.36129223471773436,
          0.05624123962916439,
          -1.0493408332261727,
          1.3571359129570726,
          0.6080852256235924,
          -1.0764672477878665,
          0.6576424280762245,
          2.1686207235766246,
          -1.3066081747334748,
          0.9394087435997776,
          -0.5226267172566758,
          -0.49651129843957736,
          -0.9918493687721509,
          -0.19131682338888764,
          0.7142159865359168,
          0.18180856373710771,
          0.7501866480553426,
          -0.2659994587199686,
          -1.0863108611887782,
          0.3845970933447684,
          0.08385491653407101,
          0.213288645841052,
          0.8285450872251666,
          0.7829263857702672,
          -0.49796304010092884,
          1.0268246038778484,
          -1.367210159961053,
          -0.7102119846311828,
          -0.38098132668670065,
          0.027296080474879927,
          0.20727149763656935,
          -0.39831741064134546,
          -0.4858771542442912,
          0.044894688014666465,
          -0.3377575089268816,
          0.8146487451450918,
          -0.5176401803753576,
          1.6282037718948779,
          -0.8053439703768238,
          -1.2450221802677344,
          -1.0429522515434908,
          -0.7181219633120665,
          -0.8687414942939818,
          -1.646924395142777,
          1.378280613564057,
          0.5681960097760388,
          -0.006350409197701762,
          -1.027078098139645,
          1.3672669957436328,
          -0.42399754739567835,
          0.2572681050701859,
          0.9866400986616074,
          -0.9179216938928588,
          -2.0808712866480374,
          0.5528322892342697,
          0.9230106496890149,
          0.1686186313709958,
          -1.5417456070111637,
          -0.4200677293091439,
          0.0643680205861979,
          1.437529140323141,
          -0.14220738186728962,
          1.7983613814824884,
          0.2178318654089859,
          -1.5549591871383583,
          2.4969030349900567,
          -1.749730221977046,
          0.6134052139711424,
          -0.3362184800002531,
          -0.3027409579953844,
          1.293778086782797,
          -1.0131940755359794,
          2.1181805861810776,
          -1.3959307921409663,
          0.5140414624574768,
          -0.599410039617266,
          1.7541114211585354,
          -0.6961689882949277,
          -0.09092864116037773,
          0.6647742078919533
         ],
         "xaxis": "x9",
         "y": [
          -0.9111639501444778,
          -0.21308462762989866,
          0.6178500690224831,
          -0.9491608825047444,
          -0.7718195162364357,
          0.24578190485569634,
          -0.11297161514474634,
          0.05257491343649683,
          1.7921592380873255,
          0.022391913581764206,
          -1.8827530796472438,
          -0.5339157642434252,
          -0.5233726427430536,
          -0.3297124192276205,
          -0.021877630236314984,
          -0.40041345704488357,
          0.47916628560228697,
          1.5613708893385065,
          1.1189151260780066,
          -0.8251285480100764,
          -1.443898523211242,
          1.1764741611916676,
          0.26183975626268585,
          -0.25257828944963806,
          1.1326142050056685,
          -1.2946514979500152,
          -1.1605251382923323,
          -1.0611605388452843,
          -1.5917093690006994,
          -0.47638249303850033,
          0.21077012851362467,
          -1.4529783993970429,
          0.08963217544554952,
          0.26964815391518976,
          1.0045000285749042,
          -0.4186933642798534,
          0.34657172219430366,
          -0.24368542150057984,
          0.26789854356827236,
          -0.9184965002857977,
          0.2990592064381899,
          -1.602502896906284,
          0.38753280042224925,
          0.5605532730294414,
          1.037797069991631,
          -2.191130195941812,
          -1.2798828932732627,
          -1.175341557492041,
          -0.06290157773707312,
          -0.46025244134216337,
          0.6517960047363252,
          1.225213880695869,
          -0.044471056102332554,
          -1.2472283852835697,
          0.6113753040244009,
          -2.3093373536934694,
          0.011318723986845788,
          -0.6701173004275855,
          0.11853525749460166,
          -0.08121217707410237,
          -0.09091553442692922,
          -0.3846229748303238,
          0.4712894744606097,
          -1.1068225933524853,
          -0.9748698602211955,
          0.18619409790889427,
          0.5647919679884869,
          -0.39464378644442094,
          2.3928215378791755,
          1.7040736571936441,
          -0.5151391213076665,
          -0.08137003103917313,
          1.2640930238124004,
          -0.07094263042349323,
          -0.4149743949688728,
          -0.9982413151079128,
          0.032905586865713765,
          -0.5335850221643458,
          0.3438496953412661,
          -0.1992338233417873,
          -1.1401816603739796,
          0.25884031292409476,
          0.32323683840794887,
          -0.2664597337932239,
          0.4029405980918615,
          0.5372414723745346,
          1.1770049034294952,
          -0.050365752585326815,
          -0.3426954694018073,
          -0.9312296561679975,
          0.5892684756912165,
          -1.0909878734947331,
          -1.783197085848866,
          0.09822018499037254,
          -0.898541185350123,
          -0.268581700766926,
          1.8343974601897173,
          -0.9703909136015605,
          -0.49621922608057123,
          0.058404937813770146
         ],
         "yaxis": "y9"
        },
        {
         "line": {
          "color": "rgba(128, 128, 128, 1.0)",
          "dash": "solid",
          "shape": "linear",
          "width": 1.3
         },
         "marker": {
          "size": 2,
          "symbol": "circle"
         },
         "mode": "markers",
         "name": "C",
         "text": "",
         "type": "scatter",
         "x": [
          -0.9139878772827333,
          -0.08769317039224812,
          1.2549229594087425,
          0.7734929129565938,
          0.32551639667358967,
          0.06472013532223145,
          0.4489237903342312,
          -0.5376767084883879,
          1.4159491326545584,
          -0.16067285210103188,
          0.5395943979579801,
          -0.5964929759286733,
          -0.5694175285048431,
          0.8751026063828987,
          -0.7616455966638427,
          0.15897303518261077,
          -1.6875555004691791,
          0.32216394848199115,
          -0.10030356054937484,
          -0.11856117396267761,
          -0.27414364727766044,
          0.163723571047574,
          1.4237077596079468,
          -0.8629773392344109,
          -0.8963300480762472,
          0.3990646493880536,
          -0.7640696360957434,
          -0.9273917270584725,
          0.34452355271044877,
          0.15170227821005117,
          0.5648147860721607,
          -1.8701285343645826,
          1.950778763700419,
          2.1342463787666666,
          -0.4995652182175252,
          -0.5669159598591469,
          0.10666924786932587,
          0.263359843230698,
          -0.210681061067419,
          -0.8157159337327569,
          -1.4133654524950354,
          0.8290481002596413,
          0.3923108908193899,
          -1.5380858255153,
          1.08770035598143,
          0.11275619340426378,
          1.572544617584101,
          -0.5166715694677358,
          0.9284344540019726,
          0.8006337675994765,
          -1.4285058636600925,
          -0.6392361505059976,
          -0.23042531867174745,
          -0.793958906679922,
          -0.42254265403664415,
          0.16085517143794348,
          0.1125121445461009,
          -1.0882069564305088,
          -1.096823320824602,
          0.019633414187281737,
          0.6195893397874593,
          -1.4028099218639112,
          -0.4908141768141228,
          0.21148419670406784,
          0.6419280636141652,
          -0.06495314317794514,
          -0.9193876460797339,
          0.019942825358401563,
          -2.348428587225312,
          2.000913445564362,
          0.9277072465599404,
          -1.0222088298692635,
          -0.34273600359405526,
          2.338928916336926,
          -0.148101799502789,
          1.524964564987665,
          0.914025793860094,
          1.5422076668737787,
          -0.023749254518849662,
          0.524279843798628,
          -1.4347027513614323,
          -1.785504838816489,
          -0.8954800679209548,
          -1.8961976651347,
          -0.7442784395015505,
          -0.8048857189042761,
          -0.0967984291667222,
          -1.9393000002484315,
          1.6670645156175294,
          -0.21775076532364407,
          0.09050205548815078,
          0.8783754651483104,
          -1.7130236485510746,
          -2.0691261799490825,
          -1.1499457692550565,
          0.8595026389589712,
          -1.3373308228263112,
          0.023915176562741277,
          -0.9087830673537445,
          1.7719125771459925
         ],
         "xaxis": "x10",
         "y": [
          -0.9111639501444778,
          -0.21308462762989866,
          0.6178500690224831,
          -0.9491608825047444,
          -0.7718195162364357,
          0.24578190485569634,
          -0.11297161514474634,
          0.05257491343649683,
          1.7921592380873255,
          0.022391913581764206,
          -1.8827530796472438,
          -0.5339157642434252,
          -0.5233726427430536,
          -0.3297124192276205,
          -0.021877630236314984,
          -0.40041345704488357,
          0.47916628560228697,
          1.5613708893385065,
          1.1189151260780066,
          -0.8251285480100764,
          -1.443898523211242,
          1.1764741611916676,
          0.26183975626268585,
          -0.25257828944963806,
          1.1326142050056685,
          -1.2946514979500152,
          -1.1605251382923323,
          -1.0611605388452843,
          -1.5917093690006994,
          -0.47638249303850033,
          0.21077012851362467,
          -1.4529783993970429,
          0.08963217544554952,
          0.26964815391518976,
          1.0045000285749042,
          -0.4186933642798534,
          0.34657172219430366,
          -0.24368542150057984,
          0.26789854356827236,
          -0.9184965002857977,
          0.2990592064381899,
          -1.602502896906284,
          0.38753280042224925,
          0.5605532730294414,
          1.037797069991631,
          -2.191130195941812,
          -1.2798828932732627,
          -1.175341557492041,
          -0.06290157773707312,
          -0.46025244134216337,
          0.6517960047363252,
          1.225213880695869,
          -0.044471056102332554,
          -1.2472283852835697,
          0.6113753040244009,
          -2.3093373536934694,
          0.011318723986845788,
          -0.6701173004275855,
          0.11853525749460166,
          -0.08121217707410237,
          -0.09091553442692922,
          -0.3846229748303238,
          0.4712894744606097,
          -1.1068225933524853,
          -0.9748698602211955,
          0.18619409790889427,
          0.5647919679884869,
          -0.39464378644442094,
          2.3928215378791755,
          1.7040736571936441,
          -0.5151391213076665,
          -0.08137003103917313,
          1.2640930238124004,
          -0.07094263042349323,
          -0.4149743949688728,
          -0.9982413151079128,
          0.032905586865713765,
          -0.5335850221643458,
          0.3438496953412661,
          -0.1992338233417873,
          -1.1401816603739796,
          0.25884031292409476,
          0.32323683840794887,
          -0.2664597337932239,
          0.4029405980918615,
          0.5372414723745346,
          1.1770049034294952,
          -0.050365752585326815,
          -0.3426954694018073,
          -0.9312296561679975,
          0.5892684756912165,
          -1.0909878734947331,
          -1.783197085848866,
          0.09822018499037254,
          -0.898541185350123,
          -0.268581700766926,
          1.8343974601897173,
          -0.9703909136015605,
          -0.49621922608057123,
          0.058404937813770146
         ],
         "yaxis": "y10"
        },
        {
         "histfunc": "count",
         "histnorm": "",
         "marker": {
          "color": "rgba(50, 171, 96, 1.0)",
          "line": {
           "color": "#4D5663",
           "width": 1.3
          }
         },
         "name": "C",
         "nbinsx": 10,
         "opacity": 0.8,
         "orientation": "v",
         "type": "histogram",
         "x": [
          -0.9111639501444778,
          -0.21308462762989866,
          0.6178500690224831,
          -0.9491608825047444,
          -0.7718195162364357,
          0.24578190485569634,
          -0.11297161514474634,
          0.05257491343649683,
          1.7921592380873255,
          0.022391913581764206,
          -1.8827530796472438,
          -0.5339157642434252,
          -0.5233726427430536,
          -0.3297124192276205,
          -0.021877630236314984,
          -0.40041345704488357,
          0.47916628560228697,
          1.5613708893385065,
          1.1189151260780066,
          -0.8251285480100764,
          -1.443898523211242,
          1.1764741611916676,
          0.26183975626268585,
          -0.25257828944963806,
          1.1326142050056685,
          -1.2946514979500152,
          -1.1605251382923323,
          -1.0611605388452843,
          -1.5917093690006994,
          -0.47638249303850033,
          0.21077012851362467,
          -1.4529783993970429,
          0.08963217544554952,
          0.26964815391518976,
          1.0045000285749042,
          -0.4186933642798534,
          0.34657172219430366,
          -0.24368542150057984,
          0.26789854356827236,
          -0.9184965002857977,
          0.2990592064381899,
          -1.602502896906284,
          0.38753280042224925,
          0.5605532730294414,
          1.037797069991631,
          -2.191130195941812,
          -1.2798828932732627,
          -1.175341557492041,
          -0.06290157773707312,
          -0.46025244134216337,
          0.6517960047363252,
          1.225213880695869,
          -0.044471056102332554,
          -1.2472283852835697,
          0.6113753040244009,
          -2.3093373536934694,
          0.011318723986845788,
          -0.6701173004275855,
          0.11853525749460166,
          -0.08121217707410237,
          -0.09091553442692922,
          -0.3846229748303238,
          0.4712894744606097,
          -1.1068225933524853,
          -0.9748698602211955,
          0.18619409790889427,
          0.5647919679884869,
          -0.39464378644442094,
          2.3928215378791755,
          1.7040736571936441,
          -0.5151391213076665,
          -0.08137003103917313,
          1.2640930238124004,
          -0.07094263042349323,
          -0.4149743949688728,
          -0.9982413151079128,
          0.032905586865713765,
          -0.5335850221643458,
          0.3438496953412661,
          -0.1992338233417873,
          -1.1401816603739796,
          0.25884031292409476,
          0.32323683840794887,
          -0.2664597337932239,
          0.4029405980918615,
          0.5372414723745346,
          1.1770049034294952,
          -0.050365752585326815,
          -0.3426954694018073,
          -0.9312296561679975,
          0.5892684756912165,
          -1.0909878734947331,
          -1.783197085848866,
          0.09822018499037254,
          -0.898541185350123,
          -0.268581700766926,
          1.8343974601897173,
          -0.9703909136015605,
          -0.49621922608057123,
          0.058404937813770146
         ],
         "xaxis": "x11",
         "yaxis": "y11"
        },
        {
         "line": {
          "color": "rgba(128, 128, 128, 1.0)",
          "dash": "solid",
          "shape": "linear",
          "width": 1.3
         },
         "marker": {
          "size": 2,
          "symbol": "circle"
         },
         "mode": "markers",
         "name": "C",
         "text": "",
         "type": "scatter",
         "x": [
          0.901625400646958,
          -0.049514969031106415,
          -0.5436316703459625,
          -0.6740816194768533,
          -0.0436335460907179,
          1.312218805289843,
          -1.7788215798946212,
          0.9395934557601892,
          -0.2837863718544718,
          -1.8229775405218895,
          0.0664212955525262,
          1.0026965717886291,
          1.7492203741629795,
          -0.3645746532685288,
          -0.7813815162373545,
          0.3781935450243182,
          -0.5090260728395484,
          0.5188107004889,
          -0.06651783174961994,
          0.22153952684157205,
          -1.866621181584803,
          -0.617241104874736,
          0.26827028925273505,
          1.2509085494452925,
          0.019409775851041207,
          -1.0832155061104165,
          1.0110797935259062,
          -1.8740614748451139,
          -0.6266998441654743,
          -0.04400478399589192,
          0.18937554400294493,
          -1.371302348618277,
          -0.1400635642035595,
          -0.737607274461631,
          -1.7577654442327857,
          0.00878796650331657,
          -0.17379907818277626,
          0.926350887460455,
          -0.0857595086263262,
          0.08772033753918801,
          -0.41181199564907645,
          0.10627044864902223,
          1.7451134698565127,
          0.6023903504471164,
          -1.225712943850586,
          0.02989961530307323,
          0.39345322629876694,
          0.5623321875737589,
          -1.490186418748514,
          1.43103169107788,
          -0.6912091248391053,
          -1.1490171922735388,
          0.4621308697596686,
          -1.694278393910498,
          -1.8249469539132568,
          0.4026888699890036,
          1.4589676140913095,
          0.06360793441385354,
          -0.6274756707793143,
          1.9228987987930435,
          -0.49380093161145294,
          0.7225478415902334,
          -0.15241404498658934,
          -0.5780999074327073,
          -0.48420272952273335,
          0.6177270949721229,
          -1.1810762151079863,
          0.3986044465010986,
          1.654493984752075,
          0.21763998586240077,
          -0.510184604326875,
          -0.12001725979624689,
          -0.1422921410982252,
          0.08885045657532206,
          0.031142341694185213,
          1.4203303335399462,
          -0.016421202475835193,
          -0.30173166478023944,
          -0.1520262096445688,
          -0.5448118784094882,
          -1.197061098819882,
          -0.8063403671715362,
          0.9163453028095149,
          -0.5216803892654508,
          0.23007478398777292,
          0.8901991950988024,
          1.4807017118381032,
          -1.7607411386790102,
          -1.2129477353242093,
          1.6674246071924355,
          1.3984399994740626,
          -0.10158924923118912,
          -0.05966384308772902,
          -0.15128827260123795,
          0.7467288790878025,
          -0.20460751589824278,
          1.4618363436781472,
          0.6498805877950959,
          0.07671615404303134,
          0.31892399689042944
         ],
         "xaxis": "x12",
         "y": [
          -0.9111639501444778,
          -0.21308462762989866,
          0.6178500690224831,
          -0.9491608825047444,
          -0.7718195162364357,
          0.24578190485569634,
          -0.11297161514474634,
          0.05257491343649683,
          1.7921592380873255,
          0.022391913581764206,
          -1.8827530796472438,
          -0.5339157642434252,
          -0.5233726427430536,
          -0.3297124192276205,
          -0.021877630236314984,
          -0.40041345704488357,
          0.47916628560228697,
          1.5613708893385065,
          1.1189151260780066,
          -0.8251285480100764,
          -1.443898523211242,
          1.1764741611916676,
          0.26183975626268585,
          -0.25257828944963806,
          1.1326142050056685,
          -1.2946514979500152,
          -1.1605251382923323,
          -1.0611605388452843,
          -1.5917093690006994,
          -0.47638249303850033,
          0.21077012851362467,
          -1.4529783993970429,
          0.08963217544554952,
          0.26964815391518976,
          1.0045000285749042,
          -0.4186933642798534,
          0.34657172219430366,
          -0.24368542150057984,
          0.26789854356827236,
          -0.9184965002857977,
          0.2990592064381899,
          -1.602502896906284,
          0.38753280042224925,
          0.5605532730294414,
          1.037797069991631,
          -2.191130195941812,
          -1.2798828932732627,
          -1.175341557492041,
          -0.06290157773707312,
          -0.46025244134216337,
          0.6517960047363252,
          1.225213880695869,
          -0.044471056102332554,
          -1.2472283852835697,
          0.6113753040244009,
          -2.3093373536934694,
          0.011318723986845788,
          -0.6701173004275855,
          0.11853525749460166,
          -0.08121217707410237,
          -0.09091553442692922,
          -0.3846229748303238,
          0.4712894744606097,
          -1.1068225933524853,
          -0.9748698602211955,
          0.18619409790889427,
          0.5647919679884869,
          -0.39464378644442094,
          2.3928215378791755,
          1.7040736571936441,
          -0.5151391213076665,
          -0.08137003103917313,
          1.2640930238124004,
          -0.07094263042349323,
          -0.4149743949688728,
          -0.9982413151079128,
          0.032905586865713765,
          -0.5335850221643458,
          0.3438496953412661,
          -0.1992338233417873,
          -1.1401816603739796,
          0.25884031292409476,
          0.32323683840794887,
          -0.2664597337932239,
          0.4029405980918615,
          0.5372414723745346,
          1.1770049034294952,
          -0.050365752585326815,
          -0.3426954694018073,
          -0.9312296561679975,
          0.5892684756912165,
          -1.0909878734947331,
          -1.783197085848866,
          0.09822018499037254,
          -0.898541185350123,
          -0.268581700766926,
          1.8343974601897173,
          -0.9703909136015605,
          -0.49621922608057123,
          0.058404937813770146
         ],
         "yaxis": "y12"
        },
        {
         "line": {
          "color": "rgba(128, 128, 128, 1.0)",
          "dash": "solid",
          "shape": "linear",
          "width": 1.3
         },
         "marker": {
          "size": 2,
          "symbol": "circle"
         },
         "mode": "markers",
         "name": "D",
         "text": "",
         "type": "scatter",
         "x": [
          1.0695780874798893,
          -0.6688246077647048,
          -0.8768325532699232,
          0.5846041548118759,
          0.1234743270956829,
          3.4791082204999846,
          0.6394411045953567,
          -1.8588525353308045,
          -0.09988848117769902,
          -3.585334312685853,
          -0.3468308478497572,
          -0.8260384206665327,
          -0.6907893591011696,
          -1.4852586173285742,
          -0.25765375593010137,
          -0.44626977717335475,
          -1.7881342688303001,
          1.0560463232781325,
          -0.6118484997932785,
          -0.28090068433241533,
          -0.36129223471773436,
          0.05624123962916439,
          -1.0493408332261727,
          1.3571359129570726,
          0.6080852256235924,
          -1.0764672477878665,
          0.6576424280762245,
          2.1686207235766246,
          -1.3066081747334748,
          0.9394087435997776,
          -0.5226267172566758,
          -0.49651129843957736,
          -0.9918493687721509,
          -0.19131682338888764,
          0.7142159865359168,
          0.18180856373710771,
          0.7501866480553426,
          -0.2659994587199686,
          -1.0863108611887782,
          0.3845970933447684,
          0.08385491653407101,
          0.213288645841052,
          0.8285450872251666,
          0.7829263857702672,
          -0.49796304010092884,
          1.0268246038778484,
          -1.367210159961053,
          -0.7102119846311828,
          -0.38098132668670065,
          0.027296080474879927,
          0.20727149763656935,
          -0.39831741064134546,
          -0.4858771542442912,
          0.044894688014666465,
          -0.3377575089268816,
          0.8146487451450918,
          -0.5176401803753576,
          1.6282037718948779,
          -0.8053439703768238,
          -1.2450221802677344,
          -1.0429522515434908,
          -0.7181219633120665,
          -0.8687414942939818,
          -1.646924395142777,
          1.378280613564057,
          0.5681960097760388,
          -0.006350409197701762,
          -1.027078098139645,
          1.3672669957436328,
          -0.42399754739567835,
          0.2572681050701859,
          0.9866400986616074,
          -0.9179216938928588,
          -2.0808712866480374,
          0.5528322892342697,
          0.9230106496890149,
          0.1686186313709958,
          -1.5417456070111637,
          -0.4200677293091439,
          0.0643680205861979,
          1.437529140323141,
          -0.14220738186728962,
          1.7983613814824884,
          0.2178318654089859,
          -1.5549591871383583,
          2.4969030349900567,
          -1.749730221977046,
          0.6134052139711424,
          -0.3362184800002531,
          -0.3027409579953844,
          1.293778086782797,
          -1.0131940755359794,
          2.1181805861810776,
          -1.3959307921409663,
          0.5140414624574768,
          -0.599410039617266,
          1.7541114211585354,
          -0.6961689882949277,
          -0.09092864116037773,
          0.6647742078919533
         ],
         "xaxis": "x13",
         "y": [
          0.901625400646958,
          -0.049514969031106415,
          -0.5436316703459625,
          -0.6740816194768533,
          -0.0436335460907179,
          1.312218805289843,
          -1.7788215798946212,
          0.9395934557601892,
          -0.2837863718544718,
          -1.8229775405218895,
          0.0664212955525262,
          1.0026965717886291,
          1.7492203741629795,
          -0.3645746532685288,
          -0.7813815162373545,
          0.3781935450243182,
          -0.5090260728395484,
          0.5188107004889,
          -0.06651783174961994,
          0.22153952684157205,
          -1.866621181584803,
          -0.617241104874736,
          0.26827028925273505,
          1.2509085494452925,
          0.019409775851041207,
          -1.0832155061104165,
          1.0110797935259062,
          -1.8740614748451139,
          -0.6266998441654743,
          -0.04400478399589192,
          0.18937554400294493,
          -1.371302348618277,
          -0.1400635642035595,
          -0.737607274461631,
          -1.7577654442327857,
          0.00878796650331657,
          -0.17379907818277626,
          0.926350887460455,
          -0.0857595086263262,
          0.08772033753918801,
          -0.41181199564907645,
          0.10627044864902223,
          1.7451134698565127,
          0.6023903504471164,
          -1.225712943850586,
          0.02989961530307323,
          0.39345322629876694,
          0.5623321875737589,
          -1.490186418748514,
          1.43103169107788,
          -0.6912091248391053,
          -1.1490171922735388,
          0.4621308697596686,
          -1.694278393910498,
          -1.8249469539132568,
          0.4026888699890036,
          1.4589676140913095,
          0.06360793441385354,
          -0.6274756707793143,
          1.9228987987930435,
          -0.49380093161145294,
          0.7225478415902334,
          -0.15241404498658934,
          -0.5780999074327073,
          -0.48420272952273335,
          0.6177270949721229,
          -1.1810762151079863,
          0.3986044465010986,
          1.654493984752075,
          0.21763998586240077,
          -0.510184604326875,
          -0.12001725979624689,
          -0.1422921410982252,
          0.08885045657532206,
          0.031142341694185213,
          1.4203303335399462,
          -0.016421202475835193,
          -0.30173166478023944,
          -0.1520262096445688,
          -0.5448118784094882,
          -1.197061098819882,
          -0.8063403671715362,
          0.9163453028095149,
          -0.5216803892654508,
          0.23007478398777292,
          0.8901991950988024,
          1.4807017118381032,
          -1.7607411386790102,
          -1.2129477353242093,
          1.6674246071924355,
          1.3984399994740626,
          -0.10158924923118912,
          -0.05966384308772902,
          -0.15128827260123795,
          0.7467288790878025,
          -0.20460751589824278,
          1.4618363436781472,
          0.6498805877950959,
          0.07671615404303134,
          0.31892399689042944
         ],
         "yaxis": "y13"
        },
        {
         "line": {
          "color": "rgba(128, 128, 128, 1.0)",
          "dash": "solid",
          "shape": "linear",
          "width": 1.3
         },
         "marker": {
          "size": 2,
          "symbol": "circle"
         },
         "mode": "markers",
         "name": "D",
         "text": "",
         "type": "scatter",
         "x": [
          -0.9139878772827333,
          -0.08769317039224812,
          1.2549229594087425,
          0.7734929129565938,
          0.32551639667358967,
          0.06472013532223145,
          0.4489237903342312,
          -0.5376767084883879,
          1.4159491326545584,
          -0.16067285210103188,
          0.5395943979579801,
          -0.5964929759286733,
          -0.5694175285048431,
          0.8751026063828987,
          -0.7616455966638427,
          0.15897303518261077,
          -1.6875555004691791,
          0.32216394848199115,
          -0.10030356054937484,
          -0.11856117396267761,
          -0.27414364727766044,
          0.163723571047574,
          1.4237077596079468,
          -0.8629773392344109,
          -0.8963300480762472,
          0.3990646493880536,
          -0.7640696360957434,
          -0.9273917270584725,
          0.34452355271044877,
          0.15170227821005117,
          0.5648147860721607,
          -1.8701285343645826,
          1.950778763700419,
          2.1342463787666666,
          -0.4995652182175252,
          -0.5669159598591469,
          0.10666924786932587,
          0.263359843230698,
          -0.210681061067419,
          -0.8157159337327569,
          -1.4133654524950354,
          0.8290481002596413,
          0.3923108908193899,
          -1.5380858255153,
          1.08770035598143,
          0.11275619340426378,
          1.572544617584101,
          -0.5166715694677358,
          0.9284344540019726,
          0.8006337675994765,
          -1.4285058636600925,
          -0.6392361505059976,
          -0.23042531867174745,
          -0.793958906679922,
          -0.42254265403664415,
          0.16085517143794348,
          0.1125121445461009,
          -1.0882069564305088,
          -1.096823320824602,
          0.019633414187281737,
          0.6195893397874593,
          -1.4028099218639112,
          -0.4908141768141228,
          0.21148419670406784,
          0.6419280636141652,
          -0.06495314317794514,
          -0.9193876460797339,
          0.019942825358401563,
          -2.348428587225312,
          2.000913445564362,
          0.9277072465599404,
          -1.0222088298692635,
          -0.34273600359405526,
          2.338928916336926,
          -0.148101799502789,
          1.524964564987665,
          0.914025793860094,
          1.5422076668737787,
          -0.023749254518849662,
          0.524279843798628,
          -1.4347027513614323,
          -1.785504838816489,
          -0.8954800679209548,
          -1.8961976651347,
          -0.7442784395015505,
          -0.8048857189042761,
          -0.0967984291667222,
          -1.9393000002484315,
          1.6670645156175294,
          -0.21775076532364407,
          0.09050205548815078,
          0.8783754651483104,
          -1.7130236485510746,
          -2.0691261799490825,
          -1.1499457692550565,
          0.8595026389589712,
          -1.3373308228263112,
          0.023915176562741277,
          -0.9087830673537445,
          1.7719125771459925
         ],
         "xaxis": "x14",
         "y": [
          0.901625400646958,
          -0.049514969031106415,
          -0.5436316703459625,
          -0.6740816194768533,
          -0.0436335460907179,
          1.312218805289843,
          -1.7788215798946212,
          0.9395934557601892,
          -0.2837863718544718,
          -1.8229775405218895,
          0.0664212955525262,
          1.0026965717886291,
          1.7492203741629795,
          -0.3645746532685288,
          -0.7813815162373545,
          0.3781935450243182,
          -0.5090260728395484,
          0.5188107004889,
          -0.06651783174961994,
          0.22153952684157205,
          -1.866621181584803,
          -0.617241104874736,
          0.26827028925273505,
          1.2509085494452925,
          0.019409775851041207,
          -1.0832155061104165,
          1.0110797935259062,
          -1.8740614748451139,
          -0.6266998441654743,
          -0.04400478399589192,
          0.18937554400294493,
          -1.371302348618277,
          -0.1400635642035595,
          -0.737607274461631,
          -1.7577654442327857,
          0.00878796650331657,
          -0.17379907818277626,
          0.926350887460455,
          -0.0857595086263262,
          0.08772033753918801,
          -0.41181199564907645,
          0.10627044864902223,
          1.7451134698565127,
          0.6023903504471164,
          -1.225712943850586,
          0.02989961530307323,
          0.39345322629876694,
          0.5623321875737589,
          -1.490186418748514,
          1.43103169107788,
          -0.6912091248391053,
          -1.1490171922735388,
          0.4621308697596686,
          -1.694278393910498,
          -1.8249469539132568,
          0.4026888699890036,
          1.4589676140913095,
          0.06360793441385354,
          -0.6274756707793143,
          1.9228987987930435,
          -0.49380093161145294,
          0.7225478415902334,
          -0.15241404498658934,
          -0.5780999074327073,
          -0.48420272952273335,
          0.6177270949721229,
          -1.1810762151079863,
          0.3986044465010986,
          1.654493984752075,
          0.21763998586240077,
          -0.510184604326875,
          -0.12001725979624689,
          -0.1422921410982252,
          0.08885045657532206,
          0.031142341694185213,
          1.4203303335399462,
          -0.016421202475835193,
          -0.30173166478023944,
          -0.1520262096445688,
          -0.5448118784094882,
          -1.197061098819882,
          -0.8063403671715362,
          0.9163453028095149,
          -0.5216803892654508,
          0.23007478398777292,
          0.8901991950988024,
          1.4807017118381032,
          -1.7607411386790102,
          -1.2129477353242093,
          1.6674246071924355,
          1.3984399994740626,
          -0.10158924923118912,
          -0.05966384308772902,
          -0.15128827260123795,
          0.7467288790878025,
          -0.20460751589824278,
          1.4618363436781472,
          0.6498805877950959,
          0.07671615404303134,
          0.31892399689042944
         ],
         "yaxis": "y14"
        },
        {
         "line": {
          "color": "rgba(128, 128, 128, 1.0)",
          "dash": "solid",
          "shape": "linear",
          "width": 1.3
         },
         "marker": {
          "size": 2,
          "symbol": "circle"
         },
         "mode": "markers",
         "name": "D",
         "text": "",
         "type": "scatter",
         "x": [
          -0.9111639501444778,
          -0.21308462762989866,
          0.6178500690224831,
          -0.9491608825047444,
          -0.7718195162364357,
          0.24578190485569634,
          -0.11297161514474634,
          0.05257491343649683,
          1.7921592380873255,
          0.022391913581764206,
          -1.8827530796472438,
          -0.5339157642434252,
          -0.5233726427430536,
          -0.3297124192276205,
          -0.021877630236314984,
          -0.40041345704488357,
          0.47916628560228697,
          1.5613708893385065,
          1.1189151260780066,
          -0.8251285480100764,
          -1.443898523211242,
          1.1764741611916676,
          0.26183975626268585,
          -0.25257828944963806,
          1.1326142050056685,
          -1.2946514979500152,
          -1.1605251382923323,
          -1.0611605388452843,
          -1.5917093690006994,
          -0.47638249303850033,
          0.21077012851362467,
          -1.4529783993970429,
          0.08963217544554952,
          0.26964815391518976,
          1.0045000285749042,
          -0.4186933642798534,
          0.34657172219430366,
          -0.24368542150057984,
          0.26789854356827236,
          -0.9184965002857977,
          0.2990592064381899,
          -1.602502896906284,
          0.38753280042224925,
          0.5605532730294414,
          1.037797069991631,
          -2.191130195941812,
          -1.2798828932732627,
          -1.175341557492041,
          -0.06290157773707312,
          -0.46025244134216337,
          0.6517960047363252,
          1.225213880695869,
          -0.044471056102332554,
          -1.2472283852835697,
          0.6113753040244009,
          -2.3093373536934694,
          0.011318723986845788,
          -0.6701173004275855,
          0.11853525749460166,
          -0.08121217707410237,
          -0.09091553442692922,
          -0.3846229748303238,
          0.4712894744606097,
          -1.1068225933524853,
          -0.9748698602211955,
          0.18619409790889427,
          0.5647919679884869,
          -0.39464378644442094,
          2.3928215378791755,
          1.7040736571936441,
          -0.5151391213076665,
          -0.08137003103917313,
          1.2640930238124004,
          -0.07094263042349323,
          -0.4149743949688728,
          -0.9982413151079128,
          0.032905586865713765,
          -0.5335850221643458,
          0.3438496953412661,
          -0.1992338233417873,
          -1.1401816603739796,
          0.25884031292409476,
          0.32323683840794887,
          -0.2664597337932239,
          0.4029405980918615,
          0.5372414723745346,
          1.1770049034294952,
          -0.050365752585326815,
          -0.3426954694018073,
          -0.9312296561679975,
          0.5892684756912165,
          -1.0909878734947331,
          -1.783197085848866,
          0.09822018499037254,
          -0.898541185350123,
          -0.268581700766926,
          1.8343974601897173,
          -0.9703909136015605,
          -0.49621922608057123,
          0.058404937813770146
         ],
         "xaxis": "x15",
         "y": [
          0.901625400646958,
          -0.049514969031106415,
          -0.5436316703459625,
          -0.6740816194768533,
          -0.0436335460907179,
          1.312218805289843,
          -1.7788215798946212,
          0.9395934557601892,
          -0.2837863718544718,
          -1.8229775405218895,
          0.0664212955525262,
          1.0026965717886291,
          1.7492203741629795,
          -0.3645746532685288,
          -0.7813815162373545,
          0.3781935450243182,
          -0.5090260728395484,
          0.5188107004889,
          -0.06651783174961994,
          0.22153952684157205,
          -1.866621181584803,
          -0.617241104874736,
          0.26827028925273505,
          1.2509085494452925,
          0.019409775851041207,
          -1.0832155061104165,
          1.0110797935259062,
          -1.8740614748451139,
          -0.6266998441654743,
          -0.04400478399589192,
          0.18937554400294493,
          -1.371302348618277,
          -0.1400635642035595,
          -0.737607274461631,
          -1.7577654442327857,
          0.00878796650331657,
          -0.17379907818277626,
          0.926350887460455,
          -0.0857595086263262,
          0.08772033753918801,
          -0.41181199564907645,
          0.10627044864902223,
          1.7451134698565127,
          0.6023903504471164,
          -1.225712943850586,
          0.02989961530307323,
          0.39345322629876694,
          0.5623321875737589,
          -1.490186418748514,
          1.43103169107788,
          -0.6912091248391053,
          -1.1490171922735388,
          0.4621308697596686,
          -1.694278393910498,
          -1.8249469539132568,
          0.4026888699890036,
          1.4589676140913095,
          0.06360793441385354,
          -0.6274756707793143,
          1.9228987987930435,
          -0.49380093161145294,
          0.7225478415902334,
          -0.15241404498658934,
          -0.5780999074327073,
          -0.48420272952273335,
          0.6177270949721229,
          -1.1810762151079863,
          0.3986044465010986,
          1.654493984752075,
          0.21763998586240077,
          -0.510184604326875,
          -0.12001725979624689,
          -0.1422921410982252,
          0.08885045657532206,
          0.031142341694185213,
          1.4203303335399462,
          -0.016421202475835193,
          -0.30173166478023944,
          -0.1520262096445688,
          -0.5448118784094882,
          -1.197061098819882,
          -0.8063403671715362,
          0.9163453028095149,
          -0.5216803892654508,
          0.23007478398777292,
          0.8901991950988024,
          1.4807017118381032,
          -1.7607411386790102,
          -1.2129477353242093,
          1.6674246071924355,
          1.3984399994740626,
          -0.10158924923118912,
          -0.05966384308772902,
          -0.15128827260123795,
          0.7467288790878025,
          -0.20460751589824278,
          1.4618363436781472,
          0.6498805877950959,
          0.07671615404303134,
          0.31892399689042944
         ],
         "yaxis": "y15"
        },
        {
         "histfunc": "count",
         "histnorm": "",
         "marker": {
          "color": "rgba(128, 0, 128, 1.0)",
          "line": {
           "color": "#4D5663",
           "width": 1.3
          }
         },
         "name": "D",
         "nbinsx": 10,
         "opacity": 0.8,
         "orientation": "v",
         "type": "histogram",
         "x": [
          0.901625400646958,
          -0.049514969031106415,
          -0.5436316703459625,
          -0.6740816194768533,
          -0.0436335460907179,
          1.312218805289843,
          -1.7788215798946212,
          0.9395934557601892,
          -0.2837863718544718,
          -1.8229775405218895,
          0.0664212955525262,
          1.0026965717886291,
          1.7492203741629795,
          -0.3645746532685288,
          -0.7813815162373545,
          0.3781935450243182,
          -0.5090260728395484,
          0.5188107004889,
          -0.06651783174961994,
          0.22153952684157205,
          -1.866621181584803,
          -0.617241104874736,
          0.26827028925273505,
          1.2509085494452925,
          0.019409775851041207,
          -1.0832155061104165,
          1.0110797935259062,
          -1.8740614748451139,
          -0.6266998441654743,
          -0.04400478399589192,
          0.18937554400294493,
          -1.371302348618277,
          -0.1400635642035595,
          -0.737607274461631,
          -1.7577654442327857,
          0.00878796650331657,
          -0.17379907818277626,
          0.926350887460455,
          -0.0857595086263262,
          0.08772033753918801,
          -0.41181199564907645,
          0.10627044864902223,
          1.7451134698565127,
          0.6023903504471164,
          -1.225712943850586,
          0.02989961530307323,
          0.39345322629876694,
          0.5623321875737589,
          -1.490186418748514,
          1.43103169107788,
          -0.6912091248391053,
          -1.1490171922735388,
          0.4621308697596686,
          -1.694278393910498,
          -1.8249469539132568,
          0.4026888699890036,
          1.4589676140913095,
          0.06360793441385354,
          -0.6274756707793143,
          1.9228987987930435,
          -0.49380093161145294,
          0.7225478415902334,
          -0.15241404498658934,
          -0.5780999074327073,
          -0.48420272952273335,
          0.6177270949721229,
          -1.1810762151079863,
          0.3986044465010986,
          1.654493984752075,
          0.21763998586240077,
          -0.510184604326875,
          -0.12001725979624689,
          -0.1422921410982252,
          0.08885045657532206,
          0.031142341694185213,
          1.4203303335399462,
          -0.016421202475835193,
          -0.30173166478023944,
          -0.1520262096445688,
          -0.5448118784094882,
          -1.197061098819882,
          -0.8063403671715362,
          0.9163453028095149,
          -0.5216803892654508,
          0.23007478398777292,
          0.8901991950988024,
          1.4807017118381032,
          -1.7607411386790102,
          -1.2129477353242093,
          1.6674246071924355,
          1.3984399994740626,
          -0.10158924923118912,
          -0.05966384308772902,
          -0.15128827260123795,
          0.7467288790878025,
          -0.20460751589824278,
          1.4618363436781472,
          0.6498805877950959,
          0.07671615404303134,
          0.31892399689042944
         ],
         "xaxis": "x16",
         "yaxis": "y16"
        }
       ],
       "layout": {
        "bargap": 0.02,
        "legend": {
         "bgcolor": "#F5F6F9",
         "font": {
          "color": "#4D5663"
         }
        },
        "paper_bgcolor": "#F5F6F9",
        "plot_bgcolor": "#F5F6F9",
        "showlegend": false,
        "template": {
         "data": {
          "bar": [
           {
            "error_x": {
             "color": "#2a3f5f"
            },
            "error_y": {
             "color": "#2a3f5f"
            },
            "marker": {
             "line": {
              "color": "#E5ECF6",
              "width": 0.5
             },
             "pattern": {
              "fillmode": "overlay",
              "size": 10,
              "solidity": 0.2
             }
            },
            "type": "bar"
           }
          ],
          "barpolar": [
           {
            "marker": {
             "line": {
              "color": "#E5ECF6",
              "width": 0.5
             },
             "pattern": {
              "fillmode": "overlay",
              "size": 10,
              "solidity": 0.2
             }
            },
            "type": "barpolar"
           }
          ],
          "carpet": [
           {
            "aaxis": {
             "endlinecolor": "#2a3f5f",
             "gridcolor": "white",
             "linecolor": "white",
             "minorgridcolor": "white",
             "startlinecolor": "#2a3f5f"
            },
            "baxis": {
             "endlinecolor": "#2a3f5f",
             "gridcolor": "white",
             "linecolor": "white",
             "minorgridcolor": "white",
             "startlinecolor": "#2a3f5f"
            },
            "type": "carpet"
           }
          ],
          "choropleth": [
           {
            "colorbar": {
             "outlinewidth": 0,
             "ticks": ""
            },
            "type": "choropleth"
           }
          ],
          "contour": [
           {
            "colorbar": {
             "outlinewidth": 0,
             "ticks": ""
            },
            "colorscale": [
             [
              0,
              "#0d0887"
             ],
             [
              0.1111111111111111,
              "#46039f"
             ],
             [
              0.2222222222222222,
              "#7201a8"
             ],
             [
              0.3333333333333333,
              "#9c179e"
             ],
             [
              0.4444444444444444,
              "#bd3786"
             ],
             [
              0.5555555555555556,
              "#d8576b"
             ],
             [
              0.6666666666666666,
              "#ed7953"
             ],
             [
              0.7777777777777778,
              "#fb9f3a"
             ],
             [
              0.8888888888888888,
              "#fdca26"
             ],
             [
              1,
              "#f0f921"
             ]
            ],
            "type": "contour"
           }
          ],
          "contourcarpet": [
           {
            "colorbar": {
             "outlinewidth": 0,
             "ticks": ""
            },
            "type": "contourcarpet"
           }
          ],
          "heatmap": [
           {
            "colorbar": {
             "outlinewidth": 0,
             "ticks": ""
            },
            "colorscale": [
             [
              0,
              "#0d0887"
             ],
             [
              0.1111111111111111,
              "#46039f"
             ],
             [
              0.2222222222222222,
              "#7201a8"
             ],
             [
              0.3333333333333333,
              "#9c179e"
             ],
             [
              0.4444444444444444,
              "#bd3786"
             ],
             [
              0.5555555555555556,
              "#d8576b"
             ],
             [
              0.6666666666666666,
              "#ed7953"
             ],
             [
              0.7777777777777778,
              "#fb9f3a"
             ],
             [
              0.8888888888888888,
              "#fdca26"
             ],
             [
              1,
              "#f0f921"
             ]
            ],
            "type": "heatmap"
           }
          ],
          "heatmapgl": [
           {
            "colorbar": {
             "outlinewidth": 0,
             "ticks": ""
            },
            "colorscale": [
             [
              0,
              "#0d0887"
             ],
             [
              0.1111111111111111,
              "#46039f"
             ],
             [
              0.2222222222222222,
              "#7201a8"
             ],
             [
              0.3333333333333333,
              "#9c179e"
             ],
             [
              0.4444444444444444,
              "#bd3786"
             ],
             [
              0.5555555555555556,
              "#d8576b"
             ],
             [
              0.6666666666666666,
              "#ed7953"
             ],
             [
              0.7777777777777778,
              "#fb9f3a"
             ],
             [
              0.8888888888888888,
              "#fdca26"
             ],
             [
              1,
              "#f0f921"
             ]
            ],
            "type": "heatmapgl"
           }
          ],
          "histogram": [
           {
            "marker": {
             "pattern": {
              "fillmode": "overlay",
              "size": 10,
              "solidity": 0.2
             }
            },
            "type": "histogram"
           }
          ],
          "histogram2d": [
           {
            "colorbar": {
             "outlinewidth": 0,
             "ticks": ""
            },
            "colorscale": [
             [
              0,
              "#0d0887"
             ],
             [
              0.1111111111111111,
              "#46039f"
             ],
             [
              0.2222222222222222,
              "#7201a8"
             ],
             [
              0.3333333333333333,
              "#9c179e"
             ],
             [
              0.4444444444444444,
              "#bd3786"
             ],
             [
              0.5555555555555556,
              "#d8576b"
             ],
             [
              0.6666666666666666,
              "#ed7953"
             ],
             [
              0.7777777777777778,
              "#fb9f3a"
             ],
             [
              0.8888888888888888,
              "#fdca26"
             ],
             [
              1,
              "#f0f921"
             ]
            ],
            "type": "histogram2d"
           }
          ],
          "histogram2dcontour": [
           {
            "colorbar": {
             "outlinewidth": 0,
             "ticks": ""
            },
            "colorscale": [
             [
              0,
              "#0d0887"
             ],
             [
              0.1111111111111111,
              "#46039f"
             ],
             [
              0.2222222222222222,
              "#7201a8"
             ],
             [
              0.3333333333333333,
              "#9c179e"
             ],
             [
              0.4444444444444444,
              "#bd3786"
             ],
             [
              0.5555555555555556,
              "#d8576b"
             ],
             [
              0.6666666666666666,
              "#ed7953"
             ],
             [
              0.7777777777777778,
              "#fb9f3a"
             ],
             [
              0.8888888888888888,
              "#fdca26"
             ],
             [
              1,
              "#f0f921"
             ]
            ],
            "type": "histogram2dcontour"
           }
          ],
          "mesh3d": [
           {
            "colorbar": {
             "outlinewidth": 0,
             "ticks": ""
            },
            "type": "mesh3d"
           }
          ],
          "parcoords": [
           {
            "line": {
             "colorbar": {
              "outlinewidth": 0,
              "ticks": ""
             }
            },
            "type": "parcoords"
           }
          ],
          "pie": [
           {
            "automargin": true,
            "type": "pie"
           }
          ],
          "scatter": [
           {
            "marker": {
             "colorbar": {
              "outlinewidth": 0,
              "ticks": ""
             }
            },
            "type": "scatter"
           }
          ],
          "scatter3d": [
           {
            "line": {
             "colorbar": {
              "outlinewidth": 0,
              "ticks": ""
             }
            },
            "marker": {
             "colorbar": {
              "outlinewidth": 0,
              "ticks": ""
             }
            },
            "type": "scatter3d"
           }
          ],
          "scattercarpet": [
           {
            "marker": {
             "colorbar": {
              "outlinewidth": 0,
              "ticks": ""
             }
            },
            "type": "scattercarpet"
           }
          ],
          "scattergeo": [
           {
            "marker": {
             "colorbar": {
              "outlinewidth": 0,
              "ticks": ""
             }
            },
            "type": "scattergeo"
           }
          ],
          "scattergl": [
           {
            "marker": {
             "colorbar": {
              "outlinewidth": 0,
              "ticks": ""
             }
            },
            "type": "scattergl"
           }
          ],
          "scattermapbox": [
           {
            "marker": {
             "colorbar": {
              "outlinewidth": 0,
              "ticks": ""
             }
            },
            "type": "scattermapbox"
           }
          ],
          "scatterpolar": [
           {
            "marker": {
             "colorbar": {
              "outlinewidth": 0,
              "ticks": ""
             }
            },
            "type": "scatterpolar"
           }
          ],
          "scatterpolargl": [
           {
            "marker": {
             "colorbar": {
              "outlinewidth": 0,
              "ticks": ""
             }
            },
            "type": "scatterpolargl"
           }
          ],
          "scatterternary": [
           {
            "marker": {
             "colorbar": {
              "outlinewidth": 0,
              "ticks": ""
             }
            },
            "type": "scatterternary"
           }
          ],
          "surface": [
           {
            "colorbar": {
             "outlinewidth": 0,
             "ticks": ""
            },
            "colorscale": [
             [
              0,
              "#0d0887"
             ],
             [
              0.1111111111111111,
              "#46039f"
             ],
             [
              0.2222222222222222,
              "#7201a8"
             ],
             [
              0.3333333333333333,
              "#9c179e"
             ],
             [
              0.4444444444444444,
              "#bd3786"
             ],
             [
              0.5555555555555556,
              "#d8576b"
             ],
             [
              0.6666666666666666,
              "#ed7953"
             ],
             [
              0.7777777777777778,
              "#fb9f3a"
             ],
             [
              0.8888888888888888,
              "#fdca26"
             ],
             [
              1,
              "#f0f921"
             ]
            ],
            "type": "surface"
           }
          ],
          "table": [
           {
            "cells": {
             "fill": {
              "color": "#EBF0F8"
             },
             "line": {
              "color": "white"
             }
            },
            "header": {
             "fill": {
              "color": "#C8D4E3"
             },
             "line": {
              "color": "white"
             }
            },
            "type": "table"
           }
          ]
         },
         "layout": {
          "annotationdefaults": {
           "arrowcolor": "#2a3f5f",
           "arrowhead": 0,
           "arrowwidth": 1
          },
          "autotypenumbers": "strict",
          "coloraxis": {
           "colorbar": {
            "outlinewidth": 0,
            "ticks": ""
           }
          },
          "colorscale": {
           "diverging": [
            [
             0,
             "#8e0152"
            ],
            [
             0.1,
             "#c51b7d"
            ],
            [
             0.2,
             "#de77ae"
            ],
            [
             0.3,
             "#f1b6da"
            ],
            [
             0.4,
             "#fde0ef"
            ],
            [
             0.5,
             "#f7f7f7"
            ],
            [
             0.6,
             "#e6f5d0"
            ],
            [
             0.7,
             "#b8e186"
            ],
            [
             0.8,
             "#7fbc41"
            ],
            [
             0.9,
             "#4d9221"
            ],
            [
             1,
             "#276419"
            ]
           ],
           "sequential": [
            [
             0,
             "#0d0887"
            ],
            [
             0.1111111111111111,
             "#46039f"
            ],
            [
             0.2222222222222222,
             "#7201a8"
            ],
            [
             0.3333333333333333,
             "#9c179e"
            ],
            [
             0.4444444444444444,
             "#bd3786"
            ],
            [
             0.5555555555555556,
             "#d8576b"
            ],
            [
             0.6666666666666666,
             "#ed7953"
            ],
            [
             0.7777777777777778,
             "#fb9f3a"
            ],
            [
             0.8888888888888888,
             "#fdca26"
            ],
            [
             1,
             "#f0f921"
            ]
           ],
           "sequentialminus": [
            [
             0,
             "#0d0887"
            ],
            [
             0.1111111111111111,
             "#46039f"
            ],
            [
             0.2222222222222222,
             "#7201a8"
            ],
            [
             0.3333333333333333,
             "#9c179e"
            ],
            [
             0.4444444444444444,
             "#bd3786"
            ],
            [
             0.5555555555555556,
             "#d8576b"
            ],
            [
             0.6666666666666666,
             "#ed7953"
            ],
            [
             0.7777777777777778,
             "#fb9f3a"
            ],
            [
             0.8888888888888888,
             "#fdca26"
            ],
            [
             1,
             "#f0f921"
            ]
           ]
          },
          "colorway": [
           "#636efa",
           "#EF553B",
           "#00cc96",
           "#ab63fa",
           "#FFA15A",
           "#19d3f3",
           "#FF6692",
           "#B6E880",
           "#FF97FF",
           "#FECB52"
          ],
          "font": {
           "color": "#2a3f5f"
          },
          "geo": {
           "bgcolor": "white",
           "lakecolor": "white",
           "landcolor": "#E5ECF6",
           "showlakes": true,
           "showland": true,
           "subunitcolor": "white"
          },
          "hoverlabel": {
           "align": "left"
          },
          "hovermode": "closest",
          "mapbox": {
           "style": "light"
          },
          "paper_bgcolor": "white",
          "plot_bgcolor": "#E5ECF6",
          "polar": {
           "angularaxis": {
            "gridcolor": "white",
            "linecolor": "white",
            "ticks": ""
           },
           "bgcolor": "#E5ECF6",
           "radialaxis": {
            "gridcolor": "white",
            "linecolor": "white",
            "ticks": ""
           }
          },
          "scene": {
           "xaxis": {
            "backgroundcolor": "#E5ECF6",
            "gridcolor": "white",
            "gridwidth": 2,
            "linecolor": "white",
            "showbackground": true,
            "ticks": "",
            "zerolinecolor": "white"
           },
           "yaxis": {
            "backgroundcolor": "#E5ECF6",
            "gridcolor": "white",
            "gridwidth": 2,
            "linecolor": "white",
            "showbackground": true,
            "ticks": "",
            "zerolinecolor": "white"
           },
           "zaxis": {
            "backgroundcolor": "#E5ECF6",
            "gridcolor": "white",
            "gridwidth": 2,
            "linecolor": "white",
            "showbackground": true,
            "ticks": "",
            "zerolinecolor": "white"
           }
          },
          "shapedefaults": {
           "line": {
            "color": "#2a3f5f"
           }
          },
          "ternary": {
           "aaxis": {
            "gridcolor": "white",
            "linecolor": "white",
            "ticks": ""
           },
           "baxis": {
            "gridcolor": "white",
            "linecolor": "white",
            "ticks": ""
           },
           "bgcolor": "#E5ECF6",
           "caxis": {
            "gridcolor": "white",
            "linecolor": "white",
            "ticks": ""
           }
          },
          "title": {
           "x": 0.05
          },
          "xaxis": {
           "automargin": true,
           "gridcolor": "white",
           "linecolor": "white",
           "ticks": "",
           "title": {
            "standoff": 15
           },
           "zerolinecolor": "white",
           "zerolinewidth": 2
          },
          "yaxis": {
           "automargin": true,
           "gridcolor": "white",
           "linecolor": "white",
           "ticks": "",
           "title": {
            "standoff": 15
           },
           "zerolinecolor": "white",
           "zerolinewidth": 2
          }
         }
        },
        "title": {
         "font": {
          "color": "#4D5663"
         }
        },
        "xaxis": {
         "anchor": "y",
         "domain": [
          0,
          0.2125
         ],
         "gridcolor": "#E1E5ED",
         "showgrid": false,
         "tickfont": {
          "color": "#4D5663"
         },
         "title": {
          "font": {
           "color": "#4D5663"
          },
          "text": ""
         },
         "zerolinecolor": "#E1E5ED"
        },
        "xaxis10": {
         "anchor": "y10",
         "domain": [
          0.2625,
          0.475
         ],
         "gridcolor": "#E1E5ED",
         "showgrid": false,
         "tickfont": {
          "color": "#4D5663"
         },
         "title": {
          "font": {
           "color": "#4D5663"
          },
          "text": ""
         },
         "zerolinecolor": "#E1E5ED"
        },
        "xaxis11": {
         "anchor": "y11",
         "domain": [
          0.525,
          0.7375
         ],
         "gridcolor": "#E1E5ED",
         "showgrid": false,
         "tickfont": {
          "color": "#4D5663"
         },
         "title": {
          "font": {
           "color": "#4D5663"
          },
          "text": ""
         },
         "zerolinecolor": "#E1E5ED"
        },
        "xaxis12": {
         "anchor": "y12",
         "domain": [
          0.7875,
          1
         ],
         "gridcolor": "#E1E5ED",
         "showgrid": false,
         "tickfont": {
          "color": "#4D5663"
         },
         "title": {
          "font": {
           "color": "#4D5663"
          },
          "text": ""
         },
         "zerolinecolor": "#E1E5ED"
        },
        "xaxis13": {
         "anchor": "y13",
         "domain": [
          0,
          0.2125
         ],
         "gridcolor": "#E1E5ED",
         "showgrid": false,
         "tickfont": {
          "color": "#4D5663"
         },
         "title": {
          "font": {
           "color": "#4D5663"
          },
          "text": ""
         },
         "zerolinecolor": "#E1E5ED"
        },
        "xaxis14": {
         "anchor": "y14",
         "domain": [
          0.2625,
          0.475
         ],
         "gridcolor": "#E1E5ED",
         "showgrid": false,
         "tickfont": {
          "color": "#4D5663"
         },
         "title": {
          "font": {
           "color": "#4D5663"
          },
          "text": ""
         },
         "zerolinecolor": "#E1E5ED"
        },
        "xaxis15": {
         "anchor": "y15",
         "domain": [
          0.525,
          0.7375
         ],
         "gridcolor": "#E1E5ED",
         "showgrid": false,
         "tickfont": {
          "color": "#4D5663"
         },
         "title": {
          "font": {
           "color": "#4D5663"
          },
          "text": ""
         },
         "zerolinecolor": "#E1E5ED"
        },
        "xaxis16": {
         "anchor": "y16",
         "domain": [
          0.7875,
          1
         ],
         "gridcolor": "#E1E5ED",
         "showgrid": false,
         "tickfont": {
          "color": "#4D5663"
         },
         "title": {
          "font": {
           "color": "#4D5663"
          },
          "text": ""
         },
         "zerolinecolor": "#E1E5ED"
        },
        "xaxis2": {
         "anchor": "y2",
         "domain": [
          0.2625,
          0.475
         ],
         "gridcolor": "#E1E5ED",
         "showgrid": false,
         "tickfont": {
          "color": "#4D5663"
         },
         "title": {
          "font": {
           "color": "#4D5663"
          },
          "text": ""
         },
         "zerolinecolor": "#E1E5ED"
        },
        "xaxis3": {
         "anchor": "y3",
         "domain": [
          0.525,
          0.7375
         ],
         "gridcolor": "#E1E5ED",
         "showgrid": false,
         "tickfont": {
          "color": "#4D5663"
         },
         "title": {
          "font": {
           "color": "#4D5663"
          },
          "text": ""
         },
         "zerolinecolor": "#E1E5ED"
        },
        "xaxis4": {
         "anchor": "y4",
         "domain": [
          0.7875,
          1
         ],
         "gridcolor": "#E1E5ED",
         "showgrid": false,
         "tickfont": {
          "color": "#4D5663"
         },
         "title": {
          "font": {
           "color": "#4D5663"
          },
          "text": ""
         },
         "zerolinecolor": "#E1E5ED"
        },
        "xaxis5": {
         "anchor": "y5",
         "domain": [
          0,
          0.2125
         ],
         "gridcolor": "#E1E5ED",
         "showgrid": false,
         "tickfont": {
          "color": "#4D5663"
         },
         "title": {
          "font": {
           "color": "#4D5663"
          },
          "text": ""
         },
         "zerolinecolor": "#E1E5ED"
        },
        "xaxis6": {
         "anchor": "y6",
         "domain": [
          0.2625,
          0.475
         ],
         "gridcolor": "#E1E5ED",
         "showgrid": false,
         "tickfont": {
          "color": "#4D5663"
         },
         "title": {
          "font": {
           "color": "#4D5663"
          },
          "text": ""
         },
         "zerolinecolor": "#E1E5ED"
        },
        "xaxis7": {
         "anchor": "y7",
         "domain": [
          0.525,
          0.7375
         ],
         "gridcolor": "#E1E5ED",
         "showgrid": false,
         "tickfont": {
          "color": "#4D5663"
         },
         "title": {
          "font": {
           "color": "#4D5663"
          },
          "text": ""
         },
         "zerolinecolor": "#E1E5ED"
        },
        "xaxis8": {
         "anchor": "y8",
         "domain": [
          0.7875,
          1
         ],
         "gridcolor": "#E1E5ED",
         "showgrid": false,
         "tickfont": {
          "color": "#4D5663"
         },
         "title": {
          "font": {
           "color": "#4D5663"
          },
          "text": ""
         },
         "zerolinecolor": "#E1E5ED"
        },
        "xaxis9": {
         "anchor": "y9",
         "domain": [
          0,
          0.2125
         ],
         "gridcolor": "#E1E5ED",
         "showgrid": false,
         "tickfont": {
          "color": "#4D5663"
         },
         "title": {
          "font": {
           "color": "#4D5663"
          },
          "text": ""
         },
         "zerolinecolor": "#E1E5ED"
        },
        "yaxis": {
         "anchor": "x",
         "domain": [
          0.8025,
          1
         ],
         "gridcolor": "#E1E5ED",
         "showgrid": false,
         "tickfont": {
          "color": "#4D5663"
         },
         "title": {
          "font": {
           "color": "#4D5663"
          },
          "text": ""
         },
         "zerolinecolor": "#E1E5ED"
        },
        "yaxis10": {
         "anchor": "x10",
         "domain": [
          0.2675,
          0.465
         ],
         "gridcolor": "#E1E5ED",
         "showgrid": false,
         "tickfont": {
          "color": "#4D5663"
         },
         "title": {
          "font": {
           "color": "#4D5663"
          },
          "text": ""
         },
         "zerolinecolor": "#E1E5ED"
        },
        "yaxis11": {
         "anchor": "x11",
         "domain": [
          0.2675,
          0.465
         ],
         "gridcolor": "#E1E5ED",
         "showgrid": false,
         "tickfont": {
          "color": "#4D5663"
         },
         "title": {
          "font": {
           "color": "#4D5663"
          },
          "text": ""
         },
         "zerolinecolor": "#E1E5ED"
        },
        "yaxis12": {
         "anchor": "x12",
         "domain": [
          0.2675,
          0.465
         ],
         "gridcolor": "#E1E5ED",
         "showgrid": false,
         "tickfont": {
          "color": "#4D5663"
         },
         "title": {
          "font": {
           "color": "#4D5663"
          },
          "text": ""
         },
         "zerolinecolor": "#E1E5ED"
        },
        "yaxis13": {
         "anchor": "x13",
         "domain": [
          0,
          0.1975
         ],
         "gridcolor": "#E1E5ED",
         "showgrid": false,
         "tickfont": {
          "color": "#4D5663"
         },
         "title": {
          "font": {
           "color": "#4D5663"
          },
          "text": ""
         },
         "zerolinecolor": "#E1E5ED"
        },
        "yaxis14": {
         "anchor": "x14",
         "domain": [
          0,
          0.1975
         ],
         "gridcolor": "#E1E5ED",
         "showgrid": false,
         "tickfont": {
          "color": "#4D5663"
         },
         "title": {
          "font": {
           "color": "#4D5663"
          },
          "text": ""
         },
         "zerolinecolor": "#E1E5ED"
        },
        "yaxis15": {
         "anchor": "x15",
         "domain": [
          0,
          0.1975
         ],
         "gridcolor": "#E1E5ED",
         "showgrid": false,
         "tickfont": {
          "color": "#4D5663"
         },
         "title": {
          "font": {
           "color": "#4D5663"
          },
          "text": ""
         },
         "zerolinecolor": "#E1E5ED"
        },
        "yaxis16": {
         "anchor": "x16",
         "domain": [
          0,
          0.1975
         ],
         "gridcolor": "#E1E5ED",
         "showgrid": false,
         "tickfont": {
          "color": "#4D5663"
         },
         "title": {
          "font": {
           "color": "#4D5663"
          },
          "text": ""
         },
         "zerolinecolor": "#E1E5ED"
        },
        "yaxis2": {
         "anchor": "x2",
         "domain": [
          0.8025,
          1
         ],
         "gridcolor": "#E1E5ED",
         "showgrid": false,
         "tickfont": {
          "color": "#4D5663"
         },
         "title": {
          "font": {
           "color": "#4D5663"
          },
          "text": ""
         },
         "zerolinecolor": "#E1E5ED"
        },
        "yaxis3": {
         "anchor": "x3",
         "domain": [
          0.8025,
          1
         ],
         "gridcolor": "#E1E5ED",
         "showgrid": false,
         "tickfont": {
          "color": "#4D5663"
         },
         "title": {
          "font": {
           "color": "#4D5663"
          },
          "text": ""
         },
         "zerolinecolor": "#E1E5ED"
        },
        "yaxis4": {
         "anchor": "x4",
         "domain": [
          0.8025,
          1
         ],
         "gridcolor": "#E1E5ED",
         "showgrid": false,
         "tickfont": {
          "color": "#4D5663"
         },
         "title": {
          "font": {
           "color": "#4D5663"
          },
          "text": ""
         },
         "zerolinecolor": "#E1E5ED"
        },
        "yaxis5": {
         "anchor": "x5",
         "domain": [
          0.535,
          0.7325
         ],
         "gridcolor": "#E1E5ED",
         "showgrid": false,
         "tickfont": {
          "color": "#4D5663"
         },
         "title": {
          "font": {
           "color": "#4D5663"
          },
          "text": ""
         },
         "zerolinecolor": "#E1E5ED"
        },
        "yaxis6": {
         "anchor": "x6",
         "domain": [
          0.535,
          0.7325
         ],
         "gridcolor": "#E1E5ED",
         "showgrid": false,
         "tickfont": {
          "color": "#4D5663"
         },
         "title": {
          "font": {
           "color": "#4D5663"
          },
          "text": ""
         },
         "zerolinecolor": "#E1E5ED"
        },
        "yaxis7": {
         "anchor": "x7",
         "domain": [
          0.535,
          0.7325
         ],
         "gridcolor": "#E1E5ED",
         "showgrid": false,
         "tickfont": {
          "color": "#4D5663"
         },
         "title": {
          "font": {
           "color": "#4D5663"
          },
          "text": ""
         },
         "zerolinecolor": "#E1E5ED"
        },
        "yaxis8": {
         "anchor": "x8",
         "domain": [
          0.535,
          0.7325
         ],
         "gridcolor": "#E1E5ED",
         "showgrid": false,
         "tickfont": {
          "color": "#4D5663"
         },
         "title": {
          "font": {
           "color": "#4D5663"
          },
          "text": ""
         },
         "zerolinecolor": "#E1E5ED"
        },
        "yaxis9": {
         "anchor": "x9",
         "domain": [
          0.2675,
          0.465
         ],
         "gridcolor": "#E1E5ED",
         "showgrid": false,
         "tickfont": {
          "color": "#4D5663"
         },
         "title": {
          "font": {
           "color": "#4D5663"
          },
          "text": ""
         },
         "zerolinecolor": "#E1E5ED"
        }
       }
      },
      "text/html": [
       "<div>                            <div id=\"544fa8b0-0a2f-4fc1-936a-4c03feb97332\" class=\"plotly-graph-div\" style=\"height:525px; width:100%;\"></div>            <script type=\"text/javascript\">                require([\"plotly\"], function(Plotly) {                    window.PLOTLYENV=window.PLOTLYENV || {};\n",
       "                    window.PLOTLYENV.BASE_URL='https://plot.ly';                                    if (document.getElementById(\"544fa8b0-0a2f-4fc1-936a-4c03feb97332\")) {                    Plotly.newPlot(                        \"544fa8b0-0a2f-4fc1-936a-4c03feb97332\",                        [{\"histfunc\":\"count\",\"histnorm\":\"\",\"marker\":{\"color\":\"rgba(255, 153, 51, 1.0)\",\"line\":{\"color\":\"#4D5663\",\"width\":1.3}},\"name\":\"A\",\"nbinsx\":10,\"opacity\":0.8,\"orientation\":\"v\",\"x\":[1.0695780874798893,-0.6688246077647048,-0.8768325532699232,0.5846041548118759,0.1234743270956829,3.4791082204999846,0.6394411045953567,-1.8588525353308045,-0.09988848117769902,-3.585334312685853,-0.3468308478497572,-0.8260384206665327,-0.6907893591011696,-1.4852586173285742,-0.25765375593010137,-0.44626977717335475,-1.7881342688303001,1.0560463232781325,-0.6118484997932785,-0.28090068433241533,-0.36129223471773436,0.05624123962916439,-1.0493408332261727,1.3571359129570726,0.6080852256235924,-1.0764672477878665,0.6576424280762245,2.1686207235766246,-1.3066081747334748,0.9394087435997776,-0.5226267172566758,-0.49651129843957736,-0.9918493687721509,-0.19131682338888764,0.7142159865359168,0.18180856373710771,0.7501866480553426,-0.2659994587199686,-1.0863108611887782,0.3845970933447684,0.08385491653407101,0.213288645841052,0.8285450872251666,0.7829263857702672,-0.49796304010092884,1.0268246038778484,-1.367210159961053,-0.7102119846311828,-0.38098132668670065,0.027296080474879927,0.20727149763656935,-0.39831741064134546,-0.4858771542442912,0.044894688014666465,-0.3377575089268816,0.8146487451450918,-0.5176401803753576,1.6282037718948779,-0.8053439703768238,-1.2450221802677344,-1.0429522515434908,-0.7181219633120665,-0.8687414942939818,-1.646924395142777,1.378280613564057,0.5681960097760388,-0.006350409197701762,-1.027078098139645,1.3672669957436328,-0.42399754739567835,0.2572681050701859,0.9866400986616074,-0.9179216938928588,-2.0808712866480374,0.5528322892342697,0.9230106496890149,0.1686186313709958,-1.5417456070111637,-0.4200677293091439,0.0643680205861979,1.437529140323141,-0.14220738186728962,1.7983613814824884,0.2178318654089859,-1.5549591871383583,2.4969030349900567,-1.749730221977046,0.6134052139711424,-0.3362184800002531,-0.3027409579953844,1.293778086782797,-1.0131940755359794,2.1181805861810776,-1.3959307921409663,0.5140414624574768,-0.599410039617266,1.7541114211585354,-0.6961689882949277,-0.09092864116037773,0.6647742078919533],\"xaxis\":\"x\",\"yaxis\":\"y\",\"type\":\"histogram\"},{\"line\":{\"color\":\"rgba(128, 128, 128, 1.0)\",\"dash\":\"solid\",\"shape\":\"linear\",\"width\":1.3},\"marker\":{\"size\":2,\"symbol\":\"circle\"},\"mode\":\"markers\",\"name\":\"A\",\"text\":\"\",\"x\":[-0.9139878772827333,-0.08769317039224812,1.2549229594087425,0.7734929129565938,0.32551639667358967,0.06472013532223145,0.4489237903342312,-0.5376767084883879,1.4159491326545584,-0.16067285210103188,0.5395943979579801,-0.5964929759286733,-0.5694175285048431,0.8751026063828987,-0.7616455966638427,0.15897303518261077,-1.6875555004691791,0.32216394848199115,-0.10030356054937484,-0.11856117396267761,-0.27414364727766044,0.163723571047574,1.4237077596079468,-0.8629773392344109,-0.8963300480762472,0.3990646493880536,-0.7640696360957434,-0.9273917270584725,0.34452355271044877,0.15170227821005117,0.5648147860721607,-1.8701285343645826,1.950778763700419,2.1342463787666666,-0.4995652182175252,-0.5669159598591469,0.10666924786932587,0.263359843230698,-0.210681061067419,-0.8157159337327569,-1.4133654524950354,0.8290481002596413,0.3923108908193899,-1.5380858255153,1.08770035598143,0.11275619340426378,1.572544617584101,-0.5166715694677358,0.9284344540019726,0.8006337675994765,-1.4285058636600925,-0.6392361505059976,-0.23042531867174745,-0.793958906679922,-0.42254265403664415,0.16085517143794348,0.1125121445461009,-1.0882069564305088,-1.096823320824602,0.019633414187281737,0.6195893397874593,-1.4028099218639112,-0.4908141768141228,0.21148419670406784,0.6419280636141652,-0.06495314317794514,-0.9193876460797339,0.019942825358401563,-2.348428587225312,2.000913445564362,0.9277072465599404,-1.0222088298692635,-0.34273600359405526,2.338928916336926,-0.148101799502789,1.524964564987665,0.914025793860094,1.5422076668737787,-0.023749254518849662,0.524279843798628,-1.4347027513614323,-1.785504838816489,-0.8954800679209548,-1.8961976651347,-0.7442784395015505,-0.8048857189042761,-0.0967984291667222,-1.9393000002484315,1.6670645156175294,-0.21775076532364407,0.09050205548815078,0.8783754651483104,-1.7130236485510746,-2.0691261799490825,-1.1499457692550565,0.8595026389589712,-1.3373308228263112,0.023915176562741277,-0.9087830673537445,1.7719125771459925],\"xaxis\":\"x2\",\"y\":[1.0695780874798893,-0.6688246077647048,-0.8768325532699232,0.5846041548118759,0.1234743270956829,3.4791082204999846,0.6394411045953567,-1.8588525353308045,-0.09988848117769902,-3.585334312685853,-0.3468308478497572,-0.8260384206665327,-0.6907893591011696,-1.4852586173285742,-0.25765375593010137,-0.44626977717335475,-1.7881342688303001,1.0560463232781325,-0.6118484997932785,-0.28090068433241533,-0.36129223471773436,0.05624123962916439,-1.0493408332261727,1.3571359129570726,0.6080852256235924,-1.0764672477878665,0.6576424280762245,2.1686207235766246,-1.3066081747334748,0.9394087435997776,-0.5226267172566758,-0.49651129843957736,-0.9918493687721509,-0.19131682338888764,0.7142159865359168,0.18180856373710771,0.7501866480553426,-0.2659994587199686,-1.0863108611887782,0.3845970933447684,0.08385491653407101,0.213288645841052,0.8285450872251666,0.7829263857702672,-0.49796304010092884,1.0268246038778484,-1.367210159961053,-0.7102119846311828,-0.38098132668670065,0.027296080474879927,0.20727149763656935,-0.39831741064134546,-0.4858771542442912,0.044894688014666465,-0.3377575089268816,0.8146487451450918,-0.5176401803753576,1.6282037718948779,-0.8053439703768238,-1.2450221802677344,-1.0429522515434908,-0.7181219633120665,-0.8687414942939818,-1.646924395142777,1.378280613564057,0.5681960097760388,-0.006350409197701762,-1.027078098139645,1.3672669957436328,-0.42399754739567835,0.2572681050701859,0.9866400986616074,-0.9179216938928588,-2.0808712866480374,0.5528322892342697,0.9230106496890149,0.1686186313709958,-1.5417456070111637,-0.4200677293091439,0.0643680205861979,1.437529140323141,-0.14220738186728962,1.7983613814824884,0.2178318654089859,-1.5549591871383583,2.4969030349900567,-1.749730221977046,0.6134052139711424,-0.3362184800002531,-0.3027409579953844,1.293778086782797,-1.0131940755359794,2.1181805861810776,-1.3959307921409663,0.5140414624574768,-0.599410039617266,1.7541114211585354,-0.6961689882949277,-0.09092864116037773,0.6647742078919533],\"yaxis\":\"y2\",\"type\":\"scatter\"},{\"line\":{\"color\":\"rgba(128, 128, 128, 1.0)\",\"dash\":\"solid\",\"shape\":\"linear\",\"width\":1.3},\"marker\":{\"size\":2,\"symbol\":\"circle\"},\"mode\":\"markers\",\"name\":\"A\",\"text\":\"\",\"x\":[-0.9111639501444778,-0.21308462762989866,0.6178500690224831,-0.9491608825047444,-0.7718195162364357,0.24578190485569634,-0.11297161514474634,0.05257491343649683,1.7921592380873255,0.022391913581764206,-1.8827530796472438,-0.5339157642434252,-0.5233726427430536,-0.3297124192276205,-0.021877630236314984,-0.40041345704488357,0.47916628560228697,1.5613708893385065,1.1189151260780066,-0.8251285480100764,-1.443898523211242,1.1764741611916676,0.26183975626268585,-0.25257828944963806,1.1326142050056685,-1.2946514979500152,-1.1605251382923323,-1.0611605388452843,-1.5917093690006994,-0.47638249303850033,0.21077012851362467,-1.4529783993970429,0.08963217544554952,0.26964815391518976,1.0045000285749042,-0.4186933642798534,0.34657172219430366,-0.24368542150057984,0.26789854356827236,-0.9184965002857977,0.2990592064381899,-1.602502896906284,0.38753280042224925,0.5605532730294414,1.037797069991631,-2.191130195941812,-1.2798828932732627,-1.175341557492041,-0.06290157773707312,-0.46025244134216337,0.6517960047363252,1.225213880695869,-0.044471056102332554,-1.2472283852835697,0.6113753040244009,-2.3093373536934694,0.011318723986845788,-0.6701173004275855,0.11853525749460166,-0.08121217707410237,-0.09091553442692922,-0.3846229748303238,0.4712894744606097,-1.1068225933524853,-0.9748698602211955,0.18619409790889427,0.5647919679884869,-0.39464378644442094,2.3928215378791755,1.7040736571936441,-0.5151391213076665,-0.08137003103917313,1.2640930238124004,-0.07094263042349323,-0.4149743949688728,-0.9982413151079128,0.032905586865713765,-0.5335850221643458,0.3438496953412661,-0.1992338233417873,-1.1401816603739796,0.25884031292409476,0.32323683840794887,-0.2664597337932239,0.4029405980918615,0.5372414723745346,1.1770049034294952,-0.050365752585326815,-0.3426954694018073,-0.9312296561679975,0.5892684756912165,-1.0909878734947331,-1.783197085848866,0.09822018499037254,-0.898541185350123,-0.268581700766926,1.8343974601897173,-0.9703909136015605,-0.49621922608057123,0.058404937813770146],\"xaxis\":\"x3\",\"y\":[1.0695780874798893,-0.6688246077647048,-0.8768325532699232,0.5846041548118759,0.1234743270956829,3.4791082204999846,0.6394411045953567,-1.8588525353308045,-0.09988848117769902,-3.585334312685853,-0.3468308478497572,-0.8260384206665327,-0.6907893591011696,-1.4852586173285742,-0.25765375593010137,-0.44626977717335475,-1.7881342688303001,1.0560463232781325,-0.6118484997932785,-0.28090068433241533,-0.36129223471773436,0.05624123962916439,-1.0493408332261727,1.3571359129570726,0.6080852256235924,-1.0764672477878665,0.6576424280762245,2.1686207235766246,-1.3066081747334748,0.9394087435997776,-0.5226267172566758,-0.49651129843957736,-0.9918493687721509,-0.19131682338888764,0.7142159865359168,0.18180856373710771,0.7501866480553426,-0.2659994587199686,-1.0863108611887782,0.3845970933447684,0.08385491653407101,0.213288645841052,0.8285450872251666,0.7829263857702672,-0.49796304010092884,1.0268246038778484,-1.367210159961053,-0.7102119846311828,-0.38098132668670065,0.027296080474879927,0.20727149763656935,-0.39831741064134546,-0.4858771542442912,0.044894688014666465,-0.3377575089268816,0.8146487451450918,-0.5176401803753576,1.6282037718948779,-0.8053439703768238,-1.2450221802677344,-1.0429522515434908,-0.7181219633120665,-0.8687414942939818,-1.646924395142777,1.378280613564057,0.5681960097760388,-0.006350409197701762,-1.027078098139645,1.3672669957436328,-0.42399754739567835,0.2572681050701859,0.9866400986616074,-0.9179216938928588,-2.0808712866480374,0.5528322892342697,0.9230106496890149,0.1686186313709958,-1.5417456070111637,-0.4200677293091439,0.0643680205861979,1.437529140323141,-0.14220738186728962,1.7983613814824884,0.2178318654089859,-1.5549591871383583,2.4969030349900567,-1.749730221977046,0.6134052139711424,-0.3362184800002531,-0.3027409579953844,1.293778086782797,-1.0131940755359794,2.1181805861810776,-1.3959307921409663,0.5140414624574768,-0.599410039617266,1.7541114211585354,-0.6961689882949277,-0.09092864116037773,0.6647742078919533],\"yaxis\":\"y3\",\"type\":\"scatter\"},{\"line\":{\"color\":\"rgba(128, 128, 128, 1.0)\",\"dash\":\"solid\",\"shape\":\"linear\",\"width\":1.3},\"marker\":{\"size\":2,\"symbol\":\"circle\"},\"mode\":\"markers\",\"name\":\"A\",\"text\":\"\",\"x\":[0.901625400646958,-0.049514969031106415,-0.5436316703459625,-0.6740816194768533,-0.0436335460907179,1.312218805289843,-1.7788215798946212,0.9395934557601892,-0.2837863718544718,-1.8229775405218895,0.0664212955525262,1.0026965717886291,1.7492203741629795,-0.3645746532685288,-0.7813815162373545,0.3781935450243182,-0.5090260728395484,0.5188107004889,-0.06651783174961994,0.22153952684157205,-1.866621181584803,-0.617241104874736,0.26827028925273505,1.2509085494452925,0.019409775851041207,-1.0832155061104165,1.0110797935259062,-1.8740614748451139,-0.6266998441654743,-0.04400478399589192,0.18937554400294493,-1.371302348618277,-0.1400635642035595,-0.737607274461631,-1.7577654442327857,0.00878796650331657,-0.17379907818277626,0.926350887460455,-0.0857595086263262,0.08772033753918801,-0.41181199564907645,0.10627044864902223,1.7451134698565127,0.6023903504471164,-1.225712943850586,0.02989961530307323,0.39345322629876694,0.5623321875737589,-1.490186418748514,1.43103169107788,-0.6912091248391053,-1.1490171922735388,0.4621308697596686,-1.694278393910498,-1.8249469539132568,0.4026888699890036,1.4589676140913095,0.06360793441385354,-0.6274756707793143,1.9228987987930435,-0.49380093161145294,0.7225478415902334,-0.15241404498658934,-0.5780999074327073,-0.48420272952273335,0.6177270949721229,-1.1810762151079863,0.3986044465010986,1.654493984752075,0.21763998586240077,-0.510184604326875,-0.12001725979624689,-0.1422921410982252,0.08885045657532206,0.031142341694185213,1.4203303335399462,-0.016421202475835193,-0.30173166478023944,-0.1520262096445688,-0.5448118784094882,-1.197061098819882,-0.8063403671715362,0.9163453028095149,-0.5216803892654508,0.23007478398777292,0.8901991950988024,1.4807017118381032,-1.7607411386790102,-1.2129477353242093,1.6674246071924355,1.3984399994740626,-0.10158924923118912,-0.05966384308772902,-0.15128827260123795,0.7467288790878025,-0.20460751589824278,1.4618363436781472,0.6498805877950959,0.07671615404303134,0.31892399689042944],\"xaxis\":\"x4\",\"y\":[1.0695780874798893,-0.6688246077647048,-0.8768325532699232,0.5846041548118759,0.1234743270956829,3.4791082204999846,0.6394411045953567,-1.8588525353308045,-0.09988848117769902,-3.585334312685853,-0.3468308478497572,-0.8260384206665327,-0.6907893591011696,-1.4852586173285742,-0.25765375593010137,-0.44626977717335475,-1.7881342688303001,1.0560463232781325,-0.6118484997932785,-0.28090068433241533,-0.36129223471773436,0.05624123962916439,-1.0493408332261727,1.3571359129570726,0.6080852256235924,-1.0764672477878665,0.6576424280762245,2.1686207235766246,-1.3066081747334748,0.9394087435997776,-0.5226267172566758,-0.49651129843957736,-0.9918493687721509,-0.19131682338888764,0.7142159865359168,0.18180856373710771,0.7501866480553426,-0.2659994587199686,-1.0863108611887782,0.3845970933447684,0.08385491653407101,0.213288645841052,0.8285450872251666,0.7829263857702672,-0.49796304010092884,1.0268246038778484,-1.367210159961053,-0.7102119846311828,-0.38098132668670065,0.027296080474879927,0.20727149763656935,-0.39831741064134546,-0.4858771542442912,0.044894688014666465,-0.3377575089268816,0.8146487451450918,-0.5176401803753576,1.6282037718948779,-0.8053439703768238,-1.2450221802677344,-1.0429522515434908,-0.7181219633120665,-0.8687414942939818,-1.646924395142777,1.378280613564057,0.5681960097760388,-0.006350409197701762,-1.027078098139645,1.3672669957436328,-0.42399754739567835,0.2572681050701859,0.9866400986616074,-0.9179216938928588,-2.0808712866480374,0.5528322892342697,0.9230106496890149,0.1686186313709958,-1.5417456070111637,-0.4200677293091439,0.0643680205861979,1.437529140323141,-0.14220738186728962,1.7983613814824884,0.2178318654089859,-1.5549591871383583,2.4969030349900567,-1.749730221977046,0.6134052139711424,-0.3362184800002531,-0.3027409579953844,1.293778086782797,-1.0131940755359794,2.1181805861810776,-1.3959307921409663,0.5140414624574768,-0.599410039617266,1.7541114211585354,-0.6961689882949277,-0.09092864116037773,0.6647742078919533],\"yaxis\":\"y4\",\"type\":\"scatter\"},{\"line\":{\"color\":\"rgba(128, 128, 128, 1.0)\",\"dash\":\"solid\",\"shape\":\"linear\",\"width\":1.3},\"marker\":{\"size\":2,\"symbol\":\"circle\"},\"mode\":\"markers\",\"name\":\"B\",\"text\":\"\",\"x\":[1.0695780874798893,-0.6688246077647048,-0.8768325532699232,0.5846041548118759,0.1234743270956829,3.4791082204999846,0.6394411045953567,-1.8588525353308045,-0.09988848117769902,-3.585334312685853,-0.3468308478497572,-0.8260384206665327,-0.6907893591011696,-1.4852586173285742,-0.25765375593010137,-0.44626977717335475,-1.7881342688303001,1.0560463232781325,-0.6118484997932785,-0.28090068433241533,-0.36129223471773436,0.05624123962916439,-1.0493408332261727,1.3571359129570726,0.6080852256235924,-1.0764672477878665,0.6576424280762245,2.1686207235766246,-1.3066081747334748,0.9394087435997776,-0.5226267172566758,-0.49651129843957736,-0.9918493687721509,-0.19131682338888764,0.7142159865359168,0.18180856373710771,0.7501866480553426,-0.2659994587199686,-1.0863108611887782,0.3845970933447684,0.08385491653407101,0.213288645841052,0.8285450872251666,0.7829263857702672,-0.49796304010092884,1.0268246038778484,-1.367210159961053,-0.7102119846311828,-0.38098132668670065,0.027296080474879927,0.20727149763656935,-0.39831741064134546,-0.4858771542442912,0.044894688014666465,-0.3377575089268816,0.8146487451450918,-0.5176401803753576,1.6282037718948779,-0.8053439703768238,-1.2450221802677344,-1.0429522515434908,-0.7181219633120665,-0.8687414942939818,-1.646924395142777,1.378280613564057,0.5681960097760388,-0.006350409197701762,-1.027078098139645,1.3672669957436328,-0.42399754739567835,0.2572681050701859,0.9866400986616074,-0.9179216938928588,-2.0808712866480374,0.5528322892342697,0.9230106496890149,0.1686186313709958,-1.5417456070111637,-0.4200677293091439,0.0643680205861979,1.437529140323141,-0.14220738186728962,1.7983613814824884,0.2178318654089859,-1.5549591871383583,2.4969030349900567,-1.749730221977046,0.6134052139711424,-0.3362184800002531,-0.3027409579953844,1.293778086782797,-1.0131940755359794,2.1181805861810776,-1.3959307921409663,0.5140414624574768,-0.599410039617266,1.7541114211585354,-0.6961689882949277,-0.09092864116037773,0.6647742078919533],\"xaxis\":\"x5\",\"y\":[-0.9139878772827333,-0.08769317039224812,1.2549229594087425,0.7734929129565938,0.32551639667358967,0.06472013532223145,0.4489237903342312,-0.5376767084883879,1.4159491326545584,-0.16067285210103188,0.5395943979579801,-0.5964929759286733,-0.5694175285048431,0.8751026063828987,-0.7616455966638427,0.15897303518261077,-1.6875555004691791,0.32216394848199115,-0.10030356054937484,-0.11856117396267761,-0.27414364727766044,0.163723571047574,1.4237077596079468,-0.8629773392344109,-0.8963300480762472,0.3990646493880536,-0.7640696360957434,-0.9273917270584725,0.34452355271044877,0.15170227821005117,0.5648147860721607,-1.8701285343645826,1.950778763700419,2.1342463787666666,-0.4995652182175252,-0.5669159598591469,0.10666924786932587,0.263359843230698,-0.210681061067419,-0.8157159337327569,-1.4133654524950354,0.8290481002596413,0.3923108908193899,-1.5380858255153,1.08770035598143,0.11275619340426378,1.572544617584101,-0.5166715694677358,0.9284344540019726,0.8006337675994765,-1.4285058636600925,-0.6392361505059976,-0.23042531867174745,-0.793958906679922,-0.42254265403664415,0.16085517143794348,0.1125121445461009,-1.0882069564305088,-1.096823320824602,0.019633414187281737,0.6195893397874593,-1.4028099218639112,-0.4908141768141228,0.21148419670406784,0.6419280636141652,-0.06495314317794514,-0.9193876460797339,0.019942825358401563,-2.348428587225312,2.000913445564362,0.9277072465599404,-1.0222088298692635,-0.34273600359405526,2.338928916336926,-0.148101799502789,1.524964564987665,0.914025793860094,1.5422076668737787,-0.023749254518849662,0.524279843798628,-1.4347027513614323,-1.785504838816489,-0.8954800679209548,-1.8961976651347,-0.7442784395015505,-0.8048857189042761,-0.0967984291667222,-1.9393000002484315,1.6670645156175294,-0.21775076532364407,0.09050205548815078,0.8783754651483104,-1.7130236485510746,-2.0691261799490825,-1.1499457692550565,0.8595026389589712,-1.3373308228263112,0.023915176562741277,-0.9087830673537445,1.7719125771459925],\"yaxis\":\"y5\",\"type\":\"scatter\"},{\"histfunc\":\"count\",\"histnorm\":\"\",\"marker\":{\"color\":\"rgba(55, 128, 191, 1.0)\",\"line\":{\"color\":\"#4D5663\",\"width\":1.3}},\"name\":\"B\",\"nbinsx\":10,\"opacity\":0.8,\"orientation\":\"v\",\"x\":[-0.9139878772827333,-0.08769317039224812,1.2549229594087425,0.7734929129565938,0.32551639667358967,0.06472013532223145,0.4489237903342312,-0.5376767084883879,1.4159491326545584,-0.16067285210103188,0.5395943979579801,-0.5964929759286733,-0.5694175285048431,0.8751026063828987,-0.7616455966638427,0.15897303518261077,-1.6875555004691791,0.32216394848199115,-0.10030356054937484,-0.11856117396267761,-0.27414364727766044,0.163723571047574,1.4237077596079468,-0.8629773392344109,-0.8963300480762472,0.3990646493880536,-0.7640696360957434,-0.9273917270584725,0.34452355271044877,0.15170227821005117,0.5648147860721607,-1.8701285343645826,1.950778763700419,2.1342463787666666,-0.4995652182175252,-0.5669159598591469,0.10666924786932587,0.263359843230698,-0.210681061067419,-0.8157159337327569,-1.4133654524950354,0.8290481002596413,0.3923108908193899,-1.5380858255153,1.08770035598143,0.11275619340426378,1.572544617584101,-0.5166715694677358,0.9284344540019726,0.8006337675994765,-1.4285058636600925,-0.6392361505059976,-0.23042531867174745,-0.793958906679922,-0.42254265403664415,0.16085517143794348,0.1125121445461009,-1.0882069564305088,-1.096823320824602,0.019633414187281737,0.6195893397874593,-1.4028099218639112,-0.4908141768141228,0.21148419670406784,0.6419280636141652,-0.06495314317794514,-0.9193876460797339,0.019942825358401563,-2.348428587225312,2.000913445564362,0.9277072465599404,-1.0222088298692635,-0.34273600359405526,2.338928916336926,-0.148101799502789,1.524964564987665,0.914025793860094,1.5422076668737787,-0.023749254518849662,0.524279843798628,-1.4347027513614323,-1.785504838816489,-0.8954800679209548,-1.8961976651347,-0.7442784395015505,-0.8048857189042761,-0.0967984291667222,-1.9393000002484315,1.6670645156175294,-0.21775076532364407,0.09050205548815078,0.8783754651483104,-1.7130236485510746,-2.0691261799490825,-1.1499457692550565,0.8595026389589712,-1.3373308228263112,0.023915176562741277,-0.9087830673537445,1.7719125771459925],\"xaxis\":\"x6\",\"yaxis\":\"y6\",\"type\":\"histogram\"},{\"line\":{\"color\":\"rgba(128, 128, 128, 1.0)\",\"dash\":\"solid\",\"shape\":\"linear\",\"width\":1.3},\"marker\":{\"size\":2,\"symbol\":\"circle\"},\"mode\":\"markers\",\"name\":\"B\",\"text\":\"\",\"x\":[-0.9111639501444778,-0.21308462762989866,0.6178500690224831,-0.9491608825047444,-0.7718195162364357,0.24578190485569634,-0.11297161514474634,0.05257491343649683,1.7921592380873255,0.022391913581764206,-1.8827530796472438,-0.5339157642434252,-0.5233726427430536,-0.3297124192276205,-0.021877630236314984,-0.40041345704488357,0.47916628560228697,1.5613708893385065,1.1189151260780066,-0.8251285480100764,-1.443898523211242,1.1764741611916676,0.26183975626268585,-0.25257828944963806,1.1326142050056685,-1.2946514979500152,-1.1605251382923323,-1.0611605388452843,-1.5917093690006994,-0.47638249303850033,0.21077012851362467,-1.4529783993970429,0.08963217544554952,0.26964815391518976,1.0045000285749042,-0.4186933642798534,0.34657172219430366,-0.24368542150057984,0.26789854356827236,-0.9184965002857977,0.2990592064381899,-1.602502896906284,0.38753280042224925,0.5605532730294414,1.037797069991631,-2.191130195941812,-1.2798828932732627,-1.175341557492041,-0.06290157773707312,-0.46025244134216337,0.6517960047363252,1.225213880695869,-0.044471056102332554,-1.2472283852835697,0.6113753040244009,-2.3093373536934694,0.011318723986845788,-0.6701173004275855,0.11853525749460166,-0.08121217707410237,-0.09091553442692922,-0.3846229748303238,0.4712894744606097,-1.1068225933524853,-0.9748698602211955,0.18619409790889427,0.5647919679884869,-0.39464378644442094,2.3928215378791755,1.7040736571936441,-0.5151391213076665,-0.08137003103917313,1.2640930238124004,-0.07094263042349323,-0.4149743949688728,-0.9982413151079128,0.032905586865713765,-0.5335850221643458,0.3438496953412661,-0.1992338233417873,-1.1401816603739796,0.25884031292409476,0.32323683840794887,-0.2664597337932239,0.4029405980918615,0.5372414723745346,1.1770049034294952,-0.050365752585326815,-0.3426954694018073,-0.9312296561679975,0.5892684756912165,-1.0909878734947331,-1.783197085848866,0.09822018499037254,-0.898541185350123,-0.268581700766926,1.8343974601897173,-0.9703909136015605,-0.49621922608057123,0.058404937813770146],\"xaxis\":\"x7\",\"y\":[-0.9139878772827333,-0.08769317039224812,1.2549229594087425,0.7734929129565938,0.32551639667358967,0.06472013532223145,0.4489237903342312,-0.5376767084883879,1.4159491326545584,-0.16067285210103188,0.5395943979579801,-0.5964929759286733,-0.5694175285048431,0.8751026063828987,-0.7616455966638427,0.15897303518261077,-1.6875555004691791,0.32216394848199115,-0.10030356054937484,-0.11856117396267761,-0.27414364727766044,0.163723571047574,1.4237077596079468,-0.8629773392344109,-0.8963300480762472,0.3990646493880536,-0.7640696360957434,-0.9273917270584725,0.34452355271044877,0.15170227821005117,0.5648147860721607,-1.8701285343645826,1.950778763700419,2.1342463787666666,-0.4995652182175252,-0.5669159598591469,0.10666924786932587,0.263359843230698,-0.210681061067419,-0.8157159337327569,-1.4133654524950354,0.8290481002596413,0.3923108908193899,-1.5380858255153,1.08770035598143,0.11275619340426378,1.572544617584101,-0.5166715694677358,0.9284344540019726,0.8006337675994765,-1.4285058636600925,-0.6392361505059976,-0.23042531867174745,-0.793958906679922,-0.42254265403664415,0.16085517143794348,0.1125121445461009,-1.0882069564305088,-1.096823320824602,0.019633414187281737,0.6195893397874593,-1.4028099218639112,-0.4908141768141228,0.21148419670406784,0.6419280636141652,-0.06495314317794514,-0.9193876460797339,0.019942825358401563,-2.348428587225312,2.000913445564362,0.9277072465599404,-1.0222088298692635,-0.34273600359405526,2.338928916336926,-0.148101799502789,1.524964564987665,0.914025793860094,1.5422076668737787,-0.023749254518849662,0.524279843798628,-1.4347027513614323,-1.785504838816489,-0.8954800679209548,-1.8961976651347,-0.7442784395015505,-0.8048857189042761,-0.0967984291667222,-1.9393000002484315,1.6670645156175294,-0.21775076532364407,0.09050205548815078,0.8783754651483104,-1.7130236485510746,-2.0691261799490825,-1.1499457692550565,0.8595026389589712,-1.3373308228263112,0.023915176562741277,-0.9087830673537445,1.7719125771459925],\"yaxis\":\"y7\",\"type\":\"scatter\"},{\"line\":{\"color\":\"rgba(128, 128, 128, 1.0)\",\"dash\":\"solid\",\"shape\":\"linear\",\"width\":1.3},\"marker\":{\"size\":2,\"symbol\":\"circle\"},\"mode\":\"markers\",\"name\":\"B\",\"text\":\"\",\"x\":[0.901625400646958,-0.049514969031106415,-0.5436316703459625,-0.6740816194768533,-0.0436335460907179,1.312218805289843,-1.7788215798946212,0.9395934557601892,-0.2837863718544718,-1.8229775405218895,0.0664212955525262,1.0026965717886291,1.7492203741629795,-0.3645746532685288,-0.7813815162373545,0.3781935450243182,-0.5090260728395484,0.5188107004889,-0.06651783174961994,0.22153952684157205,-1.866621181584803,-0.617241104874736,0.26827028925273505,1.2509085494452925,0.019409775851041207,-1.0832155061104165,1.0110797935259062,-1.8740614748451139,-0.6266998441654743,-0.04400478399589192,0.18937554400294493,-1.371302348618277,-0.1400635642035595,-0.737607274461631,-1.7577654442327857,0.00878796650331657,-0.17379907818277626,0.926350887460455,-0.0857595086263262,0.08772033753918801,-0.41181199564907645,0.10627044864902223,1.7451134698565127,0.6023903504471164,-1.225712943850586,0.02989961530307323,0.39345322629876694,0.5623321875737589,-1.490186418748514,1.43103169107788,-0.6912091248391053,-1.1490171922735388,0.4621308697596686,-1.694278393910498,-1.8249469539132568,0.4026888699890036,1.4589676140913095,0.06360793441385354,-0.6274756707793143,1.9228987987930435,-0.49380093161145294,0.7225478415902334,-0.15241404498658934,-0.5780999074327073,-0.48420272952273335,0.6177270949721229,-1.1810762151079863,0.3986044465010986,1.654493984752075,0.21763998586240077,-0.510184604326875,-0.12001725979624689,-0.1422921410982252,0.08885045657532206,0.031142341694185213,1.4203303335399462,-0.016421202475835193,-0.30173166478023944,-0.1520262096445688,-0.5448118784094882,-1.197061098819882,-0.8063403671715362,0.9163453028095149,-0.5216803892654508,0.23007478398777292,0.8901991950988024,1.4807017118381032,-1.7607411386790102,-1.2129477353242093,1.6674246071924355,1.3984399994740626,-0.10158924923118912,-0.05966384308772902,-0.15128827260123795,0.7467288790878025,-0.20460751589824278,1.4618363436781472,0.6498805877950959,0.07671615404303134,0.31892399689042944],\"xaxis\":\"x8\",\"y\":[-0.9139878772827333,-0.08769317039224812,1.2549229594087425,0.7734929129565938,0.32551639667358967,0.06472013532223145,0.4489237903342312,-0.5376767084883879,1.4159491326545584,-0.16067285210103188,0.5395943979579801,-0.5964929759286733,-0.5694175285048431,0.8751026063828987,-0.7616455966638427,0.15897303518261077,-1.6875555004691791,0.32216394848199115,-0.10030356054937484,-0.11856117396267761,-0.27414364727766044,0.163723571047574,1.4237077596079468,-0.8629773392344109,-0.8963300480762472,0.3990646493880536,-0.7640696360957434,-0.9273917270584725,0.34452355271044877,0.15170227821005117,0.5648147860721607,-1.8701285343645826,1.950778763700419,2.1342463787666666,-0.4995652182175252,-0.5669159598591469,0.10666924786932587,0.263359843230698,-0.210681061067419,-0.8157159337327569,-1.4133654524950354,0.8290481002596413,0.3923108908193899,-1.5380858255153,1.08770035598143,0.11275619340426378,1.572544617584101,-0.5166715694677358,0.9284344540019726,0.8006337675994765,-1.4285058636600925,-0.6392361505059976,-0.23042531867174745,-0.793958906679922,-0.42254265403664415,0.16085517143794348,0.1125121445461009,-1.0882069564305088,-1.096823320824602,0.019633414187281737,0.6195893397874593,-1.4028099218639112,-0.4908141768141228,0.21148419670406784,0.6419280636141652,-0.06495314317794514,-0.9193876460797339,0.019942825358401563,-2.348428587225312,2.000913445564362,0.9277072465599404,-1.0222088298692635,-0.34273600359405526,2.338928916336926,-0.148101799502789,1.524964564987665,0.914025793860094,1.5422076668737787,-0.023749254518849662,0.524279843798628,-1.4347027513614323,-1.785504838816489,-0.8954800679209548,-1.8961976651347,-0.7442784395015505,-0.8048857189042761,-0.0967984291667222,-1.9393000002484315,1.6670645156175294,-0.21775076532364407,0.09050205548815078,0.8783754651483104,-1.7130236485510746,-2.0691261799490825,-1.1499457692550565,0.8595026389589712,-1.3373308228263112,0.023915176562741277,-0.9087830673537445,1.7719125771459925],\"yaxis\":\"y8\",\"type\":\"scatter\"},{\"line\":{\"color\":\"rgba(128, 128, 128, 1.0)\",\"dash\":\"solid\",\"shape\":\"linear\",\"width\":1.3},\"marker\":{\"size\":2,\"symbol\":\"circle\"},\"mode\":\"markers\",\"name\":\"C\",\"text\":\"\",\"x\":[1.0695780874798893,-0.6688246077647048,-0.8768325532699232,0.5846041548118759,0.1234743270956829,3.4791082204999846,0.6394411045953567,-1.8588525353308045,-0.09988848117769902,-3.585334312685853,-0.3468308478497572,-0.8260384206665327,-0.6907893591011696,-1.4852586173285742,-0.25765375593010137,-0.44626977717335475,-1.7881342688303001,1.0560463232781325,-0.6118484997932785,-0.28090068433241533,-0.36129223471773436,0.05624123962916439,-1.0493408332261727,1.3571359129570726,0.6080852256235924,-1.0764672477878665,0.6576424280762245,2.1686207235766246,-1.3066081747334748,0.9394087435997776,-0.5226267172566758,-0.49651129843957736,-0.9918493687721509,-0.19131682338888764,0.7142159865359168,0.18180856373710771,0.7501866480553426,-0.2659994587199686,-1.0863108611887782,0.3845970933447684,0.08385491653407101,0.213288645841052,0.8285450872251666,0.7829263857702672,-0.49796304010092884,1.0268246038778484,-1.367210159961053,-0.7102119846311828,-0.38098132668670065,0.027296080474879927,0.20727149763656935,-0.39831741064134546,-0.4858771542442912,0.044894688014666465,-0.3377575089268816,0.8146487451450918,-0.5176401803753576,1.6282037718948779,-0.8053439703768238,-1.2450221802677344,-1.0429522515434908,-0.7181219633120665,-0.8687414942939818,-1.646924395142777,1.378280613564057,0.5681960097760388,-0.006350409197701762,-1.027078098139645,1.3672669957436328,-0.42399754739567835,0.2572681050701859,0.9866400986616074,-0.9179216938928588,-2.0808712866480374,0.5528322892342697,0.9230106496890149,0.1686186313709958,-1.5417456070111637,-0.4200677293091439,0.0643680205861979,1.437529140323141,-0.14220738186728962,1.7983613814824884,0.2178318654089859,-1.5549591871383583,2.4969030349900567,-1.749730221977046,0.6134052139711424,-0.3362184800002531,-0.3027409579953844,1.293778086782797,-1.0131940755359794,2.1181805861810776,-1.3959307921409663,0.5140414624574768,-0.599410039617266,1.7541114211585354,-0.6961689882949277,-0.09092864116037773,0.6647742078919533],\"xaxis\":\"x9\",\"y\":[-0.9111639501444778,-0.21308462762989866,0.6178500690224831,-0.9491608825047444,-0.7718195162364357,0.24578190485569634,-0.11297161514474634,0.05257491343649683,1.7921592380873255,0.022391913581764206,-1.8827530796472438,-0.5339157642434252,-0.5233726427430536,-0.3297124192276205,-0.021877630236314984,-0.40041345704488357,0.47916628560228697,1.5613708893385065,1.1189151260780066,-0.8251285480100764,-1.443898523211242,1.1764741611916676,0.26183975626268585,-0.25257828944963806,1.1326142050056685,-1.2946514979500152,-1.1605251382923323,-1.0611605388452843,-1.5917093690006994,-0.47638249303850033,0.21077012851362467,-1.4529783993970429,0.08963217544554952,0.26964815391518976,1.0045000285749042,-0.4186933642798534,0.34657172219430366,-0.24368542150057984,0.26789854356827236,-0.9184965002857977,0.2990592064381899,-1.602502896906284,0.38753280042224925,0.5605532730294414,1.037797069991631,-2.191130195941812,-1.2798828932732627,-1.175341557492041,-0.06290157773707312,-0.46025244134216337,0.6517960047363252,1.225213880695869,-0.044471056102332554,-1.2472283852835697,0.6113753040244009,-2.3093373536934694,0.011318723986845788,-0.6701173004275855,0.11853525749460166,-0.08121217707410237,-0.09091553442692922,-0.3846229748303238,0.4712894744606097,-1.1068225933524853,-0.9748698602211955,0.18619409790889427,0.5647919679884869,-0.39464378644442094,2.3928215378791755,1.7040736571936441,-0.5151391213076665,-0.08137003103917313,1.2640930238124004,-0.07094263042349323,-0.4149743949688728,-0.9982413151079128,0.032905586865713765,-0.5335850221643458,0.3438496953412661,-0.1992338233417873,-1.1401816603739796,0.25884031292409476,0.32323683840794887,-0.2664597337932239,0.4029405980918615,0.5372414723745346,1.1770049034294952,-0.050365752585326815,-0.3426954694018073,-0.9312296561679975,0.5892684756912165,-1.0909878734947331,-1.783197085848866,0.09822018499037254,-0.898541185350123,-0.268581700766926,1.8343974601897173,-0.9703909136015605,-0.49621922608057123,0.058404937813770146],\"yaxis\":\"y9\",\"type\":\"scatter\"},{\"line\":{\"color\":\"rgba(128, 128, 128, 1.0)\",\"dash\":\"solid\",\"shape\":\"linear\",\"width\":1.3},\"marker\":{\"size\":2,\"symbol\":\"circle\"},\"mode\":\"markers\",\"name\":\"C\",\"text\":\"\",\"x\":[-0.9139878772827333,-0.08769317039224812,1.2549229594087425,0.7734929129565938,0.32551639667358967,0.06472013532223145,0.4489237903342312,-0.5376767084883879,1.4159491326545584,-0.16067285210103188,0.5395943979579801,-0.5964929759286733,-0.5694175285048431,0.8751026063828987,-0.7616455966638427,0.15897303518261077,-1.6875555004691791,0.32216394848199115,-0.10030356054937484,-0.11856117396267761,-0.27414364727766044,0.163723571047574,1.4237077596079468,-0.8629773392344109,-0.8963300480762472,0.3990646493880536,-0.7640696360957434,-0.9273917270584725,0.34452355271044877,0.15170227821005117,0.5648147860721607,-1.8701285343645826,1.950778763700419,2.1342463787666666,-0.4995652182175252,-0.5669159598591469,0.10666924786932587,0.263359843230698,-0.210681061067419,-0.8157159337327569,-1.4133654524950354,0.8290481002596413,0.3923108908193899,-1.5380858255153,1.08770035598143,0.11275619340426378,1.572544617584101,-0.5166715694677358,0.9284344540019726,0.8006337675994765,-1.4285058636600925,-0.6392361505059976,-0.23042531867174745,-0.793958906679922,-0.42254265403664415,0.16085517143794348,0.1125121445461009,-1.0882069564305088,-1.096823320824602,0.019633414187281737,0.6195893397874593,-1.4028099218639112,-0.4908141768141228,0.21148419670406784,0.6419280636141652,-0.06495314317794514,-0.9193876460797339,0.019942825358401563,-2.348428587225312,2.000913445564362,0.9277072465599404,-1.0222088298692635,-0.34273600359405526,2.338928916336926,-0.148101799502789,1.524964564987665,0.914025793860094,1.5422076668737787,-0.023749254518849662,0.524279843798628,-1.4347027513614323,-1.785504838816489,-0.8954800679209548,-1.8961976651347,-0.7442784395015505,-0.8048857189042761,-0.0967984291667222,-1.9393000002484315,1.6670645156175294,-0.21775076532364407,0.09050205548815078,0.8783754651483104,-1.7130236485510746,-2.0691261799490825,-1.1499457692550565,0.8595026389589712,-1.3373308228263112,0.023915176562741277,-0.9087830673537445,1.7719125771459925],\"xaxis\":\"x10\",\"y\":[-0.9111639501444778,-0.21308462762989866,0.6178500690224831,-0.9491608825047444,-0.7718195162364357,0.24578190485569634,-0.11297161514474634,0.05257491343649683,1.7921592380873255,0.022391913581764206,-1.8827530796472438,-0.5339157642434252,-0.5233726427430536,-0.3297124192276205,-0.021877630236314984,-0.40041345704488357,0.47916628560228697,1.5613708893385065,1.1189151260780066,-0.8251285480100764,-1.443898523211242,1.1764741611916676,0.26183975626268585,-0.25257828944963806,1.1326142050056685,-1.2946514979500152,-1.1605251382923323,-1.0611605388452843,-1.5917093690006994,-0.47638249303850033,0.21077012851362467,-1.4529783993970429,0.08963217544554952,0.26964815391518976,1.0045000285749042,-0.4186933642798534,0.34657172219430366,-0.24368542150057984,0.26789854356827236,-0.9184965002857977,0.2990592064381899,-1.602502896906284,0.38753280042224925,0.5605532730294414,1.037797069991631,-2.191130195941812,-1.2798828932732627,-1.175341557492041,-0.06290157773707312,-0.46025244134216337,0.6517960047363252,1.225213880695869,-0.044471056102332554,-1.2472283852835697,0.6113753040244009,-2.3093373536934694,0.011318723986845788,-0.6701173004275855,0.11853525749460166,-0.08121217707410237,-0.09091553442692922,-0.3846229748303238,0.4712894744606097,-1.1068225933524853,-0.9748698602211955,0.18619409790889427,0.5647919679884869,-0.39464378644442094,2.3928215378791755,1.7040736571936441,-0.5151391213076665,-0.08137003103917313,1.2640930238124004,-0.07094263042349323,-0.4149743949688728,-0.9982413151079128,0.032905586865713765,-0.5335850221643458,0.3438496953412661,-0.1992338233417873,-1.1401816603739796,0.25884031292409476,0.32323683840794887,-0.2664597337932239,0.4029405980918615,0.5372414723745346,1.1770049034294952,-0.050365752585326815,-0.3426954694018073,-0.9312296561679975,0.5892684756912165,-1.0909878734947331,-1.783197085848866,0.09822018499037254,-0.898541185350123,-0.268581700766926,1.8343974601897173,-0.9703909136015605,-0.49621922608057123,0.058404937813770146],\"yaxis\":\"y10\",\"type\":\"scatter\"},{\"histfunc\":\"count\",\"histnorm\":\"\",\"marker\":{\"color\":\"rgba(50, 171, 96, 1.0)\",\"line\":{\"color\":\"#4D5663\",\"width\":1.3}},\"name\":\"C\",\"nbinsx\":10,\"opacity\":0.8,\"orientation\":\"v\",\"x\":[-0.9111639501444778,-0.21308462762989866,0.6178500690224831,-0.9491608825047444,-0.7718195162364357,0.24578190485569634,-0.11297161514474634,0.05257491343649683,1.7921592380873255,0.022391913581764206,-1.8827530796472438,-0.5339157642434252,-0.5233726427430536,-0.3297124192276205,-0.021877630236314984,-0.40041345704488357,0.47916628560228697,1.5613708893385065,1.1189151260780066,-0.8251285480100764,-1.443898523211242,1.1764741611916676,0.26183975626268585,-0.25257828944963806,1.1326142050056685,-1.2946514979500152,-1.1605251382923323,-1.0611605388452843,-1.5917093690006994,-0.47638249303850033,0.21077012851362467,-1.4529783993970429,0.08963217544554952,0.26964815391518976,1.0045000285749042,-0.4186933642798534,0.34657172219430366,-0.24368542150057984,0.26789854356827236,-0.9184965002857977,0.2990592064381899,-1.602502896906284,0.38753280042224925,0.5605532730294414,1.037797069991631,-2.191130195941812,-1.2798828932732627,-1.175341557492041,-0.06290157773707312,-0.46025244134216337,0.6517960047363252,1.225213880695869,-0.044471056102332554,-1.2472283852835697,0.6113753040244009,-2.3093373536934694,0.011318723986845788,-0.6701173004275855,0.11853525749460166,-0.08121217707410237,-0.09091553442692922,-0.3846229748303238,0.4712894744606097,-1.1068225933524853,-0.9748698602211955,0.18619409790889427,0.5647919679884869,-0.39464378644442094,2.3928215378791755,1.7040736571936441,-0.5151391213076665,-0.08137003103917313,1.2640930238124004,-0.07094263042349323,-0.4149743949688728,-0.9982413151079128,0.032905586865713765,-0.5335850221643458,0.3438496953412661,-0.1992338233417873,-1.1401816603739796,0.25884031292409476,0.32323683840794887,-0.2664597337932239,0.4029405980918615,0.5372414723745346,1.1770049034294952,-0.050365752585326815,-0.3426954694018073,-0.9312296561679975,0.5892684756912165,-1.0909878734947331,-1.783197085848866,0.09822018499037254,-0.898541185350123,-0.268581700766926,1.8343974601897173,-0.9703909136015605,-0.49621922608057123,0.058404937813770146],\"xaxis\":\"x11\",\"yaxis\":\"y11\",\"type\":\"histogram\"},{\"line\":{\"color\":\"rgba(128, 128, 128, 1.0)\",\"dash\":\"solid\",\"shape\":\"linear\",\"width\":1.3},\"marker\":{\"size\":2,\"symbol\":\"circle\"},\"mode\":\"markers\",\"name\":\"C\",\"text\":\"\",\"x\":[0.901625400646958,-0.049514969031106415,-0.5436316703459625,-0.6740816194768533,-0.0436335460907179,1.312218805289843,-1.7788215798946212,0.9395934557601892,-0.2837863718544718,-1.8229775405218895,0.0664212955525262,1.0026965717886291,1.7492203741629795,-0.3645746532685288,-0.7813815162373545,0.3781935450243182,-0.5090260728395484,0.5188107004889,-0.06651783174961994,0.22153952684157205,-1.866621181584803,-0.617241104874736,0.26827028925273505,1.2509085494452925,0.019409775851041207,-1.0832155061104165,1.0110797935259062,-1.8740614748451139,-0.6266998441654743,-0.04400478399589192,0.18937554400294493,-1.371302348618277,-0.1400635642035595,-0.737607274461631,-1.7577654442327857,0.00878796650331657,-0.17379907818277626,0.926350887460455,-0.0857595086263262,0.08772033753918801,-0.41181199564907645,0.10627044864902223,1.7451134698565127,0.6023903504471164,-1.225712943850586,0.02989961530307323,0.39345322629876694,0.5623321875737589,-1.490186418748514,1.43103169107788,-0.6912091248391053,-1.1490171922735388,0.4621308697596686,-1.694278393910498,-1.8249469539132568,0.4026888699890036,1.4589676140913095,0.06360793441385354,-0.6274756707793143,1.9228987987930435,-0.49380093161145294,0.7225478415902334,-0.15241404498658934,-0.5780999074327073,-0.48420272952273335,0.6177270949721229,-1.1810762151079863,0.3986044465010986,1.654493984752075,0.21763998586240077,-0.510184604326875,-0.12001725979624689,-0.1422921410982252,0.08885045657532206,0.031142341694185213,1.4203303335399462,-0.016421202475835193,-0.30173166478023944,-0.1520262096445688,-0.5448118784094882,-1.197061098819882,-0.8063403671715362,0.9163453028095149,-0.5216803892654508,0.23007478398777292,0.8901991950988024,1.4807017118381032,-1.7607411386790102,-1.2129477353242093,1.6674246071924355,1.3984399994740626,-0.10158924923118912,-0.05966384308772902,-0.15128827260123795,0.7467288790878025,-0.20460751589824278,1.4618363436781472,0.6498805877950959,0.07671615404303134,0.31892399689042944],\"xaxis\":\"x12\",\"y\":[-0.9111639501444778,-0.21308462762989866,0.6178500690224831,-0.9491608825047444,-0.7718195162364357,0.24578190485569634,-0.11297161514474634,0.05257491343649683,1.7921592380873255,0.022391913581764206,-1.8827530796472438,-0.5339157642434252,-0.5233726427430536,-0.3297124192276205,-0.021877630236314984,-0.40041345704488357,0.47916628560228697,1.5613708893385065,1.1189151260780066,-0.8251285480100764,-1.443898523211242,1.1764741611916676,0.26183975626268585,-0.25257828944963806,1.1326142050056685,-1.2946514979500152,-1.1605251382923323,-1.0611605388452843,-1.5917093690006994,-0.47638249303850033,0.21077012851362467,-1.4529783993970429,0.08963217544554952,0.26964815391518976,1.0045000285749042,-0.4186933642798534,0.34657172219430366,-0.24368542150057984,0.26789854356827236,-0.9184965002857977,0.2990592064381899,-1.602502896906284,0.38753280042224925,0.5605532730294414,1.037797069991631,-2.191130195941812,-1.2798828932732627,-1.175341557492041,-0.06290157773707312,-0.46025244134216337,0.6517960047363252,1.225213880695869,-0.044471056102332554,-1.2472283852835697,0.6113753040244009,-2.3093373536934694,0.011318723986845788,-0.6701173004275855,0.11853525749460166,-0.08121217707410237,-0.09091553442692922,-0.3846229748303238,0.4712894744606097,-1.1068225933524853,-0.9748698602211955,0.18619409790889427,0.5647919679884869,-0.39464378644442094,2.3928215378791755,1.7040736571936441,-0.5151391213076665,-0.08137003103917313,1.2640930238124004,-0.07094263042349323,-0.4149743949688728,-0.9982413151079128,0.032905586865713765,-0.5335850221643458,0.3438496953412661,-0.1992338233417873,-1.1401816603739796,0.25884031292409476,0.32323683840794887,-0.2664597337932239,0.4029405980918615,0.5372414723745346,1.1770049034294952,-0.050365752585326815,-0.3426954694018073,-0.9312296561679975,0.5892684756912165,-1.0909878734947331,-1.783197085848866,0.09822018499037254,-0.898541185350123,-0.268581700766926,1.8343974601897173,-0.9703909136015605,-0.49621922608057123,0.058404937813770146],\"yaxis\":\"y12\",\"type\":\"scatter\"},{\"line\":{\"color\":\"rgba(128, 128, 128, 1.0)\",\"dash\":\"solid\",\"shape\":\"linear\",\"width\":1.3},\"marker\":{\"size\":2,\"symbol\":\"circle\"},\"mode\":\"markers\",\"name\":\"D\",\"text\":\"\",\"x\":[1.0695780874798893,-0.6688246077647048,-0.8768325532699232,0.5846041548118759,0.1234743270956829,3.4791082204999846,0.6394411045953567,-1.8588525353308045,-0.09988848117769902,-3.585334312685853,-0.3468308478497572,-0.8260384206665327,-0.6907893591011696,-1.4852586173285742,-0.25765375593010137,-0.44626977717335475,-1.7881342688303001,1.0560463232781325,-0.6118484997932785,-0.28090068433241533,-0.36129223471773436,0.05624123962916439,-1.0493408332261727,1.3571359129570726,0.6080852256235924,-1.0764672477878665,0.6576424280762245,2.1686207235766246,-1.3066081747334748,0.9394087435997776,-0.5226267172566758,-0.49651129843957736,-0.9918493687721509,-0.19131682338888764,0.7142159865359168,0.18180856373710771,0.7501866480553426,-0.2659994587199686,-1.0863108611887782,0.3845970933447684,0.08385491653407101,0.213288645841052,0.8285450872251666,0.7829263857702672,-0.49796304010092884,1.0268246038778484,-1.367210159961053,-0.7102119846311828,-0.38098132668670065,0.027296080474879927,0.20727149763656935,-0.39831741064134546,-0.4858771542442912,0.044894688014666465,-0.3377575089268816,0.8146487451450918,-0.5176401803753576,1.6282037718948779,-0.8053439703768238,-1.2450221802677344,-1.0429522515434908,-0.7181219633120665,-0.8687414942939818,-1.646924395142777,1.378280613564057,0.5681960097760388,-0.006350409197701762,-1.027078098139645,1.3672669957436328,-0.42399754739567835,0.2572681050701859,0.9866400986616074,-0.9179216938928588,-2.0808712866480374,0.5528322892342697,0.9230106496890149,0.1686186313709958,-1.5417456070111637,-0.4200677293091439,0.0643680205861979,1.437529140323141,-0.14220738186728962,1.7983613814824884,0.2178318654089859,-1.5549591871383583,2.4969030349900567,-1.749730221977046,0.6134052139711424,-0.3362184800002531,-0.3027409579953844,1.293778086782797,-1.0131940755359794,2.1181805861810776,-1.3959307921409663,0.5140414624574768,-0.599410039617266,1.7541114211585354,-0.6961689882949277,-0.09092864116037773,0.6647742078919533],\"xaxis\":\"x13\",\"y\":[0.901625400646958,-0.049514969031106415,-0.5436316703459625,-0.6740816194768533,-0.0436335460907179,1.312218805289843,-1.7788215798946212,0.9395934557601892,-0.2837863718544718,-1.8229775405218895,0.0664212955525262,1.0026965717886291,1.7492203741629795,-0.3645746532685288,-0.7813815162373545,0.3781935450243182,-0.5090260728395484,0.5188107004889,-0.06651783174961994,0.22153952684157205,-1.866621181584803,-0.617241104874736,0.26827028925273505,1.2509085494452925,0.019409775851041207,-1.0832155061104165,1.0110797935259062,-1.8740614748451139,-0.6266998441654743,-0.04400478399589192,0.18937554400294493,-1.371302348618277,-0.1400635642035595,-0.737607274461631,-1.7577654442327857,0.00878796650331657,-0.17379907818277626,0.926350887460455,-0.0857595086263262,0.08772033753918801,-0.41181199564907645,0.10627044864902223,1.7451134698565127,0.6023903504471164,-1.225712943850586,0.02989961530307323,0.39345322629876694,0.5623321875737589,-1.490186418748514,1.43103169107788,-0.6912091248391053,-1.1490171922735388,0.4621308697596686,-1.694278393910498,-1.8249469539132568,0.4026888699890036,1.4589676140913095,0.06360793441385354,-0.6274756707793143,1.9228987987930435,-0.49380093161145294,0.7225478415902334,-0.15241404498658934,-0.5780999074327073,-0.48420272952273335,0.6177270949721229,-1.1810762151079863,0.3986044465010986,1.654493984752075,0.21763998586240077,-0.510184604326875,-0.12001725979624689,-0.1422921410982252,0.08885045657532206,0.031142341694185213,1.4203303335399462,-0.016421202475835193,-0.30173166478023944,-0.1520262096445688,-0.5448118784094882,-1.197061098819882,-0.8063403671715362,0.9163453028095149,-0.5216803892654508,0.23007478398777292,0.8901991950988024,1.4807017118381032,-1.7607411386790102,-1.2129477353242093,1.6674246071924355,1.3984399994740626,-0.10158924923118912,-0.05966384308772902,-0.15128827260123795,0.7467288790878025,-0.20460751589824278,1.4618363436781472,0.6498805877950959,0.07671615404303134,0.31892399689042944],\"yaxis\":\"y13\",\"type\":\"scatter\"},{\"line\":{\"color\":\"rgba(128, 128, 128, 1.0)\",\"dash\":\"solid\",\"shape\":\"linear\",\"width\":1.3},\"marker\":{\"size\":2,\"symbol\":\"circle\"},\"mode\":\"markers\",\"name\":\"D\",\"text\":\"\",\"x\":[-0.9139878772827333,-0.08769317039224812,1.2549229594087425,0.7734929129565938,0.32551639667358967,0.06472013532223145,0.4489237903342312,-0.5376767084883879,1.4159491326545584,-0.16067285210103188,0.5395943979579801,-0.5964929759286733,-0.5694175285048431,0.8751026063828987,-0.7616455966638427,0.15897303518261077,-1.6875555004691791,0.32216394848199115,-0.10030356054937484,-0.11856117396267761,-0.27414364727766044,0.163723571047574,1.4237077596079468,-0.8629773392344109,-0.8963300480762472,0.3990646493880536,-0.7640696360957434,-0.9273917270584725,0.34452355271044877,0.15170227821005117,0.5648147860721607,-1.8701285343645826,1.950778763700419,2.1342463787666666,-0.4995652182175252,-0.5669159598591469,0.10666924786932587,0.263359843230698,-0.210681061067419,-0.8157159337327569,-1.4133654524950354,0.8290481002596413,0.3923108908193899,-1.5380858255153,1.08770035598143,0.11275619340426378,1.572544617584101,-0.5166715694677358,0.9284344540019726,0.8006337675994765,-1.4285058636600925,-0.6392361505059976,-0.23042531867174745,-0.793958906679922,-0.42254265403664415,0.16085517143794348,0.1125121445461009,-1.0882069564305088,-1.096823320824602,0.019633414187281737,0.6195893397874593,-1.4028099218639112,-0.4908141768141228,0.21148419670406784,0.6419280636141652,-0.06495314317794514,-0.9193876460797339,0.019942825358401563,-2.348428587225312,2.000913445564362,0.9277072465599404,-1.0222088298692635,-0.34273600359405526,2.338928916336926,-0.148101799502789,1.524964564987665,0.914025793860094,1.5422076668737787,-0.023749254518849662,0.524279843798628,-1.4347027513614323,-1.785504838816489,-0.8954800679209548,-1.8961976651347,-0.7442784395015505,-0.8048857189042761,-0.0967984291667222,-1.9393000002484315,1.6670645156175294,-0.21775076532364407,0.09050205548815078,0.8783754651483104,-1.7130236485510746,-2.0691261799490825,-1.1499457692550565,0.8595026389589712,-1.3373308228263112,0.023915176562741277,-0.9087830673537445,1.7719125771459925],\"xaxis\":\"x14\",\"y\":[0.901625400646958,-0.049514969031106415,-0.5436316703459625,-0.6740816194768533,-0.0436335460907179,1.312218805289843,-1.7788215798946212,0.9395934557601892,-0.2837863718544718,-1.8229775405218895,0.0664212955525262,1.0026965717886291,1.7492203741629795,-0.3645746532685288,-0.7813815162373545,0.3781935450243182,-0.5090260728395484,0.5188107004889,-0.06651783174961994,0.22153952684157205,-1.866621181584803,-0.617241104874736,0.26827028925273505,1.2509085494452925,0.019409775851041207,-1.0832155061104165,1.0110797935259062,-1.8740614748451139,-0.6266998441654743,-0.04400478399589192,0.18937554400294493,-1.371302348618277,-0.1400635642035595,-0.737607274461631,-1.7577654442327857,0.00878796650331657,-0.17379907818277626,0.926350887460455,-0.0857595086263262,0.08772033753918801,-0.41181199564907645,0.10627044864902223,1.7451134698565127,0.6023903504471164,-1.225712943850586,0.02989961530307323,0.39345322629876694,0.5623321875737589,-1.490186418748514,1.43103169107788,-0.6912091248391053,-1.1490171922735388,0.4621308697596686,-1.694278393910498,-1.8249469539132568,0.4026888699890036,1.4589676140913095,0.06360793441385354,-0.6274756707793143,1.9228987987930435,-0.49380093161145294,0.7225478415902334,-0.15241404498658934,-0.5780999074327073,-0.48420272952273335,0.6177270949721229,-1.1810762151079863,0.3986044465010986,1.654493984752075,0.21763998586240077,-0.510184604326875,-0.12001725979624689,-0.1422921410982252,0.08885045657532206,0.031142341694185213,1.4203303335399462,-0.016421202475835193,-0.30173166478023944,-0.1520262096445688,-0.5448118784094882,-1.197061098819882,-0.8063403671715362,0.9163453028095149,-0.5216803892654508,0.23007478398777292,0.8901991950988024,1.4807017118381032,-1.7607411386790102,-1.2129477353242093,1.6674246071924355,1.3984399994740626,-0.10158924923118912,-0.05966384308772902,-0.15128827260123795,0.7467288790878025,-0.20460751589824278,1.4618363436781472,0.6498805877950959,0.07671615404303134,0.31892399689042944],\"yaxis\":\"y14\",\"type\":\"scatter\"},{\"line\":{\"color\":\"rgba(128, 128, 128, 1.0)\",\"dash\":\"solid\",\"shape\":\"linear\",\"width\":1.3},\"marker\":{\"size\":2,\"symbol\":\"circle\"},\"mode\":\"markers\",\"name\":\"D\",\"text\":\"\",\"x\":[-0.9111639501444778,-0.21308462762989866,0.6178500690224831,-0.9491608825047444,-0.7718195162364357,0.24578190485569634,-0.11297161514474634,0.05257491343649683,1.7921592380873255,0.022391913581764206,-1.8827530796472438,-0.5339157642434252,-0.5233726427430536,-0.3297124192276205,-0.021877630236314984,-0.40041345704488357,0.47916628560228697,1.5613708893385065,1.1189151260780066,-0.8251285480100764,-1.443898523211242,1.1764741611916676,0.26183975626268585,-0.25257828944963806,1.1326142050056685,-1.2946514979500152,-1.1605251382923323,-1.0611605388452843,-1.5917093690006994,-0.47638249303850033,0.21077012851362467,-1.4529783993970429,0.08963217544554952,0.26964815391518976,1.0045000285749042,-0.4186933642798534,0.34657172219430366,-0.24368542150057984,0.26789854356827236,-0.9184965002857977,0.2990592064381899,-1.602502896906284,0.38753280042224925,0.5605532730294414,1.037797069991631,-2.191130195941812,-1.2798828932732627,-1.175341557492041,-0.06290157773707312,-0.46025244134216337,0.6517960047363252,1.225213880695869,-0.044471056102332554,-1.2472283852835697,0.6113753040244009,-2.3093373536934694,0.011318723986845788,-0.6701173004275855,0.11853525749460166,-0.08121217707410237,-0.09091553442692922,-0.3846229748303238,0.4712894744606097,-1.1068225933524853,-0.9748698602211955,0.18619409790889427,0.5647919679884869,-0.39464378644442094,2.3928215378791755,1.7040736571936441,-0.5151391213076665,-0.08137003103917313,1.2640930238124004,-0.07094263042349323,-0.4149743949688728,-0.9982413151079128,0.032905586865713765,-0.5335850221643458,0.3438496953412661,-0.1992338233417873,-1.1401816603739796,0.25884031292409476,0.32323683840794887,-0.2664597337932239,0.4029405980918615,0.5372414723745346,1.1770049034294952,-0.050365752585326815,-0.3426954694018073,-0.9312296561679975,0.5892684756912165,-1.0909878734947331,-1.783197085848866,0.09822018499037254,-0.898541185350123,-0.268581700766926,1.8343974601897173,-0.9703909136015605,-0.49621922608057123,0.058404937813770146],\"xaxis\":\"x15\",\"y\":[0.901625400646958,-0.049514969031106415,-0.5436316703459625,-0.6740816194768533,-0.0436335460907179,1.312218805289843,-1.7788215798946212,0.9395934557601892,-0.2837863718544718,-1.8229775405218895,0.0664212955525262,1.0026965717886291,1.7492203741629795,-0.3645746532685288,-0.7813815162373545,0.3781935450243182,-0.5090260728395484,0.5188107004889,-0.06651783174961994,0.22153952684157205,-1.866621181584803,-0.617241104874736,0.26827028925273505,1.2509085494452925,0.019409775851041207,-1.0832155061104165,1.0110797935259062,-1.8740614748451139,-0.6266998441654743,-0.04400478399589192,0.18937554400294493,-1.371302348618277,-0.1400635642035595,-0.737607274461631,-1.7577654442327857,0.00878796650331657,-0.17379907818277626,0.926350887460455,-0.0857595086263262,0.08772033753918801,-0.41181199564907645,0.10627044864902223,1.7451134698565127,0.6023903504471164,-1.225712943850586,0.02989961530307323,0.39345322629876694,0.5623321875737589,-1.490186418748514,1.43103169107788,-0.6912091248391053,-1.1490171922735388,0.4621308697596686,-1.694278393910498,-1.8249469539132568,0.4026888699890036,1.4589676140913095,0.06360793441385354,-0.6274756707793143,1.9228987987930435,-0.49380093161145294,0.7225478415902334,-0.15241404498658934,-0.5780999074327073,-0.48420272952273335,0.6177270949721229,-1.1810762151079863,0.3986044465010986,1.654493984752075,0.21763998586240077,-0.510184604326875,-0.12001725979624689,-0.1422921410982252,0.08885045657532206,0.031142341694185213,1.4203303335399462,-0.016421202475835193,-0.30173166478023944,-0.1520262096445688,-0.5448118784094882,-1.197061098819882,-0.8063403671715362,0.9163453028095149,-0.5216803892654508,0.23007478398777292,0.8901991950988024,1.4807017118381032,-1.7607411386790102,-1.2129477353242093,1.6674246071924355,1.3984399994740626,-0.10158924923118912,-0.05966384308772902,-0.15128827260123795,0.7467288790878025,-0.20460751589824278,1.4618363436781472,0.6498805877950959,0.07671615404303134,0.31892399689042944],\"yaxis\":\"y15\",\"type\":\"scatter\"},{\"histfunc\":\"count\",\"histnorm\":\"\",\"marker\":{\"color\":\"rgba(128, 0, 128, 1.0)\",\"line\":{\"color\":\"#4D5663\",\"width\":1.3}},\"name\":\"D\",\"nbinsx\":10,\"opacity\":0.8,\"orientation\":\"v\",\"x\":[0.901625400646958,-0.049514969031106415,-0.5436316703459625,-0.6740816194768533,-0.0436335460907179,1.312218805289843,-1.7788215798946212,0.9395934557601892,-0.2837863718544718,-1.8229775405218895,0.0664212955525262,1.0026965717886291,1.7492203741629795,-0.3645746532685288,-0.7813815162373545,0.3781935450243182,-0.5090260728395484,0.5188107004889,-0.06651783174961994,0.22153952684157205,-1.866621181584803,-0.617241104874736,0.26827028925273505,1.2509085494452925,0.019409775851041207,-1.0832155061104165,1.0110797935259062,-1.8740614748451139,-0.6266998441654743,-0.04400478399589192,0.18937554400294493,-1.371302348618277,-0.1400635642035595,-0.737607274461631,-1.7577654442327857,0.00878796650331657,-0.17379907818277626,0.926350887460455,-0.0857595086263262,0.08772033753918801,-0.41181199564907645,0.10627044864902223,1.7451134698565127,0.6023903504471164,-1.225712943850586,0.02989961530307323,0.39345322629876694,0.5623321875737589,-1.490186418748514,1.43103169107788,-0.6912091248391053,-1.1490171922735388,0.4621308697596686,-1.694278393910498,-1.8249469539132568,0.4026888699890036,1.4589676140913095,0.06360793441385354,-0.6274756707793143,1.9228987987930435,-0.49380093161145294,0.7225478415902334,-0.15241404498658934,-0.5780999074327073,-0.48420272952273335,0.6177270949721229,-1.1810762151079863,0.3986044465010986,1.654493984752075,0.21763998586240077,-0.510184604326875,-0.12001725979624689,-0.1422921410982252,0.08885045657532206,0.031142341694185213,1.4203303335399462,-0.016421202475835193,-0.30173166478023944,-0.1520262096445688,-0.5448118784094882,-1.197061098819882,-0.8063403671715362,0.9163453028095149,-0.5216803892654508,0.23007478398777292,0.8901991950988024,1.4807017118381032,-1.7607411386790102,-1.2129477353242093,1.6674246071924355,1.3984399994740626,-0.10158924923118912,-0.05966384308772902,-0.15128827260123795,0.7467288790878025,-0.20460751589824278,1.4618363436781472,0.6498805877950959,0.07671615404303134,0.31892399689042944],\"xaxis\":\"x16\",\"yaxis\":\"y16\",\"type\":\"histogram\"}],                        {\"bargap\":0.02,\"legend\":{\"bgcolor\":\"#F5F6F9\",\"font\":{\"color\":\"#4D5663\"}},\"paper_bgcolor\":\"#F5F6F9\",\"plot_bgcolor\":\"#F5F6F9\",\"showlegend\":false,\"template\":{\"data\":{\"barpolar\":[{\"marker\":{\"line\":{\"color\":\"#E5ECF6\",\"width\":0.5},\"pattern\":{\"fillmode\":\"overlay\",\"size\":10,\"solidity\":0.2}},\"type\":\"barpolar\"}],\"bar\":[{\"error_x\":{\"color\":\"#2a3f5f\"},\"error_y\":{\"color\":\"#2a3f5f\"},\"marker\":{\"line\":{\"color\":\"#E5ECF6\",\"width\":0.5},\"pattern\":{\"fillmode\":\"overlay\",\"size\":10,\"solidity\":0.2}},\"type\":\"bar\"}],\"carpet\":[{\"aaxis\":{\"endlinecolor\":\"#2a3f5f\",\"gridcolor\":\"white\",\"linecolor\":\"white\",\"minorgridcolor\":\"white\",\"startlinecolor\":\"#2a3f5f\"},\"baxis\":{\"endlinecolor\":\"#2a3f5f\",\"gridcolor\":\"white\",\"linecolor\":\"white\",\"minorgridcolor\":\"white\",\"startlinecolor\":\"#2a3f5f\"},\"type\":\"carpet\"}],\"choropleth\":[{\"colorbar\":{\"outlinewidth\":0,\"ticks\":\"\"},\"type\":\"choropleth\"}],\"contourcarpet\":[{\"colorbar\":{\"outlinewidth\":0,\"ticks\":\"\"},\"type\":\"contourcarpet\"}],\"contour\":[{\"colorbar\":{\"outlinewidth\":0,\"ticks\":\"\"},\"colorscale\":[[0.0,\"#0d0887\"],[0.1111111111111111,\"#46039f\"],[0.2222222222222222,\"#7201a8\"],[0.3333333333333333,\"#9c179e\"],[0.4444444444444444,\"#bd3786\"],[0.5555555555555556,\"#d8576b\"],[0.6666666666666666,\"#ed7953\"],[0.7777777777777778,\"#fb9f3a\"],[0.8888888888888888,\"#fdca26\"],[1.0,\"#f0f921\"]],\"type\":\"contour\"}],\"heatmapgl\":[{\"colorbar\":{\"outlinewidth\":0,\"ticks\":\"\"},\"colorscale\":[[0.0,\"#0d0887\"],[0.1111111111111111,\"#46039f\"],[0.2222222222222222,\"#7201a8\"],[0.3333333333333333,\"#9c179e\"],[0.4444444444444444,\"#bd3786\"],[0.5555555555555556,\"#d8576b\"],[0.6666666666666666,\"#ed7953\"],[0.7777777777777778,\"#fb9f3a\"],[0.8888888888888888,\"#fdca26\"],[1.0,\"#f0f921\"]],\"type\":\"heatmapgl\"}],\"heatmap\":[{\"colorbar\":{\"outlinewidth\":0,\"ticks\":\"\"},\"colorscale\":[[0.0,\"#0d0887\"],[0.1111111111111111,\"#46039f\"],[0.2222222222222222,\"#7201a8\"],[0.3333333333333333,\"#9c179e\"],[0.4444444444444444,\"#bd3786\"],[0.5555555555555556,\"#d8576b\"],[0.6666666666666666,\"#ed7953\"],[0.7777777777777778,\"#fb9f3a\"],[0.8888888888888888,\"#fdca26\"],[1.0,\"#f0f921\"]],\"type\":\"heatmap\"}],\"histogram2dcontour\":[{\"colorbar\":{\"outlinewidth\":0,\"ticks\":\"\"},\"colorscale\":[[0.0,\"#0d0887\"],[0.1111111111111111,\"#46039f\"],[0.2222222222222222,\"#7201a8\"],[0.3333333333333333,\"#9c179e\"],[0.4444444444444444,\"#bd3786\"],[0.5555555555555556,\"#d8576b\"],[0.6666666666666666,\"#ed7953\"],[0.7777777777777778,\"#fb9f3a\"],[0.8888888888888888,\"#fdca26\"],[1.0,\"#f0f921\"]],\"type\":\"histogram2dcontour\"}],\"histogram2d\":[{\"colorbar\":{\"outlinewidth\":0,\"ticks\":\"\"},\"colorscale\":[[0.0,\"#0d0887\"],[0.1111111111111111,\"#46039f\"],[0.2222222222222222,\"#7201a8\"],[0.3333333333333333,\"#9c179e\"],[0.4444444444444444,\"#bd3786\"],[0.5555555555555556,\"#d8576b\"],[0.6666666666666666,\"#ed7953\"],[0.7777777777777778,\"#fb9f3a\"],[0.8888888888888888,\"#fdca26\"],[1.0,\"#f0f921\"]],\"type\":\"histogram2d\"}],\"histogram\":[{\"marker\":{\"pattern\":{\"fillmode\":\"overlay\",\"size\":10,\"solidity\":0.2}},\"type\":\"histogram\"}],\"mesh3d\":[{\"colorbar\":{\"outlinewidth\":0,\"ticks\":\"\"},\"type\":\"mesh3d\"}],\"parcoords\":[{\"line\":{\"colorbar\":{\"outlinewidth\":0,\"ticks\":\"\"}},\"type\":\"parcoords\"}],\"pie\":[{\"automargin\":true,\"type\":\"pie\"}],\"scatter3d\":[{\"line\":{\"colorbar\":{\"outlinewidth\":0,\"ticks\":\"\"}},\"marker\":{\"colorbar\":{\"outlinewidth\":0,\"ticks\":\"\"}},\"type\":\"scatter3d\"}],\"scattercarpet\":[{\"marker\":{\"colorbar\":{\"outlinewidth\":0,\"ticks\":\"\"}},\"type\":\"scattercarpet\"}],\"scattergeo\":[{\"marker\":{\"colorbar\":{\"outlinewidth\":0,\"ticks\":\"\"}},\"type\":\"scattergeo\"}],\"scattergl\":[{\"marker\":{\"colorbar\":{\"outlinewidth\":0,\"ticks\":\"\"}},\"type\":\"scattergl\"}],\"scattermapbox\":[{\"marker\":{\"colorbar\":{\"outlinewidth\":0,\"ticks\":\"\"}},\"type\":\"scattermapbox\"}],\"scatterpolargl\":[{\"marker\":{\"colorbar\":{\"outlinewidth\":0,\"ticks\":\"\"}},\"type\":\"scatterpolargl\"}],\"scatterpolar\":[{\"marker\":{\"colorbar\":{\"outlinewidth\":0,\"ticks\":\"\"}},\"type\":\"scatterpolar\"}],\"scatter\":[{\"marker\":{\"colorbar\":{\"outlinewidth\":0,\"ticks\":\"\"}},\"type\":\"scatter\"}],\"scatterternary\":[{\"marker\":{\"colorbar\":{\"outlinewidth\":0,\"ticks\":\"\"}},\"type\":\"scatterternary\"}],\"surface\":[{\"colorbar\":{\"outlinewidth\":0,\"ticks\":\"\"},\"colorscale\":[[0.0,\"#0d0887\"],[0.1111111111111111,\"#46039f\"],[0.2222222222222222,\"#7201a8\"],[0.3333333333333333,\"#9c179e\"],[0.4444444444444444,\"#bd3786\"],[0.5555555555555556,\"#d8576b\"],[0.6666666666666666,\"#ed7953\"],[0.7777777777777778,\"#fb9f3a\"],[0.8888888888888888,\"#fdca26\"],[1.0,\"#f0f921\"]],\"type\":\"surface\"}],\"table\":[{\"cells\":{\"fill\":{\"color\":\"#EBF0F8\"},\"line\":{\"color\":\"white\"}},\"header\":{\"fill\":{\"color\":\"#C8D4E3\"},\"line\":{\"color\":\"white\"}},\"type\":\"table\"}]},\"layout\":{\"annotationdefaults\":{\"arrowcolor\":\"#2a3f5f\",\"arrowhead\":0,\"arrowwidth\":1},\"autotypenumbers\":\"strict\",\"coloraxis\":{\"colorbar\":{\"outlinewidth\":0,\"ticks\":\"\"}},\"colorscale\":{\"diverging\":[[0,\"#8e0152\"],[0.1,\"#c51b7d\"],[0.2,\"#de77ae\"],[0.3,\"#f1b6da\"],[0.4,\"#fde0ef\"],[0.5,\"#f7f7f7\"],[0.6,\"#e6f5d0\"],[0.7,\"#b8e186\"],[0.8,\"#7fbc41\"],[0.9,\"#4d9221\"],[1,\"#276419\"]],\"sequential\":[[0.0,\"#0d0887\"],[0.1111111111111111,\"#46039f\"],[0.2222222222222222,\"#7201a8\"],[0.3333333333333333,\"#9c179e\"],[0.4444444444444444,\"#bd3786\"],[0.5555555555555556,\"#d8576b\"],[0.6666666666666666,\"#ed7953\"],[0.7777777777777778,\"#fb9f3a\"],[0.8888888888888888,\"#fdca26\"],[1.0,\"#f0f921\"]],\"sequentialminus\":[[0.0,\"#0d0887\"],[0.1111111111111111,\"#46039f\"],[0.2222222222222222,\"#7201a8\"],[0.3333333333333333,\"#9c179e\"],[0.4444444444444444,\"#bd3786\"],[0.5555555555555556,\"#d8576b\"],[0.6666666666666666,\"#ed7953\"],[0.7777777777777778,\"#fb9f3a\"],[0.8888888888888888,\"#fdca26\"],[1.0,\"#f0f921\"]]},\"colorway\":[\"#636efa\",\"#EF553B\",\"#00cc96\",\"#ab63fa\",\"#FFA15A\",\"#19d3f3\",\"#FF6692\",\"#B6E880\",\"#FF97FF\",\"#FECB52\"],\"font\":{\"color\":\"#2a3f5f\"},\"geo\":{\"bgcolor\":\"white\",\"lakecolor\":\"white\",\"landcolor\":\"#E5ECF6\",\"showlakes\":true,\"showland\":true,\"subunitcolor\":\"white\"},\"hoverlabel\":{\"align\":\"left\"},\"hovermode\":\"closest\",\"mapbox\":{\"style\":\"light\"},\"paper_bgcolor\":\"white\",\"plot_bgcolor\":\"#E5ECF6\",\"polar\":{\"angularaxis\":{\"gridcolor\":\"white\",\"linecolor\":\"white\",\"ticks\":\"\"},\"bgcolor\":\"#E5ECF6\",\"radialaxis\":{\"gridcolor\":\"white\",\"linecolor\":\"white\",\"ticks\":\"\"}},\"scene\":{\"xaxis\":{\"backgroundcolor\":\"#E5ECF6\",\"gridcolor\":\"white\",\"gridwidth\":2,\"linecolor\":\"white\",\"showbackground\":true,\"ticks\":\"\",\"zerolinecolor\":\"white\"},\"yaxis\":{\"backgroundcolor\":\"#E5ECF6\",\"gridcolor\":\"white\",\"gridwidth\":2,\"linecolor\":\"white\",\"showbackground\":true,\"ticks\":\"\",\"zerolinecolor\":\"white\"},\"zaxis\":{\"backgroundcolor\":\"#E5ECF6\",\"gridcolor\":\"white\",\"gridwidth\":2,\"linecolor\":\"white\",\"showbackground\":true,\"ticks\":\"\",\"zerolinecolor\":\"white\"}},\"shapedefaults\":{\"line\":{\"color\":\"#2a3f5f\"}},\"ternary\":{\"aaxis\":{\"gridcolor\":\"white\",\"linecolor\":\"white\",\"ticks\":\"\"},\"baxis\":{\"gridcolor\":\"white\",\"linecolor\":\"white\",\"ticks\":\"\"},\"bgcolor\":\"#E5ECF6\",\"caxis\":{\"gridcolor\":\"white\",\"linecolor\":\"white\",\"ticks\":\"\"}},\"title\":{\"x\":0.05},\"xaxis\":{\"automargin\":true,\"gridcolor\":\"white\",\"linecolor\":\"white\",\"ticks\":\"\",\"title\":{\"standoff\":15},\"zerolinecolor\":\"white\",\"zerolinewidth\":2},\"yaxis\":{\"automargin\":true,\"gridcolor\":\"white\",\"linecolor\":\"white\",\"ticks\":\"\",\"title\":{\"standoff\":15},\"zerolinecolor\":\"white\",\"zerolinewidth\":2}}},\"title\":{\"font\":{\"color\":\"#4D5663\"}},\"xaxis\":{\"anchor\":\"y\",\"domain\":[0.0,0.2125],\"gridcolor\":\"#E1E5ED\",\"showgrid\":false,\"tickfont\":{\"color\":\"#4D5663\"},\"title\":{\"font\":{\"color\":\"#4D5663\"},\"text\":\"\"},\"zerolinecolor\":\"#E1E5ED\"},\"yaxis\":{\"anchor\":\"x\",\"domain\":[0.8025,1.0],\"gridcolor\":\"#E1E5ED\",\"showgrid\":false,\"tickfont\":{\"color\":\"#4D5663\"},\"title\":{\"font\":{\"color\":\"#4D5663\"},\"text\":\"\"},\"zerolinecolor\":\"#E1E5ED\"},\"xaxis2\":{\"anchor\":\"y2\",\"domain\":[0.2625,0.475],\"gridcolor\":\"#E1E5ED\",\"showgrid\":false,\"tickfont\":{\"color\":\"#4D5663\"},\"title\":{\"font\":{\"color\":\"#4D5663\"},\"text\":\"\"},\"zerolinecolor\":\"#E1E5ED\"},\"yaxis2\":{\"anchor\":\"x2\",\"domain\":[0.8025,1.0],\"gridcolor\":\"#E1E5ED\",\"showgrid\":false,\"tickfont\":{\"color\":\"#4D5663\"},\"title\":{\"font\":{\"color\":\"#4D5663\"},\"text\":\"\"},\"zerolinecolor\":\"#E1E5ED\"},\"xaxis3\":{\"anchor\":\"y3\",\"domain\":[0.525,0.7375],\"gridcolor\":\"#E1E5ED\",\"showgrid\":false,\"tickfont\":{\"color\":\"#4D5663\"},\"title\":{\"font\":{\"color\":\"#4D5663\"},\"text\":\"\"},\"zerolinecolor\":\"#E1E5ED\"},\"yaxis3\":{\"anchor\":\"x3\",\"domain\":[0.8025,1.0],\"gridcolor\":\"#E1E5ED\",\"showgrid\":false,\"tickfont\":{\"color\":\"#4D5663\"},\"title\":{\"font\":{\"color\":\"#4D5663\"},\"text\":\"\"},\"zerolinecolor\":\"#E1E5ED\"},\"xaxis4\":{\"anchor\":\"y4\",\"domain\":[0.7875,1.0],\"gridcolor\":\"#E1E5ED\",\"showgrid\":false,\"tickfont\":{\"color\":\"#4D5663\"},\"title\":{\"font\":{\"color\":\"#4D5663\"},\"text\":\"\"},\"zerolinecolor\":\"#E1E5ED\"},\"yaxis4\":{\"anchor\":\"x4\",\"domain\":[0.8025,1.0],\"gridcolor\":\"#E1E5ED\",\"showgrid\":false,\"tickfont\":{\"color\":\"#4D5663\"},\"title\":{\"font\":{\"color\":\"#4D5663\"},\"text\":\"\"},\"zerolinecolor\":\"#E1E5ED\"},\"xaxis5\":{\"anchor\":\"y5\",\"domain\":[0.0,0.2125],\"gridcolor\":\"#E1E5ED\",\"showgrid\":false,\"tickfont\":{\"color\":\"#4D5663\"},\"title\":{\"font\":{\"color\":\"#4D5663\"},\"text\":\"\"},\"zerolinecolor\":\"#E1E5ED\"},\"yaxis5\":{\"anchor\":\"x5\",\"domain\":[0.535,0.7325],\"gridcolor\":\"#E1E5ED\",\"showgrid\":false,\"tickfont\":{\"color\":\"#4D5663\"},\"title\":{\"font\":{\"color\":\"#4D5663\"},\"text\":\"\"},\"zerolinecolor\":\"#E1E5ED\"},\"xaxis6\":{\"anchor\":\"y6\",\"domain\":[0.2625,0.475],\"gridcolor\":\"#E1E5ED\",\"showgrid\":false,\"tickfont\":{\"color\":\"#4D5663\"},\"title\":{\"font\":{\"color\":\"#4D5663\"},\"text\":\"\"},\"zerolinecolor\":\"#E1E5ED\"},\"yaxis6\":{\"anchor\":\"x6\",\"domain\":[0.535,0.7325],\"gridcolor\":\"#E1E5ED\",\"showgrid\":false,\"tickfont\":{\"color\":\"#4D5663\"},\"title\":{\"font\":{\"color\":\"#4D5663\"},\"text\":\"\"},\"zerolinecolor\":\"#E1E5ED\"},\"xaxis7\":{\"anchor\":\"y7\",\"domain\":[0.525,0.7375],\"gridcolor\":\"#E1E5ED\",\"showgrid\":false,\"tickfont\":{\"color\":\"#4D5663\"},\"title\":{\"font\":{\"color\":\"#4D5663\"},\"text\":\"\"},\"zerolinecolor\":\"#E1E5ED\"},\"yaxis7\":{\"anchor\":\"x7\",\"domain\":[0.535,0.7325],\"gridcolor\":\"#E1E5ED\",\"showgrid\":false,\"tickfont\":{\"color\":\"#4D5663\"},\"title\":{\"font\":{\"color\":\"#4D5663\"},\"text\":\"\"},\"zerolinecolor\":\"#E1E5ED\"},\"xaxis8\":{\"anchor\":\"y8\",\"domain\":[0.7875,1.0],\"gridcolor\":\"#E1E5ED\",\"showgrid\":false,\"tickfont\":{\"color\":\"#4D5663\"},\"title\":{\"font\":{\"color\":\"#4D5663\"},\"text\":\"\"},\"zerolinecolor\":\"#E1E5ED\"},\"yaxis8\":{\"anchor\":\"x8\",\"domain\":[0.535,0.7325],\"gridcolor\":\"#E1E5ED\",\"showgrid\":false,\"tickfont\":{\"color\":\"#4D5663\"},\"title\":{\"font\":{\"color\":\"#4D5663\"},\"text\":\"\"},\"zerolinecolor\":\"#E1E5ED\"},\"xaxis9\":{\"anchor\":\"y9\",\"domain\":[0.0,0.2125],\"gridcolor\":\"#E1E5ED\",\"showgrid\":false,\"tickfont\":{\"color\":\"#4D5663\"},\"title\":{\"font\":{\"color\":\"#4D5663\"},\"text\":\"\"},\"zerolinecolor\":\"#E1E5ED\"},\"yaxis9\":{\"anchor\":\"x9\",\"domain\":[0.2675,0.465],\"gridcolor\":\"#E1E5ED\",\"showgrid\":false,\"tickfont\":{\"color\":\"#4D5663\"},\"title\":{\"font\":{\"color\":\"#4D5663\"},\"text\":\"\"},\"zerolinecolor\":\"#E1E5ED\"},\"xaxis10\":{\"anchor\":\"y10\",\"domain\":[0.2625,0.475],\"gridcolor\":\"#E1E5ED\",\"showgrid\":false,\"tickfont\":{\"color\":\"#4D5663\"},\"title\":{\"font\":{\"color\":\"#4D5663\"},\"text\":\"\"},\"zerolinecolor\":\"#E1E5ED\"},\"yaxis10\":{\"anchor\":\"x10\",\"domain\":[0.2675,0.465],\"gridcolor\":\"#E1E5ED\",\"showgrid\":false,\"tickfont\":{\"color\":\"#4D5663\"},\"title\":{\"font\":{\"color\":\"#4D5663\"},\"text\":\"\"},\"zerolinecolor\":\"#E1E5ED\"},\"xaxis11\":{\"anchor\":\"y11\",\"domain\":[0.525,0.7375],\"gridcolor\":\"#E1E5ED\",\"showgrid\":false,\"tickfont\":{\"color\":\"#4D5663\"},\"title\":{\"font\":{\"color\":\"#4D5663\"},\"text\":\"\"},\"zerolinecolor\":\"#E1E5ED\"},\"yaxis11\":{\"anchor\":\"x11\",\"domain\":[0.2675,0.465],\"gridcolor\":\"#E1E5ED\",\"showgrid\":false,\"tickfont\":{\"color\":\"#4D5663\"},\"title\":{\"font\":{\"color\":\"#4D5663\"},\"text\":\"\"},\"zerolinecolor\":\"#E1E5ED\"},\"xaxis12\":{\"anchor\":\"y12\",\"domain\":[0.7875,1.0],\"gridcolor\":\"#E1E5ED\",\"showgrid\":false,\"tickfont\":{\"color\":\"#4D5663\"},\"title\":{\"font\":{\"color\":\"#4D5663\"},\"text\":\"\"},\"zerolinecolor\":\"#E1E5ED\"},\"yaxis12\":{\"anchor\":\"x12\",\"domain\":[0.2675,0.465],\"gridcolor\":\"#E1E5ED\",\"showgrid\":false,\"tickfont\":{\"color\":\"#4D5663\"},\"title\":{\"font\":{\"color\":\"#4D5663\"},\"text\":\"\"},\"zerolinecolor\":\"#E1E5ED\"},\"xaxis13\":{\"anchor\":\"y13\",\"domain\":[0.0,0.2125],\"gridcolor\":\"#E1E5ED\",\"showgrid\":false,\"tickfont\":{\"color\":\"#4D5663\"},\"title\":{\"font\":{\"color\":\"#4D5663\"},\"text\":\"\"},\"zerolinecolor\":\"#E1E5ED\"},\"yaxis13\":{\"anchor\":\"x13\",\"domain\":[0.0,0.1975],\"gridcolor\":\"#E1E5ED\",\"showgrid\":false,\"tickfont\":{\"color\":\"#4D5663\"},\"title\":{\"font\":{\"color\":\"#4D5663\"},\"text\":\"\"},\"zerolinecolor\":\"#E1E5ED\"},\"xaxis14\":{\"anchor\":\"y14\",\"domain\":[0.2625,0.475],\"gridcolor\":\"#E1E5ED\",\"showgrid\":false,\"tickfont\":{\"color\":\"#4D5663\"},\"title\":{\"font\":{\"color\":\"#4D5663\"},\"text\":\"\"},\"zerolinecolor\":\"#E1E5ED\"},\"yaxis14\":{\"anchor\":\"x14\",\"domain\":[0.0,0.1975],\"gridcolor\":\"#E1E5ED\",\"showgrid\":false,\"tickfont\":{\"color\":\"#4D5663\"},\"title\":{\"font\":{\"color\":\"#4D5663\"},\"text\":\"\"},\"zerolinecolor\":\"#E1E5ED\"},\"xaxis15\":{\"anchor\":\"y15\",\"domain\":[0.525,0.7375],\"gridcolor\":\"#E1E5ED\",\"showgrid\":false,\"tickfont\":{\"color\":\"#4D5663\"},\"title\":{\"font\":{\"color\":\"#4D5663\"},\"text\":\"\"},\"zerolinecolor\":\"#E1E5ED\"},\"yaxis15\":{\"anchor\":\"x15\",\"domain\":[0.0,0.1975],\"gridcolor\":\"#E1E5ED\",\"showgrid\":false,\"tickfont\":{\"color\":\"#4D5663\"},\"title\":{\"font\":{\"color\":\"#4D5663\"},\"text\":\"\"},\"zerolinecolor\":\"#E1E5ED\"},\"xaxis16\":{\"anchor\":\"y16\",\"domain\":[0.7875,1.0],\"gridcolor\":\"#E1E5ED\",\"showgrid\":false,\"tickfont\":{\"color\":\"#4D5663\"},\"title\":{\"font\":{\"color\":\"#4D5663\"},\"text\":\"\"},\"zerolinecolor\":\"#E1E5ED\"},\"yaxis16\":{\"anchor\":\"x16\",\"domain\":[0.0,0.1975],\"gridcolor\":\"#E1E5ED\",\"showgrid\":false,\"tickfont\":{\"color\":\"#4D5663\"},\"title\":{\"font\":{\"color\":\"#4D5663\"},\"text\":\"\"},\"zerolinecolor\":\"#E1E5ED\"}},                        {\"showLink\": true, \"linkText\": \"Export to plot.ly\", \"plotlyServerURL\": \"https://plot.ly\", \"responsive\": true}                    ).then(function(){\n",
       "                            \n",
       "var gd = document.getElementById('544fa8b0-0a2f-4fc1-936a-4c03feb97332');\n",
       "var x = new MutationObserver(function (mutations, observer) {{\n",
       "        var display = window.getComputedStyle(gd).display;\n",
       "        if (!display || display === 'none') {{\n",
       "            console.log([gd, 'removed!']);\n",
       "            Plotly.purge(gd);\n",
       "            observer.disconnect();\n",
       "        }}\n",
       "}});\n",
       "\n",
       "// Listen for the removal of the full notebook cells\n",
       "var notebookContainer = gd.closest('#notebook-container');\n",
       "if (notebookContainer) {{\n",
       "    x.observe(notebookContainer, {childList: true});\n",
       "}}\n",
       "\n",
       "// Listen for the clearing of the current output cell\n",
       "var outputEl = gd.closest('.output');\n",
       "if (outputEl) {{\n",
       "    x.observe(outputEl, {childList: true});\n",
       "}}\n",
       "\n",
       "                        })                };                });            </script>        </div>"
      ]
     },
     "metadata": {},
     "output_type": "display_data"
    }
   ],
   "source": [
    "df.scatter_matrix()"
   ]
  },
  {
   "cell_type": "code",
   "execution_count": null,
   "id": "db97e59b",
   "metadata": {},
   "outputs": [],
   "source": []
  }
 ],
 "metadata": {
  "kernelspec": {
   "display_name": "Python 3 (ipykernel)",
   "language": "python",
   "name": "python3"
  },
  "language_info": {
   "codemirror_mode": {
    "name": "ipython",
    "version": 3
   },
   "file_extension": ".py",
   "mimetype": "text/x-python",
   "name": "python",
   "nbconvert_exporter": "python",
   "pygments_lexer": "ipython3",
   "version": "3.8.10"
  }
 },
 "nbformat": 4,
 "nbformat_minor": 5
}
